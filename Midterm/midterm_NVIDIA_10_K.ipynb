{
  "nbformat": 4,
  "nbformat_minor": 0,
  "metadata": {
    "colab": {
      "provenance": []
    },
    "kernelspec": {
      "name": "python3",
      "display_name": "Python 3"
    },
    "language_info": {
      "name": "python"
    },
    "widgets": {
      "application/vnd.jupyter.widget-state+json": {
        "5842a5ae1c8140cf840cfa045899f6cc": {
          "model_module": "@jupyter-widgets/controls",
          "model_name": "HBoxModel",
          "model_module_version": "1.5.0",
          "state": {
            "_dom_classes": [],
            "_model_module": "@jupyter-widgets/controls",
            "_model_module_version": "1.5.0",
            "_model_name": "HBoxModel",
            "_view_count": null,
            "_view_module": "@jupyter-widgets/controls",
            "_view_module_version": "1.5.0",
            "_view_name": "HBoxView",
            "box_style": "",
            "children": [
              "IPY_MODEL_3a1ac19da2184a49bb9dab59898ebdf2",
              "IPY_MODEL_dc533479ed66407598047cbb84f28143",
              "IPY_MODEL_419e80bed33245aab227319f23d2e391"
            ],
            "layout": "IPY_MODEL_b750500afe77424997bc72dc3d42fd72"
          }
        },
        "3a1ac19da2184a49bb9dab59898ebdf2": {
          "model_module": "@jupyter-widgets/controls",
          "model_name": "HTMLModel",
          "model_module_version": "1.5.0",
          "state": {
            "_dom_classes": [],
            "_model_module": "@jupyter-widgets/controls",
            "_model_module_version": "1.5.0",
            "_model_name": "HTMLModel",
            "_view_count": null,
            "_view_module": "@jupyter-widgets/controls",
            "_view_module_version": "1.5.0",
            "_view_name": "HTMLView",
            "description": "",
            "description_tooltip": null,
            "layout": "IPY_MODEL_a572210654424d9d9eb508ccb6645d38",
            "placeholder": "​",
            "style": "IPY_MODEL_7c8a84a716f149a6bd013d5ccc9b1c54",
            "value": "Evaluating: 100%"
          }
        },
        "dc533479ed66407598047cbb84f28143": {
          "model_module": "@jupyter-widgets/controls",
          "model_name": "FloatProgressModel",
          "model_module_version": "1.5.0",
          "state": {
            "_dom_classes": [],
            "_model_module": "@jupyter-widgets/controls",
            "_model_module_version": "1.5.0",
            "_model_name": "FloatProgressModel",
            "_view_count": null,
            "_view_module": "@jupyter-widgets/controls",
            "_view_module_version": "1.5.0",
            "_view_name": "ProgressView",
            "bar_style": "success",
            "description": "",
            "description_tooltip": null,
            "layout": "IPY_MODEL_a67dd88e57d848408a5fee09fd4bdd61",
            "max": 50,
            "min": 0,
            "orientation": "horizontal",
            "style": "IPY_MODEL_deb699be3e464c89859bf2652afae65f",
            "value": 50
          }
        },
        "419e80bed33245aab227319f23d2e391": {
          "model_module": "@jupyter-widgets/controls",
          "model_name": "HTMLModel",
          "model_module_version": "1.5.0",
          "state": {
            "_dom_classes": [],
            "_model_module": "@jupyter-widgets/controls",
            "_model_module_version": "1.5.0",
            "_model_name": "HTMLModel",
            "_view_count": null,
            "_view_module": "@jupyter-widgets/controls",
            "_view_module_version": "1.5.0",
            "_view_name": "HTMLView",
            "description": "",
            "description_tooltip": null,
            "layout": "IPY_MODEL_a1e9071473f144299553717a060cf47a",
            "placeholder": "​",
            "style": "IPY_MODEL_02a2b818febf40b6b1f74a8ae1fa70b8",
            "value": " 50/50 [00:28&lt;00:00,  1.19s/it]"
          }
        },
        "b750500afe77424997bc72dc3d42fd72": {
          "model_module": "@jupyter-widgets/base",
          "model_name": "LayoutModel",
          "model_module_version": "1.2.0",
          "state": {
            "_model_module": "@jupyter-widgets/base",
            "_model_module_version": "1.2.0",
            "_model_name": "LayoutModel",
            "_view_count": null,
            "_view_module": "@jupyter-widgets/base",
            "_view_module_version": "1.2.0",
            "_view_name": "LayoutView",
            "align_content": null,
            "align_items": null,
            "align_self": null,
            "border": null,
            "bottom": null,
            "display": null,
            "flex": null,
            "flex_flow": null,
            "grid_area": null,
            "grid_auto_columns": null,
            "grid_auto_flow": null,
            "grid_auto_rows": null,
            "grid_column": null,
            "grid_gap": null,
            "grid_row": null,
            "grid_template_areas": null,
            "grid_template_columns": null,
            "grid_template_rows": null,
            "height": null,
            "justify_content": null,
            "justify_items": null,
            "left": null,
            "margin": null,
            "max_height": null,
            "max_width": null,
            "min_height": null,
            "min_width": null,
            "object_fit": null,
            "object_position": null,
            "order": null,
            "overflow": null,
            "overflow_x": null,
            "overflow_y": null,
            "padding": null,
            "right": null,
            "top": null,
            "visibility": null,
            "width": null
          }
        },
        "a572210654424d9d9eb508ccb6645d38": {
          "model_module": "@jupyter-widgets/base",
          "model_name": "LayoutModel",
          "model_module_version": "1.2.0",
          "state": {
            "_model_module": "@jupyter-widgets/base",
            "_model_module_version": "1.2.0",
            "_model_name": "LayoutModel",
            "_view_count": null,
            "_view_module": "@jupyter-widgets/base",
            "_view_module_version": "1.2.0",
            "_view_name": "LayoutView",
            "align_content": null,
            "align_items": null,
            "align_self": null,
            "border": null,
            "bottom": null,
            "display": null,
            "flex": null,
            "flex_flow": null,
            "grid_area": null,
            "grid_auto_columns": null,
            "grid_auto_flow": null,
            "grid_auto_rows": null,
            "grid_column": null,
            "grid_gap": null,
            "grid_row": null,
            "grid_template_areas": null,
            "grid_template_columns": null,
            "grid_template_rows": null,
            "height": null,
            "justify_content": null,
            "justify_items": null,
            "left": null,
            "margin": null,
            "max_height": null,
            "max_width": null,
            "min_height": null,
            "min_width": null,
            "object_fit": null,
            "object_position": null,
            "order": null,
            "overflow": null,
            "overflow_x": null,
            "overflow_y": null,
            "padding": null,
            "right": null,
            "top": null,
            "visibility": null,
            "width": null
          }
        },
        "7c8a84a716f149a6bd013d5ccc9b1c54": {
          "model_module": "@jupyter-widgets/controls",
          "model_name": "DescriptionStyleModel",
          "model_module_version": "1.5.0",
          "state": {
            "_model_module": "@jupyter-widgets/controls",
            "_model_module_version": "1.5.0",
            "_model_name": "DescriptionStyleModel",
            "_view_count": null,
            "_view_module": "@jupyter-widgets/base",
            "_view_module_version": "1.2.0",
            "_view_name": "StyleView",
            "description_width": ""
          }
        },
        "a67dd88e57d848408a5fee09fd4bdd61": {
          "model_module": "@jupyter-widgets/base",
          "model_name": "LayoutModel",
          "model_module_version": "1.2.0",
          "state": {
            "_model_module": "@jupyter-widgets/base",
            "_model_module_version": "1.2.0",
            "_model_name": "LayoutModel",
            "_view_count": null,
            "_view_module": "@jupyter-widgets/base",
            "_view_module_version": "1.2.0",
            "_view_name": "LayoutView",
            "align_content": null,
            "align_items": null,
            "align_self": null,
            "border": null,
            "bottom": null,
            "display": null,
            "flex": null,
            "flex_flow": null,
            "grid_area": null,
            "grid_auto_columns": null,
            "grid_auto_flow": null,
            "grid_auto_rows": null,
            "grid_column": null,
            "grid_gap": null,
            "grid_row": null,
            "grid_template_areas": null,
            "grid_template_columns": null,
            "grid_template_rows": null,
            "height": null,
            "justify_content": null,
            "justify_items": null,
            "left": null,
            "margin": null,
            "max_height": null,
            "max_width": null,
            "min_height": null,
            "min_width": null,
            "object_fit": null,
            "object_position": null,
            "order": null,
            "overflow": null,
            "overflow_x": null,
            "overflow_y": null,
            "padding": null,
            "right": null,
            "top": null,
            "visibility": null,
            "width": null
          }
        },
        "deb699be3e464c89859bf2652afae65f": {
          "model_module": "@jupyter-widgets/controls",
          "model_name": "ProgressStyleModel",
          "model_module_version": "1.5.0",
          "state": {
            "_model_module": "@jupyter-widgets/controls",
            "_model_module_version": "1.5.0",
            "_model_name": "ProgressStyleModel",
            "_view_count": null,
            "_view_module": "@jupyter-widgets/base",
            "_view_module_version": "1.2.0",
            "_view_name": "StyleView",
            "bar_color": null,
            "description_width": ""
          }
        },
        "a1e9071473f144299553717a060cf47a": {
          "model_module": "@jupyter-widgets/base",
          "model_name": "LayoutModel",
          "model_module_version": "1.2.0",
          "state": {
            "_model_module": "@jupyter-widgets/base",
            "_model_module_version": "1.2.0",
            "_model_name": "LayoutModel",
            "_view_count": null,
            "_view_module": "@jupyter-widgets/base",
            "_view_module_version": "1.2.0",
            "_view_name": "LayoutView",
            "align_content": null,
            "align_items": null,
            "align_self": null,
            "border": null,
            "bottom": null,
            "display": null,
            "flex": null,
            "flex_flow": null,
            "grid_area": null,
            "grid_auto_columns": null,
            "grid_auto_flow": null,
            "grid_auto_rows": null,
            "grid_column": null,
            "grid_gap": null,
            "grid_row": null,
            "grid_template_areas": null,
            "grid_template_columns": null,
            "grid_template_rows": null,
            "height": null,
            "justify_content": null,
            "justify_items": null,
            "left": null,
            "margin": null,
            "max_height": null,
            "max_width": null,
            "min_height": null,
            "min_width": null,
            "object_fit": null,
            "object_position": null,
            "order": null,
            "overflow": null,
            "overflow_x": null,
            "overflow_y": null,
            "padding": null,
            "right": null,
            "top": null,
            "visibility": null,
            "width": null
          }
        },
        "02a2b818febf40b6b1f74a8ae1fa70b8": {
          "model_module": "@jupyter-widgets/controls",
          "model_name": "DescriptionStyleModel",
          "model_module_version": "1.5.0",
          "state": {
            "_model_module": "@jupyter-widgets/controls",
            "_model_module_version": "1.5.0",
            "_model_name": "DescriptionStyleModel",
            "_view_count": null,
            "_view_module": "@jupyter-widgets/base",
            "_view_module_version": "1.2.0",
            "_view_name": "StyleView",
            "description_width": ""
          }
        }
      }
    }
  },
  "cells": [
    {
      "cell_type": "markdown",
      "source": [
        "\n",
        "# RAG Pipeline for NVIDIA 10-K\n",
        "\n",
        "Deliverables:\n",
        "\n",
        "- Build 🏗️\n",
        "\n",
        "  - Data: NVIDIA 10-k Filings\n",
        "  - Model: OpenAI text-3-embedding small, GPT-3.5-turbo\n",
        "  - Tooling: LangChain or LlamaIndex (you choose)\n",
        "  - Vector Store: FAISS\n",
        "  - Additional Component: Add one of the following:\n",
        "    - 1. visibility with WandB\n",
        "    - OR\n",
        "    - 2. evaluation with RAGAS\n",
        "\n",
        "\n",
        "- Ship 🚢\n",
        "\n",
        "  - Evaluate your answers to the following questions\n",
        "    - \"Who is the E-VP, Operations - and how old are they?\"\n",
        "    - \"What is the gross carrying amount of Total Amortizable Intangible Assets for Jan 29, 2023?\"\n",
        "\n",
        "  - Record <10 min loom video walkthrough\n",
        "  - $$ Extra Credit: Deploy to public URL on HF with Chainlit front end\n",
        "\n",
        "\n",
        "\n",
        "- Please read this link to finish the midterm : https://docs.google.com/forms/d/e/1FAIpQLSe967NILaOfNp1gVeGXHdQJoTw-y07iTyOsy5ZZHfrDlYkqwA/viewform\n",
        "\n",
        "\n"
      ],
      "metadata": {
        "id": "0OCyzABAzkWI"
      }
    },
    {
      "cell_type": "markdown",
      "source": [
        "# Dependencies"
      ],
      "metadata": {
        "id": "-cqxR1NcRfuP"
      }
    },
    {
      "cell_type": "code",
      "source": [
        "!pip install -U -q langchain langchain-openai langchain_core langchain-community langchainhub openai"
      ],
      "metadata": {
        "id": "3swXz3VYIKB5"
      },
      "execution_count": 1,
      "outputs": []
    },
    {
      "cell_type": "code",
      "source": [
        "!pip install -qU ragas"
      ],
      "metadata": {
        "id": "5vwh4mWDIKij"
      },
      "execution_count": 2,
      "outputs": []
    },
    {
      "cell_type": "code",
      "source": [
        "!pip install -qU faiss_cpu pymupdf"
      ],
      "metadata": {
        "id": "p_9flLRIINVK"
      },
      "execution_count": 3,
      "outputs": []
    },
    {
      "cell_type": "code",
      "source": [
        "import os\n",
        "import openai\n",
        "from getpass import getpass\n",
        "\n",
        "openai.api_key = getpass(\"Please provide your OpenAI Key: \")\n",
        "os.environ[\"OPENAI_API_KEY\"] = openai.api_key"
      ],
      "metadata": {
        "colab": {
          "base_uri": "https://localhost:8080/"
        },
        "id": "yFngzvVkIP9V",
        "outputId": "8c11ddd7-8890-4f59-b378-0ab92e6b3e6f"
      },
      "execution_count": 4,
      "outputs": [
        {
          "name": "stdout",
          "output_type": "stream",
          "text": [
            "Please provide your OpenAI Key: ··········\n"
          ]
        }
      ]
    },
    {
      "cell_type": "markdown",
      "source": [
        "# Data"
      ],
      "metadata": {
        "id": "unwe7mY_RkwZ"
      }
    },
    {
      "cell_type": "code",
      "source": [
        "!git clone https://github.com/dvu4/AI-Engineering.git"
      ],
      "metadata": {
        "colab": {
          "base_uri": "https://localhost:8080/"
        },
        "id": "HYQHn4qlIqDB",
        "outputId": "8e2df497-542b-4cc1-f4f9-d74d4d6c7270"
      },
      "execution_count": 5,
      "outputs": [
        {
          "output_type": "stream",
          "name": "stdout",
          "text": [
            "fatal: destination path 'AI-Engineering' already exists and is not an empty directory.\n"
          ]
        }
      ]
    },
    {
      "cell_type": "code",
      "source": [
        "from langchain_community.document_loaders import PyMuPDFLoader\n",
        "\n",
        "loader = PyMuPDFLoader(\n",
        "    \"AI-Engineering/Midterm/NVIDIA 10-k Filings.pdf\",\n",
        ")\n",
        "\n",
        "documents = loader.load()"
      ],
      "metadata": {
        "id": "AtDKsBDIIYiz"
      },
      "execution_count": 6,
      "outputs": []
    },
    {
      "cell_type": "code",
      "source": [
        "# print(f\"The document has a length of {len(documents)} \")\n",
        "# for i in documents:\n",
        "#   print(f\"{i} \\n\\n\")\n",
        "# print(documents[0])\n",
        "# # let check first element\n",
        "# print(f\"TYPE : {documents[0].type} \\n\")\n",
        "# print(f\"METADATA : {documents[0].metadata} \\n\")\n",
        "# print(f\"PAGE CONTENT : {documents[0].page_content} \\n \")\n",
        "# documents[0].page_content\n",
        "# documents[0].metadata"
      ],
      "metadata": {
        "id": "rnszGBAuKf-5"
      },
      "execution_count": 7,
      "outputs": []
    },
    {
      "cell_type": "code",
      "source": [
        "from langchain.text_splitter import RecursiveCharacterTextSplitter\n",
        "\n",
        "text_splitter = RecursiveCharacterTextSplitter(\n",
        "    chunk_size = 700,\n",
        "    chunk_overlap = 50\n",
        ")\n",
        "\n",
        "documents = text_splitter.split_documents(documents)\n",
        "len(documents)"
      ],
      "metadata": {
        "colab": {
          "base_uri": "https://localhost:8080/"
        },
        "id": "PYTYRBumKxAB",
        "outputId": "25d82254-062f-4c4e-ad0b-6685817cc02c"
      },
      "execution_count": 8,
      "outputs": [
        {
          "output_type": "execute_result",
          "data": {
            "text/plain": [
              "624"
            ]
          },
          "metadata": {},
          "execution_count": 8
        }
      ]
    },
    {
      "cell_type": "markdown",
      "source": [
        "# Define questions"
      ],
      "metadata": {
        "id": "L7ba9lFbTzgF"
      }
    },
    {
      "cell_type": "code",
      "source": [
        "q1 = \"Who is the E-VP, Operations - and how old are they?\"\n",
        "q2 = \"What is the gross carrying amount of Total Amortizable Intangible Assets (In millions) for Jan 29, 2023 ?\""
      ],
      "metadata": {
        "id": "ebrsMuh2TyfT"
      },
      "execution_count": 9,
      "outputs": []
    },
    {
      "cell_type": "markdown",
      "source": [
        "# Retriever"
      ],
      "metadata": {
        "id": "KKo9GcHxUY20"
      }
    },
    {
      "cell_type": "code",
      "source": [
        "from langchain_openai import OpenAIEmbeddings\n",
        "\n",
        "embeddings = OpenAIEmbeddings(\n",
        "    model=\"text-embedding-3-small\"\n",
        ")"
      ],
      "metadata": {
        "id": "orUJyddQK_SL"
      },
      "execution_count": 10,
      "outputs": []
    },
    {
      "cell_type": "code",
      "source": [
        "from langchain_community.vectorstores import FAISS\n",
        "vector_store = FAISS.from_documents(documents, embeddings)"
      ],
      "metadata": {
        "id": "CKnWUBXOOPS1"
      },
      "execution_count": 11,
      "outputs": []
    },
    {
      "cell_type": "code",
      "source": [
        "retriever = vector_store.as_retriever()"
      ],
      "metadata": {
        "id": "DASCektbOSH0"
      },
      "execution_count": 12,
      "outputs": []
    },
    {
      "cell_type": "markdown",
      "source": [
        "# Verify the questions with baseline RAG pipeline"
      ],
      "metadata": {
        "id": "XKQKHsNnWTlq"
      }
    },
    {
      "cell_type": "code",
      "source": [
        "retrieved_documents = retriever.invoke(q1)\n",
        "for doc in retrieved_documents:\n",
        "  print(doc.page_content)\n",
        "  print(\"\\n\")"
      ],
      "metadata": {
        "colab": {
          "base_uri": "https://localhost:8080/"
        },
        "id": "qJSeSDP7Owe9",
        "outputId": "0828b7a3-1e3c-4c0f-c428-1d7eaee8afce"
      },
      "execution_count": 13,
      "outputs": [
        {
          "output_type": "stream",
          "name": "stdout",
          "text": [
            "supports diverse hiring, retention, and employee engagement, which we believe makes NVIDIA a great place to work.\n",
            "During fiscal year 2025, we will continue to have a flexible work environment and maintain our company wide 2-days off a quarter for employees to rest and\n",
            "recharge.\n",
            "Information About Our Executive Officers\n",
            "The following sets forth certain information regarding our executive officers, their ages, and positions as of February 16, 2024:\n",
            "Name\n",
            "Age\n",
            "Position\n",
            "Jen-Hsun Huang\n",
            "60\n",
            "President and Chief Executive Officer\n",
            "Colette M. Kress\n",
            "56\n",
            "Executive Vice President and Chief Financial Officer\n",
            "Ajay K. Puri\n",
            "69\n",
            "Executive Vice President, Worldwide Field Operations\n",
            "Debora Shoquist\n",
            "69\n",
            "\n",
            "\n",
            "Debora Shoquist\n",
            "69\n",
            "Executive Vice President, Operations\n",
            "Timothy S. Teter\n",
            "57\n",
            "Executive Vice President and General Counsel\n",
            "Jen-Hsun Huang co-founded NVIDIA in 1993 and has served as our President, Chief Executive Officer, and a member of the Board of Directors since our\n",
            "inception. From 1985 to 1993, Mr. Huang was employed at LSI Logic Corporation, a computer chip manufacturer, where he held a variety of positions including\n",
            "as Director of Coreware, the business unit responsible for LSI's SOC. From 1983 to 1985, Mr. Huang was a microprocessor designer for AMD, a semiconductor\n",
            "company. Mr. Huang holds a B.S.E.E. degree from Oregon State University and an M.S.E.E. degree from Stanford University.\n",
            "\n",
            "\n",
            "Puri previously held marketing, management consulting, and product development positions at Hewlett-Packard, an information technology company, Booz Allen\n",
            "Hamilton Inc., a management and technology consulting company, and Texas Instruments Incorporated. Mr. Puri holds a B.S.E.E. degree from the University of\n",
            "Minnesota, an M.S.E.E. degree from the California Institute of Technology and an M.B.A. degree from Harvard Business School.\n",
            "Debora Shoquist joined NVIDIA in 2007 as Senior Vice President of Operations and in 2009 became Executive Vice President of Operations. Prior to NVIDIA,\n",
            "\n",
            "\n",
            "Table of Contents\n",
            "strategy, planning, reporting and business development for the division. Prior to joining Microsoft, Ms. Kress spent eight years at Texas Instruments Incorporated,\n",
            "a semiconductor company, where she held a variety of finance positions. Ms. Kress holds a B.S. degree in Finance from University of Arizona and an M.B.A.\n",
            "degree from Southern Methodist University.\n",
            "Ajay K. Puri joined NVIDIA in 2005 as Senior Vice President, Worldwide Sales and became Executive Vice President, Worldwide Field Operations in 2009. Prior\n",
            "to NVIDIA, he held positions in sales, marketing, and general management over a 22-year career at Sun Microsystems, Inc., a computing systems company. Mr.\n",
            "\n",
            "\n"
          ]
        }
      ]
    },
    {
      "cell_type": "code",
      "source": [
        "retrieved_documents = retriever.invoke(q2)\n",
        "for doc in retrieved_documents:\n",
        "  print(doc.page_content)\n",
        "  print(\"\\n\")"
      ],
      "metadata": {
        "colab": {
          "base_uri": "https://localhost:8080/"
        },
        "id": "zm8bL8_CO46R",
        "outputId": "0aaf4690-36c1-4535-e467-1b9c5978dce1"
      },
      "execution_count": 14,
      "outputs": [
        {
          "output_type": "stream",
          "name": "stdout",
          "text": [
            "Table of Contents\n",
            "NVIDIA Corporation and Subsidiaries\n",
            "Notes to the Consolidated Financial Statements\n",
            "(Continued)\n",
            "Note 7 - Amortizable Intangible Assets\n",
            "The components of our amortizable intangible assets are as follows:\n",
            " \n",
            "Jan 28, 2024\n",
            "Jan 29, 2023\n",
            " \n",
            "Gross\n",
            "Carrying\n",
            "Amount\n",
            "Accumulated\n",
            "Amortization\n",
            "Net \n",
            "Carrying\n",
            "Amount\n",
            "Gross\n",
            "Carrying\n",
            "Amount\n",
            "Accumulated\n",
            "Amortization\n",
            "Net \n",
            "Carrying\n",
            "Amount\n",
            " \n",
            "(In millions)\n",
            "Acquisition-related intangible\n",
            "assets (1)\n",
            "$\n",
            "2,642 \n",
            "$\n",
            "(1,720)\n",
            "$\n",
            "922 \n",
            "$\n",
            "3,093 \n",
            "$\n",
            "(1,614)\n",
            "$\n",
            "1,479 \n",
            "Patents and licensed technology\n",
            "449 \n",
            "(259)\n",
            "190 \n",
            "446 \n",
            "(249)\n",
            "197 \n",
            "Total intangible assets\n",
            "$\n",
            "3,091 \n",
            "$\n",
            "(1,979)\n",
            "$\n",
            "1,112 \n",
            "$\n",
            "3,539 \n",
            "$\n",
            "(1,863)\n",
            "$\n",
            "1,676\n",
            "\n",
            "\n",
            "respectively.\n",
            "Property, equipment and intangible assets acquired by assuming related liabilities during fiscal years 2024, 2023, and 2022 were $170 million, $374 million, and\n",
            "$258 million, respectively.\n",
            " \n",
            "Jan 28, 2024\n",
            "Jan 29, 2023\n",
            "Other assets:\n",
            "(In millions)\n",
            "Prepaid supply and capacity agreements (1)\n",
            "$\n",
            "2,458 \n",
            "$\n",
            "2,989 \n",
            "Investments in non-affiliated entities\n",
            "1,546 \n",
            "299 \n",
            "Prepaid royalties\n",
            "364 \n",
            "387 \n",
            "Other\n",
            "132 \n",
            "145 \n",
            "Total other assets\n",
            "$\n",
            "4,500 \n",
            "$\n",
            "3,820 \n",
            "(1)\n",
            "As of January 28, 2024 and January 29, 2023, there was an additional $2.5 billion and $458 million of short-term prepaid supply and capacity agreements included in Prepaid expenses and other\n",
            "current assets, respectively.\n",
            "69\n",
            "\n",
            "\n",
            "$\n",
            "(1,979)\n",
            "$\n",
            "1,112 \n",
            "$\n",
            "3,539 \n",
            "$\n",
            "(1,863)\n",
            "$\n",
            "1,676 \n",
            "(1)    During the first quarter of fiscal year 2023, we commenced amortization of a $630 million in-process research and development intangible asset related to our acquisition of\n",
            "Mellanox.\n",
            "Amortization expense associated with intangible assets for fiscal years 2024, 2023, and 2022 was $614 million, $699 million, and $563 million, respectively.\n",
            "The following table outlines the estimated future amortization expense related to the net carrying amount of intangible assets as of January 28, 2024:\n",
            "Future Amortization Expense\n",
            " \n",
            "(In millions)\n",
            "Fiscal Year:\n",
            " \n",
            "2025\n",
            "$\n",
            "555 \n",
            "2026\n",
            "261 \n",
            "2027\n",
            "150 \n",
            "2028\n",
            "37 \n",
            "2029\n",
            "9 \n",
            "2030 and thereafter\n",
            "100 \n",
            "Total\n",
            "$\n",
            "1,112 \n",
            "64\n",
            "\n",
            "\n",
            "Note 6 - Goodwill\n",
            "As of January 28, 2024, the total carrying amount of goodwill was $4.4 billion, consisting of goodwill balances allocated to our Compute & Networking and\n",
            "Graphics reporting units of $4.1 billion and $370 million, respectively. As of January 29, 2023, the total carrying amount of goodwill was $4.4 billion, consisting of\n",
            "goodwill balances allocated to our Compute & Networking and Graphics reporting units of $4.0 billion and $370 million, respectively. Goodwill increased by\n",
            "$59 million in fiscal year 2024 from an immaterial acquisition and was allocated to our Compute & Networking reporting unit. During the fourth quarters of fiscal\n",
            "\n",
            "\n"
          ]
        }
      ]
    },
    {
      "cell_type": "markdown",
      "source": [
        "# Load Model"
      ],
      "metadata": {
        "id": "_T00ZsVeXVOx"
      }
    },
    {
      "cell_type": "code",
      "source": [
        "from langchain import hub\n",
        "retrieval_qa_prompt = hub.pull(\"langchain-ai/retrieval-qa-chat\")"
      ],
      "metadata": {
        "id": "mAgiDmRiPD1J"
      },
      "execution_count": 15,
      "outputs": []
    },
    {
      "cell_type": "code",
      "source": [
        "from langchain.prompts import ChatPromptTemplate\n",
        "\n",
        "template = \"\"\"Answer the question based only on the following context. If you cannot answer the question with the context, please respond with 'I don't know':\n",
        "\n",
        "Context:\n",
        "{context}\n",
        "\n",
        "Question:\n",
        "{question}\n",
        "\"\"\"\n",
        "\n",
        "prompt = ChatPromptTemplate.from_template(template)"
      ],
      "metadata": {
        "id": "dsqeYo6B42hM"
      },
      "execution_count": 16,
      "outputs": []
    },
    {
      "cell_type": "code",
      "source": [
        "from operator import itemgetter\n",
        "\n",
        "from langchain_openai import ChatOpenAI\n",
        "from langchain_core.output_parsers import StrOutputParser\n",
        "from langchain_core.runnables import RunnablePassthrough\n",
        "\n",
        "primary_qa_llm = ChatOpenAI(model_name=\"gpt-3.5-turbo\", temperature=0)\n",
        "\n",
        "retrieval_augmented_qa_chain = (\n",
        "    # INVOKE CHAIN WITH: {\"question\" : \"<<SOME USER QUESTION>>\"}\n",
        "    # \"question\" : populated by getting the value of the \"question\" key\n",
        "    # \"context\"  : populated by getting the value of the \"question\" key and chaining it into the base_retriever\n",
        "    {\"context\": itemgetter(\"question\") | retriever, \"question\": itemgetter(\"question\")}\n",
        "    # \"context\"  : is assigned to a RunnablePassthrough object (will not be called or considered in the next step)\n",
        "    #              by getting the value of the \"context\" key from the previous step\n",
        "    | RunnablePassthrough.assign(context=itemgetter(\"context\"))\n",
        "    # \"response\" : the \"context\" and \"question\" values are used to format our prompt object and then piped\n",
        "    #              into the LLM and stored in a key called \"response\"\n",
        "    # \"context\"  : populated by getting the value of the \"context\" key from the previous step\n",
        "    | {\"response\": prompt | primary_qa_llm, \"context\": itemgetter(\"context\")}\n",
        ")"
      ],
      "metadata": {
        "id": "J---NUVq48tV"
      },
      "execution_count": 17,
      "outputs": []
    },
    {
      "cell_type": "markdown",
      "source": [
        " ## Send prompt to LLM model\n",
        "\n",
        " - the prompt, which contains a formatted question and context, is being sent to the primary_qa_llm language model for processing. The language model will then generate a response based on the input prompt.\n",
        "\n"
      ],
      "metadata": {
        "id": "Td7lk9SKVvMH"
      }
    },
    {
      "cell_type": "code",
      "source": [
        "prompt | primary_qa_llm"
      ],
      "metadata": {
        "colab": {
          "base_uri": "https://localhost:8080/"
        },
        "id": "GkayZS5l5nXe",
        "outputId": "aae731bf-bced-4cec-dc19-baf06ea7de04"
      },
      "execution_count": 18,
      "outputs": [
        {
          "output_type": "execute_result",
          "data": {
            "text/plain": [
              "ChatPromptTemplate(input_variables=['context', 'question'], messages=[HumanMessagePromptTemplate(prompt=PromptTemplate(input_variables=['context', 'question'], template=\"Answer the question based only on the following context. If you cannot answer the question with the context, please respond with 'I don't know':\\n\\nContext:\\n{context}\\n\\nQuestion:\\n{question}\\n\"))])\n",
              "| ChatOpenAI(client=<openai.resources.chat.completions.Completions object at 0x7ec9ad0feb60>, async_client=<openai.resources.chat.completions.AsyncCompletions object at 0x7ec9ad0cc040>, temperature=0.0, openai_api_key=SecretStr('**********'), openai_proxy='')"
            ]
          },
          "metadata": {},
          "execution_count": 18
        }
      ]
    },
    {
      "cell_type": "code",
      "source": [
        "result = retrieval_augmented_qa_chain.invoke({\"question\" : q1})\n",
        "print(f\"The question : \\n {q1} \\n The answer:\")\n",
        "print(result[\"response\"].content)"
      ],
      "metadata": {
        "colab": {
          "base_uri": "https://localhost:8080/"
        },
        "id": "EiUwKpa95pmD",
        "outputId": "67c9d3a0-aaef-4bf1-b852-42d32022594f"
      },
      "execution_count": 19,
      "outputs": [
        {
          "output_type": "stream",
          "name": "stdout",
          "text": [
            "The question : \n",
            " Who is the E-VP, Operations - and how old are they? \n",
            " The answer:\n",
            "Debora Shoquist is the Executive Vice President, Operations, and she is 69 years old.\n"
          ]
        }
      ]
    },
    {
      "cell_type": "code",
      "source": [
        "result = retrieval_augmented_qa_chain.invoke({\"question\" : q2})\n",
        "print(f\"The question : \\n {q2} \\n The answer:\")\n",
        "print(result[\"response\"].content)"
      ],
      "metadata": {
        "colab": {
          "base_uri": "https://localhost:8080/"
        },
        "id": "efEgPLN159E2",
        "outputId": "1d4e20d5-c70a-4952-b791-4aaa1a7d21f3"
      },
      "execution_count": 20,
      "outputs": [
        {
          "output_type": "stream",
          "name": "stdout",
          "text": [
            "The question : \n",
            " What is the gross carrying amount of Total Amortizable Intangible Assets (In millions) for Jan 29, 2023 ? \n",
            " The answer:\n",
            "$3,539\n"
          ]
        }
      ]
    },
    {
      "cell_type": "markdown",
      "source": [
        "NVIDIA : https://www.sec.gov/Archives/edgar/data/1045810/000104581023000227/nvda-20231029.htm"
      ],
      "metadata": {
        "id": "_qqqaVVu7tMI"
      }
    },
    {
      "cell_type": "code",
      "source": [
        "# # let's test another questions\n",
        "\n",
        "# q3 = \"What is the gross carrying amount of Total Amortizable Intangible Assets for October 29, 2023? \" # answer is 3,092\n",
        "# result = retrieval_augmented_qa_chain.invoke({\"question\" : q3})\n",
        "# print(f\"The question : \\n {q3} \\n The answer:\")\n",
        "# print(result[\"response\"].content)\n",
        "\n",
        "# q4 = \"What is the Net Carrying Amount of Total Amortizable Intangible Assets for October 29, 2023? \" # answer is 1,251\n",
        "# result = retrieval_augmented_qa_chain.invoke({\"question\" : q4})\n",
        "# print(f\"The question : \\n {q4} \\n The answer:\")\n",
        "# print(result[\"response\"].content)\n",
        "\n",
        "# q5 = \"What is the Accumulated Amortization of Total Amortizable Intangible Assets for October 29, 2023? \" # answer is 1,841\n",
        "# result = retrieval_augmented_qa_chain.invoke({\"question\" : q5})\n",
        "# print(f\"The question : \\n {q5} \\n The answer:\")\n",
        "# print(result[\"response\"].content)\n",
        "\n",
        "# # Future Amortization Expense (In millions)\n",
        "# # q6 =  \"What is the Future Amortization Expense (In millions) in Fiscal Year of 2024 ?\"\n",
        "# q6 =  \"What is the total Future Amortization Expense (In millions)?\"\n",
        "# result = retrieval_augmented_qa_chain.invoke({\"question\" : q6})\n",
        "# print(f\"The question : \\n {q6} \\n The answer:\")\n",
        "# print(result[\"response\"].content)"
      ],
      "metadata": {
        "id": "wHFJKnFc5_bB"
      },
      "execution_count": 22,
      "outputs": []
    },
    {
      "cell_type": "markdown",
      "source": [
        "# Evaluation and Testing\n",
        "## *Synthetic Test Set Generation*"
      ],
      "metadata": {
        "id": "AxFbQYIJA5S1"
      }
    },
    {
      "cell_type": "code",
      "source": [
        "eval_documents = documents\n",
        "\n",
        "text_splitter = RecursiveCharacterTextSplitter(\n",
        "    chunk_size = 1500,\n",
        "    chunk_overlap = 450\n",
        ")\n",
        "\n",
        "eval_documents = text_splitter.split_documents(eval_documents)\n",
        "\n",
        "len(eval_documents)"
      ],
      "metadata": {
        "colab": {
          "base_uri": "https://localhost:8080/"
        },
        "id": "4YKcPPiW8_zZ",
        "outputId": "138d08d7-e291-417f-ff6e-ac610d837b4c"
      },
      "execution_count": 21,
      "outputs": [
        {
          "output_type": "execute_result",
          "data": {
            "text/plain": [
              "624"
            ]
          },
          "metadata": {},
          "execution_count": 21
        }
      ]
    },
    {
      "cell_type": "code",
      "source": [
        "from ragas.testset.generator import TestsetGenerator\n",
        "from ragas.testset.evolutions import simple, reasoning, multi_context\n",
        "\n",
        "generator = TestsetGenerator.with_openai()\n",
        "\n",
        "testset = (\n",
        "    generator\n",
        "    .generate_with_langchain_docs(\n",
        "        eval_documents,\n",
        "        test_size=10,\n",
        "        distributions=\n",
        "         {\n",
        "             simple: 0.25,\n",
        "             reasoning: 0.5,\n",
        "             multi_context: 0.5\n",
        "          }\n",
        "        )\n",
        "  )"
      ],
      "metadata": {
        "id": "9AxDvKcgBDIg"
      },
      "execution_count": 23,
      "outputs": []
    },
    {
      "cell_type": "code",
      "source": [
        "# testset.test_data[0]"
      ],
      "metadata": {
        "id": "qGVOSBngBFf3"
      },
      "execution_count": null,
      "outputs": []
    },
    {
      "cell_type": "code",
      "source": [
        "test_df = testset.to_pandas()\n",
        "test_questions = test_df[\"question\"].values.tolist()\n",
        "test_groundtruths = test_df[\"ground_truth\"].values.tolist()"
      ],
      "metadata": {
        "id": "zVBCniS1BKqX"
      },
      "execution_count": null,
      "outputs": []
    },
    {
      "cell_type": "code",
      "source": [
        "answers = []\n",
        "contexts = []\n",
        "\n",
        "for question in test_questions:\n",
        "  response = retrieval_augmented_qa_chain.invoke({\"question\" : question})\n",
        "  answers.append(response[\"response\"].content)\n",
        "  contexts.append([context.page_content for context in response[\"context\"]])"
      ],
      "metadata": {
        "id": "hu89n204BSir"
      },
      "execution_count": 41,
      "outputs": []
    },
    {
      "cell_type": "code",
      "source": [
        "from datasets import Dataset\n",
        "\n",
        "response_dataset = Dataset.from_dict({\n",
        "    \"question\" : test_questions,\n",
        "    \"answer\" : answers,\n",
        "    \"contexts\" : contexts,\n",
        "    \"ground_truth\" : test_groundtruths\n",
        "})"
      ],
      "metadata": {
        "id": "du8BG8U1BbnR"
      },
      "execution_count": 42,
      "outputs": []
    },
    {
      "cell_type": "code",
      "source": [
        "response_dataset[0]"
      ],
      "metadata": {
        "colab": {
          "base_uri": "https://localhost:8080/"
        },
        "id": "9z4uOXeJBd_4",
        "outputId": "b2c4add4-e9ac-40a3-c658-d41df3127f94"
      },
      "execution_count": 43,
      "outputs": [
        {
          "output_type": "execute_result",
          "data": {
            "text/plain": [
              "{'question': 'What is NVIDIA DLSS and how does it enhance the gaming experience?',\n",
              " 'answer': 'NVIDIA DLSS is deep learning super sampling, which is an AI technology that enhances the gaming experience by improving graphics quality and performance through the use of artificial intelligence algorithms. It helps to generate smoother, higher quality graphics in games by using AI to upscale lower resolution images to higher resolutions in real-time.',\n",
              " 'contexts': ['gamers who remaster games, and creators.\\nOur gaming platforms leverage our GPUs and sophisticated software to enhance the gaming experience with smoother, higher quality graphics. We developed\\nNVIDIA RTX to bring next generation graphics and AI to games. NVIDIA RTX features ray tracing technology for real-time, cinematic-quality rendering. Ray\\ntracing, which has long been used for special effects in the movie industry, is a computationally intensive technique that simulates the physical behavior of light\\nto achieve greater realism in computer-generated scenes. NVIDIA RTX also features deep learning super sampling, or NVIDIA DLSS, our AI technology that',\n",
              "  'the NVIDIA Ada Lovelace architecture. We announced NVIDIA Avatar Cloud Engine for Games, a custom AI model foundry service using AI-powered natural\\nlanguage interactions to transform games and launched DLSS 3.5 Ray Reconstruction. Additionally, we released TensorRT-LLM for Windows and launched\\nGeForce RTX 40-Series SUPER GPUs. Gaming reached a milestone of 500 AI-powered RTX games and applications utilizing NVIDIA DLSS, ray tracing and\\nother NVIDIA RTX technologies.\\nProfessional Visualization revenue for fiscal year 2024 was $1.6 billion, up 1% from fiscal year 2023. In Professional Visualization, we announced new GPUs',\n",
              "  'boosts frame rates while generating beautiful, sharp images for games. RTX GPUs will also accelerate a new generation of AI applications. With an installed\\nbase of over 100 million AI capable PCs, more than 500 RTX AI-enabled applications and games, and a robust suite of development tools, RTX is already the AI\\nPC leader.\\nOur products for the gaming market include GeForce RTX and GeForce GTX GPUs for gaming desktop and laptop PCs, GeForce NOW cloud gaming for\\nplaying PC games on underpowered devices, as well as SoCs and development services for game consoles.\\nProfessional Visualization',\n",
              "  'AI-specific features to our GPU architecture to further extend our leadership position. In addition, we offer DGX Cloud, an AI-training-as-a-service platform, and\\nNeMo – a complete solution for building enterprise-ready Large Language Models, or LLMs, using open source and proprietary LLMs created by NVIDIA and\\nthird parties. Our AI technology leadership is reinforced by our large and expanding ecosystem in a virtuous cycle. Our computing platforms are available from\\nvirtually every major server maker and CSP, as well as on our own AI supercomputers. There are over 4.7 million developers worldwide using CUDA and our'],\n",
              " 'ground_truth': 'NVIDIA DLSS is an AI technology that enhances the gaming experience by using deep learning super sampling.'}"
            ]
          },
          "metadata": {},
          "execution_count": 43
        }
      ]
    },
    {
      "cell_type": "markdown",
      "source": [
        "# Evaluate"
      ],
      "metadata": {
        "id": "HI9Su8BQBkx3"
      }
    },
    {
      "cell_type": "code",
      "source": [
        "from ragas import evaluate\n",
        "from ragas.metrics import (\n",
        "    faithfulness,\n",
        "    answer_relevancy,\n",
        "    answer_correctness,\n",
        "    context_recall,\n",
        "    context_precision,\n",
        ")\n",
        "\n",
        "metrics = [\n",
        "    faithfulness,\n",
        "    answer_relevancy,\n",
        "    context_recall,\n",
        "    context_precision,\n",
        "    answer_correctness,\n",
        "]"
      ],
      "metadata": {
        "id": "m7B7V0ytBkOe"
      },
      "execution_count": 44,
      "outputs": []
    },
    {
      "cell_type": "code",
      "source": [
        "results = evaluate(response_dataset, metrics)"
      ],
      "metadata": {
        "colab": {
          "base_uri": "https://localhost:8080/",
          "height": 49,
          "referenced_widgets": [
            "5842a5ae1c8140cf840cfa045899f6cc",
            "3a1ac19da2184a49bb9dab59898ebdf2",
            "dc533479ed66407598047cbb84f28143",
            "419e80bed33245aab227319f23d2e391",
            "b750500afe77424997bc72dc3d42fd72",
            "a572210654424d9d9eb508ccb6645d38",
            "7c8a84a716f149a6bd013d5ccc9b1c54",
            "a67dd88e57d848408a5fee09fd4bdd61",
            "deb699be3e464c89859bf2652afae65f",
            "a1e9071473f144299553717a060cf47a",
            "02a2b818febf40b6b1f74a8ae1fa70b8"
          ]
        },
        "id": "GMvL0lBRBh2i",
        "outputId": "43d0fe61-df68-4401-9284-ee5db67f6dd4"
      },
      "execution_count": 45,
      "outputs": [
        {
          "output_type": "display_data",
          "data": {
            "text/plain": [
              "Evaluating:   0%|          | 0/50 [00:00<?, ?it/s]"
            ],
            "application/vnd.jupyter.widget-view+json": {
              "version_major": 2,
              "version_minor": 0,
              "model_id": "5842a5ae1c8140cf840cfa045899f6cc"
            }
          },
          "metadata": {}
        }
      ]
    },
    {
      "cell_type": "code",
      "source": [
        "results"
      ],
      "metadata": {
        "id": "7GOQx_88BuxF"
      },
      "execution_count": null,
      "outputs": []
    },
    {
      "cell_type": "code",
      "source": [
        "results_df = results.to_pandas()\n",
        "results_df"
      ],
      "metadata": {
        "colab": {
          "base_uri": "https://localhost:8080/",
          "height": 710
        },
        "id": "rZqPpQD3BxMA",
        "outputId": "1ffac09f-8335-4e71-f851-aa55ec98da72"
      },
      "execution_count": 46,
      "outputs": [
        {
          "output_type": "execute_result",
          "data": {
            "text/plain": [
              "                                            question  \\\n",
              "0  What is NVIDIA DLSS and how does it enhance th...   \n",
              "1  What are target markets in relation to custome...   \n",
              "2  \"What factors can cause inconsistent spikes an...   \n",
              "3  How can competitors' design wins impact our bu...   \n",
              "4  Which supercomputing chips are affected by exp...   \n",
              "5  \"How is revenue distribution determined based ...   \n",
              "6  What are the consequences of violating export ...   \n",
              "7  How does the integration of cloud-based infras...   \n",
              "8  \"What is the role of solution architects in im...   \n",
              "9  \"What factors can cause demand fluctuations fo...   \n",
              "\n",
              "                                              answer  \\\n",
              "0  NVIDIA DLSS is deep learning super sampling, w...   \n",
              "1  Target markets in relation to customer program...   \n",
              "2  Factors that can cause inconsistent spikes and...   \n",
              "3  Competitors' design wins can impact our busine...   \n",
              "4  The A100 and H100 integrated circuits are affe...   \n",
              "5  Revenue distribution is determined based on th...   \n",
              "6  The consequences of violating export control l...   \n",
              "7  The integration of cloud-based infrastructure ...   \n",
              "8  The role of solution architects is to work wit...   \n",
              "9  Volatility in the cryptocurrency market, new c...   \n",
              "\n",
              "                                            contexts  \\\n",
              "0  [gamers who remaster games, and creators.\\nOur...   \n",
              "1  [distributors for specific products are contra...   \n",
              "2  [impact demand for our products, including by ...   \n",
              "3  [comprehensive IP portfolios and patent protec...   \n",
              "4  [supercomputing industries. These restrictions...   \n",
              "5  [10 \\n(2)\\n— \\nTotal\\n$\\n(4,890)\\n$\\n(5,411)\\n...   \n",
              "6  [and generally fulfill our contractual obligat...   \n",
              "7  [to some of ours and can use or develop their ...   \n",
              "8  [example, our solution architects work with CS...   \n",
              "9  [impact demand for our products, including by ...   \n",
              "\n",
              "                                        ground_truth  faithfulness  \\\n",
              "0  NVIDIA DLSS is an AI technology that enhances ...      1.000000   \n",
              "1                                                nan      0.666667   \n",
              "2  Factors that can cause inconsistent spikes and...      1.000000   \n",
              "3  Competitors' design wins can impact our busine...           NaN   \n",
              "4  The export restrictions impact the A100 and H1...      1.000000   \n",
              "5  Revenue by geographic region is designated bas...      1.000000   \n",
              "6  If we were ever found to have violated export ...      1.000000   \n",
              "7  The integration of cloud-based infrastructure ...      1.000000   \n",
              "8  The role of solution architects is to improve ...      1.000000   \n",
              "9  Cryptocurrency mining's impact on Gaming GPUs ...      1.000000   \n",
              "\n",
              "   answer_relevancy  context_recall  context_precision  answer_correctness  \n",
              "0          0.953094             1.0               1.00            0.545016  \n",
              "1          1.000000             0.0               0.00            0.181299  \n",
              "2          0.930344             1.0               1.00            0.997675  \n",
              "3          0.949377             1.0               0.75            0.811417  \n",
              "4          0.901975             1.0               1.00            0.738835  \n",
              "5          0.896599             1.0               1.00            0.531571  \n",
              "6          0.955203             1.0               1.00            0.774824  \n",
              "7          0.968168             1.0               1.00            0.489370  \n",
              "8          0.909947             1.0               1.00            0.484921  \n",
              "9          0.858263             1.0               1.00            0.375566  "
            ],
            "text/html": [
              "\n",
              "  <div id=\"df-e547e387-955b-4376-8950-be7ae3bfa66a\" class=\"colab-df-container\">\n",
              "    <div>\n",
              "<style scoped>\n",
              "    .dataframe tbody tr th:only-of-type {\n",
              "        vertical-align: middle;\n",
              "    }\n",
              "\n",
              "    .dataframe tbody tr th {\n",
              "        vertical-align: top;\n",
              "    }\n",
              "\n",
              "    .dataframe thead th {\n",
              "        text-align: right;\n",
              "    }\n",
              "</style>\n",
              "<table border=\"1\" class=\"dataframe\">\n",
              "  <thead>\n",
              "    <tr style=\"text-align: right;\">\n",
              "      <th></th>\n",
              "      <th>question</th>\n",
              "      <th>answer</th>\n",
              "      <th>contexts</th>\n",
              "      <th>ground_truth</th>\n",
              "      <th>faithfulness</th>\n",
              "      <th>answer_relevancy</th>\n",
              "      <th>context_recall</th>\n",
              "      <th>context_precision</th>\n",
              "      <th>answer_correctness</th>\n",
              "    </tr>\n",
              "  </thead>\n",
              "  <tbody>\n",
              "    <tr>\n",
              "      <th>0</th>\n",
              "      <td>What is NVIDIA DLSS and how does it enhance th...</td>\n",
              "      <td>NVIDIA DLSS is deep learning super sampling, w...</td>\n",
              "      <td>[gamers who remaster games, and creators.\\nOur...</td>\n",
              "      <td>NVIDIA DLSS is an AI technology that enhances ...</td>\n",
              "      <td>1.000000</td>\n",
              "      <td>0.953094</td>\n",
              "      <td>1.0</td>\n",
              "      <td>1.00</td>\n",
              "      <td>0.545016</td>\n",
              "    </tr>\n",
              "    <tr>\n",
              "      <th>1</th>\n",
              "      <td>What are target markets in relation to custome...</td>\n",
              "      <td>Target markets in relation to customer program...</td>\n",
              "      <td>[distributors for specific products are contra...</td>\n",
              "      <td>nan</td>\n",
              "      <td>0.666667</td>\n",
              "      <td>1.000000</td>\n",
              "      <td>0.0</td>\n",
              "      <td>0.00</td>\n",
              "      <td>0.181299</td>\n",
              "    </tr>\n",
              "    <tr>\n",
              "      <th>2</th>\n",
              "      <td>\"What factors can cause inconsistent spikes an...</td>\n",
              "      <td>Factors that can cause inconsistent spikes and...</td>\n",
              "      <td>[impact demand for our products, including by ...</td>\n",
              "      <td>Factors that can cause inconsistent spikes and...</td>\n",
              "      <td>1.000000</td>\n",
              "      <td>0.930344</td>\n",
              "      <td>1.0</td>\n",
              "      <td>1.00</td>\n",
              "      <td>0.997675</td>\n",
              "    </tr>\n",
              "    <tr>\n",
              "      <th>3</th>\n",
              "      <td>How can competitors' design wins impact our bu...</td>\n",
              "      <td>Competitors' design wins can impact our busine...</td>\n",
              "      <td>[comprehensive IP portfolios and patent protec...</td>\n",
              "      <td>Competitors' design wins can impact our busine...</td>\n",
              "      <td>NaN</td>\n",
              "      <td>0.949377</td>\n",
              "      <td>1.0</td>\n",
              "      <td>0.75</td>\n",
              "      <td>0.811417</td>\n",
              "    </tr>\n",
              "    <tr>\n",
              "      <th>4</th>\n",
              "      <td>Which supercomputing chips are affected by exp...</td>\n",
              "      <td>The A100 and H100 integrated circuits are affe...</td>\n",
              "      <td>[supercomputing industries. These restrictions...</td>\n",
              "      <td>The export restrictions impact the A100 and H1...</td>\n",
              "      <td>1.000000</td>\n",
              "      <td>0.901975</td>\n",
              "      <td>1.0</td>\n",
              "      <td>1.00</td>\n",
              "      <td>0.738835</td>\n",
              "    </tr>\n",
              "    <tr>\n",
              "      <th>5</th>\n",
              "      <td>\"How is revenue distribution determined based ...</td>\n",
              "      <td>Revenue distribution is determined based on th...</td>\n",
              "      <td>[10 \\n(2)\\n— \\nTotal\\n$\\n(4,890)\\n$\\n(5,411)\\n...</td>\n",
              "      <td>Revenue by geographic region is designated bas...</td>\n",
              "      <td>1.000000</td>\n",
              "      <td>0.896599</td>\n",
              "      <td>1.0</td>\n",
              "      <td>1.00</td>\n",
              "      <td>0.531571</td>\n",
              "    </tr>\n",
              "    <tr>\n",
              "      <th>6</th>\n",
              "      <td>What are the consequences of violating export ...</td>\n",
              "      <td>The consequences of violating export control l...</td>\n",
              "      <td>[and generally fulfill our contractual obligat...</td>\n",
              "      <td>If we were ever found to have violated export ...</td>\n",
              "      <td>1.000000</td>\n",
              "      <td>0.955203</td>\n",
              "      <td>1.0</td>\n",
              "      <td>1.00</td>\n",
              "      <td>0.774824</td>\n",
              "    </tr>\n",
              "    <tr>\n",
              "      <th>7</th>\n",
              "      <td>How does the integration of cloud-based infras...</td>\n",
              "      <td>The integration of cloud-based infrastructure ...</td>\n",
              "      <td>[to some of ours and can use or develop their ...</td>\n",
              "      <td>The integration of cloud-based infrastructure ...</td>\n",
              "      <td>1.000000</td>\n",
              "      <td>0.968168</td>\n",
              "      <td>1.0</td>\n",
              "      <td>1.00</td>\n",
              "      <td>0.489370</td>\n",
              "    </tr>\n",
              "    <tr>\n",
              "      <th>8</th>\n",
              "      <td>\"What is the role of solution architects in im...</td>\n",
              "      <td>The role of solution architects is to work wit...</td>\n",
              "      <td>[example, our solution architects work with CS...</td>\n",
              "      <td>The role of solution architects is to improve ...</td>\n",
              "      <td>1.000000</td>\n",
              "      <td>0.909947</td>\n",
              "      <td>1.0</td>\n",
              "      <td>1.00</td>\n",
              "      <td>0.484921</td>\n",
              "    </tr>\n",
              "    <tr>\n",
              "      <th>9</th>\n",
              "      <td>\"What factors can cause demand fluctuations fo...</td>\n",
              "      <td>Volatility in the cryptocurrency market, new c...</td>\n",
              "      <td>[impact demand for our products, including by ...</td>\n",
              "      <td>Cryptocurrency mining's impact on Gaming GPUs ...</td>\n",
              "      <td>1.000000</td>\n",
              "      <td>0.858263</td>\n",
              "      <td>1.0</td>\n",
              "      <td>1.00</td>\n",
              "      <td>0.375566</td>\n",
              "    </tr>\n",
              "  </tbody>\n",
              "</table>\n",
              "</div>\n",
              "    <div class=\"colab-df-buttons\">\n",
              "\n",
              "  <div class=\"colab-df-container\">\n",
              "    <button class=\"colab-df-convert\" onclick=\"convertToInteractive('df-e547e387-955b-4376-8950-be7ae3bfa66a')\"\n",
              "            title=\"Convert this dataframe to an interactive table.\"\n",
              "            style=\"display:none;\">\n",
              "\n",
              "  <svg xmlns=\"http://www.w3.org/2000/svg\" height=\"24px\" viewBox=\"0 -960 960 960\">\n",
              "    <path d=\"M120-120v-720h720v720H120Zm60-500h600v-160H180v160Zm220 220h160v-160H400v160Zm0 220h160v-160H400v160ZM180-400h160v-160H180v160Zm440 0h160v-160H620v160ZM180-180h160v-160H180v160Zm440 0h160v-160H620v160Z\"/>\n",
              "  </svg>\n",
              "    </button>\n",
              "\n",
              "  <style>\n",
              "    .colab-df-container {\n",
              "      display:flex;\n",
              "      gap: 12px;\n",
              "    }\n",
              "\n",
              "    .colab-df-convert {\n",
              "      background-color: #E8F0FE;\n",
              "      border: none;\n",
              "      border-radius: 50%;\n",
              "      cursor: pointer;\n",
              "      display: none;\n",
              "      fill: #1967D2;\n",
              "      height: 32px;\n",
              "      padding: 0 0 0 0;\n",
              "      width: 32px;\n",
              "    }\n",
              "\n",
              "    .colab-df-convert:hover {\n",
              "      background-color: #E2EBFA;\n",
              "      box-shadow: 0px 1px 2px rgba(60, 64, 67, 0.3), 0px 1px 3px 1px rgba(60, 64, 67, 0.15);\n",
              "      fill: #174EA6;\n",
              "    }\n",
              "\n",
              "    .colab-df-buttons div {\n",
              "      margin-bottom: 4px;\n",
              "    }\n",
              "\n",
              "    [theme=dark] .colab-df-convert {\n",
              "      background-color: #3B4455;\n",
              "      fill: #D2E3FC;\n",
              "    }\n",
              "\n",
              "    [theme=dark] .colab-df-convert:hover {\n",
              "      background-color: #434B5C;\n",
              "      box-shadow: 0px 1px 3px 1px rgba(0, 0, 0, 0.15);\n",
              "      filter: drop-shadow(0px 1px 2px rgba(0, 0, 0, 0.3));\n",
              "      fill: #FFFFFF;\n",
              "    }\n",
              "  </style>\n",
              "\n",
              "    <script>\n",
              "      const buttonEl =\n",
              "        document.querySelector('#df-e547e387-955b-4376-8950-be7ae3bfa66a button.colab-df-convert');\n",
              "      buttonEl.style.display =\n",
              "        google.colab.kernel.accessAllowed ? 'block' : 'none';\n",
              "\n",
              "      async function convertToInteractive(key) {\n",
              "        const element = document.querySelector('#df-e547e387-955b-4376-8950-be7ae3bfa66a');\n",
              "        const dataTable =\n",
              "          await google.colab.kernel.invokeFunction('convertToInteractive',\n",
              "                                                    [key], {});\n",
              "        if (!dataTable) return;\n",
              "\n",
              "        const docLinkHtml = 'Like what you see? Visit the ' +\n",
              "          '<a target=\"_blank\" href=https://colab.research.google.com/notebooks/data_table.ipynb>data table notebook</a>'\n",
              "          + ' to learn more about interactive tables.';\n",
              "        element.innerHTML = '';\n",
              "        dataTable['output_type'] = 'display_data';\n",
              "        await google.colab.output.renderOutput(dataTable, element);\n",
              "        const docLink = document.createElement('div');\n",
              "        docLink.innerHTML = docLinkHtml;\n",
              "        element.appendChild(docLink);\n",
              "      }\n",
              "    </script>\n",
              "  </div>\n",
              "\n",
              "\n",
              "<div id=\"df-26d1e371-b771-478a-be16-2b19aee905d9\">\n",
              "  <button class=\"colab-df-quickchart\" onclick=\"quickchart('df-26d1e371-b771-478a-be16-2b19aee905d9')\"\n",
              "            title=\"Suggest charts\"\n",
              "            style=\"display:none;\">\n",
              "\n",
              "<svg xmlns=\"http://www.w3.org/2000/svg\" height=\"24px\"viewBox=\"0 0 24 24\"\n",
              "     width=\"24px\">\n",
              "    <g>\n",
              "        <path d=\"M19 3H5c-1.1 0-2 .9-2 2v14c0 1.1.9 2 2 2h14c1.1 0 2-.9 2-2V5c0-1.1-.9-2-2-2zM9 17H7v-7h2v7zm4 0h-2V7h2v10zm4 0h-2v-4h2v4z\"/>\n",
              "    </g>\n",
              "</svg>\n",
              "  </button>\n",
              "\n",
              "<style>\n",
              "  .colab-df-quickchart {\n",
              "      --bg-color: #E8F0FE;\n",
              "      --fill-color: #1967D2;\n",
              "      --hover-bg-color: #E2EBFA;\n",
              "      --hover-fill-color: #174EA6;\n",
              "      --disabled-fill-color: #AAA;\n",
              "      --disabled-bg-color: #DDD;\n",
              "  }\n",
              "\n",
              "  [theme=dark] .colab-df-quickchart {\n",
              "      --bg-color: #3B4455;\n",
              "      --fill-color: #D2E3FC;\n",
              "      --hover-bg-color: #434B5C;\n",
              "      --hover-fill-color: #FFFFFF;\n",
              "      --disabled-bg-color: #3B4455;\n",
              "      --disabled-fill-color: #666;\n",
              "  }\n",
              "\n",
              "  .colab-df-quickchart {\n",
              "    background-color: var(--bg-color);\n",
              "    border: none;\n",
              "    border-radius: 50%;\n",
              "    cursor: pointer;\n",
              "    display: none;\n",
              "    fill: var(--fill-color);\n",
              "    height: 32px;\n",
              "    padding: 0;\n",
              "    width: 32px;\n",
              "  }\n",
              "\n",
              "  .colab-df-quickchart:hover {\n",
              "    background-color: var(--hover-bg-color);\n",
              "    box-shadow: 0 1px 2px rgba(60, 64, 67, 0.3), 0 1px 3px 1px rgba(60, 64, 67, 0.15);\n",
              "    fill: var(--button-hover-fill-color);\n",
              "  }\n",
              "\n",
              "  .colab-df-quickchart-complete:disabled,\n",
              "  .colab-df-quickchart-complete:disabled:hover {\n",
              "    background-color: var(--disabled-bg-color);\n",
              "    fill: var(--disabled-fill-color);\n",
              "    box-shadow: none;\n",
              "  }\n",
              "\n",
              "  .colab-df-spinner {\n",
              "    border: 2px solid var(--fill-color);\n",
              "    border-color: transparent;\n",
              "    border-bottom-color: var(--fill-color);\n",
              "    animation:\n",
              "      spin 1s steps(1) infinite;\n",
              "  }\n",
              "\n",
              "  @keyframes spin {\n",
              "    0% {\n",
              "      border-color: transparent;\n",
              "      border-bottom-color: var(--fill-color);\n",
              "      border-left-color: var(--fill-color);\n",
              "    }\n",
              "    20% {\n",
              "      border-color: transparent;\n",
              "      border-left-color: var(--fill-color);\n",
              "      border-top-color: var(--fill-color);\n",
              "    }\n",
              "    30% {\n",
              "      border-color: transparent;\n",
              "      border-left-color: var(--fill-color);\n",
              "      border-top-color: var(--fill-color);\n",
              "      border-right-color: var(--fill-color);\n",
              "    }\n",
              "    40% {\n",
              "      border-color: transparent;\n",
              "      border-right-color: var(--fill-color);\n",
              "      border-top-color: var(--fill-color);\n",
              "    }\n",
              "    60% {\n",
              "      border-color: transparent;\n",
              "      border-right-color: var(--fill-color);\n",
              "    }\n",
              "    80% {\n",
              "      border-color: transparent;\n",
              "      border-right-color: var(--fill-color);\n",
              "      border-bottom-color: var(--fill-color);\n",
              "    }\n",
              "    90% {\n",
              "      border-color: transparent;\n",
              "      border-bottom-color: var(--fill-color);\n",
              "    }\n",
              "  }\n",
              "</style>\n",
              "\n",
              "  <script>\n",
              "    async function quickchart(key) {\n",
              "      const quickchartButtonEl =\n",
              "        document.querySelector('#' + key + ' button');\n",
              "      quickchartButtonEl.disabled = true;  // To prevent multiple clicks.\n",
              "      quickchartButtonEl.classList.add('colab-df-spinner');\n",
              "      try {\n",
              "        const charts = await google.colab.kernel.invokeFunction(\n",
              "            'suggestCharts', [key], {});\n",
              "      } catch (error) {\n",
              "        console.error('Error during call to suggestCharts:', error);\n",
              "      }\n",
              "      quickchartButtonEl.classList.remove('colab-df-spinner');\n",
              "      quickchartButtonEl.classList.add('colab-df-quickchart-complete');\n",
              "    }\n",
              "    (() => {\n",
              "      let quickchartButtonEl =\n",
              "        document.querySelector('#df-26d1e371-b771-478a-be16-2b19aee905d9 button');\n",
              "      quickchartButtonEl.style.display =\n",
              "        google.colab.kernel.accessAllowed ? 'block' : 'none';\n",
              "    })();\n",
              "  </script>\n",
              "</div>\n",
              "\n",
              "  <div id=\"id_9dcc0d74-255a-4285-b246-d69aab7bc7c8\">\n",
              "    <style>\n",
              "      .colab-df-generate {\n",
              "        background-color: #E8F0FE;\n",
              "        border: none;\n",
              "        border-radius: 50%;\n",
              "        cursor: pointer;\n",
              "        display: none;\n",
              "        fill: #1967D2;\n",
              "        height: 32px;\n",
              "        padding: 0 0 0 0;\n",
              "        width: 32px;\n",
              "      }\n",
              "\n",
              "      .colab-df-generate:hover {\n",
              "        background-color: #E2EBFA;\n",
              "        box-shadow: 0px 1px 2px rgba(60, 64, 67, 0.3), 0px 1px 3px 1px rgba(60, 64, 67, 0.15);\n",
              "        fill: #174EA6;\n",
              "      }\n",
              "\n",
              "      [theme=dark] .colab-df-generate {\n",
              "        background-color: #3B4455;\n",
              "        fill: #D2E3FC;\n",
              "      }\n",
              "\n",
              "      [theme=dark] .colab-df-generate:hover {\n",
              "        background-color: #434B5C;\n",
              "        box-shadow: 0px 1px 3px 1px rgba(0, 0, 0, 0.15);\n",
              "        filter: drop-shadow(0px 1px 2px rgba(0, 0, 0, 0.3));\n",
              "        fill: #FFFFFF;\n",
              "      }\n",
              "    </style>\n",
              "    <button class=\"colab-df-generate\" onclick=\"generateWithVariable('results_df')\"\n",
              "            title=\"Generate code using this dataframe.\"\n",
              "            style=\"display:none;\">\n",
              "\n",
              "  <svg xmlns=\"http://www.w3.org/2000/svg\" height=\"24px\"viewBox=\"0 0 24 24\"\n",
              "       width=\"24px\">\n",
              "    <path d=\"M7,19H8.4L18.45,9,17,7.55,7,17.6ZM5,21V16.75L18.45,3.32a2,2,0,0,1,2.83,0l1.4,1.43a1.91,1.91,0,0,1,.58,1.4,1.91,1.91,0,0,1-.58,1.4L9.25,21ZM18.45,9,17,7.55Zm-12,3A5.31,5.31,0,0,0,4.9,8.1,5.31,5.31,0,0,0,1,6.5,5.31,5.31,0,0,0,4.9,4.9,5.31,5.31,0,0,0,6.5,1,5.31,5.31,0,0,0,8.1,4.9,5.31,5.31,0,0,0,12,6.5,5.46,5.46,0,0,0,6.5,12Z\"/>\n",
              "  </svg>\n",
              "    </button>\n",
              "    <script>\n",
              "      (() => {\n",
              "      const buttonEl =\n",
              "        document.querySelector('#id_9dcc0d74-255a-4285-b246-d69aab7bc7c8 button.colab-df-generate');\n",
              "      buttonEl.style.display =\n",
              "        google.colab.kernel.accessAllowed ? 'block' : 'none';\n",
              "\n",
              "      buttonEl.onclick = () => {\n",
              "        google.colab.notebook.generateWithVariable('results_df');\n",
              "      }\n",
              "      })();\n",
              "    </script>\n",
              "  </div>\n",
              "\n",
              "    </div>\n",
              "  </div>\n"
            ],
            "application/vnd.google.colaboratory.intrinsic+json": {
              "type": "dataframe",
              "variable_name": "results_df",
              "summary": "{\n  \"name\": \"results_df\",\n  \"rows\": 10,\n  \"fields\": [\n    {\n      \"column\": \"question\",\n      \"properties\": {\n        \"dtype\": \"string\",\n        \"num_unique_values\": 10,\n        \"samples\": [\n          \"\\\"What is the role of solution architects in improving our partner network's time-to-market and customer satisfaction through pre-sales assistance in system design optimization and AI application development?\\\"\",\n          \"What are target markets in relation to customer programs involving rebates?\",\n          \"\\\"How is revenue distribution determined based on billing location and customer regions?\\\"\"\n        ],\n        \"semantic_type\": \"\",\n        \"description\": \"\"\n      }\n    },\n    {\n      \"column\": \"answer\",\n      \"properties\": {\n        \"dtype\": \"string\",\n        \"num_unique_values\": 10,\n        \"samples\": [\n          \"The role of solution architects is to work with CSPs to provide pre-sales assistance in optimizing hardware and software infrastructure for generative AI and LLM training and deployment, as well as to collaborate with foundation model and enterprise software developers to optimize training and fine-tuning of models and services. They also work with enterprise end-users, often in collaboration with their global system integrator of choice, to fine-tune models and build AI applications. Their depth and quality of design support are key to improving the partner network's time-to-market and maintaining a high level of customer satisfaction.\",\n          \"Target markets in relation to customer programs involving rebates are various markets where resellers of products are incentivized through rebates to promote and sell NVIDIA products.\",\n          \"Revenue distribution is determined based on the billing location of the customer, even though the end customer location may differ from the billing location.\"\n        ],\n        \"semantic_type\": \"\",\n        \"description\": \"\"\n      }\n    },\n    {\n      \"column\": \"contexts\",\n      \"properties\": {\n        \"dtype\": \"object\",\n        \"semantic_type\": \"\",\n        \"description\": \"\"\n      }\n    },\n    {\n      \"column\": \"ground_truth\",\n      \"properties\": {\n        \"dtype\": \"string\",\n        \"num_unique_values\": 10,\n        \"samples\": [\n          \"The role of solution architects is to improve our partner network's time-to-market and customer satisfaction through pre-sales assistance in system design optimization and AI application development.\",\n          \"nan\",\n          \"Revenue by geographic region is designated based on the billing location even if the revenue may be attributable to end customers, such as enterprises and gamers in a different location.\"\n        ],\n        \"semantic_type\": \"\",\n        \"description\": \"\"\n      }\n    },\n    {\n      \"column\": \"faithfulness\",\n      \"properties\": {\n        \"dtype\": \"number\",\n        \"std\": 0.11111111111111112,\n        \"min\": 0.6666666666666666,\n        \"max\": 1.0,\n        \"num_unique_values\": 2,\n        \"samples\": [\n          0.6666666666666666,\n          1.0\n        ],\n        \"semantic_type\": \"\",\n        \"description\": \"\"\n      }\n    },\n    {\n      \"column\": \"answer_relevancy\",\n      \"properties\": {\n        \"dtype\": \"number\",\n        \"std\": 0.04122768883599351,\n        \"min\": 0.858262996173197,\n        \"max\": 0.999999999999999,\n        \"num_unique_values\": 10,\n        \"samples\": [\n          0.9099474491711773,\n          0.999999999999999\n        ],\n        \"semantic_type\": \"\",\n        \"description\": \"\"\n      }\n    },\n    {\n      \"column\": \"context_recall\",\n      \"properties\": {\n        \"dtype\": \"number\",\n        \"std\": 0.31622776601683794,\n        \"min\": 0.0,\n        \"max\": 1.0,\n        \"num_unique_values\": 2,\n        \"samples\": [\n          0.0,\n          1.0\n        ],\n        \"semantic_type\": \"\",\n        \"description\": \"\"\n      }\n    },\n    {\n      \"column\": \"context_precision\",\n      \"properties\": {\n        \"dtype\": \"number\",\n        \"std\": 0.3173238793995069,\n        \"min\": 0.0,\n        \"max\": 0.999999999975,\n        \"num_unique_values\": 5,\n        \"samples\": [\n          0.0,\n          0.9999999999666667\n        ],\n        \"semantic_type\": \"\",\n        \"description\": \"\"\n      }\n    },\n    {\n      \"column\": \"answer_correctness\",\n      \"properties\": {\n        \"dtype\": \"number\",\n        \"std\": 0.23829658591957345,\n        \"min\": 0.18129883414749728,\n        \"max\": 0.997674843399376,\n        \"num_unique_values\": 10,\n        \"samples\": [\n          0.4849214884053201,\n          0.18129883414749728\n        ],\n        \"semantic_type\": \"\",\n        \"description\": \"\"\n      }\n    }\n  ]\n}"
            }
          },
          "metadata": {},
          "execution_count": 46
        }
      ]
    },
    {
      "cell_type": "markdown",
      "source": [
        "# Making Adjustments to our RAG Pipeline\n",
        "\n",
        "- Enhances the RAG by refining and expanding user queries to retrieve more relevant and contextual information from a knowledge base"
      ],
      "metadata": {
        "id": "h2wGlvNRB0j6"
      }
    },
    {
      "cell_type": "code",
      "source": [
        "from langchain.retrievers import MultiQueryRetriever\n",
        "\n",
        "advanced_retriever = MultiQueryRetriever.from_llm(retriever=retriever, llm=primary_qa_llm)"
      ],
      "metadata": {
        "id": "J_i3K74eB0L_"
      },
      "execution_count": 47,
      "outputs": []
    },
    {
      "cell_type": "code",
      "source": [
        "from langchain.chains.combine_documents import create_stuff_documents_chain\n",
        "\n",
        "document_chain = create_stuff_documents_chain(primary_qa_llm, retrieval_qa_prompt)"
      ],
      "metadata": {
        "id": "MArHiExYB8TO"
      },
      "execution_count": 48,
      "outputs": []
    },
    {
      "cell_type": "code",
      "source": [
        "from langchain.chains import create_retrieval_chain\n",
        "\n",
        "retrieval_chain = create_retrieval_chain(advanced_retriever, document_chain)"
      ],
      "metadata": {
        "id": "VJyiRWKnCBPf"
      },
      "execution_count": 49,
      "outputs": []
    },
    {
      "cell_type": "markdown",
      "source": [
        "# RAG Responses"
      ],
      "metadata": {
        "id": "1CsTAvSyWAb2"
      }
    },
    {
      "cell_type": "code",
      "source": [
        "response = retrieval_chain.invoke({\"input\": q1})\n",
        "print(response[\"answer\"])"
      ],
      "metadata": {
        "colab": {
          "base_uri": "https://localhost:8080/"
        },
        "id": "tj3OP_hICB-q",
        "outputId": "d4bc4967-fb26-4611-8ae7-6041cd2fd5ea"
      },
      "execution_count": 50,
      "outputs": [
        {
          "output_type": "stream",
          "name": "stdout",
          "text": [
            "The Executive Vice President of Operations is Debora Shoquist, who is 69 years old.\n"
          ]
        }
      ]
    },
    {
      "cell_type": "code",
      "source": [
        "response = retrieval_chain.invoke({\"input\": q2})\n",
        "print(response[\"answer\"])"
      ],
      "metadata": {
        "colab": {
          "base_uri": "https://localhost:8080/"
        },
        "id": "2kP7mchhCJZ_",
        "outputId": "26ec5ca5-7f13-47cb-cb65-3f6da70e79fc"
      },
      "execution_count": 51,
      "outputs": [
        {
          "output_type": "stream",
          "name": "stdout",
          "text": [
            "The gross carrying amount of Total Amortizable Intangible Assets for Jan 29, 2023, is $3,539 million.\n"
          ]
        }
      ]
    },
    {
      "cell_type": "code",
      "source": [
        "# print(q3)\n",
        "# response = retrieval_chain.invoke({\"input\": \"What is the gross carrying amount of Total Amortizable Intangible Assets for Jan 28, 2024? \"})\n",
        "# print(response[\"answer\"])\n",
        "\n",
        "# print(q4)\n",
        "# response = retrieval_chain.invoke({\"input\": q4})\n",
        "# print(response[\"answer\"])\n",
        "\n",
        "# print(q5)\n",
        "# response = retrieval_chain.invoke({\"input\": q5})\n",
        "# print(response[\"answer\"])\n",
        "\n",
        "# print(q6)\n",
        "# response = retrieval_chain.invoke({\"input\": q6})\n",
        "# print(response[\"answer\"])"
      ],
      "metadata": {
        "colab": {
          "base_uri": "https://localhost:8080/"
        },
        "id": "jswt4P5Wd4tM",
        "outputId": "04583882-5dc9-4812-dd4e-8cd1eb0578de"
      },
      "execution_count": 60,
      "outputs": [
        {
          "output_type": "stream",
          "name": "stdout",
          "text": [
            "What is the gross carrying amount of Total Amortizable Intangible Assets for October 29, 2023? \n",
            "The gross carrying amount of Total Amortizable Intangible Assets for Jan 28, 2024, is $3,091 million.\n"
          ]
        }
      ]
    },
    {
      "cell_type": "code",
      "source": [
        "answers = []\n",
        "contexts = []\n",
        "\n",
        "for question in test_questions:\n",
        "  response = retrieval_chain.invoke({\"input\" : question})\n",
        "  answers.append(response[\"answer\"])\n",
        "  contexts.append([context.page_content for context in response[\"context\"]])"
      ],
      "metadata": {
        "id": "MUH7PfqwD3yy"
      },
      "execution_count": null,
      "outputs": []
    },
    {
      "cell_type": "code",
      "source": [
        "response_dataset_advanced_retrieval = Dataset.from_dict({\n",
        "    \"question\" : test_questions,\n",
        "    \"answer\" : answers,\n",
        "    \"contexts\" : contexts,\n",
        "    \"ground_truth\" : test_groundtruths\n",
        "})"
      ],
      "metadata": {
        "id": "lkiaHGtfEBCe"
      },
      "execution_count": null,
      "outputs": []
    },
    {
      "cell_type": "code",
      "source": [
        "advanced_retrieval_results = evaluate(response_dataset_advanced_retrieval, metrics)"
      ],
      "metadata": {
        "id": "zkUCWlmNEDma"
      },
      "execution_count": null,
      "outputs": []
    },
    {
      "cell_type": "code",
      "source": [
        "advanced_retrieval_results_df = advanced_retrieval_results.to_pandas()\n",
        "advanced_retrieval_results_df"
      ],
      "metadata": {
        "id": "31bYRX7fEFxr"
      },
      "execution_count": null,
      "outputs": []
    }
  ]
}