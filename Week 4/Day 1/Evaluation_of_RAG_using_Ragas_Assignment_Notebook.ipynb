{
  "nbformat": 4,
  "nbformat_minor": 0,
  "metadata": {
    "colab": {
      "provenance": []
    },
    "kernelspec": {
      "name": "python3",
      "display_name": "Python 3"
    },
    "language_info": {
      "name": "python"
    },
    "widgets": {
      "application/vnd.jupyter.widget-state+json": {
        "b3ac8970748841b8bceffc603af1f744": {
          "model_module": "@jupyter-widgets/controls",
          "model_name": "HBoxModel",
          "model_module_version": "1.5.0",
          "state": {
            "_dom_classes": [],
            "_model_module": "@jupyter-widgets/controls",
            "_model_module_version": "1.5.0",
            "_model_name": "HBoxModel",
            "_view_count": null,
            "_view_module": "@jupyter-widgets/controls",
            "_view_module_version": "1.5.0",
            "_view_name": "HBoxView",
            "box_style": "",
            "children": [
              "IPY_MODEL_6649252fe5de4a8caf7989463d933392",
              "IPY_MODEL_5e1b1846947d476db96269beb8e3a1c7",
              "IPY_MODEL_114bb8216e4a4cc09d8d2e86380c754c"
            ],
            "layout": "IPY_MODEL_85bdcdb5d22a49d8b2b436a8d4797b4a"
          }
        },
        "6649252fe5de4a8caf7989463d933392": {
          "model_module": "@jupyter-widgets/controls",
          "model_name": "HTMLModel",
          "model_module_version": "1.5.0",
          "state": {
            "_dom_classes": [],
            "_model_module": "@jupyter-widgets/controls",
            "_model_module_version": "1.5.0",
            "_model_name": "HTMLModel",
            "_view_count": null,
            "_view_module": "@jupyter-widgets/controls",
            "_view_module_version": "1.5.0",
            "_view_name": "HTMLView",
            "description": "",
            "description_tooltip": null,
            "layout": "IPY_MODEL_241a35bb0d8d4d8a848b2aa8a2ab1696",
            "placeholder": "​",
            "style": "IPY_MODEL_328117cdf5b84fd88c216d55a333e009",
            "value": "embedding nodes: 100%"
          }
        },
        "5e1b1846947d476db96269beb8e3a1c7": {
          "model_module": "@jupyter-widgets/controls",
          "model_name": "FloatProgressModel",
          "model_module_version": "1.5.0",
          "state": {
            "_dom_classes": [],
            "_model_module": "@jupyter-widgets/controls",
            "_model_module_version": "1.5.0",
            "_model_name": "FloatProgressModel",
            "_view_count": null,
            "_view_module": "@jupyter-widgets/controls",
            "_view_module_version": "1.5.0",
            "_view_name": "ProgressView",
            "bar_style": "",
            "description": "",
            "description_tooltip": null,
            "layout": "IPY_MODEL_e10f1b3483e74fa49829eeaa807d7b6a",
            "max": 318,
            "min": 0,
            "orientation": "horizontal",
            "style": "IPY_MODEL_754f125b12ba48848ea0e7f9c64f7425",
            "value": 318
          }
        },
        "114bb8216e4a4cc09d8d2e86380c754c": {
          "model_module": "@jupyter-widgets/controls",
          "model_name": "HTMLModel",
          "model_module_version": "1.5.0",
          "state": {
            "_dom_classes": [],
            "_model_module": "@jupyter-widgets/controls",
            "_model_module_version": "1.5.0",
            "_model_name": "HTMLModel",
            "_view_count": null,
            "_view_module": "@jupyter-widgets/controls",
            "_view_module_version": "1.5.0",
            "_view_name": "HTMLView",
            "description": "",
            "description_tooltip": null,
            "layout": "IPY_MODEL_c410e3be44a4482787988b1fb7e2cdd5",
            "placeholder": "​",
            "style": "IPY_MODEL_f53065e1d7944679b29f522ed9b52ee4",
            "value": " 317/318 [00:20&lt;00:00,  7.32it/s]"
          }
        },
        "85bdcdb5d22a49d8b2b436a8d4797b4a": {
          "model_module": "@jupyter-widgets/base",
          "model_name": "LayoutModel",
          "model_module_version": "1.2.0",
          "state": {
            "_model_module": "@jupyter-widgets/base",
            "_model_module_version": "1.2.0",
            "_model_name": "LayoutModel",
            "_view_count": null,
            "_view_module": "@jupyter-widgets/base",
            "_view_module_version": "1.2.0",
            "_view_name": "LayoutView",
            "align_content": null,
            "align_items": null,
            "align_self": null,
            "border": null,
            "bottom": null,
            "display": null,
            "flex": null,
            "flex_flow": null,
            "grid_area": null,
            "grid_auto_columns": null,
            "grid_auto_flow": null,
            "grid_auto_rows": null,
            "grid_column": null,
            "grid_gap": null,
            "grid_row": null,
            "grid_template_areas": null,
            "grid_template_columns": null,
            "grid_template_rows": null,
            "height": null,
            "justify_content": null,
            "justify_items": null,
            "left": null,
            "margin": null,
            "max_height": null,
            "max_width": null,
            "min_height": null,
            "min_width": null,
            "object_fit": null,
            "object_position": null,
            "order": null,
            "overflow": null,
            "overflow_x": null,
            "overflow_y": null,
            "padding": null,
            "right": null,
            "top": null,
            "visibility": "hidden",
            "width": null
          }
        },
        "241a35bb0d8d4d8a848b2aa8a2ab1696": {
          "model_module": "@jupyter-widgets/base",
          "model_name": "LayoutModel",
          "model_module_version": "1.2.0",
          "state": {
            "_model_module": "@jupyter-widgets/base",
            "_model_module_version": "1.2.0",
            "_model_name": "LayoutModel",
            "_view_count": null,
            "_view_module": "@jupyter-widgets/base",
            "_view_module_version": "1.2.0",
            "_view_name": "LayoutView",
            "align_content": null,
            "align_items": null,
            "align_self": null,
            "border": null,
            "bottom": null,
            "display": null,
            "flex": null,
            "flex_flow": null,
            "grid_area": null,
            "grid_auto_columns": null,
            "grid_auto_flow": null,
            "grid_auto_rows": null,
            "grid_column": null,
            "grid_gap": null,
            "grid_row": null,
            "grid_template_areas": null,
            "grid_template_columns": null,
            "grid_template_rows": null,
            "height": null,
            "justify_content": null,
            "justify_items": null,
            "left": null,
            "margin": null,
            "max_height": null,
            "max_width": null,
            "min_height": null,
            "min_width": null,
            "object_fit": null,
            "object_position": null,
            "order": null,
            "overflow": null,
            "overflow_x": null,
            "overflow_y": null,
            "padding": null,
            "right": null,
            "top": null,
            "visibility": null,
            "width": null
          }
        },
        "328117cdf5b84fd88c216d55a333e009": {
          "model_module": "@jupyter-widgets/controls",
          "model_name": "DescriptionStyleModel",
          "model_module_version": "1.5.0",
          "state": {
            "_model_module": "@jupyter-widgets/controls",
            "_model_module_version": "1.5.0",
            "_model_name": "DescriptionStyleModel",
            "_view_count": null,
            "_view_module": "@jupyter-widgets/base",
            "_view_module_version": "1.2.0",
            "_view_name": "StyleView",
            "description_width": ""
          }
        },
        "e10f1b3483e74fa49829eeaa807d7b6a": {
          "model_module": "@jupyter-widgets/base",
          "model_name": "LayoutModel",
          "model_module_version": "1.2.0",
          "state": {
            "_model_module": "@jupyter-widgets/base",
            "_model_module_version": "1.2.0",
            "_model_name": "LayoutModel",
            "_view_count": null,
            "_view_module": "@jupyter-widgets/base",
            "_view_module_version": "1.2.0",
            "_view_name": "LayoutView",
            "align_content": null,
            "align_items": null,
            "align_self": null,
            "border": null,
            "bottom": null,
            "display": null,
            "flex": null,
            "flex_flow": null,
            "grid_area": null,
            "grid_auto_columns": null,
            "grid_auto_flow": null,
            "grid_auto_rows": null,
            "grid_column": null,
            "grid_gap": null,
            "grid_row": null,
            "grid_template_areas": null,
            "grid_template_columns": null,
            "grid_template_rows": null,
            "height": null,
            "justify_content": null,
            "justify_items": null,
            "left": null,
            "margin": null,
            "max_height": null,
            "max_width": null,
            "min_height": null,
            "min_width": null,
            "object_fit": null,
            "object_position": null,
            "order": null,
            "overflow": null,
            "overflow_x": null,
            "overflow_y": null,
            "padding": null,
            "right": null,
            "top": null,
            "visibility": null,
            "width": null
          }
        },
        "754f125b12ba48848ea0e7f9c64f7425": {
          "model_module": "@jupyter-widgets/controls",
          "model_name": "ProgressStyleModel",
          "model_module_version": "1.5.0",
          "state": {
            "_model_module": "@jupyter-widgets/controls",
            "_model_module_version": "1.5.0",
            "_model_name": "ProgressStyleModel",
            "_view_count": null,
            "_view_module": "@jupyter-widgets/base",
            "_view_module_version": "1.2.0",
            "_view_name": "StyleView",
            "bar_color": null,
            "description_width": ""
          }
        },
        "c410e3be44a4482787988b1fb7e2cdd5": {
          "model_module": "@jupyter-widgets/base",
          "model_name": "LayoutModel",
          "model_module_version": "1.2.0",
          "state": {
            "_model_module": "@jupyter-widgets/base",
            "_model_module_version": "1.2.0",
            "_model_name": "LayoutModel",
            "_view_count": null,
            "_view_module": "@jupyter-widgets/base",
            "_view_module_version": "1.2.0",
            "_view_name": "LayoutView",
            "align_content": null,
            "align_items": null,
            "align_self": null,
            "border": null,
            "bottom": null,
            "display": null,
            "flex": null,
            "flex_flow": null,
            "grid_area": null,
            "grid_auto_columns": null,
            "grid_auto_flow": null,
            "grid_auto_rows": null,
            "grid_column": null,
            "grid_gap": null,
            "grid_row": null,
            "grid_template_areas": null,
            "grid_template_columns": null,
            "grid_template_rows": null,
            "height": null,
            "justify_content": null,
            "justify_items": null,
            "left": null,
            "margin": null,
            "max_height": null,
            "max_width": null,
            "min_height": null,
            "min_width": null,
            "object_fit": null,
            "object_position": null,
            "order": null,
            "overflow": null,
            "overflow_x": null,
            "overflow_y": null,
            "padding": null,
            "right": null,
            "top": null,
            "visibility": null,
            "width": null
          }
        },
        "f53065e1d7944679b29f522ed9b52ee4": {
          "model_module": "@jupyter-widgets/controls",
          "model_name": "DescriptionStyleModel",
          "model_module_version": "1.5.0",
          "state": {
            "_model_module": "@jupyter-widgets/controls",
            "_model_module_version": "1.5.0",
            "_model_name": "DescriptionStyleModel",
            "_view_count": null,
            "_view_module": "@jupyter-widgets/base",
            "_view_module_version": "1.2.0",
            "_view_name": "StyleView",
            "description_width": ""
          }
        },
        "28e950f8bd104d188bb4a2f88328308d": {
          "model_module": "@jupyter-widgets/controls",
          "model_name": "HBoxModel",
          "model_module_version": "1.5.0",
          "state": {
            "_dom_classes": [],
            "_model_module": "@jupyter-widgets/controls",
            "_model_module_version": "1.5.0",
            "_model_name": "HBoxModel",
            "_view_count": null,
            "_view_module": "@jupyter-widgets/controls",
            "_view_module_version": "1.5.0",
            "_view_name": "HBoxView",
            "box_style": "",
            "children": [
              "IPY_MODEL_08781bcfdde8470e91adafc8818be2c5",
              "IPY_MODEL_08942f1c259047448c373c034c0059ef",
              "IPY_MODEL_40caa4ea8b0a4959b55943c1cf484f0a"
            ],
            "layout": "IPY_MODEL_7217df8eb2164afd816727191a7aba07"
          }
        },
        "08781bcfdde8470e91adafc8818be2c5": {
          "model_module": "@jupyter-widgets/controls",
          "model_name": "HTMLModel",
          "model_module_version": "1.5.0",
          "state": {
            "_dom_classes": [],
            "_model_module": "@jupyter-widgets/controls",
            "_model_module_version": "1.5.0",
            "_model_name": "HTMLModel",
            "_view_count": null,
            "_view_module": "@jupyter-widgets/controls",
            "_view_module_version": "1.5.0",
            "_view_name": "HTMLView",
            "description": "",
            "description_tooltip": null,
            "layout": "IPY_MODEL_0d68ee7525274b89bd8d3f7fdcfd3949",
            "placeholder": "​",
            "style": "IPY_MODEL_3be6e5f32bed4be188d81dfbd9f02ec6",
            "value": "Generating: 100%"
          }
        },
        "08942f1c259047448c373c034c0059ef": {
          "model_module": "@jupyter-widgets/controls",
          "model_name": "FloatProgressModel",
          "model_module_version": "1.5.0",
          "state": {
            "_dom_classes": [],
            "_model_module": "@jupyter-widgets/controls",
            "_model_module_version": "1.5.0",
            "_model_name": "FloatProgressModel",
            "_view_count": null,
            "_view_module": "@jupyter-widgets/controls",
            "_view_module_version": "1.5.0",
            "_view_name": "ProgressView",
            "bar_style": "success",
            "description": "",
            "description_tooltip": null,
            "layout": "IPY_MODEL_3c8afe117354432795eecbef08708e80",
            "max": 10,
            "min": 0,
            "orientation": "horizontal",
            "style": "IPY_MODEL_1f2e0a8e521f405b9367be830d8fa8b7",
            "value": 10
          }
        },
        "40caa4ea8b0a4959b55943c1cf484f0a": {
          "model_module": "@jupyter-widgets/controls",
          "model_name": "HTMLModel",
          "model_module_version": "1.5.0",
          "state": {
            "_dom_classes": [],
            "_model_module": "@jupyter-widgets/controls",
            "_model_module_version": "1.5.0",
            "_model_name": "HTMLModel",
            "_view_count": null,
            "_view_module": "@jupyter-widgets/controls",
            "_view_module_version": "1.5.0",
            "_view_name": "HTMLView",
            "description": "",
            "description_tooltip": null,
            "layout": "IPY_MODEL_42ed1177242b478d93a611c509e8f949",
            "placeholder": "​",
            "style": "IPY_MODEL_db4addb25ac342f19233823d5f8100be",
            "value": " 10/10 [03:31&lt;00:00, 21.31s/it]"
          }
        },
        "7217df8eb2164afd816727191a7aba07": {
          "model_module": "@jupyter-widgets/base",
          "model_name": "LayoutModel",
          "model_module_version": "1.2.0",
          "state": {
            "_model_module": "@jupyter-widgets/base",
            "_model_module_version": "1.2.0",
            "_model_name": "LayoutModel",
            "_view_count": null,
            "_view_module": "@jupyter-widgets/base",
            "_view_module_version": "1.2.0",
            "_view_name": "LayoutView",
            "align_content": null,
            "align_items": null,
            "align_self": null,
            "border": null,
            "bottom": null,
            "display": null,
            "flex": null,
            "flex_flow": null,
            "grid_area": null,
            "grid_auto_columns": null,
            "grid_auto_flow": null,
            "grid_auto_rows": null,
            "grid_column": null,
            "grid_gap": null,
            "grid_row": null,
            "grid_template_areas": null,
            "grid_template_columns": null,
            "grid_template_rows": null,
            "height": null,
            "justify_content": null,
            "justify_items": null,
            "left": null,
            "margin": null,
            "max_height": null,
            "max_width": null,
            "min_height": null,
            "min_width": null,
            "object_fit": null,
            "object_position": null,
            "order": null,
            "overflow": null,
            "overflow_x": null,
            "overflow_y": null,
            "padding": null,
            "right": null,
            "top": null,
            "visibility": null,
            "width": null
          }
        },
        "0d68ee7525274b89bd8d3f7fdcfd3949": {
          "model_module": "@jupyter-widgets/base",
          "model_name": "LayoutModel",
          "model_module_version": "1.2.0",
          "state": {
            "_model_module": "@jupyter-widgets/base",
            "_model_module_version": "1.2.0",
            "_model_name": "LayoutModel",
            "_view_count": null,
            "_view_module": "@jupyter-widgets/base",
            "_view_module_version": "1.2.0",
            "_view_name": "LayoutView",
            "align_content": null,
            "align_items": null,
            "align_self": null,
            "border": null,
            "bottom": null,
            "display": null,
            "flex": null,
            "flex_flow": null,
            "grid_area": null,
            "grid_auto_columns": null,
            "grid_auto_flow": null,
            "grid_auto_rows": null,
            "grid_column": null,
            "grid_gap": null,
            "grid_row": null,
            "grid_template_areas": null,
            "grid_template_columns": null,
            "grid_template_rows": null,
            "height": null,
            "justify_content": null,
            "justify_items": null,
            "left": null,
            "margin": null,
            "max_height": null,
            "max_width": null,
            "min_height": null,
            "min_width": null,
            "object_fit": null,
            "object_position": null,
            "order": null,
            "overflow": null,
            "overflow_x": null,
            "overflow_y": null,
            "padding": null,
            "right": null,
            "top": null,
            "visibility": null,
            "width": null
          }
        },
        "3be6e5f32bed4be188d81dfbd9f02ec6": {
          "model_module": "@jupyter-widgets/controls",
          "model_name": "DescriptionStyleModel",
          "model_module_version": "1.5.0",
          "state": {
            "_model_module": "@jupyter-widgets/controls",
            "_model_module_version": "1.5.0",
            "_model_name": "DescriptionStyleModel",
            "_view_count": null,
            "_view_module": "@jupyter-widgets/base",
            "_view_module_version": "1.2.0",
            "_view_name": "StyleView",
            "description_width": ""
          }
        },
        "3c8afe117354432795eecbef08708e80": {
          "model_module": "@jupyter-widgets/base",
          "model_name": "LayoutModel",
          "model_module_version": "1.2.0",
          "state": {
            "_model_module": "@jupyter-widgets/base",
            "_model_module_version": "1.2.0",
            "_model_name": "LayoutModel",
            "_view_count": null,
            "_view_module": "@jupyter-widgets/base",
            "_view_module_version": "1.2.0",
            "_view_name": "LayoutView",
            "align_content": null,
            "align_items": null,
            "align_self": null,
            "border": null,
            "bottom": null,
            "display": null,
            "flex": null,
            "flex_flow": null,
            "grid_area": null,
            "grid_auto_columns": null,
            "grid_auto_flow": null,
            "grid_auto_rows": null,
            "grid_column": null,
            "grid_gap": null,
            "grid_row": null,
            "grid_template_areas": null,
            "grid_template_columns": null,
            "grid_template_rows": null,
            "height": null,
            "justify_content": null,
            "justify_items": null,
            "left": null,
            "margin": null,
            "max_height": null,
            "max_width": null,
            "min_height": null,
            "min_width": null,
            "object_fit": null,
            "object_position": null,
            "order": null,
            "overflow": null,
            "overflow_x": null,
            "overflow_y": null,
            "padding": null,
            "right": null,
            "top": null,
            "visibility": null,
            "width": null
          }
        },
        "1f2e0a8e521f405b9367be830d8fa8b7": {
          "model_module": "@jupyter-widgets/controls",
          "model_name": "ProgressStyleModel",
          "model_module_version": "1.5.0",
          "state": {
            "_model_module": "@jupyter-widgets/controls",
            "_model_module_version": "1.5.0",
            "_model_name": "ProgressStyleModel",
            "_view_count": null,
            "_view_module": "@jupyter-widgets/base",
            "_view_module_version": "1.2.0",
            "_view_name": "StyleView",
            "bar_color": null,
            "description_width": ""
          }
        },
        "42ed1177242b478d93a611c509e8f949": {
          "model_module": "@jupyter-widgets/base",
          "model_name": "LayoutModel",
          "model_module_version": "1.2.0",
          "state": {
            "_model_module": "@jupyter-widgets/base",
            "_model_module_version": "1.2.0",
            "_model_name": "LayoutModel",
            "_view_count": null,
            "_view_module": "@jupyter-widgets/base",
            "_view_module_version": "1.2.0",
            "_view_name": "LayoutView",
            "align_content": null,
            "align_items": null,
            "align_self": null,
            "border": null,
            "bottom": null,
            "display": null,
            "flex": null,
            "flex_flow": null,
            "grid_area": null,
            "grid_auto_columns": null,
            "grid_auto_flow": null,
            "grid_auto_rows": null,
            "grid_column": null,
            "grid_gap": null,
            "grid_row": null,
            "grid_template_areas": null,
            "grid_template_columns": null,
            "grid_template_rows": null,
            "height": null,
            "justify_content": null,
            "justify_items": null,
            "left": null,
            "margin": null,
            "max_height": null,
            "max_width": null,
            "min_height": null,
            "min_width": null,
            "object_fit": null,
            "object_position": null,
            "order": null,
            "overflow": null,
            "overflow_x": null,
            "overflow_y": null,
            "padding": null,
            "right": null,
            "top": null,
            "visibility": null,
            "width": null
          }
        },
        "db4addb25ac342f19233823d5f8100be": {
          "model_module": "@jupyter-widgets/controls",
          "model_name": "DescriptionStyleModel",
          "model_module_version": "1.5.0",
          "state": {
            "_model_module": "@jupyter-widgets/controls",
            "_model_module_version": "1.5.0",
            "_model_name": "DescriptionStyleModel",
            "_view_count": null,
            "_view_module": "@jupyter-widgets/base",
            "_view_module_version": "1.2.0",
            "_view_name": "StyleView",
            "description_width": ""
          }
        },
        "025b91e243554df687601135f8c0ae85": {
          "model_module": "@jupyter-widgets/controls",
          "model_name": "HBoxModel",
          "model_module_version": "1.5.0",
          "state": {
            "_dom_classes": [],
            "_model_module": "@jupyter-widgets/controls",
            "_model_module_version": "1.5.0",
            "_model_name": "HBoxModel",
            "_view_count": null,
            "_view_module": "@jupyter-widgets/controls",
            "_view_module_version": "1.5.0",
            "_view_name": "HBoxView",
            "box_style": "",
            "children": [
              "IPY_MODEL_daa235843eb04964857e5d79cd811436",
              "IPY_MODEL_b738cf4bf2684786bf0f8b76ca734f5e",
              "IPY_MODEL_02e614bf73b8433db0e4e700e99028e4"
            ],
            "layout": "IPY_MODEL_c6e0dd90767a48a49ca6d4acd8a9b61e"
          }
        },
        "daa235843eb04964857e5d79cd811436": {
          "model_module": "@jupyter-widgets/controls",
          "model_name": "HTMLModel",
          "model_module_version": "1.5.0",
          "state": {
            "_dom_classes": [],
            "_model_module": "@jupyter-widgets/controls",
            "_model_module_version": "1.5.0",
            "_model_name": "HTMLModel",
            "_view_count": null,
            "_view_module": "@jupyter-widgets/controls",
            "_view_module_version": "1.5.0",
            "_view_name": "HTMLView",
            "description": "",
            "description_tooltip": null,
            "layout": "IPY_MODEL_77fbf7bf6513431e9ffe9cb3ed86e2cd",
            "placeholder": "​",
            "style": "IPY_MODEL_cdb24fd9dd5f43df84339dd6d9ed2493",
            "value": "Evaluating: 100%"
          }
        },
        "b738cf4bf2684786bf0f8b76ca734f5e": {
          "model_module": "@jupyter-widgets/controls",
          "model_name": "FloatProgressModel",
          "model_module_version": "1.5.0",
          "state": {
            "_dom_classes": [],
            "_model_module": "@jupyter-widgets/controls",
            "_model_module_version": "1.5.0",
            "_model_name": "FloatProgressModel",
            "_view_count": null,
            "_view_module": "@jupyter-widgets/controls",
            "_view_module_version": "1.5.0",
            "_view_name": "ProgressView",
            "bar_style": "success",
            "description": "",
            "description_tooltip": null,
            "layout": "IPY_MODEL_291a7da0d783485fb350f5351f2186c5",
            "max": 50,
            "min": 0,
            "orientation": "horizontal",
            "style": "IPY_MODEL_ee6dc55820104448937176c21fa12e9e",
            "value": 50
          }
        },
        "02e614bf73b8433db0e4e700e99028e4": {
          "model_module": "@jupyter-widgets/controls",
          "model_name": "HTMLModel",
          "model_module_version": "1.5.0",
          "state": {
            "_dom_classes": [],
            "_model_module": "@jupyter-widgets/controls",
            "_model_module_version": "1.5.0",
            "_model_name": "HTMLModel",
            "_view_count": null,
            "_view_module": "@jupyter-widgets/controls",
            "_view_module_version": "1.5.0",
            "_view_name": "HTMLView",
            "description": "",
            "description_tooltip": null,
            "layout": "IPY_MODEL_26b94f877c2146e08dfa99ce59aa365f",
            "placeholder": "​",
            "style": "IPY_MODEL_b4f30c665e3f4b2c83d8aad4ba06818f",
            "value": " 50/50 [00:43&lt;00:00,  1.75s/it]"
          }
        },
        "c6e0dd90767a48a49ca6d4acd8a9b61e": {
          "model_module": "@jupyter-widgets/base",
          "model_name": "LayoutModel",
          "model_module_version": "1.2.0",
          "state": {
            "_model_module": "@jupyter-widgets/base",
            "_model_module_version": "1.2.0",
            "_model_name": "LayoutModel",
            "_view_count": null,
            "_view_module": "@jupyter-widgets/base",
            "_view_module_version": "1.2.0",
            "_view_name": "LayoutView",
            "align_content": null,
            "align_items": null,
            "align_self": null,
            "border": null,
            "bottom": null,
            "display": null,
            "flex": null,
            "flex_flow": null,
            "grid_area": null,
            "grid_auto_columns": null,
            "grid_auto_flow": null,
            "grid_auto_rows": null,
            "grid_column": null,
            "grid_gap": null,
            "grid_row": null,
            "grid_template_areas": null,
            "grid_template_columns": null,
            "grid_template_rows": null,
            "height": null,
            "justify_content": null,
            "justify_items": null,
            "left": null,
            "margin": null,
            "max_height": null,
            "max_width": null,
            "min_height": null,
            "min_width": null,
            "object_fit": null,
            "object_position": null,
            "order": null,
            "overflow": null,
            "overflow_x": null,
            "overflow_y": null,
            "padding": null,
            "right": null,
            "top": null,
            "visibility": null,
            "width": null
          }
        },
        "77fbf7bf6513431e9ffe9cb3ed86e2cd": {
          "model_module": "@jupyter-widgets/base",
          "model_name": "LayoutModel",
          "model_module_version": "1.2.0",
          "state": {
            "_model_module": "@jupyter-widgets/base",
            "_model_module_version": "1.2.0",
            "_model_name": "LayoutModel",
            "_view_count": null,
            "_view_module": "@jupyter-widgets/base",
            "_view_module_version": "1.2.0",
            "_view_name": "LayoutView",
            "align_content": null,
            "align_items": null,
            "align_self": null,
            "border": null,
            "bottom": null,
            "display": null,
            "flex": null,
            "flex_flow": null,
            "grid_area": null,
            "grid_auto_columns": null,
            "grid_auto_flow": null,
            "grid_auto_rows": null,
            "grid_column": null,
            "grid_gap": null,
            "grid_row": null,
            "grid_template_areas": null,
            "grid_template_columns": null,
            "grid_template_rows": null,
            "height": null,
            "justify_content": null,
            "justify_items": null,
            "left": null,
            "margin": null,
            "max_height": null,
            "max_width": null,
            "min_height": null,
            "min_width": null,
            "object_fit": null,
            "object_position": null,
            "order": null,
            "overflow": null,
            "overflow_x": null,
            "overflow_y": null,
            "padding": null,
            "right": null,
            "top": null,
            "visibility": null,
            "width": null
          }
        },
        "cdb24fd9dd5f43df84339dd6d9ed2493": {
          "model_module": "@jupyter-widgets/controls",
          "model_name": "DescriptionStyleModel",
          "model_module_version": "1.5.0",
          "state": {
            "_model_module": "@jupyter-widgets/controls",
            "_model_module_version": "1.5.0",
            "_model_name": "DescriptionStyleModel",
            "_view_count": null,
            "_view_module": "@jupyter-widgets/base",
            "_view_module_version": "1.2.0",
            "_view_name": "StyleView",
            "description_width": ""
          }
        },
        "291a7da0d783485fb350f5351f2186c5": {
          "model_module": "@jupyter-widgets/base",
          "model_name": "LayoutModel",
          "model_module_version": "1.2.0",
          "state": {
            "_model_module": "@jupyter-widgets/base",
            "_model_module_version": "1.2.0",
            "_model_name": "LayoutModel",
            "_view_count": null,
            "_view_module": "@jupyter-widgets/base",
            "_view_module_version": "1.2.0",
            "_view_name": "LayoutView",
            "align_content": null,
            "align_items": null,
            "align_self": null,
            "border": null,
            "bottom": null,
            "display": null,
            "flex": null,
            "flex_flow": null,
            "grid_area": null,
            "grid_auto_columns": null,
            "grid_auto_flow": null,
            "grid_auto_rows": null,
            "grid_column": null,
            "grid_gap": null,
            "grid_row": null,
            "grid_template_areas": null,
            "grid_template_columns": null,
            "grid_template_rows": null,
            "height": null,
            "justify_content": null,
            "justify_items": null,
            "left": null,
            "margin": null,
            "max_height": null,
            "max_width": null,
            "min_height": null,
            "min_width": null,
            "object_fit": null,
            "object_position": null,
            "order": null,
            "overflow": null,
            "overflow_x": null,
            "overflow_y": null,
            "padding": null,
            "right": null,
            "top": null,
            "visibility": null,
            "width": null
          }
        },
        "ee6dc55820104448937176c21fa12e9e": {
          "model_module": "@jupyter-widgets/controls",
          "model_name": "ProgressStyleModel",
          "model_module_version": "1.5.0",
          "state": {
            "_model_module": "@jupyter-widgets/controls",
            "_model_module_version": "1.5.0",
            "_model_name": "ProgressStyleModel",
            "_view_count": null,
            "_view_module": "@jupyter-widgets/base",
            "_view_module_version": "1.2.0",
            "_view_name": "StyleView",
            "bar_color": null,
            "description_width": ""
          }
        },
        "26b94f877c2146e08dfa99ce59aa365f": {
          "model_module": "@jupyter-widgets/base",
          "model_name": "LayoutModel",
          "model_module_version": "1.2.0",
          "state": {
            "_model_module": "@jupyter-widgets/base",
            "_model_module_version": "1.2.0",
            "_model_name": "LayoutModel",
            "_view_count": null,
            "_view_module": "@jupyter-widgets/base",
            "_view_module_version": "1.2.0",
            "_view_name": "LayoutView",
            "align_content": null,
            "align_items": null,
            "align_self": null,
            "border": null,
            "bottom": null,
            "display": null,
            "flex": null,
            "flex_flow": null,
            "grid_area": null,
            "grid_auto_columns": null,
            "grid_auto_flow": null,
            "grid_auto_rows": null,
            "grid_column": null,
            "grid_gap": null,
            "grid_row": null,
            "grid_template_areas": null,
            "grid_template_columns": null,
            "grid_template_rows": null,
            "height": null,
            "justify_content": null,
            "justify_items": null,
            "left": null,
            "margin": null,
            "max_height": null,
            "max_width": null,
            "min_height": null,
            "min_width": null,
            "object_fit": null,
            "object_position": null,
            "order": null,
            "overflow": null,
            "overflow_x": null,
            "overflow_y": null,
            "padding": null,
            "right": null,
            "top": null,
            "visibility": null,
            "width": null
          }
        },
        "b4f30c665e3f4b2c83d8aad4ba06818f": {
          "model_module": "@jupyter-widgets/controls",
          "model_name": "DescriptionStyleModel",
          "model_module_version": "1.5.0",
          "state": {
            "_model_module": "@jupyter-widgets/controls",
            "_model_module_version": "1.5.0",
            "_model_name": "DescriptionStyleModel",
            "_view_count": null,
            "_view_module": "@jupyter-widgets/base",
            "_view_module_version": "1.2.0",
            "_view_name": "StyleView",
            "description_width": ""
          }
        },
        "387a2ea101844802a5d89a80b603303c": {
          "model_module": "@jupyter-widgets/controls",
          "model_name": "HBoxModel",
          "model_module_version": "1.5.0",
          "state": {
            "_dom_classes": [],
            "_model_module": "@jupyter-widgets/controls",
            "_model_module_version": "1.5.0",
            "_model_name": "HBoxModel",
            "_view_count": null,
            "_view_module": "@jupyter-widgets/controls",
            "_view_module_version": "1.5.0",
            "_view_name": "HBoxView",
            "box_style": "",
            "children": [
              "IPY_MODEL_a282fb8fb4954c3f89fb1e8b51b78300",
              "IPY_MODEL_a231537c6ca94eba9a089bf10b2944b8",
              "IPY_MODEL_b6a3f33f5df54437b7c6313e45e436cf"
            ],
            "layout": "IPY_MODEL_e31c4f7f6a0443fe99048d1ebd7ec990"
          }
        },
        "a282fb8fb4954c3f89fb1e8b51b78300": {
          "model_module": "@jupyter-widgets/controls",
          "model_name": "HTMLModel",
          "model_module_version": "1.5.0",
          "state": {
            "_dom_classes": [],
            "_model_module": "@jupyter-widgets/controls",
            "_model_module_version": "1.5.0",
            "_model_name": "HTMLModel",
            "_view_count": null,
            "_view_module": "@jupyter-widgets/controls",
            "_view_module_version": "1.5.0",
            "_view_name": "HTMLView",
            "description": "",
            "description_tooltip": null,
            "layout": "IPY_MODEL_8887e714add041a08519b2dc73950bb9",
            "placeholder": "​",
            "style": "IPY_MODEL_7b890c3944eb4728ac9d08992e0e0724",
            "value": "Evaluating: 100%"
          }
        },
        "a231537c6ca94eba9a089bf10b2944b8": {
          "model_module": "@jupyter-widgets/controls",
          "model_name": "FloatProgressModel",
          "model_module_version": "1.5.0",
          "state": {
            "_dom_classes": [],
            "_model_module": "@jupyter-widgets/controls",
            "_model_module_version": "1.5.0",
            "_model_name": "FloatProgressModel",
            "_view_count": null,
            "_view_module": "@jupyter-widgets/controls",
            "_view_module_version": "1.5.0",
            "_view_name": "ProgressView",
            "bar_style": "success",
            "description": "",
            "description_tooltip": null,
            "layout": "IPY_MODEL_33ae2b1289474f8ea9024550c1fce4fa",
            "max": 50,
            "min": 0,
            "orientation": "horizontal",
            "style": "IPY_MODEL_4854c760dc3e4543926dd3f806db0a1d",
            "value": 50
          }
        },
        "b6a3f33f5df54437b7c6313e45e436cf": {
          "model_module": "@jupyter-widgets/controls",
          "model_name": "HTMLModel",
          "model_module_version": "1.5.0",
          "state": {
            "_dom_classes": [],
            "_model_module": "@jupyter-widgets/controls",
            "_model_module_version": "1.5.0",
            "_model_name": "HTMLModel",
            "_view_count": null,
            "_view_module": "@jupyter-widgets/controls",
            "_view_module_version": "1.5.0",
            "_view_name": "HTMLView",
            "description": "",
            "description_tooltip": null,
            "layout": "IPY_MODEL_ee0563d495254ffeae18e1feb5907e5c",
            "placeholder": "​",
            "style": "IPY_MODEL_a59ec5b738024e46b97f3639b4bb4b98",
            "value": " 50/50 [01:00&lt;00:00,  3.39s/it]"
          }
        },
        "e31c4f7f6a0443fe99048d1ebd7ec990": {
          "model_module": "@jupyter-widgets/base",
          "model_name": "LayoutModel",
          "model_module_version": "1.2.0",
          "state": {
            "_model_module": "@jupyter-widgets/base",
            "_model_module_version": "1.2.0",
            "_model_name": "LayoutModel",
            "_view_count": null,
            "_view_module": "@jupyter-widgets/base",
            "_view_module_version": "1.2.0",
            "_view_name": "LayoutView",
            "align_content": null,
            "align_items": null,
            "align_self": null,
            "border": null,
            "bottom": null,
            "display": null,
            "flex": null,
            "flex_flow": null,
            "grid_area": null,
            "grid_auto_columns": null,
            "grid_auto_flow": null,
            "grid_auto_rows": null,
            "grid_column": null,
            "grid_gap": null,
            "grid_row": null,
            "grid_template_areas": null,
            "grid_template_columns": null,
            "grid_template_rows": null,
            "height": null,
            "justify_content": null,
            "justify_items": null,
            "left": null,
            "margin": null,
            "max_height": null,
            "max_width": null,
            "min_height": null,
            "min_width": null,
            "object_fit": null,
            "object_position": null,
            "order": null,
            "overflow": null,
            "overflow_x": null,
            "overflow_y": null,
            "padding": null,
            "right": null,
            "top": null,
            "visibility": null,
            "width": null
          }
        },
        "8887e714add041a08519b2dc73950bb9": {
          "model_module": "@jupyter-widgets/base",
          "model_name": "LayoutModel",
          "model_module_version": "1.2.0",
          "state": {
            "_model_module": "@jupyter-widgets/base",
            "_model_module_version": "1.2.0",
            "_model_name": "LayoutModel",
            "_view_count": null,
            "_view_module": "@jupyter-widgets/base",
            "_view_module_version": "1.2.0",
            "_view_name": "LayoutView",
            "align_content": null,
            "align_items": null,
            "align_self": null,
            "border": null,
            "bottom": null,
            "display": null,
            "flex": null,
            "flex_flow": null,
            "grid_area": null,
            "grid_auto_columns": null,
            "grid_auto_flow": null,
            "grid_auto_rows": null,
            "grid_column": null,
            "grid_gap": null,
            "grid_row": null,
            "grid_template_areas": null,
            "grid_template_columns": null,
            "grid_template_rows": null,
            "height": null,
            "justify_content": null,
            "justify_items": null,
            "left": null,
            "margin": null,
            "max_height": null,
            "max_width": null,
            "min_height": null,
            "min_width": null,
            "object_fit": null,
            "object_position": null,
            "order": null,
            "overflow": null,
            "overflow_x": null,
            "overflow_y": null,
            "padding": null,
            "right": null,
            "top": null,
            "visibility": null,
            "width": null
          }
        },
        "7b890c3944eb4728ac9d08992e0e0724": {
          "model_module": "@jupyter-widgets/controls",
          "model_name": "DescriptionStyleModel",
          "model_module_version": "1.5.0",
          "state": {
            "_model_module": "@jupyter-widgets/controls",
            "_model_module_version": "1.5.0",
            "_model_name": "DescriptionStyleModel",
            "_view_count": null,
            "_view_module": "@jupyter-widgets/base",
            "_view_module_version": "1.2.0",
            "_view_name": "StyleView",
            "description_width": ""
          }
        },
        "33ae2b1289474f8ea9024550c1fce4fa": {
          "model_module": "@jupyter-widgets/base",
          "model_name": "LayoutModel",
          "model_module_version": "1.2.0",
          "state": {
            "_model_module": "@jupyter-widgets/base",
            "_model_module_version": "1.2.0",
            "_model_name": "LayoutModel",
            "_view_count": null,
            "_view_module": "@jupyter-widgets/base",
            "_view_module_version": "1.2.0",
            "_view_name": "LayoutView",
            "align_content": null,
            "align_items": null,
            "align_self": null,
            "border": null,
            "bottom": null,
            "display": null,
            "flex": null,
            "flex_flow": null,
            "grid_area": null,
            "grid_auto_columns": null,
            "grid_auto_flow": null,
            "grid_auto_rows": null,
            "grid_column": null,
            "grid_gap": null,
            "grid_row": null,
            "grid_template_areas": null,
            "grid_template_columns": null,
            "grid_template_rows": null,
            "height": null,
            "justify_content": null,
            "justify_items": null,
            "left": null,
            "margin": null,
            "max_height": null,
            "max_width": null,
            "min_height": null,
            "min_width": null,
            "object_fit": null,
            "object_position": null,
            "order": null,
            "overflow": null,
            "overflow_x": null,
            "overflow_y": null,
            "padding": null,
            "right": null,
            "top": null,
            "visibility": null,
            "width": null
          }
        },
        "4854c760dc3e4543926dd3f806db0a1d": {
          "model_module": "@jupyter-widgets/controls",
          "model_name": "ProgressStyleModel",
          "model_module_version": "1.5.0",
          "state": {
            "_model_module": "@jupyter-widgets/controls",
            "_model_module_version": "1.5.0",
            "_model_name": "ProgressStyleModel",
            "_view_count": null,
            "_view_module": "@jupyter-widgets/base",
            "_view_module_version": "1.2.0",
            "_view_name": "StyleView",
            "bar_color": null,
            "description_width": ""
          }
        },
        "ee0563d495254ffeae18e1feb5907e5c": {
          "model_module": "@jupyter-widgets/base",
          "model_name": "LayoutModel",
          "model_module_version": "1.2.0",
          "state": {
            "_model_module": "@jupyter-widgets/base",
            "_model_module_version": "1.2.0",
            "_model_name": "LayoutModel",
            "_view_count": null,
            "_view_module": "@jupyter-widgets/base",
            "_view_module_version": "1.2.0",
            "_view_name": "LayoutView",
            "align_content": null,
            "align_items": null,
            "align_self": null,
            "border": null,
            "bottom": null,
            "display": null,
            "flex": null,
            "flex_flow": null,
            "grid_area": null,
            "grid_auto_columns": null,
            "grid_auto_flow": null,
            "grid_auto_rows": null,
            "grid_column": null,
            "grid_gap": null,
            "grid_row": null,
            "grid_template_areas": null,
            "grid_template_columns": null,
            "grid_template_rows": null,
            "height": null,
            "justify_content": null,
            "justify_items": null,
            "left": null,
            "margin": null,
            "max_height": null,
            "max_width": null,
            "min_height": null,
            "min_width": null,
            "object_fit": null,
            "object_position": null,
            "order": null,
            "overflow": null,
            "overflow_x": null,
            "overflow_y": null,
            "padding": null,
            "right": null,
            "top": null,
            "visibility": null,
            "width": null
          }
        },
        "a59ec5b738024e46b97f3639b4bb4b98": {
          "model_module": "@jupyter-widgets/controls",
          "model_name": "DescriptionStyleModel",
          "model_module_version": "1.5.0",
          "state": {
            "_model_module": "@jupyter-widgets/controls",
            "_model_module_version": "1.5.0",
            "_model_name": "DescriptionStyleModel",
            "_view_count": null,
            "_view_module": "@jupyter-widgets/base",
            "_view_module_version": "1.2.0",
            "_view_name": "StyleView",
            "description_width": ""
          }
        },
        "cff8e41790074a979598854c192542fd": {
          "model_module": "@jupyter-widgets/controls",
          "model_name": "HBoxModel",
          "model_module_version": "1.5.0",
          "state": {
            "_dom_classes": [],
            "_model_module": "@jupyter-widgets/controls",
            "_model_module_version": "1.5.0",
            "_model_name": "HBoxModel",
            "_view_count": null,
            "_view_module": "@jupyter-widgets/controls",
            "_view_module_version": "1.5.0",
            "_view_name": "HBoxView",
            "box_style": "",
            "children": [
              "IPY_MODEL_8e9efd6449c7463db0117cb6acd5229b",
              "IPY_MODEL_a8248de668fa408ea82dec39807b0163",
              "IPY_MODEL_7f68fc8141a942eba45c8257d6a9af09"
            ],
            "layout": "IPY_MODEL_e58c0f707b1748daa52f965d0f123b29"
          }
        },
        "8e9efd6449c7463db0117cb6acd5229b": {
          "model_module": "@jupyter-widgets/controls",
          "model_name": "HTMLModel",
          "model_module_version": "1.5.0",
          "state": {
            "_dom_classes": [],
            "_model_module": "@jupyter-widgets/controls",
            "_model_module_version": "1.5.0",
            "_model_name": "HTMLModel",
            "_view_count": null,
            "_view_module": "@jupyter-widgets/controls",
            "_view_module_version": "1.5.0",
            "_view_name": "HTMLView",
            "description": "",
            "description_tooltip": null,
            "layout": "IPY_MODEL_4231defe79c248808291c8cdf649bf64",
            "placeholder": "​",
            "style": "IPY_MODEL_b18cdcafd867455398b59810d1090bc5",
            "value": "Evaluating: 100%"
          }
        },
        "a8248de668fa408ea82dec39807b0163": {
          "model_module": "@jupyter-widgets/controls",
          "model_name": "FloatProgressModel",
          "model_module_version": "1.5.0",
          "state": {
            "_dom_classes": [],
            "_model_module": "@jupyter-widgets/controls",
            "_model_module_version": "1.5.0",
            "_model_name": "FloatProgressModel",
            "_view_count": null,
            "_view_module": "@jupyter-widgets/controls",
            "_view_module_version": "1.5.0",
            "_view_name": "ProgressView",
            "bar_style": "success",
            "description": "",
            "description_tooltip": null,
            "layout": "IPY_MODEL_3fef2cec3f124072925f2df5b5b0e37c",
            "max": 50,
            "min": 0,
            "orientation": "horizontal",
            "style": "IPY_MODEL_e731ad59bd12410488768c22bd2a4af2",
            "value": 50
          }
        },
        "7f68fc8141a942eba45c8257d6a9af09": {
          "model_module": "@jupyter-widgets/controls",
          "model_name": "HTMLModel",
          "model_module_version": "1.5.0",
          "state": {
            "_dom_classes": [],
            "_model_module": "@jupyter-widgets/controls",
            "_model_module_version": "1.5.0",
            "_model_name": "HTMLModel",
            "_view_count": null,
            "_view_module": "@jupyter-widgets/controls",
            "_view_module_version": "1.5.0",
            "_view_name": "HTMLView",
            "description": "",
            "description_tooltip": null,
            "layout": "IPY_MODEL_adc8cfe5e16c4747995b7092d4348a23",
            "placeholder": "​",
            "style": "IPY_MODEL_10c0ad8f3f6143378232eecb802d759d",
            "value": " 50/50 [01:01&lt;00:00,  4.46s/it]"
          }
        },
        "e58c0f707b1748daa52f965d0f123b29": {
          "model_module": "@jupyter-widgets/base",
          "model_name": "LayoutModel",
          "model_module_version": "1.2.0",
          "state": {
            "_model_module": "@jupyter-widgets/base",
            "_model_module_version": "1.2.0",
            "_model_name": "LayoutModel",
            "_view_count": null,
            "_view_module": "@jupyter-widgets/base",
            "_view_module_version": "1.2.0",
            "_view_name": "LayoutView",
            "align_content": null,
            "align_items": null,
            "align_self": null,
            "border": null,
            "bottom": null,
            "display": null,
            "flex": null,
            "flex_flow": null,
            "grid_area": null,
            "grid_auto_columns": null,
            "grid_auto_flow": null,
            "grid_auto_rows": null,
            "grid_column": null,
            "grid_gap": null,
            "grid_row": null,
            "grid_template_areas": null,
            "grid_template_columns": null,
            "grid_template_rows": null,
            "height": null,
            "justify_content": null,
            "justify_items": null,
            "left": null,
            "margin": null,
            "max_height": null,
            "max_width": null,
            "min_height": null,
            "min_width": null,
            "object_fit": null,
            "object_position": null,
            "order": null,
            "overflow": null,
            "overflow_x": null,
            "overflow_y": null,
            "padding": null,
            "right": null,
            "top": null,
            "visibility": null,
            "width": null
          }
        },
        "4231defe79c248808291c8cdf649bf64": {
          "model_module": "@jupyter-widgets/base",
          "model_name": "LayoutModel",
          "model_module_version": "1.2.0",
          "state": {
            "_model_module": "@jupyter-widgets/base",
            "_model_module_version": "1.2.0",
            "_model_name": "LayoutModel",
            "_view_count": null,
            "_view_module": "@jupyter-widgets/base",
            "_view_module_version": "1.2.0",
            "_view_name": "LayoutView",
            "align_content": null,
            "align_items": null,
            "align_self": null,
            "border": null,
            "bottom": null,
            "display": null,
            "flex": null,
            "flex_flow": null,
            "grid_area": null,
            "grid_auto_columns": null,
            "grid_auto_flow": null,
            "grid_auto_rows": null,
            "grid_column": null,
            "grid_gap": null,
            "grid_row": null,
            "grid_template_areas": null,
            "grid_template_columns": null,
            "grid_template_rows": null,
            "height": null,
            "justify_content": null,
            "justify_items": null,
            "left": null,
            "margin": null,
            "max_height": null,
            "max_width": null,
            "min_height": null,
            "min_width": null,
            "object_fit": null,
            "object_position": null,
            "order": null,
            "overflow": null,
            "overflow_x": null,
            "overflow_y": null,
            "padding": null,
            "right": null,
            "top": null,
            "visibility": null,
            "width": null
          }
        },
        "b18cdcafd867455398b59810d1090bc5": {
          "model_module": "@jupyter-widgets/controls",
          "model_name": "DescriptionStyleModel",
          "model_module_version": "1.5.0",
          "state": {
            "_model_module": "@jupyter-widgets/controls",
            "_model_module_version": "1.5.0",
            "_model_name": "DescriptionStyleModel",
            "_view_count": null,
            "_view_module": "@jupyter-widgets/base",
            "_view_module_version": "1.2.0",
            "_view_name": "StyleView",
            "description_width": ""
          }
        },
        "3fef2cec3f124072925f2df5b5b0e37c": {
          "model_module": "@jupyter-widgets/base",
          "model_name": "LayoutModel",
          "model_module_version": "1.2.0",
          "state": {
            "_model_module": "@jupyter-widgets/base",
            "_model_module_version": "1.2.0",
            "_model_name": "LayoutModel",
            "_view_count": null,
            "_view_module": "@jupyter-widgets/base",
            "_view_module_version": "1.2.0",
            "_view_name": "LayoutView",
            "align_content": null,
            "align_items": null,
            "align_self": null,
            "border": null,
            "bottom": null,
            "display": null,
            "flex": null,
            "flex_flow": null,
            "grid_area": null,
            "grid_auto_columns": null,
            "grid_auto_flow": null,
            "grid_auto_rows": null,
            "grid_column": null,
            "grid_gap": null,
            "grid_row": null,
            "grid_template_areas": null,
            "grid_template_columns": null,
            "grid_template_rows": null,
            "height": null,
            "justify_content": null,
            "justify_items": null,
            "left": null,
            "margin": null,
            "max_height": null,
            "max_width": null,
            "min_height": null,
            "min_width": null,
            "object_fit": null,
            "object_position": null,
            "order": null,
            "overflow": null,
            "overflow_x": null,
            "overflow_y": null,
            "padding": null,
            "right": null,
            "top": null,
            "visibility": null,
            "width": null
          }
        },
        "e731ad59bd12410488768c22bd2a4af2": {
          "model_module": "@jupyter-widgets/controls",
          "model_name": "ProgressStyleModel",
          "model_module_version": "1.5.0",
          "state": {
            "_model_module": "@jupyter-widgets/controls",
            "_model_module_version": "1.5.0",
            "_model_name": "ProgressStyleModel",
            "_view_count": null,
            "_view_module": "@jupyter-widgets/base",
            "_view_module_version": "1.2.0",
            "_view_name": "StyleView",
            "bar_color": null,
            "description_width": ""
          }
        },
        "adc8cfe5e16c4747995b7092d4348a23": {
          "model_module": "@jupyter-widgets/base",
          "model_name": "LayoutModel",
          "model_module_version": "1.2.0",
          "state": {
            "_model_module": "@jupyter-widgets/base",
            "_model_module_version": "1.2.0",
            "_model_name": "LayoutModel",
            "_view_count": null,
            "_view_module": "@jupyter-widgets/base",
            "_view_module_version": "1.2.0",
            "_view_name": "LayoutView",
            "align_content": null,
            "align_items": null,
            "align_self": null,
            "border": null,
            "bottom": null,
            "display": null,
            "flex": null,
            "flex_flow": null,
            "grid_area": null,
            "grid_auto_columns": null,
            "grid_auto_flow": null,
            "grid_auto_rows": null,
            "grid_column": null,
            "grid_gap": null,
            "grid_row": null,
            "grid_template_areas": null,
            "grid_template_columns": null,
            "grid_template_rows": null,
            "height": null,
            "justify_content": null,
            "justify_items": null,
            "left": null,
            "margin": null,
            "max_height": null,
            "max_width": null,
            "min_height": null,
            "min_width": null,
            "object_fit": null,
            "object_position": null,
            "order": null,
            "overflow": null,
            "overflow_x": null,
            "overflow_y": null,
            "padding": null,
            "right": null,
            "top": null,
            "visibility": null,
            "width": null
          }
        },
        "10c0ad8f3f6143378232eecb802d759d": {
          "model_module": "@jupyter-widgets/controls",
          "model_name": "DescriptionStyleModel",
          "model_module_version": "1.5.0",
          "state": {
            "_model_module": "@jupyter-widgets/controls",
            "_model_module_version": "1.5.0",
            "_model_name": "DescriptionStyleModel",
            "_view_count": null,
            "_view_module": "@jupyter-widgets/base",
            "_view_module_version": "1.2.0",
            "_view_name": "StyleView",
            "description_width": ""
          }
        },
        "d9da5fd456754c49923f8ac627870ed0": {
          "model_module": "@jupyter-widgets/controls",
          "model_name": "HBoxModel",
          "model_module_version": "1.5.0",
          "state": {
            "_dom_classes": [],
            "_model_module": "@jupyter-widgets/controls",
            "_model_module_version": "1.5.0",
            "_model_name": "HBoxModel",
            "_view_count": null,
            "_view_module": "@jupyter-widgets/controls",
            "_view_module_version": "1.5.0",
            "_view_name": "HBoxView",
            "box_style": "",
            "children": [
              "IPY_MODEL_c3c9fb95a4db40a4988953c4a3ecd9f3",
              "IPY_MODEL_7a67dfa5e16249f3ba70ba3944c260dd",
              "IPY_MODEL_59dc433783c74170802ad684d3a383ea"
            ],
            "layout": "IPY_MODEL_be00e61e0ead47ebaa2e34d42fc4c8d3"
          }
        },
        "c3c9fb95a4db40a4988953c4a3ecd9f3": {
          "model_module": "@jupyter-widgets/controls",
          "model_name": "HTMLModel",
          "model_module_version": "1.5.0",
          "state": {
            "_dom_classes": [],
            "_model_module": "@jupyter-widgets/controls",
            "_model_module_version": "1.5.0",
            "_model_name": "HTMLModel",
            "_view_count": null,
            "_view_module": "@jupyter-widgets/controls",
            "_view_module_version": "1.5.0",
            "_view_name": "HTMLView",
            "description": "",
            "description_tooltip": null,
            "layout": "IPY_MODEL_3bad32578710449a9f74bb48415606c6",
            "placeholder": "​",
            "style": "IPY_MODEL_6bff811d599a48d5987c843625c1cb65",
            "value": "Evaluating: 100%"
          }
        },
        "7a67dfa5e16249f3ba70ba3944c260dd": {
          "model_module": "@jupyter-widgets/controls",
          "model_name": "FloatProgressModel",
          "model_module_version": "1.5.0",
          "state": {
            "_dom_classes": [],
            "_model_module": "@jupyter-widgets/controls",
            "_model_module_version": "1.5.0",
            "_model_name": "FloatProgressModel",
            "_view_count": null,
            "_view_module": "@jupyter-widgets/controls",
            "_view_module_version": "1.5.0",
            "_view_name": "ProgressView",
            "bar_style": "success",
            "description": "",
            "description_tooltip": null,
            "layout": "IPY_MODEL_d2fccc4a15164fb39b90ee4690e7a8df",
            "max": 25,
            "min": 0,
            "orientation": "horizontal",
            "style": "IPY_MODEL_f2f22e72ffea468bb746618330d63f76",
            "value": 25
          }
        },
        "59dc433783c74170802ad684d3a383ea": {
          "model_module": "@jupyter-widgets/controls",
          "model_name": "HTMLModel",
          "model_module_version": "1.5.0",
          "state": {
            "_dom_classes": [],
            "_model_module": "@jupyter-widgets/controls",
            "_model_module_version": "1.5.0",
            "_model_name": "HTMLModel",
            "_view_count": null,
            "_view_module": "@jupyter-widgets/controls",
            "_view_module_version": "1.5.0",
            "_view_name": "HTMLView",
            "description": "",
            "description_tooltip": null,
            "layout": "IPY_MODEL_845e3f09df1e4adba16ae24fd22dc951",
            "placeholder": "​",
            "style": "IPY_MODEL_00101b9e2cbf4e4a9009f7cd7d66c29b",
            "value": " 25/25 [00:21&lt;00:00,  1.34it/s]"
          }
        },
        "be00e61e0ead47ebaa2e34d42fc4c8d3": {
          "model_module": "@jupyter-widgets/base",
          "model_name": "LayoutModel",
          "model_module_version": "1.2.0",
          "state": {
            "_model_module": "@jupyter-widgets/base",
            "_model_module_version": "1.2.0",
            "_model_name": "LayoutModel",
            "_view_count": null,
            "_view_module": "@jupyter-widgets/base",
            "_view_module_version": "1.2.0",
            "_view_name": "LayoutView",
            "align_content": null,
            "align_items": null,
            "align_self": null,
            "border": null,
            "bottom": null,
            "display": null,
            "flex": null,
            "flex_flow": null,
            "grid_area": null,
            "grid_auto_columns": null,
            "grid_auto_flow": null,
            "grid_auto_rows": null,
            "grid_column": null,
            "grid_gap": null,
            "grid_row": null,
            "grid_template_areas": null,
            "grid_template_columns": null,
            "grid_template_rows": null,
            "height": null,
            "justify_content": null,
            "justify_items": null,
            "left": null,
            "margin": null,
            "max_height": null,
            "max_width": null,
            "min_height": null,
            "min_width": null,
            "object_fit": null,
            "object_position": null,
            "order": null,
            "overflow": null,
            "overflow_x": null,
            "overflow_y": null,
            "padding": null,
            "right": null,
            "top": null,
            "visibility": null,
            "width": null
          }
        },
        "3bad32578710449a9f74bb48415606c6": {
          "model_module": "@jupyter-widgets/base",
          "model_name": "LayoutModel",
          "model_module_version": "1.2.0",
          "state": {
            "_model_module": "@jupyter-widgets/base",
            "_model_module_version": "1.2.0",
            "_model_name": "LayoutModel",
            "_view_count": null,
            "_view_module": "@jupyter-widgets/base",
            "_view_module_version": "1.2.0",
            "_view_name": "LayoutView",
            "align_content": null,
            "align_items": null,
            "align_self": null,
            "border": null,
            "bottom": null,
            "display": null,
            "flex": null,
            "flex_flow": null,
            "grid_area": null,
            "grid_auto_columns": null,
            "grid_auto_flow": null,
            "grid_auto_rows": null,
            "grid_column": null,
            "grid_gap": null,
            "grid_row": null,
            "grid_template_areas": null,
            "grid_template_columns": null,
            "grid_template_rows": null,
            "height": null,
            "justify_content": null,
            "justify_items": null,
            "left": null,
            "margin": null,
            "max_height": null,
            "max_width": null,
            "min_height": null,
            "min_width": null,
            "object_fit": null,
            "object_position": null,
            "order": null,
            "overflow": null,
            "overflow_x": null,
            "overflow_y": null,
            "padding": null,
            "right": null,
            "top": null,
            "visibility": null,
            "width": null
          }
        },
        "6bff811d599a48d5987c843625c1cb65": {
          "model_module": "@jupyter-widgets/controls",
          "model_name": "DescriptionStyleModel",
          "model_module_version": "1.5.0",
          "state": {
            "_model_module": "@jupyter-widgets/controls",
            "_model_module_version": "1.5.0",
            "_model_name": "DescriptionStyleModel",
            "_view_count": null,
            "_view_module": "@jupyter-widgets/base",
            "_view_module_version": "1.2.0",
            "_view_name": "StyleView",
            "description_width": ""
          }
        },
        "d2fccc4a15164fb39b90ee4690e7a8df": {
          "model_module": "@jupyter-widgets/base",
          "model_name": "LayoutModel",
          "model_module_version": "1.2.0",
          "state": {
            "_model_module": "@jupyter-widgets/base",
            "_model_module_version": "1.2.0",
            "_model_name": "LayoutModel",
            "_view_count": null,
            "_view_module": "@jupyter-widgets/base",
            "_view_module_version": "1.2.0",
            "_view_name": "LayoutView",
            "align_content": null,
            "align_items": null,
            "align_self": null,
            "border": null,
            "bottom": null,
            "display": null,
            "flex": null,
            "flex_flow": null,
            "grid_area": null,
            "grid_auto_columns": null,
            "grid_auto_flow": null,
            "grid_auto_rows": null,
            "grid_column": null,
            "grid_gap": null,
            "grid_row": null,
            "grid_template_areas": null,
            "grid_template_columns": null,
            "grid_template_rows": null,
            "height": null,
            "justify_content": null,
            "justify_items": null,
            "left": null,
            "margin": null,
            "max_height": null,
            "max_width": null,
            "min_height": null,
            "min_width": null,
            "object_fit": null,
            "object_position": null,
            "order": null,
            "overflow": null,
            "overflow_x": null,
            "overflow_y": null,
            "padding": null,
            "right": null,
            "top": null,
            "visibility": null,
            "width": null
          }
        },
        "f2f22e72ffea468bb746618330d63f76": {
          "model_module": "@jupyter-widgets/controls",
          "model_name": "ProgressStyleModel",
          "model_module_version": "1.5.0",
          "state": {
            "_model_module": "@jupyter-widgets/controls",
            "_model_module_version": "1.5.0",
            "_model_name": "ProgressStyleModel",
            "_view_count": null,
            "_view_module": "@jupyter-widgets/base",
            "_view_module_version": "1.2.0",
            "_view_name": "StyleView",
            "bar_color": null,
            "description_width": ""
          }
        },
        "845e3f09df1e4adba16ae24fd22dc951": {
          "model_module": "@jupyter-widgets/base",
          "model_name": "LayoutModel",
          "model_module_version": "1.2.0",
          "state": {
            "_model_module": "@jupyter-widgets/base",
            "_model_module_version": "1.2.0",
            "_model_name": "LayoutModel",
            "_view_count": null,
            "_view_module": "@jupyter-widgets/base",
            "_view_module_version": "1.2.0",
            "_view_name": "LayoutView",
            "align_content": null,
            "align_items": null,
            "align_self": null,
            "border": null,
            "bottom": null,
            "display": null,
            "flex": null,
            "flex_flow": null,
            "grid_area": null,
            "grid_auto_columns": null,
            "grid_auto_flow": null,
            "grid_auto_rows": null,
            "grid_column": null,
            "grid_gap": null,
            "grid_row": null,
            "grid_template_areas": null,
            "grid_template_columns": null,
            "grid_template_rows": null,
            "height": null,
            "justify_content": null,
            "justify_items": null,
            "left": null,
            "margin": null,
            "max_height": null,
            "max_width": null,
            "min_height": null,
            "min_width": null,
            "object_fit": null,
            "object_position": null,
            "order": null,
            "overflow": null,
            "overflow_x": null,
            "overflow_y": null,
            "padding": null,
            "right": null,
            "top": null,
            "visibility": null,
            "width": null
          }
        },
        "00101b9e2cbf4e4a9009f7cd7d66c29b": {
          "model_module": "@jupyter-widgets/controls",
          "model_name": "DescriptionStyleModel",
          "model_module_version": "1.5.0",
          "state": {
            "_model_module": "@jupyter-widgets/controls",
            "_model_module_version": "1.5.0",
            "_model_name": "DescriptionStyleModel",
            "_view_count": null,
            "_view_module": "@jupyter-widgets/base",
            "_view_module_version": "1.2.0",
            "_view_name": "StyleView",
            "description_width": ""
          }
        },
        "a5f8b9c793b84056bdb0221b7b190344": {
          "model_module": "@jupyter-widgets/controls",
          "model_name": "HBoxModel",
          "model_module_version": "1.5.0",
          "state": {
            "_dom_classes": [],
            "_model_module": "@jupyter-widgets/controls",
            "_model_module_version": "1.5.0",
            "_model_name": "HBoxModel",
            "_view_count": null,
            "_view_module": "@jupyter-widgets/controls",
            "_view_module_version": "1.5.0",
            "_view_name": "HBoxView",
            "box_style": "",
            "children": [
              "IPY_MODEL_f75b247762a94fd0802f7d02b194fca7",
              "IPY_MODEL_d87ae83167e44d7c90f5f75edce2ff3e",
              "IPY_MODEL_5e89a439f5224fe28281d42394267a94"
            ],
            "layout": "IPY_MODEL_83e318a5ed434d3fad8bcf3c49b2913a"
          }
        },
        "f75b247762a94fd0802f7d02b194fca7": {
          "model_module": "@jupyter-widgets/controls",
          "model_name": "HTMLModel",
          "model_module_version": "1.5.0",
          "state": {
            "_dom_classes": [],
            "_model_module": "@jupyter-widgets/controls",
            "_model_module_version": "1.5.0",
            "_model_name": "HTMLModel",
            "_view_count": null,
            "_view_module": "@jupyter-widgets/controls",
            "_view_module_version": "1.5.0",
            "_view_name": "HTMLView",
            "description": "",
            "description_tooltip": null,
            "layout": "IPY_MODEL_6f0a525cae704e2ba1dd5712b52b8e92",
            "placeholder": "​",
            "style": "IPY_MODEL_2ae125b1568b4ed99f27f73dff99bf12",
            "value": "Evaluating: 100%"
          }
        },
        "d87ae83167e44d7c90f5f75edce2ff3e": {
          "model_module": "@jupyter-widgets/controls",
          "model_name": "FloatProgressModel",
          "model_module_version": "1.5.0",
          "state": {
            "_dom_classes": [],
            "_model_module": "@jupyter-widgets/controls",
            "_model_module_version": "1.5.0",
            "_model_name": "FloatProgressModel",
            "_view_count": null,
            "_view_module": "@jupyter-widgets/controls",
            "_view_module_version": "1.5.0",
            "_view_name": "ProgressView",
            "bar_style": "success",
            "description": "",
            "description_tooltip": null,
            "layout": "IPY_MODEL_3b5155745d0d4cf3ab53c91d9361313b",
            "max": 25,
            "min": 0,
            "orientation": "horizontal",
            "style": "IPY_MODEL_4b84369015f247259444a73195f5a3be",
            "value": 25
          }
        },
        "5e89a439f5224fe28281d42394267a94": {
          "model_module": "@jupyter-widgets/controls",
          "model_name": "HTMLModel",
          "model_module_version": "1.5.0",
          "state": {
            "_dom_classes": [],
            "_model_module": "@jupyter-widgets/controls",
            "_model_module_version": "1.5.0",
            "_model_name": "HTMLModel",
            "_view_count": null,
            "_view_module": "@jupyter-widgets/controls",
            "_view_module_version": "1.5.0",
            "_view_name": "HTMLView",
            "description": "",
            "description_tooltip": null,
            "layout": "IPY_MODEL_a71e8c1e667c470ab2922afb514e0482",
            "placeholder": "​",
            "style": "IPY_MODEL_547bcf323fac47898a4170f21fc26800",
            "value": " 25/25 [00:29&lt;00:00,  1.21s/it]"
          }
        },
        "83e318a5ed434d3fad8bcf3c49b2913a": {
          "model_module": "@jupyter-widgets/base",
          "model_name": "LayoutModel",
          "model_module_version": "1.2.0",
          "state": {
            "_model_module": "@jupyter-widgets/base",
            "_model_module_version": "1.2.0",
            "_model_name": "LayoutModel",
            "_view_count": null,
            "_view_module": "@jupyter-widgets/base",
            "_view_module_version": "1.2.0",
            "_view_name": "LayoutView",
            "align_content": null,
            "align_items": null,
            "align_self": null,
            "border": null,
            "bottom": null,
            "display": null,
            "flex": null,
            "flex_flow": null,
            "grid_area": null,
            "grid_auto_columns": null,
            "grid_auto_flow": null,
            "grid_auto_rows": null,
            "grid_column": null,
            "grid_gap": null,
            "grid_row": null,
            "grid_template_areas": null,
            "grid_template_columns": null,
            "grid_template_rows": null,
            "height": null,
            "justify_content": null,
            "justify_items": null,
            "left": null,
            "margin": null,
            "max_height": null,
            "max_width": null,
            "min_height": null,
            "min_width": null,
            "object_fit": null,
            "object_position": null,
            "order": null,
            "overflow": null,
            "overflow_x": null,
            "overflow_y": null,
            "padding": null,
            "right": null,
            "top": null,
            "visibility": null,
            "width": null
          }
        },
        "6f0a525cae704e2ba1dd5712b52b8e92": {
          "model_module": "@jupyter-widgets/base",
          "model_name": "LayoutModel",
          "model_module_version": "1.2.0",
          "state": {
            "_model_module": "@jupyter-widgets/base",
            "_model_module_version": "1.2.0",
            "_model_name": "LayoutModel",
            "_view_count": null,
            "_view_module": "@jupyter-widgets/base",
            "_view_module_version": "1.2.0",
            "_view_name": "LayoutView",
            "align_content": null,
            "align_items": null,
            "align_self": null,
            "border": null,
            "bottom": null,
            "display": null,
            "flex": null,
            "flex_flow": null,
            "grid_area": null,
            "grid_auto_columns": null,
            "grid_auto_flow": null,
            "grid_auto_rows": null,
            "grid_column": null,
            "grid_gap": null,
            "grid_row": null,
            "grid_template_areas": null,
            "grid_template_columns": null,
            "grid_template_rows": null,
            "height": null,
            "justify_content": null,
            "justify_items": null,
            "left": null,
            "margin": null,
            "max_height": null,
            "max_width": null,
            "min_height": null,
            "min_width": null,
            "object_fit": null,
            "object_position": null,
            "order": null,
            "overflow": null,
            "overflow_x": null,
            "overflow_y": null,
            "padding": null,
            "right": null,
            "top": null,
            "visibility": null,
            "width": null
          }
        },
        "2ae125b1568b4ed99f27f73dff99bf12": {
          "model_module": "@jupyter-widgets/controls",
          "model_name": "DescriptionStyleModel",
          "model_module_version": "1.5.0",
          "state": {
            "_model_module": "@jupyter-widgets/controls",
            "_model_module_version": "1.5.0",
            "_model_name": "DescriptionStyleModel",
            "_view_count": null,
            "_view_module": "@jupyter-widgets/base",
            "_view_module_version": "1.2.0",
            "_view_name": "StyleView",
            "description_width": ""
          }
        },
        "3b5155745d0d4cf3ab53c91d9361313b": {
          "model_module": "@jupyter-widgets/base",
          "model_name": "LayoutModel",
          "model_module_version": "1.2.0",
          "state": {
            "_model_module": "@jupyter-widgets/base",
            "_model_module_version": "1.2.0",
            "_model_name": "LayoutModel",
            "_view_count": null,
            "_view_module": "@jupyter-widgets/base",
            "_view_module_version": "1.2.0",
            "_view_name": "LayoutView",
            "align_content": null,
            "align_items": null,
            "align_self": null,
            "border": null,
            "bottom": null,
            "display": null,
            "flex": null,
            "flex_flow": null,
            "grid_area": null,
            "grid_auto_columns": null,
            "grid_auto_flow": null,
            "grid_auto_rows": null,
            "grid_column": null,
            "grid_gap": null,
            "grid_row": null,
            "grid_template_areas": null,
            "grid_template_columns": null,
            "grid_template_rows": null,
            "height": null,
            "justify_content": null,
            "justify_items": null,
            "left": null,
            "margin": null,
            "max_height": null,
            "max_width": null,
            "min_height": null,
            "min_width": null,
            "object_fit": null,
            "object_position": null,
            "order": null,
            "overflow": null,
            "overflow_x": null,
            "overflow_y": null,
            "padding": null,
            "right": null,
            "top": null,
            "visibility": null,
            "width": null
          }
        },
        "4b84369015f247259444a73195f5a3be": {
          "model_module": "@jupyter-widgets/controls",
          "model_name": "ProgressStyleModel",
          "model_module_version": "1.5.0",
          "state": {
            "_model_module": "@jupyter-widgets/controls",
            "_model_module_version": "1.5.0",
            "_model_name": "ProgressStyleModel",
            "_view_count": null,
            "_view_module": "@jupyter-widgets/base",
            "_view_module_version": "1.2.0",
            "_view_name": "StyleView",
            "bar_color": null,
            "description_width": ""
          }
        },
        "a71e8c1e667c470ab2922afb514e0482": {
          "model_module": "@jupyter-widgets/base",
          "model_name": "LayoutModel",
          "model_module_version": "1.2.0",
          "state": {
            "_model_module": "@jupyter-widgets/base",
            "_model_module_version": "1.2.0",
            "_model_name": "LayoutModel",
            "_view_count": null,
            "_view_module": "@jupyter-widgets/base",
            "_view_module_version": "1.2.0",
            "_view_name": "LayoutView",
            "align_content": null,
            "align_items": null,
            "align_self": null,
            "border": null,
            "bottom": null,
            "display": null,
            "flex": null,
            "flex_flow": null,
            "grid_area": null,
            "grid_auto_columns": null,
            "grid_auto_flow": null,
            "grid_auto_rows": null,
            "grid_column": null,
            "grid_gap": null,
            "grid_row": null,
            "grid_template_areas": null,
            "grid_template_columns": null,
            "grid_template_rows": null,
            "height": null,
            "justify_content": null,
            "justify_items": null,
            "left": null,
            "margin": null,
            "max_height": null,
            "max_width": null,
            "min_height": null,
            "min_width": null,
            "object_fit": null,
            "object_position": null,
            "order": null,
            "overflow": null,
            "overflow_x": null,
            "overflow_y": null,
            "padding": null,
            "right": null,
            "top": null,
            "visibility": null,
            "width": null
          }
        },
        "547bcf323fac47898a4170f21fc26800": {
          "model_module": "@jupyter-widgets/controls",
          "model_name": "DescriptionStyleModel",
          "model_module_version": "1.5.0",
          "state": {
            "_model_module": "@jupyter-widgets/controls",
            "_model_module_version": "1.5.0",
            "_model_name": "DescriptionStyleModel",
            "_view_count": null,
            "_view_module": "@jupyter-widgets/base",
            "_view_module_version": "1.2.0",
            "_view_name": "StyleView",
            "description_width": ""
          }
        },
        "224e838970a244b6964ed42f3ac75305": {
          "model_module": "@jupyter-widgets/controls",
          "model_name": "HBoxModel",
          "model_module_version": "1.5.0",
          "state": {
            "_dom_classes": [],
            "_model_module": "@jupyter-widgets/controls",
            "_model_module_version": "1.5.0",
            "_model_name": "HBoxModel",
            "_view_count": null,
            "_view_module": "@jupyter-widgets/controls",
            "_view_module_version": "1.5.0",
            "_view_name": "HBoxView",
            "box_style": "",
            "children": [
              "IPY_MODEL_e80aec5f470e47e299ab6582561f98f6",
              "IPY_MODEL_4137baa42996492cb3c785587e287903",
              "IPY_MODEL_d5c9b7f9207c42649f483e04a7217b84"
            ],
            "layout": "IPY_MODEL_e36b21cfa1df43f794edd738f6f88955"
          }
        },
        "e80aec5f470e47e299ab6582561f98f6": {
          "model_module": "@jupyter-widgets/controls",
          "model_name": "HTMLModel",
          "model_module_version": "1.5.0",
          "state": {
            "_dom_classes": [],
            "_model_module": "@jupyter-widgets/controls",
            "_model_module_version": "1.5.0",
            "_model_name": "HTMLModel",
            "_view_count": null,
            "_view_module": "@jupyter-widgets/controls",
            "_view_module_version": "1.5.0",
            "_view_name": "HTMLView",
            "description": "",
            "description_tooltip": null,
            "layout": "IPY_MODEL_fb56fb152b0b4f86929f72b82299015c",
            "placeholder": "​",
            "style": "IPY_MODEL_5cda18c38b944a218ba86cde3b8752df",
            "value": "Evaluating: 100%"
          }
        },
        "4137baa42996492cb3c785587e287903": {
          "model_module": "@jupyter-widgets/controls",
          "model_name": "FloatProgressModel",
          "model_module_version": "1.5.0",
          "state": {
            "_dom_classes": [],
            "_model_module": "@jupyter-widgets/controls",
            "_model_module_version": "1.5.0",
            "_model_name": "FloatProgressModel",
            "_view_count": null,
            "_view_module": "@jupyter-widgets/controls",
            "_view_module_version": "1.5.0",
            "_view_name": "ProgressView",
            "bar_style": "success",
            "description": "",
            "description_tooltip": null,
            "layout": "IPY_MODEL_e6783a2972ae4f259387947ee241811e",
            "max": 25,
            "min": 0,
            "orientation": "horizontal",
            "style": "IPY_MODEL_4291020fea104fd8af45134ea21f6e65",
            "value": 25
          }
        },
        "d5c9b7f9207c42649f483e04a7217b84": {
          "model_module": "@jupyter-widgets/controls",
          "model_name": "HTMLModel",
          "model_module_version": "1.5.0",
          "state": {
            "_dom_classes": [],
            "_model_module": "@jupyter-widgets/controls",
            "_model_module_version": "1.5.0",
            "_model_name": "HTMLModel",
            "_view_count": null,
            "_view_module": "@jupyter-widgets/controls",
            "_view_module_version": "1.5.0",
            "_view_name": "HTMLView",
            "description": "",
            "description_tooltip": null,
            "layout": "IPY_MODEL_7f1fa157d2fa4235ad1b27a1433ce7dc",
            "placeholder": "​",
            "style": "IPY_MODEL_fac57f51c6c54845a42973dae9306c26",
            "value": " 25/25 [00:30&lt;00:00,  1.55s/it]"
          }
        },
        "e36b21cfa1df43f794edd738f6f88955": {
          "model_module": "@jupyter-widgets/base",
          "model_name": "LayoutModel",
          "model_module_version": "1.2.0",
          "state": {
            "_model_module": "@jupyter-widgets/base",
            "_model_module_version": "1.2.0",
            "_model_name": "LayoutModel",
            "_view_count": null,
            "_view_module": "@jupyter-widgets/base",
            "_view_module_version": "1.2.0",
            "_view_name": "LayoutView",
            "align_content": null,
            "align_items": null,
            "align_self": null,
            "border": null,
            "bottom": null,
            "display": null,
            "flex": null,
            "flex_flow": null,
            "grid_area": null,
            "grid_auto_columns": null,
            "grid_auto_flow": null,
            "grid_auto_rows": null,
            "grid_column": null,
            "grid_gap": null,
            "grid_row": null,
            "grid_template_areas": null,
            "grid_template_columns": null,
            "grid_template_rows": null,
            "height": null,
            "justify_content": null,
            "justify_items": null,
            "left": null,
            "margin": null,
            "max_height": null,
            "max_width": null,
            "min_height": null,
            "min_width": null,
            "object_fit": null,
            "object_position": null,
            "order": null,
            "overflow": null,
            "overflow_x": null,
            "overflow_y": null,
            "padding": null,
            "right": null,
            "top": null,
            "visibility": null,
            "width": null
          }
        },
        "fb56fb152b0b4f86929f72b82299015c": {
          "model_module": "@jupyter-widgets/base",
          "model_name": "LayoutModel",
          "model_module_version": "1.2.0",
          "state": {
            "_model_module": "@jupyter-widgets/base",
            "_model_module_version": "1.2.0",
            "_model_name": "LayoutModel",
            "_view_count": null,
            "_view_module": "@jupyter-widgets/base",
            "_view_module_version": "1.2.0",
            "_view_name": "LayoutView",
            "align_content": null,
            "align_items": null,
            "align_self": null,
            "border": null,
            "bottom": null,
            "display": null,
            "flex": null,
            "flex_flow": null,
            "grid_area": null,
            "grid_auto_columns": null,
            "grid_auto_flow": null,
            "grid_auto_rows": null,
            "grid_column": null,
            "grid_gap": null,
            "grid_row": null,
            "grid_template_areas": null,
            "grid_template_columns": null,
            "grid_template_rows": null,
            "height": null,
            "justify_content": null,
            "justify_items": null,
            "left": null,
            "margin": null,
            "max_height": null,
            "max_width": null,
            "min_height": null,
            "min_width": null,
            "object_fit": null,
            "object_position": null,
            "order": null,
            "overflow": null,
            "overflow_x": null,
            "overflow_y": null,
            "padding": null,
            "right": null,
            "top": null,
            "visibility": null,
            "width": null
          }
        },
        "5cda18c38b944a218ba86cde3b8752df": {
          "model_module": "@jupyter-widgets/controls",
          "model_name": "DescriptionStyleModel",
          "model_module_version": "1.5.0",
          "state": {
            "_model_module": "@jupyter-widgets/controls",
            "_model_module_version": "1.5.0",
            "_model_name": "DescriptionStyleModel",
            "_view_count": null,
            "_view_module": "@jupyter-widgets/base",
            "_view_module_version": "1.2.0",
            "_view_name": "StyleView",
            "description_width": ""
          }
        },
        "e6783a2972ae4f259387947ee241811e": {
          "model_module": "@jupyter-widgets/base",
          "model_name": "LayoutModel",
          "model_module_version": "1.2.0",
          "state": {
            "_model_module": "@jupyter-widgets/base",
            "_model_module_version": "1.2.0",
            "_model_name": "LayoutModel",
            "_view_count": null,
            "_view_module": "@jupyter-widgets/base",
            "_view_module_version": "1.2.0",
            "_view_name": "LayoutView",
            "align_content": null,
            "align_items": null,
            "align_self": null,
            "border": null,
            "bottom": null,
            "display": null,
            "flex": null,
            "flex_flow": null,
            "grid_area": null,
            "grid_auto_columns": null,
            "grid_auto_flow": null,
            "grid_auto_rows": null,
            "grid_column": null,
            "grid_gap": null,
            "grid_row": null,
            "grid_template_areas": null,
            "grid_template_columns": null,
            "grid_template_rows": null,
            "height": null,
            "justify_content": null,
            "justify_items": null,
            "left": null,
            "margin": null,
            "max_height": null,
            "max_width": null,
            "min_height": null,
            "min_width": null,
            "object_fit": null,
            "object_position": null,
            "order": null,
            "overflow": null,
            "overflow_x": null,
            "overflow_y": null,
            "padding": null,
            "right": null,
            "top": null,
            "visibility": null,
            "width": null
          }
        },
        "4291020fea104fd8af45134ea21f6e65": {
          "model_module": "@jupyter-widgets/controls",
          "model_name": "ProgressStyleModel",
          "model_module_version": "1.5.0",
          "state": {
            "_model_module": "@jupyter-widgets/controls",
            "_model_module_version": "1.5.0",
            "_model_name": "ProgressStyleModel",
            "_view_count": null,
            "_view_module": "@jupyter-widgets/base",
            "_view_module_version": "1.2.0",
            "_view_name": "StyleView",
            "bar_color": null,
            "description_width": ""
          }
        },
        "7f1fa157d2fa4235ad1b27a1433ce7dc": {
          "model_module": "@jupyter-widgets/base",
          "model_name": "LayoutModel",
          "model_module_version": "1.2.0",
          "state": {
            "_model_module": "@jupyter-widgets/base",
            "_model_module_version": "1.2.0",
            "_model_name": "LayoutModel",
            "_view_count": null,
            "_view_module": "@jupyter-widgets/base",
            "_view_module_version": "1.2.0",
            "_view_name": "LayoutView",
            "align_content": null,
            "align_items": null,
            "align_self": null,
            "border": null,
            "bottom": null,
            "display": null,
            "flex": null,
            "flex_flow": null,
            "grid_area": null,
            "grid_auto_columns": null,
            "grid_auto_flow": null,
            "grid_auto_rows": null,
            "grid_column": null,
            "grid_gap": null,
            "grid_row": null,
            "grid_template_areas": null,
            "grid_template_columns": null,
            "grid_template_rows": null,
            "height": null,
            "justify_content": null,
            "justify_items": null,
            "left": null,
            "margin": null,
            "max_height": null,
            "max_width": null,
            "min_height": null,
            "min_width": null,
            "object_fit": null,
            "object_position": null,
            "order": null,
            "overflow": null,
            "overflow_x": null,
            "overflow_y": null,
            "padding": null,
            "right": null,
            "top": null,
            "visibility": null,
            "width": null
          }
        },
        "fac57f51c6c54845a42973dae9306c26": {
          "model_module": "@jupyter-widgets/controls",
          "model_name": "DescriptionStyleModel",
          "model_module_version": "1.5.0",
          "state": {
            "_model_module": "@jupyter-widgets/controls",
            "_model_module_version": "1.5.0",
            "_model_name": "DescriptionStyleModel",
            "_view_count": null,
            "_view_module": "@jupyter-widgets/base",
            "_view_module_version": "1.2.0",
            "_view_name": "StyleView",
            "description_width": ""
          }
        }
      }
    }
  },
  "cells": [
    {
      "cell_type": "markdown",
      "source": [
        "# Evaluation of RAG Using Ragas\n",
        "\n",
        "In the following notebook we'll explore how to evaluate RAG pipelines using a powerful open-source tool called \"Ragas\". This will give us tools to evaluate component-wise metrics, as well as end-to-end metrics about the performance of our RAG pipelines.\n",
        "\n",
        "In the following notebook we'll complete the following tasks:\n",
        "\n",
        "- 🤝 Breakout Room #1:\n",
        "  1. Install required libraries\n",
        "  2. Set Environment Variables\n",
        "  3. Creating a simple RAG pipeline with [LangChain v0.1.0](https://blog.langchain.dev/langchain-v0-1-0/)\n",
        "  \n",
        "\n",
        "- 🤝 Breakout Room #2:\n",
        "  1. Synthetic Dataset Generation for Evaluation using the [Ragas](https://github.com/explodinggradients/ragas)\n",
        "  2. Evaluating our pipeline with Ragas\n",
        "  3. Making Adjustments to our RAG Pipeline\n",
        "  4. Evaluating our Adjusted pipeline against our baseline\n",
        "  5. Testing OpenAI's Claim\n",
        "\n",
        "The only way to get started is to get started - so let's grab our dependencies for the day!"
      ],
      "metadata": {
        "id": "wa8ykQk92aLX"
      }
    },
    {
      "cell_type": "markdown",
      "source": [
        "## Motivation\n",
        "\n",
        "A claim, made by OpenAI, is that their `text-embedding-3-small` is better (generally) than their `text-embedding-ada-002` model.\n",
        "\n",
        "Here's some passages from their [blog](https://openai.com/blog/new-embedding-models-and-api-updates) about the `text-embedding-3` release:\n",
        "\n",
        "> `text-embedding-3-small` is our new highly efficient embedding model and provides a significant upgrade over its predecessor, the `text-embedding-ada-002` model...\n",
        "\n",
        "> **Stronger performance.** Comparing `text-embedding-ada-002` to `text-embedding-3-small`, the average score on a commonly used benchmark for multi-language retrieval ([MIRACL](https://github.com/project-miracl/miracl)) has increased from 31.4% to 44.0%, while the average score on a commonly used benchmark for English tasks ([MTEB](https://github.com/embeddings-benchmark/mteb)) has increased from 61.0% to 62.3%.\n",
        "\n",
        "Well, with a library like Ragas - we can put that claim to the test!\n",
        "\n",
        "If what they claim is true - we should see an increase on related metrics by using the new embedding model!"
      ],
      "metadata": {
        "id": "8h4yh6f7q9uN"
      }
    },
    {
      "cell_type": "markdown",
      "source": [
        "# 🤝 Breakout Room #1"
      ],
      "metadata": {
        "id": "wAH1znJ2pIp3"
      }
    },
    {
      "cell_type": "markdown",
      "source": [
        "## Task 1: Installing Required Libraries\n",
        "\n",
        "A reminder that one of the [key features](https://blog.langchain.dev/langchain-v0-1-0/) of LangChain v0.1.0 is the compartmentalization of the various LangChain ecosystem packages!\n",
        "\n",
        "So let's begin grabbing all of our LangChain related packages!"
      ],
      "metadata": {
        "id": "hpkXAmMZpLhm"
      }
    },
    {
      "cell_type": "code",
      "execution_count": 1,
      "metadata": {
        "id": "5BN13TZlSCv4",
        "colab": {
          "base_uri": "https://localhost:8080/"
        },
        "outputId": "0bd0709f-0ea2-4526-fdd0-6101a2a58a6e"
      },
      "outputs": [
        {
          "output_type": "stream",
          "name": "stdout",
          "text": [
            "\u001b[2K     \u001b[90m━━━━━━━━━━━━━━━━━━━━━━━━━━━━━━━━━━━━━━━━\u001b[0m \u001b[32m807.5/807.5 kB\u001b[0m \u001b[31m5.2 MB/s\u001b[0m eta \u001b[36m0:00:00\u001b[0m\n",
            "\u001b[2K     \u001b[90m━━━━━━━━━━━━━━━━━━━━━━━━━━━━━━━━━━━━━━━━\u001b[0m \u001b[32m256.9/256.9 kB\u001b[0m \u001b[31m24.8 MB/s\u001b[0m eta \u001b[36m0:00:00\u001b[0m\n",
            "\u001b[2K     \u001b[90m━━━━━━━━━━━━━━━━━━━━━━━━━━━━━━━━━━━━━━━━\u001b[0m \u001b[32m1.8/1.8 MB\u001b[0m \u001b[31m21.2 MB/s\u001b[0m eta \u001b[36m0:00:00\u001b[0m\n",
            "\u001b[2K     \u001b[90m━━━━━━━━━━━━━━━━━━━━━━━━━━━━━━━━━━━━━━━━\u001b[0m \u001b[32m227.4/227.4 kB\u001b[0m \u001b[31m15.7 MB/s\u001b[0m eta \u001b[36m0:00:00\u001b[0m\n",
            "\u001b[2K     \u001b[90m━━━━━━━━━━━━━━━━━━━━━━━━━━━━━━━━━━━━━━━━\u001b[0m \u001b[32m66.6/66.6 kB\u001b[0m \u001b[31m2.9 MB/s\u001b[0m eta \u001b[36m0:00:00\u001b[0m\n",
            "\u001b[2K     \u001b[90m━━━━━━━━━━━━━━━━━━━━━━━━━━━━━━━━━━━━━━━━\u001b[0m \u001b[32m1.8/1.8 MB\u001b[0m \u001b[31m25.1 MB/s\u001b[0m eta \u001b[36m0:00:00\u001b[0m\n",
            "\u001b[2K     \u001b[90m━━━━━━━━━━━━━━━━━━━━━━━━━━━━━━━━━━━━━━━━\u001b[0m \u001b[32m75.6/75.6 kB\u001b[0m \u001b[31m8.3 MB/s\u001b[0m eta \u001b[36m0:00:00\u001b[0m\n",
            "\u001b[2K     \u001b[90m━━━━━━━━━━━━━━━━━━━━━━━━━━━━━━━━━━━━━━━━\u001b[0m \u001b[32m49.4/49.4 kB\u001b[0m \u001b[31m5.3 MB/s\u001b[0m eta \u001b[36m0:00:00\u001b[0m\n",
            "\u001b[2K     \u001b[90m━━━━━━━━━━━━━━━━━━━━━━━━━━━━━━━━━━━━━━━━\u001b[0m \u001b[32m77.8/77.8 kB\u001b[0m \u001b[31m4.2 MB/s\u001b[0m eta \u001b[36m0:00:00\u001b[0m\n",
            "\u001b[2K     \u001b[90m━━━━━━━━━━━━━━━━━━━━━━━━━━━━━━━━━━━━━━━━\u001b[0m \u001b[32m58.3/58.3 kB\u001b[0m \u001b[31m3.5 MB/s\u001b[0m eta \u001b[36m0:00:00\u001b[0m\n",
            "\u001b[2K     \u001b[90m━━━━━━━━━━━━━━━━━━━━━━━━━━━━━━━━━━━━━━━━\u001b[0m \u001b[32m138.5/138.5 kB\u001b[0m \u001b[31m11.1 MB/s\u001b[0m eta \u001b[36m0:00:00\u001b[0m\n",
            "\u001b[?25h"
          ]
        }
      ],
      "source": [
        "!pip install -U -q langchain langchain-openai langchain_core langchain-community langchainhub openai"
      ]
    },
    {
      "cell_type": "markdown",
      "source": [
        "We'll also get the \"star of the show\" today, which is Ragas!"
      ],
      "metadata": {
        "id": "fm7gXsD6pqG0"
      }
    },
    {
      "cell_type": "code",
      "source": [
        "!pip install -qU ragas"
      ],
      "metadata": {
        "id": "zvAvDNWBpjQ1",
        "colab": {
          "base_uri": "https://localhost:8080/"
        },
        "outputId": "33bc016c-4439-4318-94bd-86a44bdfdc57"
      },
      "execution_count": 2,
      "outputs": [
        {
          "output_type": "stream",
          "name": "stdout",
          "text": [
            "\u001b[2K     \u001b[90m━━━━━━━━━━━━━━━━━━━━━━━━━━━━━━━━━━━━━━━━\u001b[0m \u001b[32m69.7/69.7 kB\u001b[0m \u001b[31m1.1 MB/s\u001b[0m eta \u001b[36m0:00:00\u001b[0m\n",
            "\u001b[2K     \u001b[90m━━━━━━━━━━━━━━━━━━━━━━━━━━━━━━━━━━━━━━━━\u001b[0m \u001b[32m510.5/510.5 kB\u001b[0m \u001b[31m5.3 MB/s\u001b[0m eta \u001b[36m0:00:00\u001b[0m\n",
            "\u001b[2K     \u001b[90m━━━━━━━━━━━━━━━━━━━━━━━━━━━━━━━━━━━━━━━━\u001b[0m \u001b[32m71.1/71.1 kB\u001b[0m \u001b[31m5.4 MB/s\u001b[0m eta \u001b[36m0:00:00\u001b[0m\n",
            "\u001b[2K     \u001b[90m━━━━━━━━━━━━━━━━━━━━━━━━━━━━━━━━━━━━━━━━\u001b[0m \u001b[32m116.3/116.3 kB\u001b[0m \u001b[31m13.5 MB/s\u001b[0m eta \u001b[36m0:00:00\u001b[0m\n",
            "\u001b[2K     \u001b[90m━━━━━━━━━━━━━━━━━━━━━━━━━━━━━━━━━━━━━━━━\u001b[0m \u001b[32m194.1/194.1 kB\u001b[0m \u001b[31m7.9 MB/s\u001b[0m eta \u001b[36m0:00:00\u001b[0m\n",
            "\u001b[2K     \u001b[90m━━━━━━━━━━━━━━━━━━━━━━━━━━━━━━━━━━━━━━━━\u001b[0m \u001b[32m134.8/134.8 kB\u001b[0m \u001b[31m7.1 MB/s\u001b[0m eta \u001b[36m0:00:00\u001b[0m\n",
            "\u001b[?25h"
          ]
        }
      ]
    },
    {
      "cell_type": "markdown",
      "source": [
        "As well, instead of the remote hosted solution that we used last week (Pinecone), we'll be leveraging Meta's [FAISS](https://github.com/facebookresearch/faiss) as the backend for our LangChain `VectorStore`.\n",
        "\n",
        "We'll also install `unstructured` (from [Unstructured-IO](https://github.com/Unstructured-IO/unstructured)) and its dependencies which will allow us to load PDFs using the `UnstructuredPDFLoader` in the `langchain-community` package!"
      ],
      "metadata": {
        "id": "L9q6Z9oTpw3X"
      }
    },
    {
      "cell_type": "code",
      "source": [
        "!pip install -qU faiss_cpu pymupdf"
      ],
      "metadata": {
        "colab": {
          "base_uri": "https://localhost:8080/"
        },
        "id": "sAJK95napn8I",
        "outputId": "f2eb0782-ebd7-44ab-dcb2-2169f43f2355"
      },
      "execution_count": 3,
      "outputs": [
        {
          "output_type": "stream",
          "name": "stdout",
          "text": [
            "\u001b[2K     \u001b[90m━━━━━━━━━━━━━━━━━━━━━━━━━━━━━━━━━━━━━━━━\u001b[0m \u001b[32m27.0/27.0 MB\u001b[0m \u001b[31m36.4 MB/s\u001b[0m eta \u001b[36m0:00:00\u001b[0m\n",
            "\u001b[2K     \u001b[90m━━━━━━━━━━━━━━━━━━━━━━━━━━━━━━━━━━━━━━━━\u001b[0m \u001b[32m4.4/4.4 MB\u001b[0m \u001b[31m29.7 MB/s\u001b[0m eta \u001b[36m0:00:00\u001b[0m\n",
            "\u001b[2K     \u001b[90m━━━━━━━━━━━━━━━━━━━━━━━━━━━━━━━━━━━━━━━━\u001b[0m \u001b[32m30.6/30.6 MB\u001b[0m \u001b[31m9.8 MB/s\u001b[0m eta \u001b[36m0:00:00\u001b[0m\n",
            "\u001b[?25h"
          ]
        }
      ]
    },
    {
      "cell_type": "markdown",
      "source": [
        "## Task 2: Set Environment Variables\n",
        "\n",
        "Let's set up our OpenAI API key so we can leverage their API later on."
      ],
      "metadata": {
        "id": "0_C2JvG1qO3h"
      }
    },
    {
      "cell_type": "code",
      "source": [
        "import os\n",
        "import openai\n",
        "from getpass import getpass\n",
        "\n",
        "openai.api_key = getpass(\"Please provide your OpenAI Key: \")\n",
        "os.environ[\"OPENAI_API_KEY\"] = openai.api_key"
      ],
      "metadata": {
        "colab": {
          "base_uri": "https://localhost:8080/"
        },
        "id": "8Lhqp5rUThG-",
        "outputId": "2a52320f-6f8b-466a-c1a6-9523d18e2270"
      },
      "execution_count": 4,
      "outputs": [
        {
          "name": "stdout",
          "output_type": "stream",
          "text": [
            "Please provide your OpenAI Key: ··········\n"
          ]
        }
      ]
    },
    {
      "cell_type": "markdown",
      "source": [
        "## Task 3: Creating a Simple RAG Pipeline with LangChain v0.1.0\n",
        "\n",
        "Building on what we learned last week, we'll be leveraging LangChain v0.1.0 and LCEL to build a simple RAG pipeline that we can baseline with Ragas."
      ],
      "metadata": {
        "id": "TFbWNvo3rZ4H"
      }
    },
    {
      "cell_type": "markdown",
      "source": [
        "## Building our RAG pipeline\n",
        "\n",
        "Let's review the basic steps of RAG again:\n",
        "\n",
        "- Create an Index\n",
        "- Use retrieval to obtain pieces of context from our Index that are similar to our query\n",
        "- Use a LLM to generate responses based on the retrieved context\n",
        "\n",
        "Let's get started by creating our index.\n",
        "\n",
        "> NOTE: We're going to start leaning on the term \"index\" to refer to our `VectorStore`, `VectorDatabase`, etc. We can think of \"index\" as the catch-all term, whereas `VectorStore` and the like relate to the specific technologies used to create, store, and interact with the index."
      ],
      "metadata": {
        "id": "DV_BOewX8CW0"
      }
    },
    {
      "cell_type": "markdown",
      "source": [
        "### Creating an Index\n",
        "\n",
        "You'll notice that the largest changes (outside of some import changes) are that our old favourite chains are back to being bundled in an easily usable abstraction.\n",
        "\n",
        "We can still create custom chains using LCEL - but we can also be more confident that our pre-packaged chains are creating using LCEL under the hood."
      ],
      "metadata": {
        "id": "1VDGJdxCJEVc"
      }
    },
    {
      "cell_type": "markdown",
      "source": [
        "#### Loading Data\n",
        "\n",
        "Let's start by loading some data!\n",
        "\n",
        "> NOTE: You'll notice that we're using a document loader from the community package of LangChain. This is part of the v0.1.0 changes that make the base (`langchain-core`) package remain lightweight while still providing access to some of the more powerful community integrations."
      ],
      "metadata": {
        "id": "RmFFThawK8lO"
      }
    },
    {
      "cell_type": "code",
      "source": [
        "!git clone https://github.com/AI-Maker-Space/DataRepository"
      ],
      "metadata": {
        "colab": {
          "base_uri": "https://localhost:8080/"
        },
        "id": "kCBTrfZSwTHp",
        "outputId": "1cd9cfe0-04fa-4319-931b-c35efa89ebd5"
      },
      "execution_count": 5,
      "outputs": [
        {
          "output_type": "stream",
          "name": "stdout",
          "text": [
            "Cloning into 'DataRepository'...\n",
            "remote: Enumerating objects: 54, done.\u001b[K\n",
            "remote: Counting objects: 100% (46/46), done.\u001b[K\n",
            "remote: Compressing objects: 100% (34/34), done.\u001b[K\n",
            "remote: Total 54 (delta 15), reused 20 (delta 7), pack-reused 8\u001b[K\n",
            "Receiving objects: 100% (54/54), 51.28 MiB | 37.11 MiB/s, done.\n",
            "Resolving deltas: 100% (15/15), done.\n"
          ]
        }
      ]
    },
    {
      "cell_type": "code",
      "source": [
        "from langchain_community.document_loaders import PyMuPDFLoader\n",
        "\n",
        "loader = PyMuPDFLoader(\n",
        "    \"DataRepository/MuskComplaint.pdf\",\n",
        ")\n",
        "\n",
        "documents = loader.load()"
      ],
      "metadata": {
        "id": "DTDNFXaBSO2j"
      },
      "execution_count": 6,
      "outputs": []
    },
    {
      "cell_type": "code",
      "source": [
        "print(f\"The document has a length of {len(documents)} \")\n",
        "for i in documents:\n",
        "  print(f\"{i} \\n\\n\")"
      ],
      "metadata": {
        "colab": {
          "base_uri": "https://localhost:8080/"
        },
        "id": "AIj6M6sSIzjf",
        "outputId": "fbe45a91-775a-4bfa-ec4f-c040f78da9df"
      },
      "execution_count": 7,
      "outputs": [
        {
          "output_type": "stream",
          "name": "stdout",
          "text": [
            "The document has a length of 46 \n",
            "page_content='1 \\n2 \\n3 \\n4 \\n5 \\n6 \\n7 \\n8 \\n9 \\n10 \\n11 \\n12 \\n13 \\n14 \\n15 \\n16 \\n17 \\n18 \\n19 \\n20 \\n21 \\n22 \\n23 \\n24 \\n25 \\n26 \\n27 \\n28 \\n \\n \\nCOMPLAINT \\n \\nIRELL & MANELLA LLP \\nMorgan Chu (SBN 70446) \\nAlan Heinrich (SBN 212782) \\nIian Jablon (SBN 205458) \\nAbigail Sellers (SBN 342380) \\nJustin Koo (SBN 351547) \\nHenry White (SBN 351549) \\n1800 Avenue of the Stars, Suite 900 \\nLos Angeles, CA 90067 \\nTelephone: (310) 277-1010 \\nFax: (310) 203-7199 \\nmchu@irell.com \\naheinrich@irell.com  \\nijablon@irell.com \\nasellers@irell.com \\njkoo@irell.com \\nhwhite@irell.com \\n \\n \\nAttorneys for Plaintiff Elon Musk \\nSUPERIOR COURT OF CALIFORNIA \\nIN AND FOR THE COUNTY OF SAN FRANCISCO \\nELON MUSK, an individual, \\nPlaintiff, \\nvs. \\nSAMUEL ALTMAN, an individual, GREGORY \\nBROCKMAN, an individual, OPENAI, INC., a \\ncorporation, OPENAI, L.P., a limited \\npartnership, OPENAI, L.L.C., a limited liability \\ncompany, OPENAI GP, L.L.C., a limited \\nliability company, OPENAI OPCO, LLC, a \\nlimited liability company, OPENAI GLOBAL, \\nLLC, a limited liability company, OAI \\nCORPORATION, LLC, a limited liability \\ncompany, OPENAI HOLDINGS, LLC, a limited \\nliability company, and DOES 1 through 100, \\ninclusive, \\nDefendants. \\nCase No.:  \\n[UNLIMITED JURISDICTION] \\n \\nCOMPLAINT FOR (1) BREACH OF \\nCONTRACT, (2) PROMISSORY \\nESTOPPEL, (3) BREACH OF FIDUCIARY \\nDUTY, (4) UNFAIR COMPETITION \\nUNDER CAL. BUS. & PROF. CODE \\n§§ 17200 ET SEQ., AND (5) ACCOUNTING \\n \\n \\nDEMAND FOR JURY TRIAL \\n \\nELECTRONICALLY\\nF I L E D\\nSuperior Court of California,\\nCounty of San Francisco\\n02/29/2024\\nClerk of the Court\\nBY: KEVIN DOUGHERTY\\nDeputy Clerk\\nCGC-24-612746\\n' metadata={'source': 'DataRepository/MuskComplaint.pdf', 'file_path': 'DataRepository/MuskComplaint.pdf', 'page': 0, 'total_pages': 46, 'format': 'PDF 1.7', 'title': '', 'author': '', 'subject': '', 'keywords': '', 'creator': '', 'producer': '', 'creationDate': '', 'modDate': '', 'trapped': ''} \n",
            "\n",
            "\n",
            "page_content='1 \\n2 \\n3 \\n4 \\n5 \\n6 \\n7 \\n8 \\n9 \\n10 \\n11 \\n12 \\n13 \\n14 \\n15 \\n16 \\n17 \\n18 \\n19 \\n20 \\n21 \\n22 \\n23 \\n24 \\n25 \\n26 \\n27 \\n28 \\n \\n \\n– 2 – \\nCOMPLAINT \\n \\nPlaintiff, ELON MUSK (hereafter “Plaintiff”) alleges the following upon information and \\nbelief: \\nPARTIES \\n1. \\nPrior to 2019, Plaintiff was an individual residing in California. Plaintiff is a resident \\nof Texas since 2019.  \\n2. \\nOn information and belief, Plaintiff alleges that Samuel Altman is a resident of the \\nCounty of San Francisco, State of California. \\n3. \\nOn information and belief, Plaintiff alleges that Gregory Brockman is a resident of \\nthe County of San Francisco, State of California.  \\n4. \\nOpenAI, Inc. is a registered non-profit organization incorporated under the laws of \\nDelaware on December 8, 2015. OpenAI, Inc. is registered as a foreign corporation with the \\nCalifornia Secretary of State and has its principal place of business at 3180 18th Street, San \\nFrancisco, CA 94110.  \\n5. \\nOpenAI, L.P. is a limited partnership formed under the laws of Delaware on \\nSeptember 19, 2018, originally as SummerSafe, L.P. OpenAI, L.P. is registered as a foreign limited \\npartnership with the California Secretary of State and has its principal place of business at 3180 18th \\nStreet, San Francisco, CA 94110.  \\n6. \\nOpenAI, L.L.C. is a limited liability company formed in Delaware on September 17, \\n2020. OpenAI, L.L.C. maintains its principal place of business in California.  \\n7. \\nOpenAI GP, L.L.C. is a limited liability company formed in Delaware on September \\n19, 2018. OpenAI GP, L.L.C is registered as a foreign limited liability company registered with the \\nCalifornia Secretary of State and has its principal place of business at 3180 18th Street, San \\nFrancisco, CA 94110.  \\n8. \\nOpenAI OpCo, LLC is a limited liability company formed in Delaware on September \\n19, 2018. OpenAI OpCo, LLC is registered as an out-of-state limited liability company with the \\nCalifornia Secretary of State and has it principal place of business at 1960 Bryant Street, San \\nFrancisco, CA 94110.  \\n' metadata={'source': 'DataRepository/MuskComplaint.pdf', 'file_path': 'DataRepository/MuskComplaint.pdf', 'page': 1, 'total_pages': 46, 'format': 'PDF 1.7', 'title': '', 'author': '', 'subject': '', 'keywords': '', 'creator': '', 'producer': '', 'creationDate': '', 'modDate': '', 'trapped': ''} \n",
            "\n",
            "\n",
            "page_content='1 \\n2 \\n3 \\n4 \\n5 \\n6 \\n7 \\n8 \\n9 \\n10 \\n11 \\n12 \\n13 \\n14 \\n15 \\n16 \\n17 \\n18 \\n19 \\n20 \\n21 \\n22 \\n23 \\n24 \\n25 \\n26 \\n27 \\n28 \\n \\n \\n– 3 – \\nCOMPLAINT \\n \\n9. \\nOpenAI Global, LLC is a limited liability company formed in Delaware on \\nDecember 28, 2022. OpenAI Global, LLC is registered as an out-of-state limited liability company \\nwith the California Secretary of State and has it principal place of business at 1960 Bryant Street, \\nSan Francisco, CA 94110.  \\n10. \\nOAI Corporation, LLC is a limited liability company formed in Delaware. OAI \\nCorporation, LLC maintains its principal place of business in California.  \\n11. \\nOpenAI Holdings, LLC is a limited liability company formed in Delaware on March \\n17, 2023. OpenAI Holdings, LLC is registered as an out-of-state limited liability company with the \\nCalifornia Secretary of State and has it principal place of business at 1960 Bryant Street, San \\nFrancisco, CA 94110.  \\n12. \\nHereinafter, “OpenAI, Inc.” is used solely to refer to the non-profit entity or non-\\nprofit arm, while “OpenAI” is used generally to refer to OpenAI, Inc., OpenAI, L.P., OpenAI, \\nL.L.C., OpenAI GP, L.L.C., OpenAI OpCo, LLC, OpenAI Global, LLC, OAI Corporation, LLC, \\nand/or OpenAI Holdings, LLC.  \\n13. \\nPlaintiff is currently unaware as to the names and identities of Doe 1 through Doe \\n100.  \\nJURISDICTION AND VENUE \\n14. \\nOn information and belief, Plaintiff alleges that many of the occurrences, \\nrepresentations, and events upon which this action is based took place in County of San Francisco, \\nState of California, where the vast majority of Defendants reside or have their principal place of \\nbusiness, and the vast majority of the occurrences, representations, and events upon which this \\naction is based took place in the State of California.  \\nGENERAL ALLEGATIONS \\nOverview Of The Case \\nA. \\nThe Risk Of Artificial General Intelligence \\n15. \\nOver the course of the 20th century, the United States gradually shifted from a \\nprimarily human labor-based economy to a primarily human knowledge-based economy, with \\neconomic value increasingly created primarily by human intelligence. As the century progressed, \\n' metadata={'source': 'DataRepository/MuskComplaint.pdf', 'file_path': 'DataRepository/MuskComplaint.pdf', 'page': 2, 'total_pages': 46, 'format': 'PDF 1.7', 'title': '', 'author': '', 'subject': '', 'keywords': '', 'creator': '', 'producer': '', 'creationDate': '', 'modDate': '', 'trapped': ''} \n",
            "\n",
            "\n",
            "page_content='1 \\n2 \\n3 \\n4 \\n5 \\n6 \\n7 \\n8 \\n9 \\n10 \\n11 \\n12 \\n13 \\n14 \\n15 \\n16 \\n17 \\n18 \\n19 \\n20 \\n21 \\n22 \\n23 \\n24 \\n25 \\n26 \\n27 \\n28 \\n \\n \\n– 4 – \\nCOMPLAINT \\n \\nanother paradigm shift was already underway: value creation through artificial intelligence (AI). \\nEarly AI programs were capable of outperforming humans in certain discrete tasks. Almost \\nimmediately after the invention of the programmable computer, AI could show super-human \\nperformance on a highly formalized problem like finding the fastest path through a network of roads. \\nIt took longer for AI to reach superiority for problems requiring more creativity. In 1996, IBM’s \\nDeep Blue AI program beat Gary Kasparov, the then-world champion in chess. These programs, \\nwhile useful, were essentially one-trick-ponies—their intelligence was not general. Deep Blue had \\nmassive arrays of processors that could only play chess. Algorithms for path finding could solve a \\nmaze or route a car, but they could not paint a painting.  \\n16. \\nStarting in the late 2000s and early 2010s, an older algorithm called “deep learning” \\nbecame practical to implement on low-cost hardware for the first time. This caused an almost \\novernight revolution in performance across nearly all AI projects. New, top of class algorithms were \\ndeveloped for turning speech into text, translating between languages, and recognizing what kind of \\nfood is shown in a photo. One of the hallmarks of deep learning is that algorithms do not need to be \\ndesigned with significant knowledge of the task at hand. They learn each task from training \\nexamples, essentially programming themselves. This means that they are far more general-purpose \\nthan earlier systems like Deep Blue. \\n17. \\nAs deep learning algorithms became increasingly sophisticated, some of the world’s \\nleading AI researchers set their sights on what has come to be called Artificial General Intelligence \\n(AGI). The basic concept of AGI is a general purpose artificial intelligence system—a machine \\nhaving intelligence for a wide variety of tasks like a human.  \\n18. \\nMr. Musk has long recognized that AGI poses a grave threat to humanity—perhaps \\nthe greatest existential threat we face today. His concerns mirrored those raised before him by \\nluminaries like Stephen Hawking and Sun Microsystems founder Bill Joy. Our entire economy is \\nbased around the fact that humans work together and come up with the best solutions to a hard task. \\nIf a machine can solve nearly any task better than we can, that machine becomes more economically \\nuseful than we are. As Mr. Joy warned, with strong AGI, “the future doesn’t need us.” Mr. Musk \\n' metadata={'source': 'DataRepository/MuskComplaint.pdf', 'file_path': 'DataRepository/MuskComplaint.pdf', 'page': 3, 'total_pages': 46, 'format': 'PDF 1.7', 'title': '', 'author': '', 'subject': '', 'keywords': '', 'creator': '', 'producer': '', 'creationDate': '', 'modDate': '', 'trapped': ''} \n",
            "\n",
            "\n",
            "page_content='1 \\n2 \\n3 \\n4 \\n5 \\n6 \\n7 \\n8 \\n9 \\n10 \\n11 \\n12 \\n13 \\n14 \\n15 \\n16 \\n17 \\n18 \\n19 \\n20 \\n21 \\n22 \\n23 \\n24 \\n25 \\n26 \\n27 \\n28 \\n \\n \\n– 5 – \\nCOMPLAINT \\n \\npublicly called for a variety of measures to address the dangers of AGI, from voluntary moratoria \\nto regulation, but his calls largely fell on deaf ears.  \\n19. \\nBut where some like Mr. Musk see an existential threat in AGI, others see AGI as a \\nsource of profit and power.  \\n20. \\nIn 2014, Google acquired DeepMind, a research group focused on deep learning. \\nOne of DeepMind’s initial developments was AlphaZero, a chess playing algorithm. Unlike \\nprevious algorithms, however, AlphaZero used “reinforcement learning,” wherein the program \\nlearns to play chess by playing itself with different versions of the software. It starts by playing \\nrandomly, with no understanding of the game’s strategy. When one version of the software wins a \\ngame against another, the winning program’s internal pathways are “reinforced” and the process \\nrepeats.  \\n21. \\nAlphaZero rapidly became the strongest chess playing system in the world. \\nShockingly, it was also announced that the same program was also the strongest in the world for \\nplaying two other extremely difficult games. In Google/DeepMind’s words, “Starting from random \\nplay, and given no domain knowledge except the game rules, AlphaZero achieved within 24 hours \\na superhuman level of play in the games of chess and shogi (Japanese chess) as well as Go, and \\nconvincingly defeated a world-champion program in each case.” \\n22. \\nWith the DeepMind team, Google immediately catapulted to the front of the race for \\nAGI. Mr. Musk was deeply troubled by this development. He believed (and still does) that in the \\nhands of a closed, for-profit company like Google, AGI poses a particularly acute and noxious \\ndanger to humanity. In 2014, it was already difficult enough to compete with Google in its core \\nbusinesses. Google had collected a uniquely large set of data from our searches, our emails, and \\nnearly every book in our libraries. Nevertheless, up to this point, everyone had the potential to \\ncompete with Google through superior human intelligence and hard work. AGI would make \\ncompetition nearly impossible. \\nB. \\nThe Founding Agreement Of OpenAI, Inc. \\n23. \\nMr. Altman purported to share Mr. Musk’s concerns over the threat posed by AGI. \\nIn 2015, Mr. Altman wrote that the “[d]evelopment of superhuman machine intelligence (SMI) is \\n' metadata={'source': 'DataRepository/MuskComplaint.pdf', 'file_path': 'DataRepository/MuskComplaint.pdf', 'page': 4, 'total_pages': 46, 'format': 'PDF 1.7', 'title': '', 'author': '', 'subject': '', 'keywords': '', 'creator': '', 'producer': '', 'creationDate': '', 'modDate': '', 'trapped': ''} \n",
            "\n",
            "\n",
            "page_content='1 \\n2 \\n3 \\n4 \\n5 \\n6 \\n7 \\n8 \\n9 \\n10 \\n11 \\n12 \\n13 \\n14 \\n15 \\n16 \\n17 \\n18 \\n19 \\n20 \\n21 \\n22 \\n23 \\n24 \\n25 \\n26 \\n27 \\n28 \\n \\n \\n– 6 – \\nCOMPLAINT \\n \\nprobably the greatest threat to the continued existence of humanity. There are other threats that I \\nthink are more certain to happen . . . but are unlikely to destroy every human in the universe in the \\nway that SMI could.” Later that same year, Mr. Altman approached Mr. Musk with a proposal: that \\nthey join forces to form a non-profit AI lab that would try to catch up to Google in the race for AGI, \\nbut it would be the opposite of Google.  \\n24. \\nTogether with Mr. Brockman, the three agreed that this new lab: (a) would be a non-\\nprofit developing AGI for the benefit of humanity, not for a for-profit company seeking to maximize \\nshareholder profits; and (b) would be open-source, balancing only countervailing safety \\nconsiderations, and would not keep its technology closed and secret for proprietary commercial \\nreasons (The “Founding Agreement”). Reflecting the Founding Agreement, Mr. Musk named this \\nnew AI lab “OpenAI,” which would compete with, and serve as a vital counterbalance to, \\nGoogle/DeepMind in the race for AGI, but would do so to benefit humanity, not the shareholders \\nof a private, for-profit company (much less one of the largest technology companies in the world).  \\n25. \\nThe Founding Agreement was also memorialized, among other places, in OpenAI, \\nInc.’s December 8, 2015 Certificate of Incorporation, which affirmed that its “resulting technology \\nwill benefit the public and the corporation will seek to open source technology for the public benefit \\nwhen applicable. The corporation is not organized for the private gain of any person.” Ex. 1 at 1. \\nThe Certificate of Incorporation further affirmed that all of the corporation’s property was \\n“irrevocably dedicated” to these agreed purposes. Id. \\n26. \\nIn reliance on the Founding Agreement, which Mr. Altman, Mr. Brockman, and \\nOpenAI, Inc. reaffirmed with Mr. Musk on multiple occasions, Mr. Musk was a moving force \\nbehind the creation of OpenAI, Inc. contributing a majority of its funding in its first several years, \\nadvising on research directions, and most importantly, recruiting some of the world’s leading \\nscientists and engineers to work at the non-profit venture, including Chief Scientist Ilya Sutskever. \\nRecruiting for OpenAI, Inc. was a Herculean task in the face of relentless recruiting efforts by \\nGoogle/DeepMind, coupled with the lavish compensation Google/DeepMind offered. There would \\nhave been no OpenAI, Inc. without Mr. Musk’s founding contributions and early leadership. Mr. \\n' metadata={'source': 'DataRepository/MuskComplaint.pdf', 'file_path': 'DataRepository/MuskComplaint.pdf', 'page': 5, 'total_pages': 46, 'format': 'PDF 1.7', 'title': '', 'author': '', 'subject': '', 'keywords': '', 'creator': '', 'producer': '', 'creationDate': '', 'modDate': '', 'trapped': ''} \n",
            "\n",
            "\n",
            "page_content='1 \\n2 \\n3 \\n4 \\n5 \\n6 \\n7 \\n8 \\n9 \\n10 \\n11 \\n12 \\n13 \\n14 \\n15 \\n16 \\n17 \\n18 \\n19 \\n20 \\n21 \\n22 \\n23 \\n24 \\n25 \\n26 \\n27 \\n28 \\n \\n \\n– 7 – \\nCOMPLAINT \\n \\nMusk continued to make contributions to OpenAI, Inc. from its founding through September 14, \\n2020. \\n27. \\nOpenAI’s initial research was performed in the open, providing free and public \\naccess to designs, models, and code. When OpenAI, Inc. researchers discovered that an algorithm \\ncalled “Transformers,” initially invented by Google, could perform many natural language tasks \\nwithout any explicit training, entire communities sprung up to enhance and extend the models \\nreleased by OpenAI, Inc. These communities spread to open-source, grass-roots efforts and \\ncommercial entities alike.  \\n28. \\nMr. Altman became OpenAI, Inc.’s CEO in 2019. On September 22, 2020, OpenAI \\nentered into an agreement with Microsoft, exclusively licensing to Microsoft its Generative Pre-\\nTrained Transformer (GPT)-3 language model. However, OpenAI published a detailed paper \\ndescribing the internals and training data for GPT-3, enabling the community to create similar \\nmodels themselves. And, most critically, the Microsoft license only applied to OpenAI’s pre-AGI \\ntechnology. Microsoft obtained no rights to AGI. And it was up to OpenAI, Inc.’s non-profit Board, \\nnot Microsoft, to determine when OpenAI attained AGI. \\nC. \\nThe 2023 Breach Of The Founding Agreement \\n29. \\nIn 2023, Defendants Mr. Altman, Mr. Brockman, and OpenAI set the Founding \\nAgreement aflame.  \\n30. \\nIn March 2023, OpenAI released its most powerful language model yet, GPT-4. \\nGPT-4 is not just capable of reasoning. It is better at reasoning than average humans. It scored in \\nthe 90th percentile on the Uniform Bar Exam for lawyers. It scored in the 99th percentile on the \\nGRE Verbal Assessment. It even scored a 77% on the Advanced Sommelier examination. At this \\ntime, Mr. Altman caused OpenAI to radically depart from its original mission and historical practice \\nof making its technology and knowledge available to the public. GPT-4’s internal design was kept \\nand remains a complete secret except to OpenAI—and, on information and belief, Microsoft. There \\nare no scientific publications describing the design of GPT-4. Instead, there are just press releases \\nbragging about performance. On information and belief, this secrecy is primarily driven by \\ncommercial considerations, not safety. Although developed by OpenAI using contributions from \\n' metadata={'source': 'DataRepository/MuskComplaint.pdf', 'file_path': 'DataRepository/MuskComplaint.pdf', 'page': 6, 'total_pages': 46, 'format': 'PDF 1.7', 'title': '', 'author': '', 'subject': '', 'keywords': '', 'creator': '', 'producer': '', 'creationDate': '', 'modDate': '', 'trapped': ''} \n",
            "\n",
            "\n",
            "page_content='1 \\n2 \\n3 \\n4 \\n5 \\n6 \\n7 \\n8 \\n9 \\n10 \\n11 \\n12 \\n13 \\n14 \\n15 \\n16 \\n17 \\n18 \\n19 \\n20 \\n21 \\n22 \\n23 \\n24 \\n25 \\n26 \\n27 \\n28 \\n \\n \\n– 8 – \\nCOMPLAINT \\n \\nPlaintiff and others that were intended to benefit the public, GPT-4 is now a de facto Microsoft \\nproprietary algorithm, which it has integrated into its Office software suite.  \\n31. \\nFurthermore, on information and belief, GPT-4 is an AGI algorithm, and hence \\nexpressly outside the scope of Microsoft’s September 2020 exclusive license with OpenAI. In this \\nregard, Microsoft’s own researchers have publicly stated that, “[g]iven the breadth and depth of \\nGPT-4’s capabilities, we believe that it could reasonably be viewed as an early (yet still incomplete) \\nversion of an artificial general intelligence (AGI) system.” Moreover, on information and belief, \\nOpenAI is currently developing a model known as Q* (Q star) that has an even stronger claim to \\nAGI. As noted, Microsoft only has rights to certain of OpenAI’s pre-AGI technology. But for \\npurposes of the Microsoft license, it is up to OpenAI, Inc.’s Board to determine whether OpenAI \\nhas attained AGI, and a Board coup took place in November 2023. On November 17, 2023, OpenAI, \\nInc.’s Board fired Mr. Altman after losing “confidence in his ability to continue leading OpenAI” \\nbecause “he was not consistently candid with the board.” In a series of stunning developments \\nspanning the next several days, Mr. Altman and Mr. Brockman, in concert with Microsoft, exploited \\nMicrosoft’s significant leverage over OpenAI, Inc. and forced the resignation of a majority of \\nOpenAI, Inc.’s Board members, including Chief Scientist Ilya Sutskever. Mr. Altman was reinstated \\nas CEO of OpenAI, Inc. on November 21. On information and belief, the new Board members were \\nhand-picked by Mr. Altman and blessed by Microsoft. The new Board members lack substantial AI \\nexpertise and, on information and belief, are ill equipped by design to make an independent \\ndetermination of whether and when OpenAI has attained AGI—and hence when it has developed \\nan algorithm that is outside the scope of Microsoft’s license.  \\n32. \\nThese events of 2023 constitute flagrant breaches of the Founding Agreement, which \\nDefendants have essentially turned on its head. To this day, OpenAI, Inc.’s website continues to \\nprofess that its charter is to ensure that AGI “benefits all of humanity.” In reality, however, OpenAI, \\nInc. has been transformed into a closed-source de facto subsidiary of the largest technology company \\nin the world: Microsoft.1 Under its new Board, it is not just developing but is actually refining an \\nAGI to maximize profits for Microsoft, rather than for the benefit of humanity. Its technology, \\n                                                 \\n1 Microsoft’s market cap as of February 28, 2024 was $3.03 trillion.  \\n' metadata={'source': 'DataRepository/MuskComplaint.pdf', 'file_path': 'DataRepository/MuskComplaint.pdf', 'page': 7, 'total_pages': 46, 'format': 'PDF 1.7', 'title': '', 'author': '', 'subject': '', 'keywords': '', 'creator': '', 'producer': '', 'creationDate': '', 'modDate': '', 'trapped': ''} \n",
            "\n",
            "\n",
            "page_content='1 \\n2 \\n3 \\n4 \\n5 \\n6 \\n7 \\n8 \\n9 \\n10 \\n11 \\n12 \\n13 \\n14 \\n15 \\n16 \\n17 \\n18 \\n19 \\n20 \\n21 \\n22 \\n23 \\n24 \\n25 \\n26 \\n27 \\n28 \\n \\n \\n– 9 – \\nCOMPLAINT \\n \\nincluding GPT-4, is closed-source primarily to serve the proprietary commercial interests of \\nMicrosoft. Indeed, as the November 2023 drama was unfolding, Microsoft’s CEO boasted that it \\nwould not matter “[i]f OpenAI disappeared tomorrow.” He explained that “[w]e have all the IP \\nrights and all the capability.” “We have the people, we have the compute, we have the data, we have \\neverything.” “We are below them, above them, around them.”  \\n33. \\nThis case is filed to compel OpenAI to adhere to the Founding Agreement and return \\nto its mission to develop AGI for the benefit of humanity, not to personally benefit the individual \\nDefendants and the largest technology company in the world.  \\nDetailed Allegations \\nA. \\nMr. Musk’s Concerns Over AGI Falling Into The Wrong Hands \\n34. \\nIn 2012, Elon Musk met Demis Hassabis, the co-founder of DeepMind, a for-profit \\nartificial intelligence company. On or about this time, Mr. Musk and Mr. Hassabis met at SpaceX’s \\nfactory in Hawthorne, California where Mr. Musk and Mr. Hassabis discussed the greatest threats \\nfacing society. During this conversation, Mr. Hassabis emphasized the potential dangers that the \\nadvancement of AI presents to society.     \\n35. \\nFollowing this conversation with Mr. Hassabis, Mr. Musk became increasingly \\nconcerned about the potential of AI to become super-intelligent, surpass human intelligence, and \\nthreaten humanity. Indeed, Mr. Musk was not the only person afraid about the dangers of AI and \\nthe research being conducted at DeepMind. It has been reported that following a meeting with Mr. \\nHassabis and investors in DeepMind, one of the investors remarked that the best thing he could have \\ndone for the human race was shoot Mr. Hassabis then and there. \\n36. \\nMr. Musk began discussing AI and DeepMind with those in his orbit, such as Larry \\nPage, then-CEO of Google’s parent company Alphabet, Inc. Mr. Musk would frequently raise the \\ndangers of AI in his conversations with Mr. Page, but to Mr. Musk’s shock, Mr. Page was \\nunconcerned. For example, in 2013, Mr. Musk had a passionate exchange with Mr. Page about the \\ndangers of AI. He warned that unless safeguards were put in place, “artificial intelligence-systems \\nmight replace humans, making our species irrelevant or even extinct.” Mr. Page responded that \\nwould merely “be the next stage of evolution,” and claimed Mr. Musk was being a “specist”—that \\n' metadata={'source': 'DataRepository/MuskComplaint.pdf', 'file_path': 'DataRepository/MuskComplaint.pdf', 'page': 8, 'total_pages': 46, 'format': 'PDF 1.7', 'title': '', 'author': '', 'subject': '', 'keywords': '', 'creator': '', 'producer': '', 'creationDate': '', 'modDate': '', 'trapped': ''} \n",
            "\n",
            "\n",
            "page_content='1 \\n2 \\n3 \\n4 \\n5 \\n6 \\n7 \\n8 \\n9 \\n10 \\n11 \\n12 \\n13 \\n14 \\n15 \\n16 \\n17 \\n18 \\n19 \\n20 \\n21 \\n22 \\n23 \\n24 \\n25 \\n26 \\n27 \\n28 \\n \\n \\n– 10 – \\nCOMPLAINT \\n \\nhe favored the human species over intelligent machines. Mr. Musk responded, “Well, yes, I am pro-\\nhuman.” \\n37. \\nAt the end of 2013, Mr. Musk learned to his grave concern that Google was planning \\nto acquire DeepMind. At the time, DeepMind was one of the most advanced AI companies in the \\nindustry. Thus, Mr. Musk was deeply concerned that DeepMind’s AI technology would be in the \\nhands of someone who viewed it and its power so cavalierly, and could hide its design and \\ncapabilities behind closed doors.  \\n38. \\nIn an effort to prevent this powerful technology from falling into Google’s hands, \\nMr. Musk and Luke Nosek, a co-founder of PayPal, attempted to put together funding to buy \\nDeepMind. This effort culminated in an hour-long call wherein Mr. Musk and Mr. Nosek made one \\nlast effort to convince Mr. Hassabis not to sell DeepMind to Google. Mr. Musk told Mr. Hassabis \\nthat “[t]he future of AI should not be controlled by Larry [Page].”  \\n39. \\nMr. Musk and Mr. Nosek’s effort was unsuccessful. It was reported in January 2014 \\nthat DeepMind would be acquired by Google. However, this did not deter Mr. Musk from continuing \\nto ensure that AI was developed and practiced safely. \\n40. \\nFollowing Google’s acquisition of DeepMind, Mr. Musk began “hosting his own \\nseries of dinner discussions on ways to counter Google and promote AI safety.” Mr. Musk also \\nreached out to President Barack Obama to discuss AI and AI safety. In 2015, Mr. Musk and \\nPresident Obama had a meeting during which Mr. Musk explained the dangers of AI and advocated \\nfor regulation. Mr. Musk felt that President Obama understood the dangers of AI, but regulation \\nnever came. \\n41. \\nDespite these setbacks, Mr. Musk continued to advocate for safe AI practices. In \\n2015, it appeared that Mr. Musk may have found someone who understood his concerns about AI \\nand his desire to keep the first AGI out of the hands of a private company like Google: Defendant \\nSam Altman.   \\n42. \\nAt this time, Mr. Altman was the president of Y Combinator, a start-up accelerator \\nin Silicon Valley. Before that, Mr. Altman had been involved in various startup ventures.  \\n' metadata={'source': 'DataRepository/MuskComplaint.pdf', 'file_path': 'DataRepository/MuskComplaint.pdf', 'page': 9, 'total_pages': 46, 'format': 'PDF 1.7', 'title': '', 'author': '', 'subject': '', 'keywords': '', 'creator': '', 'producer': '', 'creationDate': '', 'modDate': '', 'trapped': ''} \n",
            "\n",
            "\n",
            "page_content='1 \\n2 \\n3 \\n4 \\n5 \\n6 \\n7 \\n8 \\n9 \\n10 \\n11 \\n12 \\n13 \\n14 \\n15 \\n16 \\n17 \\n18 \\n19 \\n20 \\n21 \\n22 \\n23 \\n24 \\n25 \\n26 \\n27 \\n28 \\n \\n \\n– 11 – \\nCOMPLAINT \\n \\n43. \\nMr. Altman appeared to share Mr. Musk’s concerns surrounding AI. In public blog \\nposts dating back to 2014, Mr. Altman stated that AGI, if made, would “be the biggest development \\nin technology ever.” Mr. Altman pointed out that there are many companies making strides towards \\nachieving AGI, but acknowledged the unfortunate reality that the “good ones are very secretive \\nabout it.” \\n44. \\nOn February 25, 2015, Mr. Altman also expressed his concern surrounding the \\ndevelopment of what he referred to as “superhuman machine intelligence” which he identified as \\n“probably the greatest threat to the continued existence of humanity” and emphasized that “as a \\nhuman programmed to survive and reproduce, I feel we should fight it.” Further, Mr. Altman \\ncriticized those who believed that “superhuman machine intelligence” was dangerous but dismissed \\nit as “never going to happen or definitely very far off.” He accused them of engaging in “sloppy, \\ndangerous thinking.” \\n45. \\nIndeed, in early March 2015, Mr. Altman extolled the importance of government \\nregulation as a means to ensure AI is created safely and suggested that “a group of very smart people \\nwith a lot of resources” likely involving “US companies in some way” would be the most probable \\ngroup to achieve “superhuman machine intelligence” first. \\n46. \\nLater that month, Mr. Altman reached out to Mr. Musk to inquire whether he would \\nbe interested in drafting an open letter to the United States Government regarding AI. The two began \\npreparing a letter and approaching those of influence in the technology and AI sectors about signing. \\nIt did not take long before those across the industry heard rumors of the letter.  \\n47. \\nFor example, in April of 2015, Mr. Hassabis reached out to Mr. Musk stating that he \\nhad heard from multiple sources that Mr. Musk was drafting a letter addressed to the President \\ncalling for regulation of AI. Mr. Musk defended the idea of the regulation of AI to Mr. Hassabis, \\nstating: “If done well, it may very well accelerate AI in the long term. Without the public comfort \\nthat regulatory oversight provides, there could very well be a situation where an AI causes great \\nharm and thereafter AI research is banned as dangerous to public safety.” \\n48. \\nFive days after Mr. Hassabis reached out to Mr. Musk about the open letter regarding \\nAI, Mr. Hassabis announced the first meeting of the Google DeepMind AI Ethics Board, a board \\n' metadata={'source': 'DataRepository/MuskComplaint.pdf', 'file_path': 'DataRepository/MuskComplaint.pdf', 'page': 10, 'total_pages': 46, 'format': 'PDF 1.7', 'title': '', 'author': '', 'subject': '', 'keywords': '', 'creator': '', 'producer': '', 'creationDate': '', 'modDate': '', 'trapped': ''} \n",
            "\n",
            "\n",
            "page_content='1 \\n2 \\n3 \\n4 \\n5 \\n6 \\n7 \\n8 \\n9 \\n10 \\n11 \\n12 \\n13 \\n14 \\n15 \\n16 \\n17 \\n18 \\n19 \\n20 \\n21 \\n22 \\n23 \\n24 \\n25 \\n26 \\n27 \\n28 \\n \\n \\n– 12 – \\nCOMPLAINT \\n \\nthat Google and DeepMind promised to establish two years earlier when Google acquired \\nDeepMind. Mr. Musk was asked to be a member of the board and offered for the first meeting to be \\nhosted at SpaceX in Hawthorne, California. It became clear to Mr. Musk after the first meeting that \\nthis board was not a serious endeavor, but was rather a façade to try to slow down any regulation \\nof AI.  \\n49. \\nThe Open Letter was later published on October 28, 2015, and signed by over eleven \\nthousand individuals, including Mr. Musk, Stephen Hawking, and Steve Wozniak. \\nB. \\nOpenAI, Inc.’s Founding Agreement \\n50. \\nOn May 25, 2015, Mr. Altman emailed Mr. Musk, writing that he had “[b]een \\nthinking a lot about whether it’s possible to stop humanity from developing AI. I think the answer \\nis almost definitely not. If it’s going to happen, it seems like it would be good for someone other \\nthan Google to do it first.” Mr. Altman had an idea: that Y Combinator start a “Manhattan Project” \\nfor AI. (Unfortunately, it turns out that the “Manhattan Project” is a moniker that may be all too \\napt.) He proposed that “we could structure it so that the tech belongs to the world via some sort of \\nnonprofit but the people working on it get startup-like compensation if it works. Obviously we’d \\ncomply with/aggressively support all regulation.” Mr. Musk responded, “Probably worth a \\nconversation.” \\n51. \\nAfter further communications, Mr. Altman emailed Mr. Musk on June 24, 2015 with \\na detailed proposal for this new “AI lab.” “The mission would be to create the first general AI and \\nuse it for individual empowerment—ie, the distributed version of the future that seems the safest. \\nMore generally, safety should be a first-class requirement.” “The technology would be owned by \\nthe foundation and used ‘for the good of the world’[.]” He proposed that they start with a group of \\n7-10 people and expand from there. He also proposed a governance structure. Mr. Musk responded, \\n“Agree on all.” Ex. 2 at 1.  \\n52. \\nSoon thereafter, Mr. Altman began recruiting others to help with the development of \\nthe project. Notably, Mr. Altman approached Gregory Brockman to help with the project.  \\n53. \\nIn November 2015, Mr. Altman put Mr. Brockman in communication with Mr. Musk \\nvia email. Regarding the project, Mr. Brockman told Mr. Musk, “I hope for us to enter the field as \\n' metadata={'source': 'DataRepository/MuskComplaint.pdf', 'file_path': 'DataRepository/MuskComplaint.pdf', 'page': 11, 'total_pages': 46, 'format': 'PDF 1.7', 'title': '', 'author': '', 'subject': '', 'keywords': '', 'creator': '', 'producer': '', 'creationDate': '', 'modDate': '', 'trapped': ''} \n",
            "\n",
            "\n",
            "page_content='1 \\n2 \\n3 \\n4 \\n5 \\n6 \\n7 \\n8 \\n9 \\n10 \\n11 \\n12 \\n13 \\n14 \\n15 \\n16 \\n17 \\n18 \\n19 \\n20 \\n21 \\n22 \\n23 \\n24 \\n25 \\n26 \\n27 \\n28 \\n \\n \\n– 13 – \\nCOMPLAINT \\n \\na neutral group looking to collaborate widely and shift the dialog towards being about humanity \\nwinning rather than any particular group or company. (I think that’s the best way to bootstrap \\nourselves into being a leading research institution.).” Optimistic about the possibility of a neutral AI \\nresearch group focused on humanity rather than profit for any particular individual or group, \\nMr. Musk told Mr. Brockman that he would commit funding. \\n54. \\nMr. Musk came up with the name of the new lab, a name reflecting the Founding \\nAgreement: “Open AI Institute,” or simply, “OpenAI.”  \\n55. \\nWith these principles of the Founding Agreement in mind, Mr. Musk joined forces \\nwith Mr. Altman and Mr. Brockman to formalize and launch the project. Mr. Musk was actively \\ninvolved in the project, even prior to it being publicly announced. For example, Mr. Musk advised \\nMr. Brockman on compensation packages for employees, sharing with Mr. Brockman his strategies \\nfor compensation and retaining talent.  \\n56. \\nOn December 8, 2015, a Certificate of Incorporation for OpenAI, Inc. was filed with \\nthe Delaware Secretary of State. The Certificate memorialized in writing the Founding Agreement: \\nTHIRD: This Corporation shall be a nonprofit corporation organized exclusively for \\ncharitable and/or educational purposes within the meaning of section 501(c)(3) of \\nthe Internal Revenue Code of 1986, as amended, or the corresponding provision of \\nany future United States Internal Revenue law. The specific purpose of this \\ncorporation is to provide funding for research, development and distribution of \\ntechnology related to artificial intelligence. The resulting technology will benefit the \\npublic and the corporation will seek to open source technology for the public benefit \\nwhen applicable. The corporation is not organized for the private gain of any \\nperson. . . . \\nFIFTH: The property of this corporation is irrevocably dedicated to the purposes in \\nArticle THREE hereof and no part of the net income or assets of this corporation \\nshall ever inure to the benefit of any director, officer or member thereof or to the \\nbenefit of any private person. Upon the dissolution or winding up of this corporation, \\nits assets remaining after payment, or provision for payment, of all debts and \\nliabilities of this corporation shall be distributed to a nonprofit fund, foundation, or \\ncorporation which is organized and operated exclusively for charitable, educational \\nand/or religious purposes and which has established its tax exempt status under \\nInternal Revenue Code section 501(c)(3), or the corresponding section of any future \\nfederal tax code, or shall be distributed to the federal government, or to a state or \\nlocal government, for a public purpose. \\n' metadata={'source': 'DataRepository/MuskComplaint.pdf', 'file_path': 'DataRepository/MuskComplaint.pdf', 'page': 12, 'total_pages': 46, 'format': 'PDF 1.7', 'title': '', 'author': '', 'subject': '', 'keywords': '', 'creator': '', 'producer': '', 'creationDate': '', 'modDate': '', 'trapped': ''} \n",
            "\n",
            "\n",
            "page_content='1 \\n2 \\n3 \\n4 \\n5 \\n6 \\n7 \\n8 \\n9 \\n10 \\n11 \\n12 \\n13 \\n14 \\n15 \\n16 \\n17 \\n18 \\n19 \\n20 \\n21 \\n22 \\n23 \\n24 \\n25 \\n26 \\n27 \\n28 \\n \\n \\n– 14 – \\nCOMPLAINT \\n \\n57. \\nOpenAI, Inc. was publicly announced on December 11, 2015. In the announcement, \\nMr. Musk and Mr. Altman were named as co-chairs and Mr. Brockman was named as the CTO. The \\nannouncement emphasized that OpenAI was designed to “benefit humanity,” and its research would \\nbe “free from financial obligation”: \\nOpenAI is a non-profit artificial intelligence research company. Our goal is to \\nadvance digital intelligence in the way that is most likely to benefit humanity as a \\nwhole, unconstrained by a need to generate financial return. Since our research is \\nfree from financial obligations, we can better focus on a positive human impact.  \\nEx. 3 at 1. \\nC. \\nMr. Musk’s Crucial Role In Getting OpenAI, Inc. Off The Ground \\n58. \\nIn an email on the day of the public announcement, Mr. Musk wrote that “[o]ur most \\nimportant consideration is recruitment of the best people.” He pledged that helping with the \\nrecruiting effort would be his “absolute top priority 24/7.” He acknowledged that “[w]e are \\noutmanned and outgunned by a ridiculous margin by organizations you know well, but we have \\nright on our side and that counts for a lot. I like the odds.” Mr. Musk brought to bear his connections, \\nstature and clout in the effort. The fact that OpenAI, Inc. was an Elon Musk-sponsored initiative, \\nand that Mr. Musk served as co-chair, was instrumental to OpenAI, Inc.’s recruiting efforts, \\nparticularly in the face of Google/DeepMind’s counter-recruiting. Without Mr. Musk’s involvement \\nand substantial supporting efforts and resources—his consideration for the Founding Agreement—\\nit is highly likely that OpenAI, Inc. would never have gotten off the ground. \\n59. \\nOne of the most important initial hires was for the role of Chief Scientist. Mr. \\nAltman, Mr. Brockman, and Mr. Musk all wanted Ilya Sutskever, then a research scientist at Google, \\nin that role. Dr. Sutskever went back and forth on whether to leave Google and join the project, but \\nit was ultimately a call from Mr. Musk on the day OpenAI, Inc. was publicly announced that \\nconvinced Dr. Sutskever to commit to joining the project as OpenAI, Inc.’s Chief Scientist.  \\n60. \\nMr. Musk actively recruited for OpenAI, Inc. over the next several months. \\nGoogle/DeepMind made increasingly lavish counter-offers to OpenAI, Inc. recruits in an attempt to \\nkill the new venture. In late February, Mr. Musk emailed Mr. Brockman and Mr. Altman, reiterating \\nthat “[w]e need to do what it takes to get the top talent. Let’s go higher. If, at some point, we need \\n' metadata={'source': 'DataRepository/MuskComplaint.pdf', 'file_path': 'DataRepository/MuskComplaint.pdf', 'page': 13, 'total_pages': 46, 'format': 'PDF 1.7', 'title': '', 'author': '', 'subject': '', 'keywords': '', 'creator': '', 'producer': '', 'creationDate': '', 'modDate': '', 'trapped': ''} \n",
            "\n",
            "\n",
            "page_content='1 \\n2 \\n3 \\n4 \\n5 \\n6 \\n7 \\n8 \\n9 \\n10 \\n11 \\n12 \\n13 \\n14 \\n15 \\n16 \\n17 \\n18 \\n19 \\n20 \\n21 \\n22 \\n23 \\n24 \\n25 \\n26 \\n27 \\n28 \\n \\n \\n– 15 – \\nCOMPLAINT \\n \\nto revisit what existing people are getting paid, that’s fine. Either we get the best people in the world \\nor we will get whipped by Deepmind. Whatever it takes to bring on ace talent is fin[e] by me. \\nDeepmind is causing me extreme mental stress. If they win, it will be really bad news with their one \\nmind to rule the world philosophy. They are obviously making major progress and well they should, \\ngiven the talent level over there.” \\n61. \\nMr. Musk was not just using his connections and clout to recruit on behalf of OpenAI, \\nInc. When he told Mr. Brockman and Mr. Altman to go “higher” in their offers and “do what it takes \\nto get the top talent,” he was the one funding those higher offers. In 2016 alone, Mr. Musk \\ncontributed over $15 million dollars to OpenAI, Inc., more than any other donor. The funding he \\nprovided enabled OpenAI, Inc. to assemble a team of top talent. Similarly, in 2017, Mr. Musk \\ncontributed nearly $20 million dollars to OpenAI, Inc., again, more than any other donor. All told, \\nMr. Musk contributed more than $44 million to OpenAI, Inc. between 2016 and September 2020.  \\n62. \\nIn addition, through Musk Industries LLC, Mr. Musk leased OpenAI, Inc.’s initial \\noffice space in the Pioneer Building in San Francisco and paid the monthly rental expenses. Mr. \\nMusk regularly visited OpenAI, Inc., and was present for important company milestones, such as \\nwhen the first DGX-1 AI supercomputer was donated to OpenAI, Inc. in 2016. Mr. Musk would \\nreceive updates on OpenAI, Inc.’s progress and would provide his feedback and advice. \\nD. \\nMr. Altman And Mr. Brockman Repeatedly Reaffirm The Founding Agreement \\n63. \\nIn 2017, Mr. Brockman and others suggested transforming OpenAI, Inc. from a non-\\nprofit to a for-profit corporation. After a series of communications over several weeks, Mr. Musk \\ntold Mr. Brockman, Dr. Sutskever, and Mr. Altman “[e]ither go do something on your own or \\ncontinue with OpenAI as a nonprofit. I will no longer fund OpenAI until you have made a firm \\ncommitment to stay or I’m just being a fool who is essentially providing free funding to a startup. \\nDiscussions are over.”  \\n64. \\nIn response, Mr. Altman told Mr. Musk “[I] remain enthusiastic about the non-profit \\nstructure!” Ultimately, Mr. Brockman and Mr. Sustkever conveyed to Mr. Musk that they, too, were \\nresolved to continuing the non-profit structure, and that they would spend the next year committed \\nto fundraising to support the non-profit.  \\n' metadata={'source': 'DataRepository/MuskComplaint.pdf', 'file_path': 'DataRepository/MuskComplaint.pdf', 'page': 14, 'total_pages': 46, 'format': 'PDF 1.7', 'title': '', 'author': '', 'subject': '', 'keywords': '', 'creator': '', 'producer': '', 'creationDate': '', 'modDate': '', 'trapped': ''} \n",
            "\n",
            "\n",
            "page_content='1 \\n2 \\n3 \\n4 \\n5 \\n6 \\n7 \\n8 \\n9 \\n10 \\n11 \\n12 \\n13 \\n14 \\n15 \\n16 \\n17 \\n18 \\n19 \\n20 \\n21 \\n22 \\n23 \\n24 \\n25 \\n26 \\n27 \\n28 \\n \\n \\n– 16 – \\nCOMPLAINT \\n \\n65. \\nOn February 21, 2018, Mr. Musk stepped down as a co-chair of OpenAI, Inc. \\nNevertheless, Mr. Musk continued making contributions to OpenAI, Inc. relying on, and in \\nfurtherance of, the Founding Agreement. For example, in 2018, Mr. Musk donated approximately \\n$3.5 million to OpenAI, Inc. He also continued receiving updates about OpenAI, Inc. from Mr. \\nBrockman, Dr. Sutskever, and Mr. Altman.  \\n66. \\nIn April 2018, Mr. Altman sent Mr. Musk a draft OpenAI Charter and solicited his \\nfeedback. The draft charter described OpenAI’s mission as to ensure that AGI “benefits all of \\nhumanity.” It stated, “We commit to use any influence we obtain over AGI’s deployment to ensure \\nit is used for the benefit of all, and to avoid enabling uses of AI or AGI that harm humanity or unduly \\nconcentrate power. Our primary fiduciary duty is to humanity. We anticipate needing to marshal \\nsubstantial resources to fulfill our mission, but will always assiduously act to minimize conflicts of \\ninterest . . . that could compromise broad benefit.” \\n67. \\nOn March 11, 2019, OpenAI, Inc. announced that it would be creating a for-profit \\nsubsidiary: OpenAI, L.P. Prospective investors were notified of an “important warning” at the top \\nof the summary term sheet that the for-profit entity “exists to advance OpenAI Inc.’s [the non-\\nprofit’s] mission of ensuring that safe artificial general intelligence is developed and benefits all of \\nhumanity. The General Partner’s duty to this mission and the principles advanced in the OpenAI \\nInc. Charter take precedence over any obligation to generate a profit.” Accordingly, investors were \\nexpressly advised that “[i]t would be wise to view any investment in OpenAI LP in the spirit of a \\ndonation.”  \\n68. \\nFollowing the announcement, Mr. Musk reached out to Mr. Altman asking him to \\n“be explicit that I have no financial interest in the for-profit arm of OpenAI.” However, Mr. Musk \\ncontinued to support OpenAI, Inc., the non-profit, donating an additional $3.48 million in 2019.  \\n69. \\nOn September 22, 2020, OpenAI announced that it exclusively licensed certain of its \\npre-AGI technology to Microsoft. Consistent with the Founding Agreement, OpenAI’s website \\nstates that AGI, which it describes as “a highly autonomous system that outperforms humans at most \\neconomically valuable work” “is excluded from IP licenses and other commercial terms with \\n' metadata={'source': 'DataRepository/MuskComplaint.pdf', 'file_path': 'DataRepository/MuskComplaint.pdf', 'page': 15, 'total_pages': 46, 'format': 'PDF 1.7', 'title': '', 'author': '', 'subject': '', 'keywords': '', 'creator': '', 'producer': '', 'creationDate': '', 'modDate': '', 'trapped': ''} \n",
            "\n",
            "\n",
            "page_content='1 \\n2 \\n3 \\n4 \\n5 \\n6 \\n7 \\n8 \\n9 \\n10 \\n11 \\n12 \\n13 \\n14 \\n15 \\n16 \\n17 \\n18 \\n19 \\n20 \\n21 \\n22 \\n23 \\n24 \\n25 \\n26 \\n27 \\n28 \\n \\n \\n– 17 – \\nCOMPLAINT \\n \\nMicrosoft, which only apply to pre-AGI technology.” However, OpenAI’s Board “determines when \\nwe’ve attained AGI.”  \\nE. \\nOpenAI’s Shifting Corporate Structure \\n70. \\nIn the years following the announcement of the OpenAI, L.P., OpenAI’s corporate \\nstructure became increasingly complex. OpenAI, L.L.C. was formed in Delaware on September 17, \\n2020. OpenAI, L.L.C.’s sole member is OpenAI OpCo, LLC.  \\n71. \\nOpenAI OpCo, LLC was formed in Delaware on September 19, 2018, and its sole \\nmember is OpenAI Global, LLC.  \\n72. \\nOpenAI Global, LLC was formed in Delaware on December 28, 2022. On \\ninformation and belief, OpenAI Global, LLC, like OpenAI, L.P., is a capped for-profit entity. \\nOpenAI Global, LLC has two members: Microsoft Corporation and OAI Corporation, LLC.  \\n73. \\nOAI Corporation, LLC is a limited liability company formed in Delaware. The sole \\nmember of OAI Corporation, LLC is OpenAI Holdings, LLC.  \\n74. \\nOpenAI Holdings, LLC was formed in Delaware on March 17, 2023, and has \\nmultiple members including OpenAI, Inc., Aestas, LLC, and various individual members.  \\n75. \\nOn information and belief, OpenAI, Inc. manages OpenAI, L.P. and OpenAI Global, \\nLLC through its general partner, OpenAI GP, L.L.C., which was registered as a limited liability \\ncompany in Delaware on September 19, 2018. OpenAI GP, L.L.C. is wholly owned by OpenAI, \\nInc. (the non-profit), and is controlled by the non-profit’s Board of Directors. Under OpenAI’s \\ncharter, the Board has no fiduciary duties to shareholders; rather, its sole fiduciary duty is to \\nhumanity.  \\n76. \\nOn information and belief, at least OpenAI, L.P. and OpenAI GP LLC were initially \\nestablished to facilitate and fund OpenAI, Inc.’s non-profit mission as set forth in the Founding \\nAgreement.   \\nF. \\nThe Development Of OpenAI’s Technology—From AI To AGI \\n77. \\nInitial work at OpenAI followed much in the footsteps of DeepMind. OpenAI used \\nreinforcement learning to play a game. Instead of playing chess, however, OpenAI competed in \\nDota 2, a strategy video game with far more moving pieces than chess. OpenAI’s team quickly \\n' metadata={'source': 'DataRepository/MuskComplaint.pdf', 'file_path': 'DataRepository/MuskComplaint.pdf', 'page': 16, 'total_pages': 46, 'format': 'PDF 1.7', 'title': '', 'author': '', 'subject': '', 'keywords': '', 'creator': '', 'producer': '', 'creationDate': '', 'modDate': '', 'trapped': ''} \n",
            "\n",
            "\n",
            "page_content='1 \\n2 \\n3 \\n4 \\n5 \\n6 \\n7 \\n8 \\n9 \\n10 \\n11 \\n12 \\n13 \\n14 \\n15 \\n16 \\n17 \\n18 \\n19 \\n20 \\n21 \\n22 \\n23 \\n24 \\n25 \\n26 \\n27 \\n28 \\n \\n \\n– 18 – \\nCOMPLAINT \\n \\nconstructed a new model that beat the reigning world champion team, demonstrating “that self-play \\nreinforcement learning can achieve superhuman performance on a difficult task.” \\n78. \\nMeanwhile, at Google, an algorithm called the Transformer was created that solved \\nmany of the issues deep learning had faced in understanding long sequences of text. This algorithm, \\nan example of a “large-language model,” was developed to translate text from one language to \\nanother and works by forming connections between words in the source language and mapping \\nthose connections to the target language. \\n79. \\nResearchers at OpenAI continued this research and quickly produced yet another \\nstartling result: by using the first half of Google’s Transformer architecture, a deep neural network \\ncould be pre-trained on a large corpus of text and used to generate new text. In January 2018, \\nOpenAI released the source code and trained model for this Generative Pre-Trained Transformer \\n(GPT) along with a detailed paper describing the model and its capabilities  \\n80. \\nIn 2019, OpenAI released a second-generation model, GPT-2. The release was again \\naccompanied by a detailed paper describing the model and noting that unlike previous models, \\nwhich needed to be trained on a specific task, “[w]hen a large language model is trained on a \\nsufficiently large and diverse dataset it is able to perform well across many domains and datasets.” \\nThese models were proving themselves to be very different from previous AI systems. Instead of \\ntraining the system to perform a particular task, they could be simply “asked” to perform a new task \\nin natural language.   \\n81. \\nAs contemplated by the Founding Agreement, OpenAI publicly released the full \\nversion of GPT-2. Notably, it did so despite the fact that “humans find GPT-2 outputs convincing,” \\nthat “GPT-2 can be fine-tuned for misuse,” and that “detection [of GPT generated text] is \\nchallenging.” At the time, OpenAI stated that it was releasing the full, open version with the hope \\nthat it “will be useful to developers of future powerful models.” This release was accompanied by a \\ndetailed paper co-authored by OpenAI scientists as well as independent social and technical \\nscientists. This paper explained just some of the many benefits that came from releasing models \\npublically as opposed to keeping them closed. \\n' metadata={'source': 'DataRepository/MuskComplaint.pdf', 'file_path': 'DataRepository/MuskComplaint.pdf', 'page': 17, 'total_pages': 46, 'format': 'PDF 1.7', 'title': '', 'author': '', 'subject': '', 'keywords': '', 'creator': '', 'producer': '', 'creationDate': '', 'modDate': '', 'trapped': ''} \n",
            "\n",
            "\n",
            "page_content='1 \\n2 \\n3 \\n4 \\n5 \\n6 \\n7 \\n8 \\n9 \\n10 \\n11 \\n12 \\n13 \\n14 \\n15 \\n16 \\n17 \\n18 \\n19 \\n20 \\n21 \\n22 \\n23 \\n24 \\n25 \\n26 \\n27 \\n28 \\n \\n \\n– 19 – \\nCOMPLAINT \\n \\n82. \\nTheir publication did prove to be useful to the developers of future, powerful models. \\nEntire communities sprung up to enhance and extend the models released by OpenAI. These \\ncommunities spread to open-source, grass-roots efforts and commercial entities alike. \\n83. \\nIn 2020, OpenAI announced a third version of its model, GPT-3. It used “175 billion \\nparameters, 10x more than any previous non-sparse language model.” Again, OpenAI announced \\nthe development of this model with the publication of a research paper describing its complete \\nimplementation for others to build on. \\n84. \\nIn 2022, researchers at Google took these results and showed that a small change \\ncalled chain-of-thought prompting could enable “large language models to perform complex \\nreasoning.” Researchers at the University of Tokyo and Google quickly expanded on Google’s \\nresults and showed that OpenAI’s GPT-3 could reason about an entirely new problem in a step-by-\\nstep manner, like a human, “by simply adding ‘Let’s think step by step’ before each answer.”  \\n85. \\nA path to Artificial Generative Intelligence could be seen. And the timeline to it was \\ndramatically compressing. \\n86. \\nOn March 14, 2023, OpenAI released a new generation of its model, GPT-4. This \\ngeneration was not just capable of reasoning but was better at reasoning than average humans. \\nGPT-4 scored in the 90th percentile on the Uniform Bar Exam. It scored in the 99th percentile on \\nthe GRE Verbal Assessment. It even scored a 77% on the Advanced Sommelier examination. By \\nOpenAI’s own objective measures, GPT-4 is already capable of intelligence that is superior to \\nhumans on a wide variety of economically valuable tasks. \\n87. \\nThis development was not lost on the research community. In a detailed analysis \\ntitled “Sparks of Artificial General Intelligence: Early experiments with GPT-4,” Microsoft \\nresearchers note that “GPT-4 can solve novel and difficult tasks that span mathematics, coding, \\nvision, medicine, law, psychology and more, without needing any special prompting. Moreover, in \\nall of these tasks, GPT-4’s performance is strikingly close to human-level performance, and often \\nvastly surpasses prior models such as [GPT-3.5 based] ChatGPT.”    \\n88. \\nThey compared the performance of GPT-4 with the performance of GPT-3 based \\nsystems and found that “there is no comparison with the outputs from GPT-4.” On mathematical \\n' metadata={'source': 'DataRepository/MuskComplaint.pdf', 'file_path': 'DataRepository/MuskComplaint.pdf', 'page': 18, 'total_pages': 46, 'format': 'PDF 1.7', 'title': '', 'author': '', 'subject': '', 'keywords': '', 'creator': '', 'producer': '', 'creationDate': '', 'modDate': '', 'trapped': ''} \n",
            "\n",
            "\n",
            "page_content='1 \\n2 \\n3 \\n4 \\n5 \\n6 \\n7 \\n8 \\n9 \\n10 \\n11 \\n12 \\n13 \\n14 \\n15 \\n16 \\n17 \\n18 \\n19 \\n20 \\n21 \\n22 \\n23 \\n24 \\n25 \\n26 \\n27 \\n28 \\n \\n \\n– 20 – \\nCOMPLAINT \\n \\nproblems, they show that “[t]he solution given by GPT-4 is correct and the argument is sound, while \\nChatGPT [based on GPT-3] produces an incorrect solution which (in the case of a human) would \\nreflect a lack of understanding of the concept of function inversion.” On another example, they show \\nthat “GPT-4 gives a correct solution while ChatGPT begins by rearranging the terms without any \\nclear direction or purpose, and ends up with an incorrect solution.” \\n89. \\nMicrosoft’s own scientists acknowledge that GPT-4 “attains a form of general \\nintelligence” and that “[g]iven the breadth and depth of GPT-4’s capabilities, we believe that it could \\nreasonably be viewed as an early (yet still incomplete) version of an artificial general intelligence \\n(AGI) system.” \\nG. \\nThe Founding Agreement Is Breached In 2023 \\n90. \\nHaving reached the threshold of AGI, which under the Founding Agreement they \\nwere to develop for the benefit of humanity rather than for any for-profit company or personal profit, \\nDefendants instead radically departed from their mission in breach of the Founding Agreement. \\nGPT-4 is an entirely closed model. The internal design of GPT-4 remains a secret and no code has \\nbeen released. OpenAI has not published a paper describing any aspect of its internal design; it has \\nsimply issued press releases boasting about its performance. The internal details of GPT-4 are \\nknown only to OpenAI and, on information and belief, to Microsoft. GPT-4 is hence the opposite \\nof “open AI.” And it is closed for propriety commercial reasons: Microsoft stands to make a fortune \\nselling GPT-4 to the public, which would not be possible if OpenAI—as it is required to do—makes \\nthe technology freely available to the public. Contrary to the Founding Agreement, Defendants have \\nchosen to use GPT-4 not for the benefit of humanity, but as proprietary technology to maximize \\nprofits for literally the largest company in the world. Further, OpenAI’s entire development is now \\nveiled in secrecy and the public only has rumors and isolated fragments of communications to \\nunderstand what may be released next.  \\n91. \\nResearchers have pointed out that one of the remaining limitations of GPT \\narchitecture-based AIs is that they generate their output a piece at a time and cannot “backtrack.” \\nThese issues have been seen before in artificial intelligence research and have been largely solved \\nfor other applications. In path and maze finding, AI must be able to find the right path despite the \\n' metadata={'source': 'DataRepository/MuskComplaint.pdf', 'file_path': 'DataRepository/MuskComplaint.pdf', 'page': 19, 'total_pages': 46, 'format': 'PDF 1.7', 'title': '', 'author': '', 'subject': '', 'keywords': '', 'creator': '', 'producer': '', 'creationDate': '', 'modDate': '', 'trapped': ''} \n",
            "\n",
            "\n",
            "page_content='1 \\n2 \\n3 \\n4 \\n5 \\n6 \\n7 \\n8 \\n9 \\n10 \\n11 \\n12 \\n13 \\n14 \\n15 \\n16 \\n17 \\n18 \\n19 \\n20 \\n21 \\n22 \\n23 \\n24 \\n25 \\n26 \\n27 \\n28 \\n \\n \\n– 21 – \\nCOMPLAINT \\n \\nexistence of dead-ends along the way. The standard algorithm to perform this is called “A*” \\n(pronounced A-star). \\n92. \\nReuters has reported that OpenAI is developing a secretive algorithm called Q*. \\nWhile it is not clear what Q* is, Reuters has reported that several OpenAI staff members wrote a \\nletter warning about the potential power of Q*. It appears Q* may now or in the future be a part of \\nan even clearer and more striking example of artificial general intelligence that has been developed \\nby OpenAI. As an AGI, it would be explicitly outside the scope of OpenAI’s license with Microsoft, \\nand must be made available for the benefit of the public at large. \\n93. \\nFor purposes of the license with Microsoft, OpenAI, Inc.’s Board determines whether \\nOpenAI has attained AGI, and in a series of shocking developments described in more detail below, \\na majority of OpenAI, Inc.’s Board was forced to resign on November 22, 2023, and their \\nreplacements were, on information and belief, handpicked by Mr. Altman and Microsoft. \\n94. \\nOn November 17, 2023, OpenAI, Inc.’s Board dismissed Mr. Altman. OpenAI \\nannounced in a blog post that Mr. Altman had been fired and his “departure follows a deliberative \\nreview process by the board, which concluded that he was not consistently candid in his \\ncommunications with the board, hindering its ability to exercise its responsibilities. The board no \\nlonger has confidence in his ability to continue leading OpenAI.”  \\n95. \\nMr. Brockman was also removed from the Board but was told he would retain his \\nrole at OpenAI.  \\n96. \\nAt the time, the Board consisted of Helen Toner, Adam D’Angelo, Tasha McCauley, \\nDr. Sutskever, Mr. Brockman, and Mr. Altman. In addition to serving on the Board, Ms. Toner is a \\nresearcher and advisor for the Center for the Governance of AI (GovAI) and the Director of Strategy \\nat Georgetown’s Center for Security and Emerging Technology. Ms. McCauley is a Senior \\nManagement Scientist at RAND Corporation, a nonprofit which specializes in public policy \\ndecision making. She is also an advisor for GovAI. Mr. D’Angelo—the only board member to \\nremain after Mr. Altman’s reinstatement—is a tech CEO and entrepreneur.  \\n97. \\nThe choice to include on OpenAI, Inc.’s Board multiple academics and public policy \\nexperts with deep AI policy experience, most of whom had no financial stake in the company, was \\n' metadata={'source': 'DataRepository/MuskComplaint.pdf', 'file_path': 'DataRepository/MuskComplaint.pdf', 'page': 20, 'total_pages': 46, 'format': 'PDF 1.7', 'title': '', 'author': '', 'subject': '', 'keywords': '', 'creator': '', 'producer': '', 'creationDate': '', 'modDate': '', 'trapped': ''} \n",
            "\n",
            "\n",
            "page_content='1 \\n2 \\n3 \\n4 \\n5 \\n6 \\n7 \\n8 \\n9 \\n10 \\n11 \\n12 \\n13 \\n14 \\n15 \\n16 \\n17 \\n18 \\n19 \\n20 \\n21 \\n22 \\n23 \\n24 \\n25 \\n26 \\n27 \\n28 \\n \\n \\n– 22 – \\nCOMPLAINT \\n \\ndeliberate. This composition of financially disinterested Board members with strong records of \\npublic service ensured that the Board would put the nonprofit’s principal beneficiary—humanity—\\nbefore financial success. This safeguard was put in place for the Board in furtherance of OpenAI, \\nInc.’s non-profit mission and the Founding Agreement: to safely create AGI which would benefit \\nhumanity, not the pecuniary interests of a for-profit company.  \\n98. \\nOn information and belief, Mr. Altman’s firing was due in part to OpenAI’s \\nbreakthrough in realizing AGI. In fact, news reports suggested that there was a rift among OpenAI \\nBoard members and executives regarding safety concerns and the potential threat posed by \\nOpenAI’s next generation Q*. \\n99. \\nNews of Mr. Altman’s ouster spread rapidly. Following the Board’s announcement \\nthat Mr. Altman was fired, Mr. Brockman announced he would be leaving OpenAI with Mr. Altman.  \\n100. \\nWhen Microsoft CEO Satya Nadella learned of Mr. Altman’s firing, he was \\nreportedly furious. As a 49% shareholder in OpenAI’s for-profit arm, Mr. Nadella felt that Microsoft \\nshould have been consulted before Mr. Altman’s firing. However, at this time, outside of Mr. \\nAltman, OpenAI, Inc.’s Board had no ties to Microsoft, and no fiduciary duty to investors in the for-\\nprofit arm. Rather, on information and belief, Mr. Altman was the primary liaison between \\nMicrosoft and OpenAI, Inc.  \\n101. \\nMr. Nadella invited Mr. Altman and Mr. Brockman to lead a new Microsoft AI \\nresearch lab, unbound by the constraints of OpenAI, Inc.’s humanitarian mission. Nadella made it \\nclear that employees who left OpenAI would be welcome at Microsoft’s new lab with the same \\nsalary. \\n102. \\nMicrosoft was confident that, through its substantial ownership in OpenAI’s for-\\nprofit arm, it could completely sequester OpenAI, Inc.’s research should the company cease to exist. \\nIndeed, during an interview shortly after Mr. Altman’s firing, Mr. Nadella stated: \\n[W]e were very confident in our own ability. We have all the IP rights and all the \\ncapability. If OpenAI disappeared tomorrow, I don’t want any customer of ours to \\nbe worried about it quite honestly, because we have all of the rights to continue the \\ninnovation. Not just to serve the product, but we can go and just do what we were \\ndoing in partnership ourselves. We have the people, we have the compute, we have \\nthe data, we have everything. \\n' metadata={'source': 'DataRepository/MuskComplaint.pdf', 'file_path': 'DataRepository/MuskComplaint.pdf', 'page': 21, 'total_pages': 46, 'format': 'PDF 1.7', 'title': '', 'author': '', 'subject': '', 'keywords': '', 'creator': '', 'producer': '', 'creationDate': '', 'modDate': '', 'trapped': ''} \n",
            "\n",
            "\n",
            "page_content='1 \\n2 \\n3 \\n4 \\n5 \\n6 \\n7 \\n8 \\n9 \\n10 \\n11 \\n12 \\n13 \\n14 \\n15 \\n16 \\n17 \\n18 \\n19 \\n20 \\n21 \\n22 \\n23 \\n24 \\n25 \\n26 \\n27 \\n28 \\n \\n \\n– 23 – \\nCOMPLAINT \\n \\n103. \\nDespite Microsoft’s statements regarding their capability to function without \\nOpenAI, Microsoft never abandoned its plan to secure the reinstatement of Mr. Altman as OpenAI, \\nInc.’s CEO. In the days following Mr. Altman’s firing, OpenAI, Inc.’s Board was faced with \\nmounting pressure from lawyers and major shareholders, including Microsoft, to reinstate Mr. \\nAltman. \\n104. \\nMs. Toner was specifically targeted in efforts to reinstate Mr. Altman. During these \\nefforts, a lawyer for OpenAI told Ms. Toner that she and the Board could face claims for breach of \\ntheir fiduciary duties to investors should OpenAI fail due to Mr. Altman’s firing.  \\n105. \\nHowever, the OpenAI, Inc. Board has never had a fiduciary duty to investors. In fact, \\nall investors in the for-profit arm are told that the company’s duty to its mission takes precedence \\nover its duty to its investors, and OpenAI, Inc.’s website clearly indicates it only holds a fiduciary \\nduty to humanity.  \\n106. \\nMs. Toner, who described the lawyer’s actions as an intimidation tactic, opined that \\nMr. Altman’s continued removal would in fact advance the company’s mission by promoting the \\nsafety of humanity over profit. However, none of this dissuaded the shareholders and Mr. Altman \\nfrom pushing for his reinstatement.  \\n107. \\nFurther, Microsoft had substantial coercive power over OpenAI, Inc. and its Board. \\nDuring the period of Mr. Altman’s firing, CEO Nadella said the following of Microsoft’s \\nrelationship with OpenAI: \\nWe are in there. We are below them, above them, around them. We do the kernel \\noptimizations, we build tools, we build the infrastructure. So that’s why I think a lot of \\nthe industrial analysts are saying, “Oh wow, it’s really a joint project between Microsoft \\nand OpenAI.” The reality is we are, as I said, very self-sufficient in all of this. \\n108. \\nMoreover, at the time of the firing, Microsoft had only paid a fraction of a $10 billion \\ninvestment commitment it had made to OpenAI, giving Microsoft serious leverage over the \\n“independent” non-profit Board. Additionally, if Microsoft withheld its cloud computing system on \\nwhich OpenAI was reliant, the company would be incapacitated.  \\n109. \\nThe pressure on the Board from Mr. Altman and Microsoft continued until \\nNovember 21, when Mr. Altman was reinstated as the CEO of OpenAI, Inc. and Mr. Brockman re-\\n' metadata={'source': 'DataRepository/MuskComplaint.pdf', 'file_path': 'DataRepository/MuskComplaint.pdf', 'page': 22, 'total_pages': 46, 'format': 'PDF 1.7', 'title': '', 'author': '', 'subject': '', 'keywords': '', 'creator': '', 'producer': '', 'creationDate': '', 'modDate': '', 'trapped': ''} \n",
            "\n",
            "\n",
            "page_content='1 \\n2 \\n3 \\n4 \\n5 \\n6 \\n7 \\n8 \\n9 \\n10 \\n11 \\n12 \\n13 \\n14 \\n15 \\n16 \\n17 \\n18 \\n19 \\n20 \\n21 \\n22 \\n23 \\n24 \\n25 \\n26 \\n27 \\n28 \\n \\n \\n– 24 – \\nCOMPLAINT \\n \\njoined as President. One of Mr. Altman’s conditions upon return was that Ms. Toner, Ms. McCauley, \\nand Dr. Sutskever resign from the Board. \\n110. \\nOn information and belief, following his return, Mr. Altman hand-picked a new \\nBoard that lacks similar technical expertise or any substantial background in AI governance, which \\nthe previous board had by design. Mr. D’Angelo, a tech CEO and entrepreneur, was the only \\nmember of the previous board to remain after Mr. Altman’s return. The new Board consisted of \\nmembers with more experience in profit-centric enterprises or politics than in AI ethics and \\ngovernance. They were also reportedly “big fans of Altman.” Two of the new board members were \\nBret Taylor and Larry Summers. Mr. Taylor is no stranger to Silicon Valley, and has been heavily \\ninvolved in various Bay Area profit-driven ventures. On February 14, 2024, Mr. Taylor and ex-\\nGoogle executive Clay Bavor launched a startup focused on building AI chatbots for businesses. \\nDr. Summers is an economist who, on information and belief, had no experience working in artificial \\nintelligence-based ventures prior to November 2023. Microsoft also obtained an observer seat on \\nthe Board from which it could keep a close eye on its ostensibly non-profit golden goose. \\n111. \\nWith the reinstatement of Mr. Altman and the restructuring of the Board, OpenAI’s \\ncorporate structure that had been designed as a system of checks and balances between the non-\\nprofit arm, for-profit arm, the Board, and the CEO to ensure the non-profit mission was being carried \\nout, collapsed overnight. OpenAI, Inc.’s once carefully crafted non-profit structure was replaced by \\na purely profit-driven CEO and a Board with inferior technical expertise in AGI and AI public \\npolicy. The Board now has an observer seat reserved solely for Microsoft. With this restructuring, \\nOpenAI, Inc. abandoned its non-profit mission of developing AGI for the benefit of humanity \\nbroadly, thereby keeping it out of the hands of a large for-profit corporation in which vast power \\nwould be unduly concentrated. \\n112. \\nThe OpenAI, Inc. Board’s technical expertise in AI, neutrality, and commitment to \\nOpenAI, Inc.’s nonprofit mission are particularly essential to OpenAI, Inc.’s mission as it is the \\nBoard that determines whether OpenAI has attained AGI for purposes of its license agreement with \\nMicrosoft. This means that the Board is tasked with determining whether OpenAI’s most powerful \\nand advanced technology is actually excluded from the scope of Microsoft’s exclusive license. \\n' metadata={'source': 'DataRepository/MuskComplaint.pdf', 'file_path': 'DataRepository/MuskComplaint.pdf', 'page': 23, 'total_pages': 46, 'format': 'PDF 1.7', 'title': '', 'author': '', 'subject': '', 'keywords': '', 'creator': '', 'producer': '', 'creationDate': '', 'modDate': '', 'trapped': ''} \n",
            "\n",
            "\n",
            "page_content='1 \\n2 \\n3 \\n4 \\n5 \\n6 \\n7 \\n8 \\n9 \\n10 \\n11 \\n12 \\n13 \\n14 \\n15 \\n16 \\n17 \\n18 \\n19 \\n20 \\n21 \\n22 \\n23 \\n24 \\n25 \\n26 \\n27 \\n28 \\n \\n \\n– 25 – \\nCOMPLAINT \\n \\nGiven Microsoft’s enormous financial interest in keeping the gate closed to the public, OpenAI, \\nInc.’s new captured, conflicted, and compliant Board will have every reason to delay ever making \\na finding that OpenAI has attained AGI. To the contrary, OpenAI’s attainment of AGI, like \\n“Tomorrow” in Annie, will always be a day away, ensuring that Microsoft will be licensed to \\nOpenAI’s latest technology and the public will be shut out, precisely the opposite of the Founding \\nAgreement. \\n113. \\nOpenAI’s conduct could have seismic implications for Silicon Valley and, if allowed \\nto stand, could represent a paradigm shift for technology start-ups. It is important to reflect on what \\nhas transpired here: a non-profit startup has collected tens of millions of dollars in contributions for \\nthe express purpose of developing AGI technology for public benefit, and shortly before achieving \\nthe very milestone that the company was created to achieve, the company has become a closed, for-\\nprofit partner of the world’s largest corporation, thereby personally enriching the Defendants. If this \\nbusiness model were valid, it would radically redefine how venture capitalism is practiced in \\nCalifornia and beyond. Rather than start out as a for-profit entity from the outset, “smart” investors \\nwould establish non-profits, use pre-tax donations to fund research and development, and then once \\ntheir technology had been developed and proven, would slide the resulting IP assets into a new for-\\nprofit venture to enrich themselves and their profit-maximizing corporate partners. That is not \\nsupposed to be how the law works in California or anywhere else in this country, and this should \\nnot be the first Court to hold otherwise. \\n114. \\nTo further understand why this is important, if OpenAI’s new business model is \\nvalid, for every dollar that an investor “invests” by contributing to a non-profit, that investor gets \\napproximately 50 cents back from the state and federal governments in the form of reduced income \\ntaxes, so the net cost to them of each $1 of investment is only 50 cents. However, with OpenAI’s \\nnew business model, they get the same “for profit” upside as those who invest the conventional way \\nin for-profit corporations and thus do not get an immediate tax write off, financed by the government \\nand, ultimately, the public. From an investment perspective, competing against an entity employing \\nthe new OpenAI business model would be like playing a game of basketball where the other team’s \\nbaskets are worth twice as many points. If this Court validates OpenAI’s conduct here, any start-up \\n' metadata={'source': 'DataRepository/MuskComplaint.pdf', 'file_path': 'DataRepository/MuskComplaint.pdf', 'page': 24, 'total_pages': 46, 'format': 'PDF 1.7', 'title': '', 'author': '', 'subject': '', 'keywords': '', 'creator': '', 'producer': '', 'creationDate': '', 'modDate': '', 'trapped': ''} \n",
            "\n",
            "\n",
            "page_content='1 \\n2 \\n3 \\n4 \\n5 \\n6 \\n7 \\n8 \\n9 \\n10 \\n11 \\n12 \\n13 \\n14 \\n15 \\n16 \\n17 \\n18 \\n19 \\n20 \\n21 \\n22 \\n23 \\n24 \\n25 \\n26 \\n27 \\n28 \\n \\n \\n– 26 – \\nCOMPLAINT \\n \\nseeking to remain competitive in Silicon Valley would essentially be required to follow this OpenAI \\nplaybook, which would become standard operating procedure for start-ups to the detriment of \\nlegitimate non-profits, the government’s tax coffers, and ultimately the people of California and \\nbeyond. Notably, OpenAI’s for-profit arm was recently valued at nearly $80 billion. \\nH. \\nNovember 2023 To Present: Altman’s OpenAI \\n115. \\nThe public is still in the dark regarding what exactly the Board’s “deliberative review \\nprocess” revealed that resulted in the initial firing of Mr. Altman. However, one thing is clear to Mr. \\nMusk and the public at large: OpenAI has abandoned its “irrevocable” non-profit mission in the \\npursuit of profit. Numerous leaders and intellectuals have publicly commented on the irony and \\ntragedy of OpenAI becoming “Closed, For-Profit AI.” \\n116. \\nFor example, on November 29, 2023, MIT economists wrote an opinion in the L.A. \\nTimes expressing concern with OpenAI’s new profit-driven directive. In their words, “[d]isruption \\nand uncontrolled growth have become religion for the tech industry, and Altman has been one of its \\nmost dedicated high priests.” The economists emphasized the new Board is far more likely to allow \\nMr. Altman to scale up OpenAI as quickly as possible, no matter the severity of societal costs.  \\n117. \\nThe president of Public Citizen, a non-profit consumer advocacy organization, wrote \\nan open letter to California Attorney General Rob Bonta earlier this year raising concerns about \\nwhether OpenAI’s for-profit subsidiary is exerting inappropriate control over the non-profit, or \\nwhether the non-profit’s purpose had shifted to profit-making under Mr. Altman and Microsoft. The \\nletter suggested that should the non-profit abandon its original mission, it should be dissolved with \\nproceeds going to another charitable enterprise.  \\n118. \\nA WIRED investigation from January 2024 found that OpenAI has also recently \\nshuttered the public’s access to previously available “key documents.” In line with OpenAI’s \\noriginal promise of transparency, OpenAI’s IRS documents have indicated since its founding that \\nany member of the public may view copies of its governing documents, financial statements, and \\nconflict of interest rules. However, when WIRED requested these documents, OpenAI indicated it \\nhad changed its policy. Thus, while OpenAI has long touted its commitment to transparency, \\n' metadata={'source': 'DataRepository/MuskComplaint.pdf', 'file_path': 'DataRepository/MuskComplaint.pdf', 'page': 25, 'total_pages': 46, 'format': 'PDF 1.7', 'title': '', 'author': '', 'subject': '', 'keywords': '', 'creator': '', 'producer': '', 'creationDate': '', 'modDate': '', 'trapped': ''} \n",
            "\n",
            "\n",
            "page_content='1 \\n2 \\n3 \\n4 \\n5 \\n6 \\n7 \\n8 \\n9 \\n10 \\n11 \\n12 \\n13 \\n14 \\n15 \\n16 \\n17 \\n18 \\n19 \\n20 \\n21 \\n22 \\n23 \\n24 \\n25 \\n26 \\n27 \\n28 \\n \\n \\n– 27 – \\nCOMPLAINT \\n \\nmembers of the public are unable to obtain information shedding light on the incidents of November \\n2023.  \\n119. \\nAccess to OpenAI’s documents could inform the public whether it has changed its \\ngovernance to appease Microsoft and other shareholders. At the very least, changes had to be made \\nto accommodate Microsoft’s seat on the Board, and now Mr. Altman is reportedly in discussions \\nwith Middle Eastern investors to raise up to $7 trillion in an effort develop a global network of AI \\nchip fabrication plants. If $10 billion from Microsoft was enough to get it a seat on the Board, one \\ncan only imagine how much influence over OpenAI, Inc. these new potential investments could \\nconfer on the investors. This is especially troubling when one potential donor is the national security \\nadvisor of the United Arab Emirates, and United States officials are concerned due to the United \\nArab Emirates’ ties to China. Moreover, Mr. Altman has been quoted discussing the possibility of \\nmaking the United Arab Emirates a “regulatory sandbox” where AI technologies are tested.  \\n120. \\nFurther, access to OpenAI’s conflict-of-interest policy is important to shed light on \\nthe Board’s ability to control Mr. Altman’s use of OpenAI to advance his own economic interests, \\nwhich so far appear to have gone unchecked. For example, in 2019 when Mr. Altman was CEO, \\nOpenAI signed a letter of intent to buy $51 million worth of chips from a start-up in which Mr. \\nAltman was heavily invested. \\n121. \\nWhile OpenAI, Inc. was once a pioneer of safe, responsible development of AGI \\nbased on open communication with the public, it has now shut its doors, brought the biggest investor \\nof its for-profit subsidiary onto a Board which owes its only fiduciary duty to humanity, and \\ncontinues in secrecy towards a profit-centric future with possible calamitous implications for \\nhumanity.  \\n122. \\nMr. Musk founded and funded OpenAI, Inc. with Mr. Altman and Mr. Brockman in \\nexchange for and relying on the Founding Agreement to ensure that AGI would benefit humanity, \\nnot for-profit corporations. As events turned out in 2023, his contributions to OpenAI, Inc. have \\nbeen twisted to benefit the Defendants and the biggest company in the world. This was a stark \\nbetrayal of the Founding Agreement, turning that Agreement on its head and perverting OpenAI, \\nInc.’s mission. Imagine donating to a non-profit whose asserted mission is to protect the Amazon \\n' metadata={'source': 'DataRepository/MuskComplaint.pdf', 'file_path': 'DataRepository/MuskComplaint.pdf', 'page': 26, 'total_pages': 46, 'format': 'PDF 1.7', 'title': '', 'author': '', 'subject': '', 'keywords': '', 'creator': '', 'producer': '', 'creationDate': '', 'modDate': '', 'trapped': ''} \n",
            "\n",
            "\n",
            "page_content='1 \\n2 \\n3 \\n4 \\n5 \\n6 \\n7 \\n8 \\n9 \\n10 \\n11 \\n12 \\n13 \\n14 \\n15 \\n16 \\n17 \\n18 \\n19 \\n20 \\n21 \\n22 \\n23 \\n24 \\n25 \\n26 \\n27 \\n28 \\n \\n \\n– 28 – \\nCOMPLAINT \\n \\nrainforest, but then the non-profit creates a for-profit Amazonian logging company that uses the \\nfruits of the donations to clear the rainforest. That is the story of OpenAI, Inc.  \\nFIRST CAUSE OF ACTION \\nBreach of Contract  \\nAgainst All Defendants \\n123. \\nPlaintiff realleges and incorporates by reference only paragraphs of this Complaint \\nnecessary for his claim of Breach of Contract.  \\n124. \\nFrom OpenAI, Inc.’s founding in 2015 through September 2020, Plaintiff \\ncontributed tens of millions of dollars, provided integral advice on research directions, and played \\na key role in recruiting world-class talent to OpenAI, Inc. in exchange and as consideration for the \\nFounding Agreement, namely, that: OpenAI, Inc. (a) would be a non-profit developing AGI for the \\nbenefit of humanity, not for a for-profit company seeking to maximize shareholder profits; and \\n(b) would be open-source, balancing only countervailing safety considerations, and would not keep \\nits technology closed and secret for proprietary commercial reasons. This Founding Agreement is \\nmemorialized in, among other places, OpenAI, Inc.’s founding Articles of Incorporation and in \\nnumerous written communications between Plaintiff and Defendants over a multi-year period, \\nsuch as: \\na. “The specific purpose of this corporation is to provide funding for research, \\ndevelopment and distribution of technology related to artificial intelligence. The \\nresulting technology will benefit the public and the corporation will seek to open \\nsource technology for the public benefit when applicable. The corporation is not \\norganized for the private gain of any person.” Ex. 1 at 1. \\nb. Mr. Altman stated: “The mission would be to create the first general AI and use it \\nfor individual empowerment—ie, the distributed version of the future that seems the \\nsafest. More generally, safety should be a first-class requirement. . . . The technology \\nwould be owned by the foundation and used ‘for the good of the world’[.]” Plaintiff \\nreplied: “Agree on all.” Ex. 2 at 1. \\n' metadata={'source': 'DataRepository/MuskComplaint.pdf', 'file_path': 'DataRepository/MuskComplaint.pdf', 'page': 27, 'total_pages': 46, 'format': 'PDF 1.7', 'title': '', 'author': '', 'subject': '', 'keywords': '', 'creator': '', 'producer': '', 'creationDate': '', 'modDate': '', 'trapped': ''} \n",
            "\n",
            "\n",
            "page_content='1 \\n2 \\n3 \\n4 \\n5 \\n6 \\n7 \\n8 \\n9 \\n10 \\n11 \\n12 \\n13 \\n14 \\n15 \\n16 \\n17 \\n18 \\n19 \\n20 \\n21 \\n22 \\n23 \\n24 \\n25 \\n26 \\n27 \\n28 \\n \\n \\n– 29 – \\nCOMPLAINT \\n \\n125. \\nDefendants have breached the Founding Agreement in multiple separate and \\nindependent ways, including at least by: \\na. Licensing GPT-4, which Microsoft’s own scientists have written can “reasonably \\nbe viewed as an early (yet still incomplete) version of an artificial general \\nintelligence (AGI) system,” exclusively to Microsoft, despite agreeing that OpenAI \\nwould develop AGI for the benefit of humanity, not for the private commercial gain \\nof a for-profit company seeking to maximize shareholder profits, much less the \\nlargest corporation in the world. \\nb. Failing to disclose to the public, among other things, details on GPT-4’s \\narchitecture, hardware, training method, and training computation, and further by \\nerecting a “paywall” between the public and GPT-4, requiring per-token payment \\nfor usage, in order to advance Defendants and Microsoft’s own private commercial \\ninterests, despite agreeing that OpenAI’s technology would be open-source, \\nbalancing only countervailing safety considerations. \\nc. Permitting Microsoft, a publicly traded for-profit corporation, to occupy a seat on \\nOpenAI, Inc.’s Board of Directors and exert undue influence and control over \\nOpenAI’s non-profit activities including, for example, the determination of whether \\nand to what extent to make OpenAI, Inc.’s technology freely available and open to \\nthe public and the determination of whether OpenAI has attained AGI. \\n126. \\nAs a direct and proximate result of Defendants’ breaches, Plaintiff has suffered \\ndamages in an amount that is presently unknown, but that substantially exceeds this Court’s \\njurisdictional minimum of $35,000, and, if necessary, will be proven at trial.  \\n127. \\nPlaintiff also seeks and is entitled to specific performance of Defendant’s contractual \\nobligations.  \\n' metadata={'source': 'DataRepository/MuskComplaint.pdf', 'file_path': 'DataRepository/MuskComplaint.pdf', 'page': 28, 'total_pages': 46, 'format': 'PDF 1.7', 'title': '', 'author': '', 'subject': '', 'keywords': '', 'creator': '', 'producer': '', 'creationDate': '', 'modDate': '', 'trapped': ''} \n",
            "\n",
            "\n",
            "page_content='1 \\n2 \\n3 \\n4 \\n5 \\n6 \\n7 \\n8 \\n9 \\n10 \\n11 \\n12 \\n13 \\n14 \\n15 \\n16 \\n17 \\n18 \\n19 \\n20 \\n21 \\n22 \\n23 \\n24 \\n25 \\n26 \\n27 \\n28 \\n \\n \\n– 30 – \\nCOMPLAINT \\n \\nSECOND CAUSE OF ACTION \\nPromissory Estoppel  \\nAgainst All Defendants \\n128. \\nPlaintiff realleges and incorporates by reference only paragraphs of this Complaint \\nnecessary for his claim of Promissory Estoppel.  \\n129. \\nIn order to induce Plaintiff to make millions of dollars in contributions to OpenAI, \\nInc. over a period of years, and to induce him to provide substantial time and other resources to get \\nOpenAI, Inc. off the ground as alleged herein, Defendants repeatedly promised Plaintiff, including \\nin writing, that OpenAI (a) would be a non-profit developing AGI for the benefit of humanity, not \\nfor a for-profit company seeking to maximize shareholder profits; and (b) would be open-source, \\nbalancing only countervailing safety considerations, and would not keep its technology closed and \\nsecret for proprietary commercial reasons.  \\n130. \\nIn doing so, Defendants reasonably expected that Plaintiff would (as he did) rely on \\ntheir promises and provide funding, time and other resources to OpenAI, Inc. \\n131. \\nPlaintiff reasonably relied on Defendants’ false promises to his detriment, ultimately \\nproviding tens of millions of dollars of funding to OpenAI, Inc., as well as his time and other \\nresources, on the condition that OpenAI would remain a non-profit irrevocably dedicated to creating \\nsafe, open-source AGI for public benefit, only to then have OpenAI abandon its “irrevocable” non-\\nprofit mission, stop providing basic information to the public, and instead exclusively dedicate and \\nlicense its AGI algorithms to the largest for-profit company in the world, precisely the opposite of \\nthe promises Defendants made to Plaintiff.  \\n132. \\nInjustice can only be avoided through the enforcement of Defendants’ repeated \\npromises. If specific enforcement is not awarded, then Defendants must at minimum make \\nrestitution in an amount equal to Plaintiffs’ contributions that have been misappropriated and by the \\namount that the intended third-party beneficiaries of the Founding Agreement have been damaged, \\nwhich is an amount presently unknown, and if necessary, will be proven at trial, but that substantially \\nexceeds this Court’s jurisdictional minimum of $35,000.  \\n' metadata={'source': 'DataRepository/MuskComplaint.pdf', 'file_path': 'DataRepository/MuskComplaint.pdf', 'page': 29, 'total_pages': 46, 'format': 'PDF 1.7', 'title': '', 'author': '', 'subject': '', 'keywords': '', 'creator': '', 'producer': '', 'creationDate': '', 'modDate': '', 'trapped': ''} \n",
            "\n",
            "\n",
            "page_content='1 \\n2 \\n3 \\n4 \\n5 \\n6 \\n7 \\n8 \\n9 \\n10 \\n11 \\n12 \\n13 \\n14 \\n15 \\n16 \\n17 \\n18 \\n19 \\n20 \\n21 \\n22 \\n23 \\n24 \\n25 \\n26 \\n27 \\n28 \\n \\n \\n– 31 – \\nCOMPLAINT \\n \\nTHIRD CAUSE OF ACTION \\nBreach of Fiduciary Duty  \\nAgainst All Defendants \\n133. \\nPlaintiff realleges and incorporates by reference only paragraphs of this Complaint \\nnecessary for his claim of Breach of Fiduciary Duty. \\n134. \\nUnder California law, Defendants owe fiduciary duties to Plaintiff, including a duty \\nto use Plaintiff’s contributions for the purposes for which they were made. E.g., Cal. Bus. & Prof. \\nCode § 17510.8. Defendants have repeatedly breached their fiduciary duties to Plaintiff, including \\nby:  \\na. Using monies received from Plaintiff, and by using intellectual property and \\nderivative works funded by those monies, for “for-profit” purposes that directly \\ncontravene both the letter and the express intent of the parties’ agreement, thereby \\nbreaching Defendants’ contractual promises to Plaintiff, and also breaching \\nDefendants’ promises to the express intended third-party beneficiaries of the \\nparties’ agreement, i.e., the public. For example, Defendants caused GPT-4, which \\nMicrosoft’s own scientists have written can “reasonably be viewed as an early (yet \\nstill incomplete) version of an artificial general intelligence (AGI) system,” to be \\nexclusively licensed to Microsoft, in derogation of OpenAI, Inc.’s irrevocable non-\\nprofit mission to develop AGI for the benefit of humanity.  \\nb. Failing to disclose to the public, among other things, details on GPT-4’s \\narchitecture, hardware, training method, and training computation, and further by \\nerecting a “paywall” between the public and GPT-4, requiring per-token payment \\nfor usage, in order to advance Defendants and Microsoft’s own private commercial \\ninterests, despite agreeing that OpenAI’s technology would be open-source, \\nbalancing only countervailing safety considerations. \\nc. Permitting Microsoft, a publicly traded for-profit corporation, to occupy a seat on \\nOpenAI, Inc.’s Board of Directors and exert undue influence and control over \\nOpenAI, Inc.’s non-profit activities including, for example, the determination of \\n' metadata={'source': 'DataRepository/MuskComplaint.pdf', 'file_path': 'DataRepository/MuskComplaint.pdf', 'page': 30, 'total_pages': 46, 'format': 'PDF 1.7', 'title': '', 'author': '', 'subject': '', 'keywords': '', 'creator': '', 'producer': '', 'creationDate': '', 'modDate': '', 'trapped': ''} \n",
            "\n",
            "\n",
            "page_content='1 \\n2 \\n3 \\n4 \\n5 \\n6 \\n7 \\n8 \\n9 \\n10 \\n11 \\n12 \\n13 \\n14 \\n15 \\n16 \\n17 \\n18 \\n19 \\n20 \\n21 \\n22 \\n23 \\n24 \\n25 \\n26 \\n27 \\n28 \\n \\n \\n– 32 – \\nCOMPLAINT \\n \\nwhether and to what extent to make OpenAI’s technology freely available to the \\npublic.  \\n135. \\nAs a direct and proximate result of Defendants’ breaches of fiduciary duty, Plaintiff \\nand the express intended third-party beneficiaries of the Founding Agreement have suffered \\ndamages in an amount that is presently unknown, but substantially exceeds this Court’s \\njurisdictional minimum of $35,000, and if necessary, will be proven at trial.  \\n136. \\nPlaintiff seeks and is entitled to specific performance of Defendant’s contractual \\nobligations as a remedy for Defendants’ breaches of fiduciary duty. \\nFOURTH CAUSE OF ACTION \\nUnfair Business Practices - Cal. Bus. & Prof. Code §§ 17200 et seq. \\nAgainst All Defendants \\n137. \\nPlaintiff realleges and incorporates by reference only paragraphs of this Complaint \\nnecessary for his claim of Unfair Business Practices. \\n138. \\nCalifornia Business and Professions Code sections 17200 et seq. provides that any \\nperson or entity that engages, has engaged, or proposes to engage in unfair business practices may \\nbe enjoined. \\n139. \\nDefendants have engaged in unfair competition and other unfair business practices \\nby soliciting donations from Plaintiff and others under the false pretense that all such funds would \\nbe used for the Fundamental Purposes articulated in the Founding Agreement.   \\n140. \\nBut for Defendants’ unfair competition and other unfair business practices, Plaintiff \\nwould not have made his donations or other contributions to OpenAI, Inc. \\n141. \\nAs a result of Defendants’ conduct, Plaintiff has been deceived and other members \\nof the public are likely to be deceived. \\n142. \\nIn engaging in the acts of unfair competition, as alleged above, Defendants violated \\nat least Cal. Bus. & Prof. Code § 17510.8. \\n143. \\nAs a direct and proximate result of these and other acts of Defendants, Plaintiff has \\nsuffered damages and is entitled to recover all proceeds and compensation received by Defendants \\n' metadata={'source': 'DataRepository/MuskComplaint.pdf', 'file_path': 'DataRepository/MuskComplaint.pdf', 'page': 31, 'total_pages': 46, 'format': 'PDF 1.7', 'title': '', 'author': '', 'subject': '', 'keywords': '', 'creator': '', 'producer': '', 'creationDate': '', 'modDate': '', 'trapped': ''} \n",
            "\n",
            "\n",
            "page_content='1 \\n2 \\n3 \\n4 \\n5 \\n6 \\n7 \\n8 \\n9 \\n10 \\n11 \\n12 \\n13 \\n14 \\n15 \\n16 \\n17 \\n18 \\n19 \\n20 \\n21 \\n22 \\n23 \\n24 \\n25 \\n26 \\n27 \\n28 \\n \\n \\n– 33 – \\nCOMPLAINT \\n \\nand by those acting in concert with them arising from these acts of unfair competition and other \\nunfair business practices.  \\n144. \\nPlaintiff is entitled to restitution and/or disgorgement of any and all monies received \\nby Defendants while they engaged in such practices, in addition to prejudgment interest pursuant to \\nBusiness & Professions Code § 17200 et seq. Plaintiff further seeks to enjoin Defendants from \\ncarrying out such activities again in the future, and an order compelling specific performance.   \\nFIFTH CAUSE OF ACTION \\nAccounting  \\nAgainst All Defendants \\n145. \\nPlaintiff realleges and incorporates by reference only paragraphs of this Complaint \\nnecessary for his claim of Accounting. \\n146. As discussed above, over the course of multiple years, Defendants solicited tens of \\nmillions of dollars in donations from Plaintiff with representations and assurances that OpenAI, Inc. \\nwould remain a non-profit irrevocably dedicated to creating safe AGI for public benefit, and that all \\ndonated funds would be used in accordance with that “irrevocable” mandate. On information and \\nbelief, Defendants also solicited tens of millions of dollars in donations from others based on the \\nsame representations.   \\n147. \\nContrary to the express purpose for which Plaintiff’s funds were contributed, as set \\nforth herein, Defendants used monies received from Plaintiff, and intellectual property and \\nderivative works funded by those monies, for “for-profit” purposes, including for the benefit of \\nprivate individuals and likely of the individual Defendants themselves, that directly contravene both \\nthe letter and the express intent of the parties’ agreement.   \\n148. \\nBecause Defendants are in possession of financial information relating to the use of \\nthe charitable contributions that Plaintiff and others made to OpenAI, Inc. and the intellectual \\nproperty and derivative works funded by those monies, Plaintiff is presently unable to ascertain his \\ninterest in or the use, allocation, or distribution of assets without an accounting. Plaintiff is therefore \\nentitled to an accounting.   \\n' metadata={'source': 'DataRepository/MuskComplaint.pdf', 'file_path': 'DataRepository/MuskComplaint.pdf', 'page': 32, 'total_pages': 46, 'format': 'PDF 1.7', 'title': '', 'author': '', 'subject': '', 'keywords': '', 'creator': '', 'producer': '', 'creationDate': '', 'modDate': '', 'trapped': ''} \n",
            "\n",
            "\n",
            "page_content='1 \\n2 \\n3 \\n4 \\n5 \\n6 \\n7 \\n8 \\n9 \\n10 \\n11 \\n12 \\n13 \\n14 \\n15 \\n16 \\n17 \\n18 \\n19 \\n20 \\n21 \\n22 \\n23 \\n24 \\n25 \\n26 \\n27 \\n28 \\n \\n \\n– 34 – \\nCOMPLAINT \\n \\nPRAYER FOR RELIEF \\nWHEREFORE, Plaintiff prays for judgment against Defendants as follows: \\nA. For an order compelling specific performance of Defendants’ repeated contractual \\npromises including, without limitation,  \\ni. \\nAn order requiring that Defendants continue to follow OpenAI’s long-\\nstanding practice of making AI research and technology developed at \\nOpenAI available to the public, and \\nii. \\nAn order prohibiting Defendants from utilizing OpenAI, Inc. or its assets \\nfor the financial benefit of the individual Defendants, Microsoft, or any \\nother particular person or entity; \\nB. For a judicial determination that GPT-4 constitutes Artificial General Intelligence \\nand is thereby outside the scope of OpenAI’s license to Microsoft; \\nC. For a judicial determination that Q* and/or other OpenAI next generation large \\nlanguage models in development constitute(s) Artificial General Intelligence and \\nis/are outside the scope of OpenAI’s license to Microsoft; \\nD. Injunctive relief consistent with and to effectuate items A through C above; \\nE. For an award of restitution and/or disgorgement of any and all monies received by \\nDefendants while they engaged in the unfair and improper practices described \\nherein, in addition to prejudgment interest and penalties, pursuant to Business & \\nProfessions Code § 17200 et seq.; \\nF. For an accounting of funds donated by Plaintiffs and others to OpenAI, Inc., and of \\nintellectual property or derivative works funded by same, and of Defendants’ use \\nof the same for personal benefit or the benefit of any individual or third-party entity; \\nG. For general, compensatory, and punitive damages to be proven at trial, each of \\nwhich Plaintiff will contribute to a non-profit or charity; \\nH. For attorneys’ fees pursuant to California Code of Civil Procedure § 1021.5; \\nI. For pre-judgment and post-judgment interest at the maximum legal rate; and \\nJ. For such other and further relief as the Court may deem just and proper.  \\n' metadata={'source': 'DataRepository/MuskComplaint.pdf', 'file_path': 'DataRepository/MuskComplaint.pdf', 'page': 33, 'total_pages': 46, 'format': 'PDF 1.7', 'title': '', 'author': '', 'subject': '', 'keywords': '', 'creator': '', 'producer': '', 'creationDate': '', 'modDate': '', 'trapped': ''} \n",
            "\n",
            "\n",
            "page_content='1 \\n2 \\n3 \\n4 \\n5 \\n6 \\n7 \\n8 \\n9 \\n10 \\n11 \\n12 \\n13 \\n14 \\n15 \\n16 \\n17 \\n18 \\n19 \\n20 \\n21 \\n22 \\n23 \\n24 \\n25 \\n26 \\n27 \\n28 \\n \\n \\n– 35 – \\nCOMPLAINT \\n \\nDEMAND FOR JURY TRIAL \\nPlaintiff hereby demands trial by jury as to all issues, claims, and/or causes of action properly \\ntriable before a jury \\n \\nDATED: February 29, 2024 \\nIRELL & MANELLA LLP \\n \\n \\nBy:                                                                 \\nMorgan Chu \\nAlan Heinrich \\nIian Jablon \\nAbigail Sellers \\nJustin Koo \\nHenry White \\n \\nAttorneys for Plaintiff Elon Musk \\n \\n \\n' metadata={'source': 'DataRepository/MuskComplaint.pdf', 'file_path': 'DataRepository/MuskComplaint.pdf', 'page': 34, 'total_pages': 46, 'format': 'PDF 1.7', 'title': '', 'author': '', 'subject': '', 'keywords': '', 'creator': '', 'producer': '', 'creationDate': '', 'modDate': '', 'trapped': ''} \n",
            "\n",
            "\n",
            "page_content=' \\n \\n \\n \\nExhibit 1 \\n' metadata={'source': 'DataRepository/MuskComplaint.pdf', 'file_path': 'DataRepository/MuskComplaint.pdf', 'page': 35, 'total_pages': 46, 'format': 'PDF 1.7', 'title': '', 'author': '', 'subject': '', 'keywords': '', 'creator': '', 'producer': '', 'creationDate': '', 'modDate': '', 'trapped': ''} \n",
            "\n",
            "\n",
            "page_content='(9 12/08/2015 11:21 AM \\n14154847068 \\n+ 13027393812 \\nState of Delaware \\nSecretary of State \\nDivision of Corporations \\nDelivered 02:22 PM 12/08/2015 \\nFILED 02:22 PM 12/08/2015 \\nSR 20151247198 - FileNumber 5902936 \\nCERTIFICATE OF INCORPORATION OF \\nA NON-STOCK CORPORATION \\nOPENAI, INC. \\nFIRST: The name of the Corporation is \"OpenAI, Inc.\" (the \"Corporation\"). \\nSECOND: The address of the Corporation\\'s registered office in the State of Delaware is 2711 \\nCenterviJle Road, Suite 400, Wilmington, New Castle County, Delaware 19808. The name of its \\nregistered agent at such address is Corporation Service Company. \\nTHIRD: This Corporation shall be a nonprofit corporation organized exclusively for charitable \\nand/or educational purposes within the meaning of section 501(c){3) of the Internal Revenue \\nCode of 1986, as amended, or the corresponding provision of any future United States Internal \\nRevenue law. The specific purpose of this corporation is to provide funding for research, \\ndevelopment and distribution of technology related to artificial intelligence. The resulting \\ntechnology will benefit the public and the corporation will seek to open source technology for \\nthe public benefit when applicable. The corporation is not organized for the private gain of any \\nperson. In furtherance of its purposes, the corporation shall engage in any lawful act of activity \\nfor which nonprofit corporations may be organized under the General Coiporation Law of \\nDelaware. \\nFOUR TH: This corporation is organized and operated exclusively for purposes set forth in \\nArticle THIRD hereof within the meaning of the Internal Revenue Code section 501(c)(3). No \\nsubstantial part of the activities of this corporation shall consist of carrying on propaganda, or \\notherwise attempting to influence legislation and this corporation shall not participate or \\nintervene in any political campaign (including the publishing or distribution of statements) on \\nbehalf on any candidate for public office. Notwithstanding any other provision of these articles, \\nthe corporation shall not carry on any other activities not pennitted to be carried on (a) by a \\ncorporation/organization exempt from Federal income tax under section 501(c){3) of the Internal \\nRevenue Code, or the corresponding section of any future federal tax code, or (b) by a \\ncorporation/organization, contributions to which are deductible under section 170( c )(2) of the \\nInternal Revenue Code, or the corresponding section of any future federal tax code. \\nFIFTH: The property of this corporation is irrevocably dedicated to the purposes in Article \\nTHREE hereof and no part of the net income or assets of this corporation shall ever inure to the \\nbenefit of any director, officer or member thereof or to the benefit of any private person. Upon \\nthe dissolution or winding up of this corporation, its assets remaining after payment, or provision \\nfor payment, of all debts and liabilities of this corporation shall be distributed to a nonprofit fund, \\nfoundation, or corporation which is organized and operated exclusively for charitable, \\neducational and/or religious purposes and which has established its tax exempt status under \\nInternal Revenue Code section 50l(c)(3), or the corresponding section of any future federal tax \\ncode, or shall be distributed to the federal government, or to a state or local government, for a \\npublic purpose. \\nSIXTH: The corporation shall not have any capital stock. \\nD 3 \\n' metadata={'source': 'DataRepository/MuskComplaint.pdf', 'file_path': 'DataRepository/MuskComplaint.pdf', 'page': 36, 'total_pages': 46, 'format': 'PDF 1.7', 'title': '', 'author': '', 'subject': '', 'keywords': '', 'creator': '', 'producer': '', 'creationDate': '', 'modDate': '', 'trapped': ''} \n",
            "\n",
            "\n",
            "page_content='~ 12/08/2015 11:21 AM \\n14154847068 \\n-) 13027393812 \\nSEVENTH: The corporation shall not have any members. \\nEIGHTH: The name and mailing address of the incorporator are as follows: \\nJonathan Levy \\n335 Pioneer Way \\nMountain View, CA 94041 \\nI, Jonathan Levy, for the purpose of forming a corporation under the laws of the State of \\nDelaware, do make, file and record this Certificate, and do certify that the facts herein stated are \\ntrue, and I have accordingly hereunto set my hand this \\nExecuted on December 8, 2015. \\nAUTHORIZED OFFICER \\nls/Jonathan Levy \\nJonathan Levy \\n0 4 \\n' metadata={'source': 'DataRepository/MuskComplaint.pdf', 'file_path': 'DataRepository/MuskComplaint.pdf', 'page': 37, 'total_pages': 46, 'format': 'PDF 1.7', 'title': '', 'author': '', 'subject': '', 'keywords': '', 'creator': '', 'producer': '', 'creationDate': '', 'modDate': '', 'trapped': ''} \n",
            "\n",
            "\n",
            "page_content=' \\n \\n \\n \\nExhibit 2 \\n' metadata={'source': 'DataRepository/MuskComplaint.pdf', 'file_path': 'DataRepository/MuskComplaint.pdf', 'page': 38, 'total_pages': 46, 'format': 'PDF 1.7', 'title': '', 'author': '', 'subject': '', 'keywords': '', 'creator': '', 'producer': '', 'creationDate': '', 'modDate': '', 'trapped': ''} \n",
            "\n",
            "\n",
            "page_content='' metadata={'source': 'DataRepository/MuskComplaint.pdf', 'file_path': 'DataRepository/MuskComplaint.pdf', 'page': 39, 'total_pages': 46, 'format': 'PDF 1.7', 'title': '', 'author': '', 'subject': '', 'keywords': '', 'creator': '', 'producer': '', 'creationDate': '', 'modDate': '', 'trapped': ''} \n",
            "\n",
            "\n",
            "page_content=' \\n \\n \\n \\nExhibit 3 \\n' metadata={'source': 'DataRepository/MuskComplaint.pdf', 'file_path': 'DataRepository/MuskComplaint.pdf', 'page': 40, 'total_pages': 46, 'format': 'PDF 1.7', 'title': '', 'author': '', 'subject': '', 'keywords': '', 'creator': '', 'producer': '', 'creationDate': '', 'modDate': '', 'trapped': ''} \n",
            "\n",
            "\n",
            "page_content='\\x00\\x0b\\x0c\\r\\x0e\\x0f\\x10\\x11\\x12\\x13\\x0c\\x14\\x06\\x15\\x16\\x17\\x0c\\x18\\x0b\\n\\x19\\r\\r\\x16\\x1a\\x07\\x01\\x01\\x0f\\x16\\x17\\x0c\\x1b\\x13\\x1c\\x12\\x0f\\x1d\\x01\\x1e\\x1f\\x0f\\x14\\x01\\x13\\x0c\\r\\x0e\\x0f\\x10\\x11\\x12\\x13\\x0c\\x14 \\x0f\\x16\\x17\\x0c\\x1b\\x13\\n!\\x015\\n\"#$%&\\')*+%,%-#.,/)0\\x06+.0)/)1)+2\\n)%0$22)3$%1$.$*$+.14\\x061,5#+%67\\x06\"8.\\n3,+2)*0,+9:+%1$9)3)0+2\\x06)%0$22)3$%1$\\n)%04$;+604+0)*5,*02)<$260,\\n=$%$/)0485+%)06+*+;4,2$>\\n8%1,%*0.+)%$9=6+%$$90,3$%$.+0$\\n/)%+%1)+2.$08.%7?)%1$,8..$*$+.14)*\\n/.$$/.,5/)%+%1)+2,=2)3+0),%*>;$\\n1+%=$00$./,18*,%+#,*)0):$\\n485+%)5#+107\\n\\'%0.,981)%3\\n\"#$%&\\'\\n@2,3\\nA$%8\\n' metadata={'source': 'DataRepository/MuskComplaint.pdf', 'file_path': 'DataRepository/MuskComplaint.pdf', 'page': 41, 'total_pages': 46, 'format': 'PDF 1.7', 'title': '', 'author': '', 'subject': '', 'keywords': '', 'creator': '', 'producer': '', 'creationDate': '', 'modDate': '', 'trapped': ''} \n",
            "\n",
            "\n",
            "page_content='\\x0b\\x0c\\r\\x0e\\x0f\\x10\\x11\\x12\\x13\\x0c\\x14\\x06\\x15\\x16\\x17\\x0c\\x18\\x0b\\n\\x19\\r\\r\\x16\\x1a\\x07\\x01\\x01\\x0f\\x16\\x17\\x0c\\x1b\\x13\\x1c\\x12\\x0f\\x1d\\x01\\x1e\\x1f\\x0f\\x14\\x01\\x13\\x0c\\r\\x0e\\x0f\\x10\\x11\\x12\\x13\\x0c\\x14 \\x0f\\x16\\x17\\x0c\\x1b\\x13\\n\\x00\\x015\\n!\"#\"$%\"&(()*+(,\\n-./0123\\n455678&98:;<=\\x06?678:<\\x06?9@\\x06A9<B\\nC&\"B\\x06D&;#E$9<\\n45@9\\x06F687E\"G\"&\\nHI\"<J4\\nJ<<;6<#\"$\"<87\\nHI\"<J4:79<;<KI&;L:8\\x069&8:L:#:95\\x06:<8\"55:B\"<#\"\\x06&\"7\"9&#M\\x06#;$I9<@N\\x06H6&\\x06B;95\\x06:7\\x068;\\x069OG9<#\"\\nO:B:895:<8\"55:B\"<#\"\\x06:<\\x068M\"\\x06P9@\\x068M98\\x06:7\\x06$;78\\x065:E\"5@\\x068;\\x06%\"<\"L:8\\x06M6$9<:8@\\x0697\\x069\\x06PM;5\")\\n6<#;<78&9:<\"O%@\\x069\\x06<\"\"O\\x068;\\x06B\"<\"&98\"\\x06L:<9<#:95\\x06&\"86&<N\\x06F:<#\"\\x06;6&\\x06&\"7\"9&#M\\x06:7\\x06L&\"\"\\x06L&;$\\nL:<9<#:95;%5:B98:;<7)\\x06P\"\\x06#9<\\x06%\"88\"&\\x06L;#67\\x06;<\\x069\\x06I;7:8:G\"\\x06M6$9<\\x06:$I9#8N\\nA\"%\"5:\"G\"J47M;65O\\x06%\"\\x069<\\x06\"Q8\"<7:;<\\x06;L\\x06:<O:G:O695\\x06M6$9<\\x06P:557\\x069<O)\\x06:<\\x068M\"\\x067I:&:8\\x06;L\\x065:%\"&8@)\\n97%&;9O5@9<O\"G\"<5@\\x06O:78&:%68\"O\\x0697\\x06I;77:%5\"N\\x06RM\"\\x06;68#;$\"\\x06;L\\x068M:7\\x06G\"<86&\"\\x06:7\\x066<#\"&89:<\\x069<O\\n8M\"P;&E:7O:LL:#658)\\x06%68\\x06P\"\\x06%\"5:\"G\"\\x068M\"\\x06B;95\\x069<O\\x068M\"\\x0678&6#86&\"\\x069&\"\\x06&:BM8N\\x06A\"\\x06M;I\"\\x068M:7\\x06:7\\nPM98$988\"&7$;78\\x068;\\x068M\"\\x06%\"78\\x06:<\\x068M\"\\x06L:\"5ON\\nSTUVW21.XY\\n' metadata={'source': 'DataRepository/MuskComplaint.pdf', 'file_path': 'DataRepository/MuskComplaint.pdf', 'page': 42, 'total_pages': 46, 'format': 'PDF 1.7', 'title': '', 'author': '', 'subject': '', 'keywords': '', 'creator': '', 'producer': '', 'creationDate': '', 'modDate': '', 'trapped': ''} \n",
            "\n",
            "\n",
            "page_content='\\x00\\x01\\x00\\x02\\x01\\x00\\x03\\x04\\x06\\x07\\x06\\x08\\t\\n\\x0b\\x0c\\r\\x0e\\x0f\\x10\\x11\\x12\\x13\\x0c\\x14\\x06\\x15\\x16\\x17\\x0c\\x18\\x0b\\n\\x19\\r\\r\\x16\\x1a\\x07\\x01\\x01\\x0f\\x16\\x17\\x0c\\x1b\\x13\\x1c\\x12\\x0f\\x1d\\x01\\x1e\\x1f\\x0f\\x14\\x01\\x13\\x0c\\r\\x0e\\x0f\\x10\\x11\\x12\\x13\\x0c\\x14 \\x0f\\x16\\x17\\x0c\\x1b\\x13\\n\\x06\\x015\\n!\"#$%$&$\\'($*#+(($,+*&+\\x06-\\'.\\x06\\'(/\\'0.\\x061++*\\x06\\'\\x06.2\"3\"$.$*,\\x06%$+(45\\x066*\\x06#-+\\x06+\\'\"(0\\x064\\'0.7\\x063+83(+\\x06#-82,-#\\n#-\\'#.8(9$*,&+\"#\\'$*\\x06#\\'.:.\\x06;.2&-\\x06\\'.\\x06&-+..<\\x06/82(4\\x06(+\\'4\\x062.\\x06#8\\x064$.&89+\"\\x06-2=\\'*>(+9+(\\n$*#+(($,+*&+\\'(,8\"$#-=.5\\x06?8/+9+\"7\\x06#-+\\x06.8(2#$8*\\x06#8\\x06+\\'&-\\x06#\\'.:\\x06#2\"*+4\\x0682#\\x06#8\\x061+\\x06=2&-\\x06(+..\\n,+*+\"\\'(#-\\'*3+83(+\\x06/+\"+\\x06-83$*,\\x06;.2&-\\x06\\'.\\x0648$*,\\x06\\'\\x06.+\\'\"&-\\x0689+\"\\x06\\'\\x06-2,+\\x06*2=1+\"\\x068%\\x06=89+.<5\\nA-+3\\'.#%+/0+\\'\".\\x06-\\'9+\\x06-+(4\\x06\\'*8#-+\"\\x06%(\\'98\"\\x068%\\x06.2\"3\"$.+5\\x06!*\\x06!6\\x06#+&-*$B2+\\x06+C3(8\"+4\\x06%8\"\\n4+&\\'4+.74++3(+\\'\"*$*,7\\x06.#\\'\"#+4\\x06\\'&-$+9$*,\\x06.#\\'#+>8%>#-+>\\'\"#\\x06\"+.2(#.\\x06$*\\x06\\'\\x06/$4+\\x069\\'\"$+#0\\x068%\\n3\"81(+=48=\\'$*.5\\x066*\\x064++3\\x06(+\\'\"*$*,7\\x06\"\\'#-+\"\\x06#-\\'*\\x06-\\'*4>&84+\\x06\\'\\x06*+/\\x06\\'(,8\"$#-=\\x06%8\"\\x06+\\'&-\\n3\"81(+=70824+.$,*\\x06\\'\"&-$#+&#2\"+.\\x06#-\\'#\\x06&\\'*\\x06#/$.#\\x06#-+=.+(9+.\\x06$*#8\\x06\\'\\x06/$4+\\x06\"\\'*,+\\x068%\\n\\'(,8\"$#-=.1\\'.+4\\x068*\\x06#-+\\x064\\'#\\'\\x06082\\x06%++4\\x06#-+=5\\nA-$.\\'33\"8\\'&--\\'.\\x060$+(4+4\\x0682#.#\\'*4$*,\\x06\"+.2(#.\\x068*\\x063\\'##+\"*\\x06\"+&8,*$#$8*\\x063\"81(+=.7\\x06.2&-\\x06\\'.\\n\"+&8,*$D$*,81E+&#.\\x06$*\\x06$=\\',+.7\\x06=\\'&-$*+\\x06#\"\\'*.(\\'#$8*7\\x06\\'*4\\x06.3++&-\\x06\"+&8,*$#$8*5\\x06F2#\\x06/+G\\n9+\\x06\\'(.8\\n.#\\'\"#+4#8.++/-\\'#\\x06$#\\x06=$,-#\\x061+\\x06($:+\\x06%8\"\\x06&8=32#+\".\\x06#8\\x061+\\x06\\n7\\x06#8\\x06\\n7\\x06\\'*4\\n#8\\n5\\n&\"+\\'#$9+\\n4\"+\\'=\\n+C3+\"$+*&+#-+\\x06/8\"(4\\nHIIJKLMOIPQRPS\\n!6.0.#+=.#84\\'0\\x06-\\'9+\\x06$=3\"+..$9+\\x0612#\\x06*\\'\"\"8/\\x06&\\'3\\'1$($#$+.5\\x066#\\x06.++=.\\x06#-\\'#\\x06/+G\\n((\\x06:++3\\x06/-$##($*,\\n\\'/\\'0\\'##-+$\"&8*.#\"\\'$*#.7\\x06\\'*4\\x06$*\\x06#-+\\x06+C#\"+=+\\x06&\\'.+\\x06#-+0\\x06/$((\\x06\"+\\'&-\\x06-2=\\'*\\x063+\"%8\"=\\'*&+\\x068*\\n9$\"#2\\'((0+9+\"0$*#+((+&#2\\'(\\x06#\\'.:5\\x066#G\\n.\\x06-\\'\"4\\x06#8\\x06%\\'#-8=\\x06-8/\\x06=2&-\\x06-2=\\'*>(+9+(\\x06!6\\x06&82(4\\x061+*+%$#\\n.8&$+#07\\'*4$#G\\n.+B2\\'((0\\x06-\\'\"4\\x06#8\\x06$=\\',$*+\\x06-8/\\x06=2&-\\x06$#\\x06&82(4\\x064\\'=\\',+\\x06.8&$+#0\\x06$%\\x0612$(#\\x068\"\\n2.+4$*&8\"\"+&#(05\\nTUVLWX\\n' metadata={'source': 'DataRepository/MuskComplaint.pdf', 'file_path': 'DataRepository/MuskComplaint.pdf', 'page': 43, 'total_pages': 46, 'format': 'PDF 1.7', 'title': '', 'author': '', 'subject': '', 'keywords': '', 'creator': '', 'producer': '', 'creationDate': '', 'modDate': '', 'trapped': ''} \n",
            "\n",
            "\n",
            "page_content='\\x00\\x01\\x00\\x02\\x01\\x00\\x03\\x04\\x06\\x07\\x06\\x08\\t\\n\\x0b\\x0c\\r\\x0e\\x0f\\x10\\x11\\x12\\x13\\x0c\\x14\\x06\\x15\\x16\\x17\\x0c\\x18\\x0b\\n\\x19\\r\\r\\x16\\x1a\\x07\\x01\\x01\\x0f\\x16\\x17\\x0c\\x1b\\x13\\x1c\\x12\\x0f\\x1d\\x01\\x1e\\x1f\\x0f\\x14\\x01\\x13\\x0c\\r\\x0e\\x0f\\x10\\x11\\x12\\x13\\x0c\\x14 \\x0f\\x16\\x17\\x0c\\x1b\\x13\\n\\x03\\x015\\n!\"#$%&\\'\\n(&)*,&%-./01\\n23405\"#\\'.)6)&\\n789:<==<>?8@=9A\\n789:<==<>?8@=9A\\nB9@<CA9DEFGH\\nAAC>I>8A8JK\\x06L8A?D>MN\\x068?H\\nA\\x06L<>O\\x06?D\\x06I>9O8@?\\x06:L9J\\x06LCP<JQ=9R9=\\x06FG\\x06P8KL?\\x06@DP9\\n:8?L8J>9<@LSTL9J\\x068?\\x06OD9AN\\x068?H\\n==\\x06U9\\x068PID>?<J?\\x06?D\\x06L<R9\\x06<\\x06=9<O8JK\\x06>9A9<>@L\\x068JA?8?C?8DJ\\x06:L8@L\\n@<JI>8D>8?8V9<KDDO\\x06DC?@DP9\\x06ED>\\x06<==\\x06DR9>\\x068?A\\x06D:J\\x06A9=EQ8J?9>9A?S\\nT9H\\n>9LDI8JK?DK>D:\\x06XI9JFG\\x068J?D\\x06AC@L\\x06<J\\x068JA?8?C?8DJS\\x06FA\\x06<\\x06JDJQI>DE8?N\\x06DC>\\x06<8P\\x068A\\x06?D\\x06UC8=O\\nR<=C9ED>9R9>MDJ9\\x06><?L9>\\x06?L<J\\x06AL<>9LD=O9>AS\\x06Y9A9<>@L9>A\\x06:8==\\x06U9\\x06A?>DJK=M\\x069J@DC><K9O\\x06?D\\nICU=8AL?L98>:D>ZN\\x06:L9?L9>\\x06<A\\x06I<I9>AN\\x06U=DK\\x06IDA?AN\\x06D>\\x06@DO9N\\x06<JO\\x06DC>\\x06I<?9J?A\\x06[8E\\x06<JM\\\\\\x06:8==\\x06U9\\nAL<>9O:8?L?L9:D>=OS\\x06T9H\\n==\\x06E>99=M\\x06@D==<UD><?9\\x06:8?L\\x06D?L9>A\\x06<@>DAA\\x06P<JM\\x068JA?8?C?8DJA\\x06<JO\\n9]I9@??D:D>Z:8?L\\x06@DPI<J89A\\x06?D\\x06>9A9<>@L\\x06<JO\\x06O9I=DM\\x06J9:\\x06?9@LJD=DK89AS\\nXI9JFGH\\nA>9A9<>@L\\x06O8>9@?D>\\x068A\\x06\\nN\\x06DJ9\\x06DE\\x06?L9\\x06:D>=O\\x069]I9>?A\\x068J\\x06P<@L8J9\\x06=9<>J8JKS\\nXC>^_X8A\\nN\\x06ED>P9>=M\\x06?L9\\x06^_X\\x06DE\\x06`?>8I9S\\x06_L9\\x06K>DCIH\\nA\\x06D?L9>\\x06EDCJO8JK\\nP9PU9>A<>9:D>=OQ@=<AA\\x06>9A9<>@L\\x069JK8J99>A\\x06<JO\\x06A@89J?8A?Aa\\x06\\nN\\x06\\nN\\nN\\x06\\nN\\x06\\nN\\x06\\nN\\x06<JO\\x06\\nSb89?9>\\x06FUU99=N\\x06cDALC<\\x06B9JK8DN\\x06F=<J\\x06d<MN\\x06`9>K9M\\x06e9R8J9N\\x06<JO\\x0678AL<=\\x06`8ZZ<\\x06<>9\\n<OR8AD>A?D?L9K>DCIS\\x06XI9JFGH\\nA\\x06@DQ@L<8>A\\x06<>9\\x06`<P\\x06F=?P<J\\x06<JO\\x06f=DJ\\x06gCAZS\\n`<PNh>9KNf=DJN\\x06Y98O\\x06iDEEP<JN\\x06j9AA8@<\\x06e8R8JKA?DJN\\x06b9?9>\\x06_L89=N\\x06FP<VDJ\\x06T9U\\x06`9>R8@9A\\n[FT`\\\\NGJEDAMAN<JO\\x06\\n\\x06<>9\\x06ODJ<?8JK\\x06?D\\x06ACIID>?\\x06XI9JFGS\\x06GJ\\x06?D?<=N\\x06?L9A9\\x06ECJO9>A\\nL<R9@DPP8??9O\\x06kl\\x06U8==8DJN\\x06<=?LDCKL\\x06:9\\x069]I9@?\\x06?D\\x06DJ=M\\x06AI9JO\\x06<\\x06?8JM\\x06E><@?8DJ\\x06DE\\x06?L8A\\x068J\\x06?L9\\nJ9]?E9:M9<>AS\\ncDC@<JED==D:CA\\x06DJ\\x06_:8??9>\\x06<?\\x06\\nS\\nG=M<\\x06`C?AZ9R9>\\nh>9K\\x06B>D@ZP<J\\n_>9RD>\\x06B=<@Z:9==78@Z8\\n^L9CJKFJO>9md<>I<?LMnC>Z\\x06d8JKP<jDLJ\\x06`@LC=P<Jb<P9=<\\x067<K<?<\\nTDm@89@L\\no<>9PU<\\nc^\\x06Y9A9<>@L\\npXI9JFG\\n' metadata={'source': 'DataRepository/MuskComplaint.pdf', 'file_path': 'DataRepository/MuskComplaint.pdf', 'page': 44, 'total_pages': 46, 'format': 'PDF 1.7', 'title': '', 'author': '', 'subject': '', 'keywords': '', 'creator': '', 'producer': '', 'creationDate': '', 'modDate': '', 'trapped': ''} \n",
            "\n",
            "\n",
            "page_content='\\x00\\x0b\\x0c\\r\\x0e\\x0f\\x10\\x11\\x12\\x13\\x0c\\x14\\x06\\x15\\x16\\x17\\x0c\\x18\\x0b\\n\\x19\\r\\r\\x16\\x1a\\x07\\x01\\x01\\x0f\\x16\\x17\\x0c\\x1b\\x13\\x1c\\x12\\x0f\\x1d\\x01\\x1e\\x1f\\x0f\\x14\\x01\\x13\\x0c\\r\\x0e\\x0f\\x10\\x11\\x12\\x13\\x0c\\x14 \\x0f\\x16\\x17\\x0c\\x1b\\x13\\n!\\x015\\n\"#$%&#\\')#*#%)+,\\n-./012\\n3456\\x06899\\x068:;4<95=\\n3456\\x06899\\x06:5=58:<>\\n' metadata={'source': 'DataRepository/MuskComplaint.pdf', 'file_path': 'DataRepository/MuskComplaint.pdf', 'page': 45, 'total_pages': 46, 'format': 'PDF 1.7', 'title': '', 'author': '', 'subject': '', 'keywords': '', 'creator': '', 'producer': '', 'creationDate': '', 'modDate': '', 'trapped': ''} \n",
            "\n",
            "\n"
          ]
        }
      ]
    },
    {
      "cell_type": "code",
      "source": [
        "# class langchain_core.documents.base.Document[source]\n",
        "\n",
        "# - Pass page_content in as positional or named arg.\n",
        "\n",
        "# - param metadata: dict [Optional] - Arbitrary metadata about the page content (e.g., source, relationships to other documents, etc.).\n",
        "\n",
        "# - param page_content: str [Required]\n",
        "\n",
        "# - param type\n",
        "\n",
        "# print(f\"The length of doc is : {type(documents[0])}\")\n",
        "# for i in documents[0]:\n",
        "#   print(f\"{i} \\n\")\n",
        "\n",
        "\n",
        "print(f\"TYPE : {documents[0].type} \\n\")\n",
        "print(f\"METADATA : {documents[0].metadata} \\n\")\n",
        "print(f\"PAGE CONTENT : {documents[0].page_content} \\n \")"
      ],
      "metadata": {
        "colab": {
          "base_uri": "https://localhost:8080/"
        },
        "id": "Vr5Ph6KYSr23",
        "outputId": "a6b4015b-cfae-45ba-f0fb-9bd3c0558cc8"
      },
      "execution_count": 8,
      "outputs": [
        {
          "output_type": "stream",
          "name": "stdout",
          "text": [
            "TYPE : Document \n",
            "\n",
            "METADATA : {'source': 'DataRepository/MuskComplaint.pdf', 'file_path': 'DataRepository/MuskComplaint.pdf', 'page': 0, 'total_pages': 46, 'format': 'PDF 1.7', 'title': '', 'author': '', 'subject': '', 'keywords': '', 'creator': '', 'producer': '', 'creationDate': '', 'modDate': '', 'trapped': ''} \n",
            "\n",
            "PAGE CONTENT : 1 \n",
            "2 \n",
            "3 \n",
            "4 \n",
            "5 \n",
            "6 \n",
            "7 \n",
            "8 \n",
            "9 \n",
            "10 \n",
            "11 \n",
            "12 \n",
            "13 \n",
            "14 \n",
            "15 \n",
            "16 \n",
            "17 \n",
            "18 \n",
            "19 \n",
            "20 \n",
            "21 \n",
            "22 \n",
            "23 \n",
            "24 \n",
            "25 \n",
            "26 \n",
            "27 \n",
            "28 \n",
            " \n",
            " \n",
            "COMPLAINT \n",
            " \n",
            "IRELL & MANELLA LLP \n",
            "Morgan Chu (SBN 70446) \n",
            "Alan Heinrich (SBN 212782) \n",
            "Iian Jablon (SBN 205458) \n",
            "Abigail Sellers (SBN 342380) \n",
            "Justin Koo (SBN 351547) \n",
            "Henry White (SBN 351549) \n",
            "1800 Avenue of the Stars, Suite 900 \n",
            "Los Angeles, CA 90067 \n",
            "Telephone: (310) 277-1010 \n",
            "Fax: (310) 203-7199 \n",
            "mchu@irell.com \n",
            "aheinrich@irell.com  \n",
            "ijablon@irell.com \n",
            "asellers@irell.com \n",
            "jkoo@irell.com \n",
            "hwhite@irell.com \n",
            " \n",
            " \n",
            "Attorneys for Plaintiff Elon Musk \n",
            "SUPERIOR COURT OF CALIFORNIA \n",
            "IN AND FOR THE COUNTY OF SAN FRANCISCO \n",
            "ELON MUSK, an individual, \n",
            "Plaintiff, \n",
            "vs. \n",
            "SAMUEL ALTMAN, an individual, GREGORY \n",
            "BROCKMAN, an individual, OPENAI, INC., a \n",
            "corporation, OPENAI, L.P., a limited \n",
            "partnership, OPENAI, L.L.C., a limited liability \n",
            "company, OPENAI GP, L.L.C., a limited \n",
            "liability company, OPENAI OPCO, LLC, a \n",
            "limited liability company, OPENAI GLOBAL, \n",
            "LLC, a limited liability company, OAI \n",
            "CORPORATION, LLC, a limited liability \n",
            "company, OPENAI HOLDINGS, LLC, a limited \n",
            "liability company, and DOES 1 through 100, \n",
            "inclusive, \n",
            "Defendants. \n",
            "Case No.:  \n",
            "[UNLIMITED JURISDICTION] \n",
            " \n",
            "COMPLAINT FOR (1) BREACH OF \n",
            "CONTRACT, (2) PROMISSORY \n",
            "ESTOPPEL, (3) BREACH OF FIDUCIARY \n",
            "DUTY, (4) UNFAIR COMPETITION \n",
            "UNDER CAL. BUS. & PROF. CODE \n",
            "§§ 17200 ET SEQ., AND (5) ACCOUNTING \n",
            " \n",
            " \n",
            "DEMAND FOR JURY TRIAL \n",
            " \n",
            "ELECTRONICALLY\n",
            "F I L E D\n",
            "Superior Court of California,\n",
            "County of San Francisco\n",
            "02/29/2024\n",
            "Clerk of the Court\n",
            "BY: KEVIN DOUGHERTY\n",
            "Deputy Clerk\n",
            "CGC-24-612746\n",
            " \n",
            " \n"
          ]
        }
      ]
    },
    {
      "cell_type": "code",
      "source": [
        "# for i in documents[0]:\n",
        "#   print(i)\n",
        "\n",
        "documents[0].page_content"
      ],
      "metadata": {
        "colab": {
          "base_uri": "https://localhost:8080/",
          "height": 125
        },
        "id": "KFYPrx87Ly9q",
        "outputId": "7727f20c-9cce-4699-8161-cbe69fecc2f9"
      },
      "execution_count": 9,
      "outputs": [
        {
          "output_type": "execute_result",
          "data": {
            "text/plain": [
              "'1 \\n2 \\n3 \\n4 \\n5 \\n6 \\n7 \\n8 \\n9 \\n10 \\n11 \\n12 \\n13 \\n14 \\n15 \\n16 \\n17 \\n18 \\n19 \\n20 \\n21 \\n22 \\n23 \\n24 \\n25 \\n26 \\n27 \\n28 \\n \\n \\nCOMPLAINT \\n \\nIRELL & MANELLA LLP \\nMorgan Chu (SBN 70446) \\nAlan Heinrich (SBN 212782) \\nIian Jablon (SBN 205458) \\nAbigail Sellers (SBN 342380) \\nJustin Koo (SBN 351547) \\nHenry White (SBN 351549) \\n1800 Avenue of the Stars, Suite 900 \\nLos Angeles, CA 90067 \\nTelephone: (310) 277-1010 \\nFax: (310) 203-7199 \\nmchu@irell.com \\naheinrich@irell.com  \\nijablon@irell.com \\nasellers@irell.com \\njkoo@irell.com \\nhwhite@irell.com \\n \\n \\nAttorneys for Plaintiff Elon Musk \\nSUPERIOR COURT OF CALIFORNIA \\nIN AND FOR THE COUNTY OF SAN FRANCISCO \\nELON MUSK, an individual, \\nPlaintiff, \\nvs. \\nSAMUEL ALTMAN, an individual, GREGORY \\nBROCKMAN, an individual, OPENAI, INC., a \\ncorporation, OPENAI, L.P., a limited \\npartnership, OPENAI, L.L.C., a limited liability \\ncompany, OPENAI GP, L.L.C., a limited \\nliability company, OPENAI OPCO, LLC, a \\nlimited liability company, OPENAI GLOBAL, \\nLLC, a limited liability company, OAI \\nCORPORATION, LLC, a limited liability \\ncompany, OPENAI HOLDINGS, LLC, a limited \\nliability company, and DOES 1 through 100, \\ninclusive, \\nDefendants. \\nCase No.:  \\n[UNLIMITED JURISDICTION] \\n \\nCOMPLAINT FOR (1) BREACH OF \\nCONTRACT, (2) PROMISSORY \\nESTOPPEL, (3) BREACH OF FIDUCIARY \\nDUTY, (4) UNFAIR COMPETITION \\nUNDER CAL. BUS. & PROF. CODE \\n§§ 17200 ET SEQ., AND (5) ACCOUNTING \\n \\n \\nDEMAND FOR JURY TRIAL \\n \\nELECTRONICALLY\\nF I L E D\\nSuperior Court of California,\\nCounty of San Francisco\\n02/29/2024\\nClerk of the Court\\nBY: KEVIN DOUGHERTY\\nDeputy Clerk\\nCGC-24-612746\\n'"
            ],
            "application/vnd.google.colaboratory.intrinsic+json": {
              "type": "string"
            }
          },
          "metadata": {},
          "execution_count": 9
        }
      ]
    },
    {
      "cell_type": "code",
      "source": [
        "documents[0].metadata"
      ],
      "metadata": {
        "colab": {
          "base_uri": "https://localhost:8080/"
        },
        "id": "i3dJYlBCIX_p",
        "outputId": "ef268816-509b-4772-9572-14983456021c"
      },
      "execution_count": 10,
      "outputs": [
        {
          "output_type": "execute_result",
          "data": {
            "text/plain": [
              "{'source': 'DataRepository/MuskComplaint.pdf',\n",
              " 'file_path': 'DataRepository/MuskComplaint.pdf',\n",
              " 'page': 0,\n",
              " 'total_pages': 46,\n",
              " 'format': 'PDF 1.7',\n",
              " 'title': '',\n",
              " 'author': '',\n",
              " 'subject': '',\n",
              " 'keywords': '',\n",
              " 'creator': '',\n",
              " 'producer': '',\n",
              " 'creationDate': '',\n",
              " 'modDate': '',\n",
              " 'trapped': ''}"
            ]
          },
          "metadata": {},
          "execution_count": 10
        }
      ]
    },
    {
      "cell_type": "markdown",
      "source": [
        "#### Transforming Data\n",
        "\n",
        "Now that we've got our single document - let's split it into smaller pieces so we can more effectively leverage it with our retrieval chain!\n",
        "\n",
        "We'll start with the classic: `RecursiveCharacterTextSplitter`."
      ],
      "metadata": {
        "id": "oQUl3sbZK4_1"
      }
    },
    {
      "cell_type": "code",
      "source": [
        "from langchain.text_splitter import RecursiveCharacterTextSplitter\n",
        "\n",
        "text_splitter = RecursiveCharacterTextSplitter(\n",
        "    chunk_size = 700,\n",
        "    chunk_overlap = 50\n",
        ")\n",
        "\n",
        "documents = text_splitter.split_documents(documents)"
      ],
      "metadata": {
        "id": "6Nt2E1xnLNgr"
      },
      "execution_count": 11,
      "outputs": []
    },
    {
      "cell_type": "markdown",
      "source": [
        "Let's confirm we've split our document."
      ],
      "metadata": {
        "id": "ilzwQxhiLcVV"
      }
    },
    {
      "cell_type": "code",
      "source": [
        "len(documents)"
      ],
      "metadata": {
        "colab": {
          "base_uri": "https://localhost:8080/"
        },
        "id": "4wRw6a4aLfWh",
        "outputId": "7b22809b-4b71-4a5a-e0fc-df7e6734ae8d"
      },
      "execution_count": 12,
      "outputs": [
        {
          "output_type": "execute_result",
          "data": {
            "text/plain": [
              "159"
            ]
          },
          "metadata": {},
          "execution_count": 12
        }
      ]
    },
    {
      "cell_type": "markdown",
      "source": [
        "#### Loading OpenAI Embeddings Model\n",
        "\n",
        "We'll need a process by which we can convert our text into vectors that allow us to compare to our query vector.\n",
        "\n",
        "Let's use OpenAI's `text-embedding-ada-002` for this task!"
      ],
      "metadata": {
        "id": "eZ93HkYcMJwW"
      }
    },
    {
      "cell_type": "code",
      "source": [
        "from langchain_openai import OpenAIEmbeddings\n",
        "\n",
        "embeddings = OpenAIEmbeddings(\n",
        "    model=\"text-embedding-ada-002\"\n",
        ")"
      ],
      "metadata": {
        "id": "JU6CrDVZMgKe"
      },
      "execution_count": 13,
      "outputs": []
    },
    {
      "cell_type": "code",
      "source": [
        "embeddings"
      ],
      "metadata": {
        "colab": {
          "base_uri": "https://localhost:8080/"
        },
        "id": "c_IykjPGJXud",
        "outputId": "e692d210-3396-4c79-eb7b-4cfc31bf80bc"
      },
      "execution_count": 14,
      "outputs": [
        {
          "output_type": "execute_result",
          "data": {
            "text/plain": [
              "OpenAIEmbeddings(client=<openai.resources.embeddings.Embeddings object at 0x7b607aaece80>, async_client=<openai.resources.embeddings.AsyncEmbeddings object at 0x7b6079e4c610>, model='text-embedding-ada-002', dimensions=None, deployment='text-embedding-ada-002', openai_api_version='', openai_api_base=None, openai_api_type='', openai_proxy='', embedding_ctx_length=8191, openai_api_key=SecretStr('**********'), openai_organization=None, allowed_special=set(), disallowed_special='all', chunk_size=1000, max_retries=2, request_timeout=None, headers=None, tiktoken_enabled=True, tiktoken_model_name=None, show_progress_bar=False, model_kwargs={}, skip_empty=False, default_headers=None, default_query=None, retry_min_seconds=4, retry_max_seconds=20, http_client=None)"
            ]
          },
          "metadata": {},
          "execution_count": 14
        }
      ]
    },
    {
      "cell_type": "markdown",
      "source": [
        "#### Creating a FAISS VectorStore\n",
        "\n",
        "Now that we have documents - we'll need a place to store them alongside their embeddings."
      ],
      "metadata": {
        "id": "rVtZR9JPLtR4"
      }
    },
    {
      "cell_type": "code",
      "source": [
        "from langchain_community.vectorstores import FAISS\n",
        "\n",
        "vector_store = FAISS.from_documents(documents, embeddings)"
      ],
      "metadata": {
        "id": "978TWiCtMA0B"
      },
      "execution_count": 15,
      "outputs": []
    },
    {
      "cell_type": "code",
      "source": [
        "vector_store"
      ],
      "metadata": {
        "colab": {
          "base_uri": "https://localhost:8080/"
        },
        "id": "DCOVaulZJbfk",
        "outputId": "4ccb3d31-fd68-4ef1-948a-82db385504b0"
      },
      "execution_count": 16,
      "outputs": [
        {
          "output_type": "execute_result",
          "data": {
            "text/plain": [
              "<langchain_community.vectorstores.faiss.FAISS at 0x7b60785324d0>"
            ]
          },
          "metadata": {},
          "execution_count": 16
        }
      ]
    },
    {
      "cell_type": "code",
      "source": [
        "### Test the searching technique with FAISS\n",
        "# Your sentence to embed\n",
        "sentence = \"Why Elon Musk hates OpenAI and wants to sue them.\"\n",
        "\n",
        "# Use the embeddings object to get the embedding vector for the sentence\n",
        "embedding_vector = embeddings.embed_query(sentence)\n",
        "\n",
        "# The embedding_vector is now a numerical representation of your sentence\n",
        "print(embedding_vector)\n",
        "\n",
        "\n",
        "\n",
        "top_k = 4\n",
        "results = vector_store.similarity_search(sentence, top_k)\n",
        "for i in results:\n",
        "  print(f\"\\nTop K nearest sentences : {i}\")\n",
        "\n",
        "\n",
        "results = vector_store.similarity_search_by_vector(embedding_vector, top_k)\n",
        "for i in results:\n",
        "  print(f\"\\nTop K nearest sentences : {i}\")"
      ],
      "metadata": {
        "colab": {
          "base_uri": "https://localhost:8080/"
        },
        "id": "FACme7l3WGGg",
        "outputId": "fd9b2cc6-1576-47bf-c17c-5001bbce5e9a"
      },
      "execution_count": 17,
      "outputs": [
        {
          "output_type": "stream",
          "name": "stdout",
          "text": [
            "[0.0017677240672397173, -0.02317386171651162, 0.01937158665317027, -0.006330453421474386, -2.79073176081549e-05, -0.009992643607925981, -0.018744545826707912, 0.024774820030054306, -0.009032069178593883, -0.0036088254060388496, 0.022533478763623556, 0.004442657550568157, 0.021759681997058588, -0.022213288218502044, 0.0034253823435556273, 0.00576011197570868, 0.02340066482723335, -0.006390489265099985, 0.02428119115462381, 0.0035054302126666355, -0.008711877702149852, 0.005753441378157086, -0.0286304598738084, -0.003692208573925654, -0.011833745295971058, -0.006707345675598851, 0.011707002545507009, -0.022920376215583523, 0.015289145561339486, -0.0016184681082466975, 0.028577093230750618, -0.00260155609535371, 0.003101855335505168, 0.01859779174925034, -0.030631655903091717, -0.0007191801722696358, 0.02238672468616599, -0.004739501702750983, 0.03722226402606202, -0.03490087558901215, 0.001137347010679042, 0.021612927919601017, -0.00038794038766354767, -0.022800304528332323, -0.03794269787485928, -0.013968355138931276, -0.012133924514099052, -0.007831351374759392, -0.006200375605065169, -0.004969639413756618, 0.014435301624155399, 0.021012569483345032, -0.011066619592618943, 0.0008050648724459454, 0.004425980823858544, -0.017904042153304493, -0.026562555075041596, 0.004536046847612982, -0.0039023342594458796, 0.020465575827501793, 0.012240655006247063, 0.00948567446871482, -0.010172752070125298, -0.006627297573657213, -0.012120583318995865, 0.01731702584347421, 0.014461984014361771, -0.0059135371163791025, 0.0029601040897959782, -0.0031585561131856, 0.011166679952876622, 0.004052424101340506, -0.0005528306615315147, -0.030898481667800484, 8.750025371072911e-05, -0.005653381483560669, -0.015049002186837091, -0.015956210904433922, -0.015449240833900242, -0.011046607334302903, 0.022773622138125952, -0.0011148335693194425, -8.879008810761214e-06, 0.021479515968569157, 0.00831163812376418, 0.010906524320058187, -0.002806678949125555, 0.019651754544304744, -0.026349094090745574, 0.019691779060936825, -0.011720343740610194, 0.01963841428052408, 0.0056100223666446835, 0.002031215115249263, -0.029751129575701255, 0.027563154952328296, -0.0061670221516459435, 0.003385358292584808, -0.013461385999720115, -0.036528518155406246, 0.012420763468446379, -0.02398768113706363, -0.017677240905227803, -0.008238261085035396, -0.015075684577043464, 0.007170956163555287, 0.021439491451937076, -0.007070896268958869, -0.0061670221516459435, -0.029831176746320374, 0.028176853652364945, 0.00576011197570868, -0.028763871824840265, -0.04237201190201795, -0.021746341733277923, -0.023894293702663844, 0.04741503021714839, 0.006950824581707672, -0.02238672468616599, -0.024894891717305502, 0.04480012989989331, 0.01563602035931241, -0.006177028280803964, -0.020118701029528868, 0.008745231155569078, 0.016569911467115617, -0.0394636071551378, -0.00904541037369707, 0.003367014032902612, -0.01188043994449347, 0.02889728563851717, 0.02260018567046201, 0.018037455966981395, -0.014568714506509782, -0.02610895071624318, 0.021105958780389858, -0.031298721246186156, 0.0011807062440103426, -0.02226665299891479, -0.024454627622287752, 0.019718461451143195, 0.005376549589693882, -0.012821002115509529, 0.011193362343082994, -0.047601808811238044, 0.0317256432147782, 0.0039023342594458796, 0.01670332528079252, 0.043332585400027525, 0.003688873275149858, -0.0006837423026346808, -0.0021412809061730704, -0.036341739561316595, 0.0034620708629200195, -0.0021863077888922694, -0.002796672819967535, 0.0010514623105027322, 0.023427347217439724, -0.0013533095272645686, -0.04045086490599879, -0.00818489630462265, 0.008298296928660994, -0.00835166264039626, 0.005233130112520219, 0.012894380085560835, 0.036501833902554834, 0.027122890857310546, 0.014475325209464958, -0.0029000680133397494, -0.0229604007322156, -0.006093645112917159, 0.03367347446364877, -0.04375950736861957, 0.003231933151914385, 0.0021079274527538443, 0.03324655249505672, 0.02420114398400469, 0.013027792967915218, -0.031111944514741544, 0.014955612889792266, -0.024708113123215854, 0.018064138357187766, 0.03826288655733575, 0.02457469930953895, 0.013754894154635254, 0.013187888240475974, 0.014742151905496244, -0.030311465357970205, 0.027563154952328296, -0.01234071536650474, 0.026055585935830437, -0.002516505394494322, -0.032072519875396166, -0.029510986201198863, -0.6207446689926939, -0.04480012989989331, -0.02262686806066838, -0.006123663034729958, 0.001811083300571018, 0.025001621278130992, 0.01424852303006575, 0.003023475232197373, -0.014195158249653004, 0.02937757238752196, -0.01735704849746125, 0.0032235950213902087, -0.011613613248462183, -0.012147265709202238, 0.01032617721079572, -0.017930726406155905, 0.011900452202809511, -0.040931151655003585, 0.017717265421859883, 0.03105857787168376, -0.015022318865308198, 0.02823022029542273, -0.020198748200147984, -0.03271290096563919, 0.03356674490282328, 0.024121094950740534, 0.011139996631347729, 0.0015050669021317784, 0.00444932814811975, 0.023053790029260425, -0.011113314241141356, 0.0019511671297229398, 0.006257075917084342, 0.019971946952071298, 0.033086458153818485, 0.006553920534928428, -0.015302486756442671, 0.028870603248310797, 0.017997431450349315, 0.02310715480967317, -0.025988879028991985, 0.004969639413756618, 0.006150345424936331, -0.009605746155966018, 0.0007379414316102928, -0.00046569522431428125, 0.01743709753072541, -0.019038053981623053, -0.0021529545683036735, 0.014128451342814553, 0.0014808858113842807, 0.015542630130945066, -0.012700930428258332, 0.01801077357677502, 0.008845290584504235, -0.0036154960035904428, 0.02169297695286518, -0.004172495788591703, -0.0037789270405882555, 0.009285554679521985, 0.0005269818631884611, 0.01015940994369959, -0.02932420760710921, -0.009565721639333937, -0.02138612667152433, -0.0037722564430366624, -0.024121094950740534, -0.0034887534859570223, 0.005389890784797068, -0.0109532189685806, 0.019891897918807137, -0.001879457623966738, -0.009799194881946, 0.026562555075041596, -0.010839817413219736, 0.03097853070106464, 0.040050623464968085, -0.024841526936892757, -0.007204309616974513, 0.004536046847612982, 0.01783733710911108, -0.013468056131610447, -0.017130247249384563, -0.008658512921737105, 0.029244160436490096, 0.006937482920943225, -0.017036857952339737, 0.013187888240475974, -0.006513896483957609, -0.0012682585935745506, 0.005206447722313846, 0.04594748571728261, -0.00490960357013102, -0.03548789562413251, 0.01670332528079252, -0.010586332843614155, -0.010392883186311652, 0.0243879207154493, -0.014528690921200222, -0.0358347685594604, -0.003345334474444619, -0.015102366967249837, 0.005583339976438311, -0.007918069608591363, 0.018864617513959108, 0.003445394369041037, -0.017210294420003682, 0.012620882326316694, 0.010292823757376494, -0.0397037505296402, -0.02702950156026572, -0.005469938421077446, 0.003952364206744089, 0.002304711943170883, -0.002836696870938354, -0.028043441701333084, -0.01706354034254611, 0.0013674846052693615, 0.01519575626429466, -0.02823022029542273, 0.003343666708641406, 0.004012400050369687, 0.003898998960670083, -0.010099374100073992, 0.005029675257382217, 0.007797997921340166, -0.007657913975772929, -0.008124860460997052, -0.033273236747908136, 0.0022330024374146817, -0.005566663249728697, 0.003118532062214781, 0.013508079716920007, 0.003311981021025393, 0.006970836374362452, 0.009365601850141103, 0.01945163568643443, -0.005660052546773522, 0.011193362343082994, 0.0038789869351846733, -0.010939876842154892, -0.012734283881677558, 0.02123937073142172, 0.01838433076495432, -0.03132540549903757, -0.012747625076780743, -0.007124261515032875, 0.0011031599071888395, 0.009012057851600364, 0.010206104592222003, -0.012007182694957522, 0.009932607764300383, 0.0281234888719522, 0.006443854511173991, 0.010559649522085261, -0.0023747539159545018, -0.0016326433026668055, -0.02226665299891479, -0.009245530162889905, -0.005423244238216295, -0.0006403830693033801, 0.01651654668670287, -0.023934316356650883, -0.00372556179451425, -0.020425551310869712, -0.004719489910096204, 0.014635421413348233, 0.02376087988898694, -0.02801675931112671, -0.019304881608976858, 0.002271358722582287, -0.019905240045232846, 0.006397159862651578, 0.012994439514495993, -0.026242364529920084, 0.008798595935981823, -0.013981696334034462, -0.02585546521531508, -0.009859230725571598, -0.00688411767486922, 0.007444452991476907, 0.013254595147314426, 0.0009447317601470639, -0.002910074142497769, 0.025935514248579237, 0.02189309581073549, 0.008211578694829023, 0.02626904692012646, -0.016903444138662835, 0.01918480992172566, -0.0229604007322156, 0.01582279895340206, 0.010793122764697323, 0.018184210044438966, -0.02352073651448455, -0.006487213628089976, 0.023267251013556447, 0.014195158249653004, 0.010292823757376494, 0.01150021262442384, -0.005923543245537123, -0.007090908061613649, 0.017730605685640548, 0.0089586921398651, 0.014822199076115363, -0.026495848168203145, -0.014195158249653004, -0.02234670016953391, 0.01729034345326784, 0.014475325209464958, 0.0007662917040351939, 0.020785766372623304, -0.028283585075835477, -0.013794918671267333, 0.005389890784797068, 0.0230804724194668, -0.009472332342289114, 0.013187888240475974, 0.007184297358658474, 0.027776615936624317, -0.02742974113865139, 0.005826818882547132, 0.01248746944396231, -0.008578464819795469, 0.012013852826847854, 0.0089586921398651, 0.02698947704363364, -0.0012540835155697575, 0.017757288075846922, -0.02482818481046705, -0.00833165038208022, -0.00229804134561929, -0.016449839779864417, 0.00013674847216846767, 0.024668088606583774, -0.008251602280138581, 0.03901000093369435, -0.002411442435318894, 0.03564798996537075, -0.026936112263220895, 0.007684596831640562, 0.009712476648114029, 0.016129647372097867, -0.016796714577837345, 0.003842298415820281, -0.007311040109122524, 0.01761053399838935, 0.022213288218502044, -0.02248011398321081, -0.004509363991745349, -0.015796114700550645, -0.025295131295691175, 0.007898057350275323, -0.0033153165526318197, -0.013081157748327963, -0.039757115310052944, 0.002239673034966275, -0.0006704009911161794, 0.0008008957489761998, 0.004806208143928175, 0.02530847155947184, -0.007978105452216961, 0.022613525934242675, 0.018877959640384814, 0.0007579533988880449, 0.006814076167746862, -0.0009088770072689631, 0.025948854512359905, 0.035247752249630115, -0.012687589233155145, -0.026229022403494378, 0.002326391501628876, 0.02081244876282968, -0.03935687386902223, 0.017730605685640548, 0.02207987440482514, 0.008104848202681012, 0.008758572350672263, 0.03578140377904765, 0.00843838087422823, 0.01746377992093178, -0.03642178486929067, 0.01468878619376098, 0.018037455966981395, 0.0059502261014047556, 0.0007216817045591408, -0.028443681279718754, -1.4689776715287957e-06, -0.020478916091282457, 0.02325390888713074, 0.0045160345892969415, 0.0014608739023141862, -0.025108352701601524, 0.005143076347081821, -0.013441373741404075, 0.0134747271948233, 0.008972033334968285, -0.01945163568643443, 0.012307361913085514, -0.02465474834280311, 0.013634822467384056, 0.004059094698892099, -0.0022580172946484707, -0.017850677372891744, 0.04447994121741684, 0.02025211484320577, -0.004956298218653432, -0.02033216201382489, -0.025295131295691175, -0.04087778687459084, -0.00873188996046589, -0.007584536937044144, -0.001494227122902782, 0.00950568579570834, -0.012841014373825569, 0.003825621689110668, 0.006990848167017231, -0.014728810710393059, 0.0157427499201379, 0.021145981434376897, -0.010506284741672516, -0.0040157355819761134, -0.020051994122690413, -0.008131530592887385, 0.10694397362140232, 0.037489091653415824, -0.018330964121896533, 0.005910202050433936, -0.01863781440323738, 0.005710082261241101, -0.04010398824538083, -0.03332660152832088, 0.0016418154325079037, -0.00703087221798805, -0.030524926342266227, -0.00158177947246699, -0.0023680830855722784, 0.007237662604732479, 0.03265953618522644, -0.00030434871994751254, 0.02860377748360203, -0.006817411233692028, 0.01076644037449095, -0.026802698449543992, -0.020852473279461756, -0.006870776479766034, -0.01849106032577981, 0.020158725546160945, 0.01622303666914269, 0.004982980608859804, 0.005376549589693882, 0.021919778200941865, 5.8837278835704207e-05, -0.020625670168740028, -0.0013241253719380609, -0.01974514384134957, 0.026469165777996774, 0.015395876053487497, -0.004325920929262126, 0.013341313381146398, 0.010559649522085261, 0.01983853313839439, 0.02478816029383497, -0.0006328785888501803, 0.013421361483088035, 0.01208722986557664, 0.0019494994803350414, -0.008865302842820274, -0.019585047637466293, -0.016743347934779558, -0.0060269386717399665, 0.00759787813214733, -0.034287175026330455, -0.025188399872220643, 0.009165482060948266, -0.031218674075567037, -0.03578140377904765, -0.002699948456977544, -0.007264345460600111, 0.0383162513377485, -0.0229604007322156, -0.0020478916091282457, -0.0031385440877001905, 0.0039090050898281025, -0.008371673967389779, -0.013728211764428882, 0.007130932112584468, -0.008131530592887385, 0.00518310039805264, -0.018811252733546363, 0.017036857952339737, -0.02033216201382489, -0.013141193591953561, 0.018117503137600514, 0.027122890857310546, -0.007391087745402902, -0.05307174536967045, -0.0021579574000520534, 0.032899679559728834, 0.002478149109326716, 0.02650919029462885, -0.021399466935304996, -0.003485418187181226, 0.016196354278936318, 0.017890701889523825, -0.010626356428923714, -0.003875651636408877, -0.018784570343339992, 0.008004787842423334, -0.013528091975236045, -0.016249720921994105, 0.022773622138125952, -0.02592217212215353, 0.0030968525037567882, 0.027016159433840014, -0.0007850529051681935, -0.003995723323660074, 0.007244333202284072, -0.0024147777340946907, -0.007184297358658474, 0.018998031327636014, 0.010526296068666036, -0.0021212688806876608, 0.01387496584188645, -0.017850677372891744, -0.011593601921468664, -0.01640981526323234, 0.009258871357993092, 0.007984776515429814, -0.0007425274965308419, 0.016356450482819595, 0.013588127818861645, -0.014635421413348233, 0.0085851349516858, 0.0055800044448318835, -0.002253014462900091, -0.001033117934405221, -0.018477720061999145, 0.01746377992093178, -0.004709483780938184, -0.013754894154635254, -0.007090908061613649, -0.010086032904970807, 0.003321987150183413, -0.012120583318995865, -0.015609337037783519, 0.010426236639730878, 0.019464975950215097, 0.006460531237883604, -0.012160607835627944, -0.00645386064033201, -0.03175232746762961, -0.0426922043097845, 0.01177370945234546, -0.021332760028466544, -0.0002924666161953365, -0.013528091975236045, -0.017703923295434177, -0.008778584608988303, -0.02014538341973524, -0.044453256964565424, -0.007124261515032875, -0.011446846912688574, -0.001615132809470901, -0.002366415552599695, 0.010379541991208465, -0.008091507007577825, -0.014195158249653004, 0.012987768451283138, -0.03490087558901215, -0.016823396968043716, 0.010459590093150103, -0.019598389763892, 0.03575471952619624, 0.005426579304161461, 0.012734283881677558, -0.04464003555865507, 0.010959889100470932, -0.0008046479892027997, -0.03812947646894893, 0.013554774365442418, 0.006707345675598851, 0.02698947704363364, 0.011380140937172642, 0.034260494498769126, -0.022293335389121163, 0.054646019430361716, -0.010392883186311652, 0.014035062045769727, -0.007864704828178618, 0.004349268253523332, 0.010012655866242021, -0.007771315065472533, 0.0019795174021478407, -0.0011423499588427367, -0.01914478540509358, 0.04159821699809802, -0.014568714506509782, -0.007777986128685386, 0.020305479623618516, 0.00023368145140300416, -0.0058034715582859255, -0.01945163568643443, -0.014075085631079287, -0.007671255170876115, 0.020705719202004185, -0.002593217964829533, 0.0070041898277816775, -0.031245356465773408, -0.015035660991733904, 0.03196578658928059, 0.03295304434014158, 0.010599674038717342, -0.014128451342814553, 0.005416573175003441, 0.0009839218700086188, 0.005573333847280291, 0.0089586921398651, 0.006387153733493558, -0.0286304598738084, 0.012320703108188702, -0.0075912075345957375, -0.007751303272817754, 0.008838620452613901, -0.0028600441951995605, 0.003198579931325789, 0.005429914835767887, -0.009178824187373974, 0.0023280592674320894, 0.0016743348866102078, -0.015369193663281124, -0.010572990717188448, -0.001742709093590613, -0.038689808525927794, -0.020092018639322494, -0.03127204071862482, -0.02354741890469092, -0.010166081006912445, -0.014702127388864165, -0.0016843408993529126, -0.0015100699667107884, 0.0016801717176755094, -0.03804942743568477, -0.025068328184969443, -0.008425039679125045, -0.009965961217719609, 0.04805541130739142, -0.006213716800168356, 0.02241340707637236, 0.0318590570284551, 0.0006812408285528334, 0.00818489630462265, 0.012220643679253544, 0.015075684577043464, -0.012774307466987116, 0.01450200759967133, 0.013107841069856857, -0.013121182264960042, 0.006870776479766034, -0.00503634585493381, -0.0022229963082566616, -0.01647652217007079, -0.017930726406155905, 0.01078645170148447, -0.02530847155947184, 0.02201316749798669, -0.018517742715986184, -0.04279893387060999, -0.01370152937422251, 0.018691181046295167, -0.003321987150183413, 0.01135345761564375, -0.01747712018471245, -0.025215082262427014, -0.011453517975901427, 0.0076779262340889685, 0.005850166206808337, -0.005426579304161461, 0.016730007670998893, -0.0198518752648201, -0.008418368615912192, -0.01439527710752332, -0.010025997061345207, 0.0037322326248964734, -0.013628152335493724, 0.02698947704363364, -0.020132043155954574, 0.010306164952479682, -0.006247070253587582, -0.013141193591953561, 0.00013216239269600423, -0.021266054984273135, 0.016209696405362024, 0.027589837342534666, -0.011059949460728611, -0.0033136487868286064, 2.4754390699320234e-05, -0.007411099538057682, 0.015809456826976355, 0.001406674773338574, -0.0013299622030033625, -0.008218248826719355, -0.015035660991733904, -0.0014817196942858873, 0.024054388043902083, 0.00776464446792094, 0.012694260296367998, -0.008738560092356224, -0.015809456826976355, -0.024361238325242927, -0.002631574017166509, -0.01005267945155158, 0.01120670353818618, -0.010713074662755685, -0.014368594717316947, 0.00545659722597426, -0.03153886462068855, -0.046534502027112894, 0.011740355998926234, -0.013354654576249583, 0.009599075092753163, 0.025001621278130992, -0.014408619233949026, -0.007831351374759392, -0.011947146851331922, 0.03177900799519094, -0.02692277199944023, 0.008945350944761912, 0.0013199561902606577, -0.023880951576238138, 0.014368594717316947, -0.01787735976309812, -0.02260018567046201, -0.02021209032657369, -0.007878046023281803, 0.0009105446566568614, 0.004759513495405763, -0.01626306118577477, -0.007998117710533001, 0.016463181906290127, 0.018330964121896533, -0.0022380052691630616, 0.013174547045372787, 0.03404703165182806, 0.026629261981880047, -0.013728211764428882, 0.023907633966444512, -0.010579661780401301, 0.0021412809061730704, -0.0017226971845205185, 0.01809082074739414, -0.006410501057754764, -0.009412296498663516, -0.005396561382348662, 0.02977781196590763, -0.010025997061345207, 0.017957408796362276, -0.00931890720161869, -0.02317386171651162, -0.006850764687111255, -0.03615496096722695, -0.01949166020306651, 0.029804494356114, -0.0252684489054848, 0.004716154378489777, 0.01783733710911108, 0.010272811499060454, 0.0016843408993529126, -0.016102964981891493, 0.013661504857590429, -0.005116393956875448, -0.018557767232618264, -0.02083913115303605, -0.009332249328044396, -0.006850764687111255, 0.035167703216365954, 0.0215328807489819, -0.005393225850742235, -0.013861624646783265, 0.02442794523208138, -0.023120496936098876, 0.021012569483345032, 0.0009372272796938641, 0.024227826374211066, 0.018317623858115868, -0.0036588553533370583, 0.005073034374298202, 0.04165158177851077, 0.013394679092881662, 0.008298296928660994, 0.010519625936775703, -0.002734969210538723, -0.00036375926781222114, -0.0018160863651500278, -0.021025909747125697, -0.014128451342814553, -0.004159154593488517, -0.01034618853778924, -0.002269690956779074, 0.015729409656357236, -0.013207900498792013, 0.025802100434902334, 0.013274607405630466, 0.021959802717573945, -0.003140211620672774, 0.006677327288124792, 0.001962840675438228, 0.009899255242203676, 0.0180507980934071, -0.03354006437526194, -0.027242962544561742, 0.006103651242075178, 0.004372615577784539, 0.0043592743826813525, -0.009805865945158853, 0.005700076132083081, -0.011126655436244541, -0.01853108484241189, -0.007664584573324522, 0.018437695545367064, -0.012854355568928754, 0.005419908706609868, 0.010866499803426109, 0.009012057851600364, 0.013394679092881662, 0.01450200759967133, 0.026535872684835225, -0.015729409656357236, -0.01588950399759547, -0.004419310226306951, 0.026389118607377655, 0.0014108439550159773, -0.0005319848695598135, -0.019198150185506326, 0.009265542421205945, 0.02430787354483018, -0.001309950293933268, -0.02352073651448455, -0.021786364387264962, -0.005113058425269022, 0.008418368615912192, -0.03151218409312721, 0.02123937073142172, -0.023787562279193316, 0.008531770171273056, 0.0053532022654326755, -0.023360640310601272, 0.031992470842132005, -0.022213288218502044, -0.025175059608439975, -0.0014667107333794878, 0.0028567088964237637, -0.0008038141645088505, -0.016716665544573184, -0.009792523818733146, -0.032179249436221656, 0.021119299044170523, 0.019878557655026472, -0.031245356465773408, -0.009412296498663516, 0.22349368222290042, -0.016076282591685122, 0.0004490185849161546, 0.008151542851203425, -0.007851362701752912, 0.00036375926781222114, 0.0029400920643105686, -0.010979901358786973, -0.010086032904970807, 0.004766184558618616, 0.002421448331646284, -0.0064205071869127845, -0.015409217248590682, -0.0021512868025004603, 0.007057555073855683, -0.022026509624412396, -0.032072519875396166, -0.009018727983490698, -0.028523728450337873, -0.023560759168471588, 0.03631505530846518, 0.0011323439461000321, 0.0005916038881499237, -0.02193312032736757, -0.006550585003322002, 0.006120327503123532, -0.009892584178990823, 0.0007546180419045908, 0.016196354278936318, 0.03073838732656225, -0.028363632246454596, 0.004949627621101838, 0.00787137496006895, -0.01897134893742964, -0.0017844006775340152, -0.018210892434645336, -0.009358931718250769, 0.020959204702932287, 0.03909004996695851, -0.01667664289058615, 0.03487419506145082, 0.008691865443833812, 0.0021829724901164726, -0.00025452724337470537, 0.015996235421066003, 0.012474128248859124, 0.0023680830855722784, 0.008358332772286592, 0.009018727983490698, 0.017076882468971818, -0.03324655249505672, -0.00011642380607857031, 0.022920376215583523, 0.057954665618272574, -0.0048295554681893815, 0.00789138721838499, 0.016289743575981144, 0.003955699738350515, -0.0012215640614674534, 0.031138626904947918, 9.834007659546865e-05, 0.00843838087422823, 0.01534251034175223, 0.022213288218502044, -0.02761651973274104, 0.02589548973194716, -0.04650781777426148, 0.009719146780004361, 0.01691678626508854, 0.00029413426558323486, -0.005076369905904629, -0.029244160436490096, 0.006437183913622397, -0.0072776866557032974, -0.007984776515429814, -0.02340066482723335, 0.03450063787327152, 0.029457621420786118, -0.020345504140250596, 0.026722651278924873, 0.0038589749096992637, 0.014968954084895453, 0.00038293738129219527, 0.009645769741275576, -0.009492344600605154, -0.02604224380940473, 0.00957239270254679, -0.02574873565448959, 0.01962507215409837, -0.01995860482564559, -0.017116905122958857, -0.027563154952328296, -0.002099589322229668, -0.01777063020227263, 0.011366799742069457, 0.004202513710404502, 0.03474078124777391, 0.01534251034175223, -0.002411442435318894, 0.017823994982685373, -0.035407846590868354, 0.006897459335633667, 0.01435525352221376, 0.003185238736222603, 0.005019669128224197, 0.0016885099646150009, 0.0059135371163791025, 0.013901649163415344, 0.0010481270117269357, -0.0013466388132976604, -0.005713417792847527, -0.010126057421602885, -0.003458735564144223, -0.0001452952480410183, -0.0014717136815431825, 0.0007600379897267465, -0.005733429585502307, -0.006297099968055161, 0.036528518155406246, -0.00703087221798805, -0.0031518852828033767, -0.015569313452473959, -0.005563327718122271, 0.0030835110758229718, 0.009352260655037916, -0.003345334474444619, -0.030791752106974993, 0.006817411233692028, -0.0025665353417925305, -0.027069526076897797, 0.01901137159141668, 0.0015359187068461843, 0.0026682627693615313, 0.009358931718250769, -0.011266739381811778, -0.020518940607914538, 0.024441287358507088, 0.0055299747303643055, 0.011546907272946253, 0.016529886950483536, 0.002671598068137328, 0.0219064379371612, -0.0132212416938952, 0.009212176709470679, -0.003949028675137661, 0.0031085261658873914, 0.00929889587462517, 0.006930812323391633, -0.0080581535541586, -0.011240056991605405, -0.034287175026330455, -0.012053877343479933, -0.013307960859049691, -0.010186093265228484, 0.031191991685360663, 0.006630633105263639, -0.022893693825377148, -0.022653550450874756, -0.015129049357456209, 0.01582279895340206, -0.047174886842646, 0.01318121810858564, -0.012414092405233525, -0.007097579124826502, -0.027696566903360156, -0.01571606752993153, -0.16820727797700558, 0.0036488492241790386, 0.01548926535053232, -0.015622678232886704, 0.041117930249093236, -0.0029417595972831517, 0.031005213091271015, -0.007524501093418546, -0.008171555109519463, 0.002729966378790343, 0.037969378402420616, -0.004652783003257752, -0.02911074662281319, -0.004856238324057014, -0.007644572780669743, 0.010025997061345207, -0.016596593857321987, 0.00548661514778706, 0.0035187714077698218, 0.0024081071365430976, 0.007164285566003694, -0.030258098714912418, 0.004519370120903369, 0.007571195741940958, 0.015182415069191475, -0.003091849439177778, -0.005810142155837518, 0.01929153948255115, -0.014235181834962564, -0.02069237707557848, 0.010226116850538043, -0.04464003555865507, 0.04373282684105824, 0.0010314502850173226, 0.022613525934242675, 0.01380825986637052, 0.023053790029260425, -0.015902846124021177, -0.023467371734071804, 0.031912421808867844, -0.014675444998657793, 0.028737189434633895, 0.013968355138931276, -0.0003364512617028422, -0.028817238467898052, -0.0015976223162749964, 0.030604973512885342, 0.020705719202004185, 0.01729034345326784, -0.026122292842668888, 0.018170869780658298, -0.035407846590868354, 0.0015117376160986866, 0.01548926535053232, 0.012113913187105533, 0.00877191354577545, 0.02461472382617103, 0.0264424833877904, -0.003655520054561262, 0.0031101936988599745, 0.00820490763161617, -0.0323660280303113, 0.006704010143992425, -0.02497493888792462, -0.015649360623093078, 0.001194047555528844, -0.01626306118577477, 0.011573589663152625, -0.04802873077983009, 0.015756092046563606, -0.017343708233680585, 0.009492344600605154, 0.026642604108305757, -0.006520567081509202, -0.001244077502827053, 0.032979728592992995, -0.012080559733686307, -0.0017343707302358063, 0.006797399441037249, 0.0035020949138908387, -0.013087828811540816, 0.00518310039805264, -0.010432907702943731, -0.02027879723341214, -0.011546907272946253, 0.0012299023084069447, 0.016583253593541323, -0.0030034632067119636, -0.006370477472445206, 0.0063604713432871855, 0.0038289569878864646, -0.01003266812455806, 0.0008254937811745008, -0.01815752765423259, -0.012100571992002346, -0.004065765296443692, 0.026695968888718502, 0.003205250528877382, 0.016970151045501286, -0.012921062475767207, -0.01208722986557664, -0.007364405355196529, -0.01265423577973592, -0.0024131102011221072, 0.034180445465504965, 0.017036857952339737, -0.021959802717573945, 0.004442657550568157, 0.024854867200673425, -0.017036857952339737, -0.018717863436501538, -0.014768834295702617, 0.009218847772683532, 0.006523902613115628, -0.0158628216073891, -0.012327374171401555, 0.00950568579570834, -0.016062942327904454, 0.025175059608439975, 0.002331394566207886, 0.06355801599038188, -0.0009047078255915599, 0.017263659200416427, 0.004592747159632153, 0.01040622438141484, -0.00776464446792094, -0.10171417298689214, -0.03815615699651026, 0.018197552170864672, 0.025281789169265465, -0.008605147210001841, 0.017970749060142944, 0.0014808858113842807, 0.06537244087615571, -0.029937908169790906, 0.05141742227571502, -0.0020378857128008562, -0.0314854998402758, -0.015555972257370772, 0.013501409585029673, 0.011366799742069457, -0.016743347934779558, -0.029430937167934705, -0.01706354034254611, -0.03735567783973892, 0.017490462311138155, 0.0037789270405882555, 0.015796114700550645, 0.00560335176909309, -3.322299914479173e-05, 0.02406773017032779, 0.007044213413091236, -0.046721280621202545, 0.025575299186825648, 0.009745830101533254, -0.004902932972579426, 0.0010347857002084343, -0.00933891945993473, 0.0015425894208130925, -0.03740904262015166, 0.01019943446033167, 0.0005628366742742194, -0.011847086491074245, -0.03842298462386407, 0.019091420624680836, -0.04170494655892351, -0.003785597870970479, 0.027376376358238644, 0.010246129108854082, -0.005363207928929435, -0.03764918599465406, -0.006096980178862325, -0.0032119213592596055, 0.021186005951008974, 0.03642178486929067, -0.023120496936098876, -0.021332760028466544, -0.01949166020306651, -0.018104162873819846, 0.02117266568722831, 0.026522532421054557, 0.005416573175003441, 0.02083913115303605, 0.022640210187094088, -0.010666380014233272, -0.010379541991208465, -0.0021212688806876608, 0.01853108484241189, 0.007431111796373721, -0.011947146851331922, 0.002064568335837859, -0.01118669127987014, 0.0003183154145383901, -0.021439491451937076, -0.008511757912957016, -0.0013316298523912608, 0.011173350084766954, -0.007164285566003694, -0.00793141080369455, 0.012827673178722382, -0.03263285193237503, -0.021519538622556195, -0.002207987347350262, -0.027883345497449807, 0.0007771315414718479, 0.008365003835499447, 0.0006020267841357744, -0.016209696405362024, 0.008378345030602632, -0.011606943116571851, 0.030311465357970205, 0.011853757554287098, -0.01360146901396483, 0.002057897738286266, -0.005956896698956348, -0.01757050948175727, 0.004919609233627779, 0.00946566221039878, 0.0009380611043878132, -0.027910027887656178, 0.0016067944461160943, -0.01150021262442384, -0.017650558515021432, 0.0025148376286911085, 0.0077379620777145676, 0.006697339546440831, -0.00732438130422571, -0.011720343740610194, -0.055926785336137846, 0.025948854512359905, -0.020825790889255385, 0.0031418793864759873, 0.0140617444359761, -0.004355938851074926, 0.011700332413616675, -0.019785168357981647, -0.01534251034175223, 0.014635421413348233, -0.0050830405034562225, 0.022987083122421974, 0.0021879755546954827, -0.028070124091539455, -0.03343333108914637, -0.01364149353059691, 0.015756092046563606, -0.019424953296228058, 0.0037555797163270495, 0.010799793827910176, 0.01152022395141736, -0.005653381483560669, 0.004476010538326123, -0.01034618853778924, 0.03903668518654576, 0.007571195741940958, -0.015409217248590682, 0.03386025305773841, -0.03047155969920844, -0.029217476183638683, 0.00902539904670355, -0.006870776479766034, -0.014368594717316947, 0.0062837587729519745, -0.0035454540308068245, -0.004642777339760993, 0.019104760888461504, 0.011827074232758205, -0.0015150729148744831, 0.027323009715180858, -0.02626904692012646, -0.04621430961934634, 0.011013254812206198, -0.01588950399759547, -0.00923218896778672, 0.011713673608719862, -0.01578277443676998, -5.4094857233125305e-05, 0.003979046596950461, 0.03820952177692301, -0.003073505179495582, 0.023947658483076593, -0.0438128758743224, -0.02105259213733207, -0.021332760028466544, -0.020372186530456967, 0.03564798996537075, 0.008611818273214694, 0.024801502420260677, 0.021012569483345032, 0.0011198365174831374, 0.013554774365442418, 0.030258098714912418, -0.03402035112426673, -0.002101256855202251, 0.00986590178878445, -0.012314032976298368, 0.0009989308309150185, 0.007964764257113776, -0.013147864655166415, -0.01508902577214665, -0.020625670168740028, 0.004339262124365312, 0.012594199936110322, 0.017783970466053293, 0.0029667746873475714, -0.0028950651815913696, 0.008238261085035396, -0.007551183483624918, 0.0005474107719170164, 0.013434702678191222, -0.028923968028723542, 0.0007692101195678447, 0.015595995842680331, 0.023907633966444512, 0.03233934377745989, 0.009532369117237233, -0.006213716800168356, 0.018304281731690162, -0.007357734291983676, -0.027483105919064135, 0.002513169862887895, -0.011306762967121338, 0.0036088254060388496, 0.016036259937698083, 0.011580260726365478, 0.012160607835627944, -0.016076282591685122, 0.027149573247516916, 0.0032852983979883904, 0.019865215528600766, -0.002950097960637958, -0.008785254740878636, 0.00630710609721318, -0.007644572780669743, 0.006997519230230085, -0.011760368257242275, -0.013574786623758458, 0.010512954873562848, 0.009098776085432336, 0.026709309152499167, 0.0011098305047404326, 0.00316856200951299, 0.007164285566003694, -0.01552928893584188, 0.030017955340410022, 0.011600272053358998, -0.008738560092356224, -0.022840329044964403, 0.022293335389121163, 0.025081670311395153, 0.0029017357791429627, 0.016196354278936318, -0.01376823534973844, 0.018264259077703123, 0.020598987778533657, 0.010166081006912445, -0.018664498656088793, -0.007864704828178618, -0.0134747271948233, -0.0038589749096992637, 0.0006257909916401263, -0.0161163071083172, 0.006910800530736853, -0.032019151369693334, -0.005620028495802703, -0.039597020968814706, 0.023187203842937328, -0.012640894584632733, 0.03839630037101265, 0.02698947704363364, -0.016543229076909242, 0.004572735366977374, -0.005433249901713054, -0.0042992385390557535, 0.025388520592735997, -0.020852473279461756, -0.03636842008887793, 0.0031702297753162033, 0.0010748096347639384, -0.003622166601142036, 0.013347984444359251, -0.022253310872489083, 0.03479414602818666, -0.013394679092881662, 0.019398270906021683, 0.04101119696297766, -0.015876163733814806, 0.003243606814044988, 0.02413443707716624, 0.03468741646736117, 0.006080303917813972, 0.006460531237883604, -0.03938355812187365, 0.00047111514303260825, 0.016649958637734733, 0.020225432452999396, 0.021919778200941865, -0.04882920993660143, 0.009545710312340418, 0.013888307968312159, -0.015595995842680331, -0.004476010538326123, -0.0020295473494460494, 0.02820353790521636, 0.0038856575327362664, -0.006984177569465638, 0.0171702699033716, -0.015302486756442671, -0.006407165991809598, 0.02823022029542273, -0.01588950399759547, -0.0317256432147782, -0.0002123144971697132, -0.005406567511506681, -0.028843920858104423, 0.01643649765343871, 0.0028200201442287413]\n",
            "\n",
            "Top K nearest sentences : page_content='1 \\n2 \\n3 \\n4 \\n5 \\n6 \\n7 \\n8 \\n9 \\n10 \\n11 \\n12 \\n13 \\n14 \\n15 \\n16 \\n17 \\n18 \\n19 \\n20 \\n21 \\n22 \\n23 \\n24 \\n25 \\n26 \\n27 \\n28 \\n \\n \\n– 12 – \\nCOMPLAINT \\n \\nthat Google and DeepMind promised to establish two years earlier when Google acquired \\nDeepMind. Mr. Musk was asked to be a member of the board and offered for the first meeting to be \\nhosted at SpaceX in Hawthorne, California. It became clear to Mr. Musk after the first meeting that \\nthis board was not a serious endeavor, but was rather a façade to try to slow down any regulation \\nof AI.  \\n49. \\nThe Open Letter was later published on October 28, 2015, and signed by over eleven \\nthousand individuals, including Mr. Musk, Stephen Hawking, and Steve Wozniak. \\nB.' metadata={'source': 'DataRepository/MuskComplaint.pdf', 'file_path': 'DataRepository/MuskComplaint.pdf', 'page': 11, 'total_pages': 46, 'format': 'PDF 1.7', 'title': '', 'author': '', 'subject': '', 'keywords': '', 'creator': '', 'producer': '', 'creationDate': '', 'modDate': '', 'trapped': ''}\n",
            "\n",
            "Top K nearest sentences : page_content='1 \\n2 \\n3 \\n4 \\n5 \\n6 \\n7 \\n8 \\n9 \\n10 \\n11 \\n12 \\n13 \\n14 \\n15 \\n16 \\n17 \\n18 \\n19 \\n20 \\n21 \\n22 \\n23 \\n24 \\n25 \\n26 \\n27 \\n28 \\n \\n \\n– 10 – \\nCOMPLAINT \\n \\nhe favored the human species over intelligent machines. Mr. Musk responded, “Well, yes, I am pro-\\nhuman.” \\n37. \\nAt the end of 2013, Mr. Musk learned to his grave concern that Google was planning \\nto acquire DeepMind. At the time, DeepMind was one of the most advanced AI companies in the \\nindustry. Thus, Mr. Musk was deeply concerned that DeepMind’s AI technology would be in the \\nhands of someone who viewed it and its power so cavalierly, and could hide its design and \\ncapabilities behind closed doors.  \\n38.' metadata={'source': 'DataRepository/MuskComplaint.pdf', 'file_path': 'DataRepository/MuskComplaint.pdf', 'page': 9, 'total_pages': 46, 'format': 'PDF 1.7', 'title': '', 'author': '', 'subject': '', 'keywords': '', 'creator': '', 'producer': '', 'creationDate': '', 'modDate': '', 'trapped': ''}\n",
            "\n",
            "Top K nearest sentences : page_content='OpenAI, Inc. reaffirmed with Mr. Musk on multiple occasions, Mr. Musk was a moving force \\nbehind the creation of OpenAI, Inc. contributing a majority of its funding in its first several years, \\nadvising on research directions, and most importantly, recruiting some of the world’s leading \\nscientists and engineers to work at the non-profit venture, including Chief Scientist Ilya Sutskever. \\nRecruiting for OpenAI, Inc. was a Herculean task in the face of relentless recruiting efforts by \\nGoogle/DeepMind, coupled with the lavish compensation Google/DeepMind offered. There would \\nhave been no OpenAI, Inc. without Mr. Musk’s founding contributions and early leadership. Mr.' metadata={'source': 'DataRepository/MuskComplaint.pdf', 'file_path': 'DataRepository/MuskComplaint.pdf', 'page': 5, 'total_pages': 46, 'format': 'PDF 1.7', 'title': '', 'author': '', 'subject': '', 'keywords': '', 'creator': '', 'producer': '', 'creationDate': '', 'modDate': '', 'trapped': ''}\n",
            "\n",
            "Top K nearest sentences : page_content='ELON MUSK, an individual, \\nPlaintiff, \\nvs. \\nSAMUEL ALTMAN, an individual, GREGORY \\nBROCKMAN, an individual, OPENAI, INC., a \\ncorporation, OPENAI, L.P., a limited \\npartnership, OPENAI, L.L.C., a limited liability \\ncompany, OPENAI GP, L.L.C., a limited \\nliability company, OPENAI OPCO, LLC, a \\nlimited liability company, OPENAI GLOBAL, \\nLLC, a limited liability company, OAI \\nCORPORATION, LLC, a limited liability \\ncompany, OPENAI HOLDINGS, LLC, a limited \\nliability company, and DOES 1 through 100, \\ninclusive, \\nDefendants. \\nCase No.:  \\n[UNLIMITED JURISDICTION] \\n \\nCOMPLAINT FOR (1) BREACH OF \\nCONTRACT, (2) PROMISSORY \\nESTOPPEL, (3) BREACH OF FIDUCIARY \\nDUTY, (4) UNFAIR COMPETITION' metadata={'source': 'DataRepository/MuskComplaint.pdf', 'file_path': 'DataRepository/MuskComplaint.pdf', 'page': 0, 'total_pages': 46, 'format': 'PDF 1.7', 'title': '', 'author': '', 'subject': '', 'keywords': '', 'creator': '', 'producer': '', 'creationDate': '', 'modDate': '', 'trapped': ''}\n",
            "\n",
            "Top K nearest sentences : page_content='1 \\n2 \\n3 \\n4 \\n5 \\n6 \\n7 \\n8 \\n9 \\n10 \\n11 \\n12 \\n13 \\n14 \\n15 \\n16 \\n17 \\n18 \\n19 \\n20 \\n21 \\n22 \\n23 \\n24 \\n25 \\n26 \\n27 \\n28 \\n \\n \\n– 12 – \\nCOMPLAINT \\n \\nthat Google and DeepMind promised to establish two years earlier when Google acquired \\nDeepMind. Mr. Musk was asked to be a member of the board and offered for the first meeting to be \\nhosted at SpaceX in Hawthorne, California. It became clear to Mr. Musk after the first meeting that \\nthis board was not a serious endeavor, but was rather a façade to try to slow down any regulation \\nof AI.  \\n49. \\nThe Open Letter was later published on October 28, 2015, and signed by over eleven \\nthousand individuals, including Mr. Musk, Stephen Hawking, and Steve Wozniak. \\nB.' metadata={'source': 'DataRepository/MuskComplaint.pdf', 'file_path': 'DataRepository/MuskComplaint.pdf', 'page': 11, 'total_pages': 46, 'format': 'PDF 1.7', 'title': '', 'author': '', 'subject': '', 'keywords': '', 'creator': '', 'producer': '', 'creationDate': '', 'modDate': '', 'trapped': ''}\n",
            "\n",
            "Top K nearest sentences : page_content='1 \\n2 \\n3 \\n4 \\n5 \\n6 \\n7 \\n8 \\n9 \\n10 \\n11 \\n12 \\n13 \\n14 \\n15 \\n16 \\n17 \\n18 \\n19 \\n20 \\n21 \\n22 \\n23 \\n24 \\n25 \\n26 \\n27 \\n28 \\n \\n \\n– 10 – \\nCOMPLAINT \\n \\nhe favored the human species over intelligent machines. Mr. Musk responded, “Well, yes, I am pro-\\nhuman.” \\n37. \\nAt the end of 2013, Mr. Musk learned to his grave concern that Google was planning \\nto acquire DeepMind. At the time, DeepMind was one of the most advanced AI companies in the \\nindustry. Thus, Mr. Musk was deeply concerned that DeepMind’s AI technology would be in the \\nhands of someone who viewed it and its power so cavalierly, and could hide its design and \\ncapabilities behind closed doors.  \\n38.' metadata={'source': 'DataRepository/MuskComplaint.pdf', 'file_path': 'DataRepository/MuskComplaint.pdf', 'page': 9, 'total_pages': 46, 'format': 'PDF 1.7', 'title': '', 'author': '', 'subject': '', 'keywords': '', 'creator': '', 'producer': '', 'creationDate': '', 'modDate': '', 'trapped': ''}\n",
            "\n",
            "Top K nearest sentences : page_content='OpenAI, Inc. reaffirmed with Mr. Musk on multiple occasions, Mr. Musk was a moving force \\nbehind the creation of OpenAI, Inc. contributing a majority of its funding in its first several years, \\nadvising on research directions, and most importantly, recruiting some of the world’s leading \\nscientists and engineers to work at the non-profit venture, including Chief Scientist Ilya Sutskever. \\nRecruiting for OpenAI, Inc. was a Herculean task in the face of relentless recruiting efforts by \\nGoogle/DeepMind, coupled with the lavish compensation Google/DeepMind offered. There would \\nhave been no OpenAI, Inc. without Mr. Musk’s founding contributions and early leadership. Mr.' metadata={'source': 'DataRepository/MuskComplaint.pdf', 'file_path': 'DataRepository/MuskComplaint.pdf', 'page': 5, 'total_pages': 46, 'format': 'PDF 1.7', 'title': '', 'author': '', 'subject': '', 'keywords': '', 'creator': '', 'producer': '', 'creationDate': '', 'modDate': '', 'trapped': ''}\n",
            "\n",
            "Top K nearest sentences : page_content='ELON MUSK, an individual, \\nPlaintiff, \\nvs. \\nSAMUEL ALTMAN, an individual, GREGORY \\nBROCKMAN, an individual, OPENAI, INC., a \\ncorporation, OPENAI, L.P., a limited \\npartnership, OPENAI, L.L.C., a limited liability \\ncompany, OPENAI GP, L.L.C., a limited \\nliability company, OPENAI OPCO, LLC, a \\nlimited liability company, OPENAI GLOBAL, \\nLLC, a limited liability company, OAI \\nCORPORATION, LLC, a limited liability \\ncompany, OPENAI HOLDINGS, LLC, a limited \\nliability company, and DOES 1 through 100, \\ninclusive, \\nDefendants. \\nCase No.:  \\n[UNLIMITED JURISDICTION] \\n \\nCOMPLAINT FOR (1) BREACH OF \\nCONTRACT, (2) PROMISSORY \\nESTOPPEL, (3) BREACH OF FIDUCIARY \\nDUTY, (4) UNFAIR COMPETITION' metadata={'source': 'DataRepository/MuskComplaint.pdf', 'file_path': 'DataRepository/MuskComplaint.pdf', 'page': 0, 'total_pages': 46, 'format': 'PDF 1.7', 'title': '', 'author': '', 'subject': '', 'keywords': '', 'creator': '', 'producer': '', 'creationDate': '', 'modDate': '', 'trapped': ''}\n"
          ]
        }
      ]
    },
    {
      "cell_type": "code",
      "source": [
        "### Test the searching technique with FAISS\n",
        "# Your sentence to embed\n",
        "sentence = \"Who is the plantiff?\"\n",
        "\n",
        "# Use the embeddings object to get the embedding vector for the sentence\n",
        "embedding_vector = embeddings.embed_query(sentence)\n",
        "\n",
        "# The embedding_vector is now a numerical representation of your sentence\n",
        "print(embedding_vector)\n",
        "\n",
        "\n",
        "top_k = 4\n",
        "results = vector_store.similarity_search(sentence, top_k)\n",
        "for i in results:\n",
        "  print(f\"\\nTop K nearest sentences : {i}\")\n",
        "\n",
        "\n",
        "results = vector_store.similarity_search_by_vector(embedding_vector, top_k)\n",
        "for i in results:\n",
        "  print(f\"\\nTop K nearest sentences : {i}\")"
      ],
      "metadata": {
        "colab": {
          "base_uri": "https://localhost:8080/"
        },
        "id": "G7iRwhJ8GVaA",
        "outputId": "379d090f-dedd-4e74-b96c-a00e7fdc2a0a"
      },
      "execution_count": 18,
      "outputs": [
        {
          "output_type": "stream",
          "name": "stdout",
          "text": [
            "[-0.010692491246009428, -0.018966114237033063, -0.013695458945488589, 0.00773075319710096, -0.017852885731947044, 0.03578823449032578, 0.001017023581171081, 0.0027040457479223096, -0.03628300147304502, -0.003590505354103413, 0.023597695043570566, 0.005274091871860847, -0.0020976110925096086, 0.008802751120293712, 0.016670940521694814, 0.004916759230796597, 0.03133532046998169, -0.00047028748887333255, -0.0011398566474330866, -0.0027744814417386345, 0.010032800073071954, 0.00010898214582936232, -0.020381702205314888, -0.0040440429190826055, -4.4935004762586825e-05, 0.010238952982538303, 0.021192571247205107, -0.03007091223329777, 0.0042364527669124874, -0.0044907089532435635, 0.0020168677532199663, -0.009716698013900973, -0.01642355516769004, -0.014169612034245061, -0.007675779087909933, -0.014705610530180147, 0.012382948828923808, -0.006569422346472789, 0.004525067771487955, 0.016299864353332808, 0.03565079735470306, -0.005933782579137033, -0.01353053661791551, -0.002779635380890616, -0.03133532046998169, -0.006734345139707158, 0.013070127056456795, -0.00936623760214689, -0.01289833249957355, 0.02220959599252941, 0.011379668542219838, 0.014966738480160101, 0.0062052179417596606, -0.009675467432007704, 0.010067158425655056, -0.028421685232276662, -0.00010721051562565705, 0.007071062489824774, -0.01657473489928794, 0.012424179410817077, -0.0019515857657249776, 0.020271753986932838, 0.0009242545390805791, 0.009915979625379734, -0.010479466107232912, -0.012953306608764575, -0.0023896617460788705, 0.01493925142556459, -0.020629085696674508, -0.018402628686502463, 0.02699235466801966, 0.03062065518785319, -0.0025528664819856974, -0.03809715080163921, 0.00864470009070822, -0.019227242187013018, -0.029796041687342636, -0.0013408561998240664, -0.017756681972185325, -0.008101829365462967, 0.01726191312682093, -0.02021677987774181, -0.007771984244655519, 0.02582415205374261, 0.014801816152587024, -0.0020151496958924243, -0.007119164835366922, 0.009792287879699924, -0.022938003870633092, -0.02238826091607767, -0.00011198854970170423, 0.015310327593926596, 0.010781823707783557, 0.020038113091548394, -0.01373668952738186, 0.02379010442573916, -0.02839419817768115, 0.004751836437562228, 0.004332657923658073, -0.048459798323825055, 0.02582415205374261, 0.014705610530180147, -0.01810027108595182, -0.01588755667175495, 0.007586446160474515, 0.011015464603167999, -0.005902859875547725, 0.020312983637503525, 0.014169612034245061, -0.020711546860461047, 0.007019524029627542, -0.0005888257319586198, -0.007985008917770747, -0.036970179700578004, 0.000818171425816545, -0.034908645017979044, 0.038646895618839786, -0.003879120125848236, 0.003492582605691575, -0.035623312162752704, 0.02787194227772124, -0.01569514728958636, 0.01225238485393383, -0.018979858695653398, 0.014829303207182535, 0.006600345515723386, -0.01636858105849901, -0.006469781540733409, 0.005796347306159467, 0.008108701594773135, 0.02251195359308006, 0.01805903957273597, 0.00472778503196051, -0.018801191909459985, 0.009228801397846745, -0.007861317172090937, -0.021384982492018857, 0.02220959599252941, -0.03034578464189806, -0.018292680468120413, 0.010692491246009428, 0.011324694433028812, -0.007455882185484538, 0.0009457288004833238, 0.0013820868981326586, 0.005528347592530634, 0.010658131962103749, 0.02847665934146769, 0.009057006840963498, -0.00027229430397490635, -0.007187882471855705, 0.01085054227559492, 0.008727161254494761, -0.008651572320018388, 0.027239738159379277, 0.006473217655388493, -0.0036489155779495237, -0.009682338729995292, 0.007352805265090074, 0.0024308925608027853, -0.009393724656742403, 0.0122936154358271, 0.017399348399798495, 0.003535531244912387, -0.005098861200322517, 0.03150024279755477, 0.027597071731766107, -0.0010840233931629667, -0.02538435731756924, 0.01821021930433387, -0.005435578550440133, 0.017399348399798495, -0.030785577515426273, 0.028421685232276662, 0.01818273224973836, 0.0021525854345312797, -0.005841013537046531, 0.012218026501350728, -0.026483843226680084, 0.01097423402127473, -0.03724505024653314, 0.030758090460830757, 0.009709825784590806, 0.037959717391306796, -0.02607153554510223, 0.017165707504414054, -0.007916291281281964, -0.008067471012879865, -0.0013142280574770019, -0.009881620341474053, 0.007277215864952413, 0.016602221953883455, 0.004689990564722323, -0.014183355561542817, -0.6715654166099628, -0.026195228222104617, 0.025150718284829957, -0.0026610971087014977, 0.01917226807782199, 0.03567828627194373, 0.0026593790513739558, -0.01337248558833002, -0.020312983637503525, 0.009709825784590806, 0.006682806679509926, 0.02614025411291359, 0.005603936992668296, -0.003786351316588379, -0.0028981736530797335, -0.027954403441507777, 0.009256288452442259, -0.012994537190657844, -0.014540688202607068, 0.013523664388605342, 0.009881620341474053, 0.006943934629489881, 0.01609371051254388, -0.001396689454094186, 0.027267225213974792, 0.023405285661401973, -0.00025876550473926194, -0.014925507898266832, -0.005861628827993166, 0.0016913170772394387, -0.03438638911801913, 0.03688772039943663, 0.0013528817862096035, -0.010802439464391482, 0.044968933076969086, -0.006074653966769683, -0.03691520559138698, 0.005088553787679844, -4.045223996183798e-05, 0.02086272659205895, -0.03457880036283288, -0.017564270727371573, 0.009118853179464693, -0.024010002725148423, -0.00023235209045430948, 0.0012051385185127528, 0.00011939719171352408, 0.014829303207182535, -0.003607684996056254, 0.033919111052540564, 0.018567551014075544, 0.016588479357908276, 0.003659223223422841, 0.008610341738125119, -0.006160551245211306, -0.0010238953448199592, 0.014526944675309312, 0.008575982454219437, -0.005311886339099034, 0.0017084964863616344, -0.007799471299251032, 0.017248170530845753, -0.035375926808747925, -0.016478531139526225, -0.002662814933198395, -0.00933187831824121, -0.02170108455118984, 0.02791317379093709, 0.02886147996845003, -0.03639294969142707, 0.0015083558462191033, 0.023955028615957396, -0.014265816725329358, -0.009826646232283026, 0.02220959599252941, 0.001987662641296911, 0.008397315668026022, -0.0004172459322413155, 0.003389505918127756, 0.027267225213974792, -0.004607528935274495, -0.014142124979649548, -0.014966738480160101, -0.004638452104525091, 0.0330670104974345, -0.003538967126736826, -0.022250825643100103, -0.008782135363685786, -0.016506018194121737, -0.008500392588420487, 0.027844455223125727, 0.013832894218466155, -0.006012808093929779, -0.029301272841978244, -0.02414743799812599, 0.005782603313200421, -0.03248978048828356, -0.014389508471009166, -0.02286928716546689, -0.011723257655986332, 0.016066223457948368, 0.013406843940913122, 0.01741309285841883, 0.005140091782215786, 0.013042640001861283, -0.000825902159921533, -0.021522417764996426, 0.03724505024653314, 0.014100894397756279, -0.012877716742965624, 0.005387476204897984, 0.012005001362574211, -0.019364677459990584, -0.011359053716934494, -0.0060162442085848625, -0.024491027111892483, 0.022800568597655526, -0.00720849822846363, 0.005597065229019417, -0.008479777763135141, 0.016231145785521445, 0.020051855687523573, 0.023886310048146033, 0.0011664847897801512, 0.01092613121007129, 0.016327351407928323, 0.0037897871984128185, -0.03106044992402656, -0.026799945285851067, 0.026236459735320468, 0.0055146040652328775, -0.027280969672595128, 0.022635646270082445, -0.004305170869062559, 0.008850853931497149, 0.0135374079159031, 0.02442230854408112, 0.007325318210494561, 0.022374518320102493, -0.009785415650389756, 0.0008039983259792418, -0.020051855687523573, 0.013111357638350066, 0.01573637880280221, -0.03559582324551203, -0.01576386585739772, -0.00630485874749904, 0.013942843368170787, -0.023872565589525697, 0.01810027108595182, -0.003672966750720598, -0.01429330377992487, -0.00929064773634794, 0.014485714093416042, -0.0008379277463070701, -0.0017394195391969092, -0.0021422775562273174, -0.01694581106764995, 0.01016336404806193, 0.005645168040222855, 0.0029222248258508076, -0.002257379946591996, -0.012602846197010492, -0.027761994059339188, 0.007524599821973321, -0.026525072877250776, 0.002789943026363933, 0.00039061778989425087, -0.0024051233307041692, -0.037025153809769035, 0.01349617733400983, -0.010280183564431573, -0.00817054700195175, 0.0011647668488679315, -0.009421211711337916, -0.013819150691168399, 0.019488370136992974, 0.007778856008304397, -0.02245697948388903, 0.019282216296204045, -0.004861785121605571, 0.002102764798830945, -0.00037580050587061116, 0.017248170530845753, -0.011668283546795307, 0.01657473489928794, -0.013399972642925534, 0.04694800473313636, -0.011592694612318934, 0.028916454077641058, 0.006421679195191261, 0.0015427147808788173, -0.004889272176201083, 0.011743873412594258, -0.008273623922346214, -0.011462130637328956, 0.006799627127202146, 0.005394347968546862, 0.010864285802892676, 0.014059663815863007, 0.007146651889962435, 0.02350148942116369, 0.02190723652933361, -0.012410435883519321, 0.006665627503218375, -0.037547409709728946, -0.0005162425246905285, -0.011262849025850197, 0.035870693791467165, 0.02117882865122993, 0.015722634344181873, -0.009462442293231187, -0.026607535903682474, -0.01189505221286958, 0.016231145785521445, -0.0018880217191422086, 0.010816182991689238, 0.0016827273726783408, 0.0010496644585032528, -0.00586506494264825, 6.946941026086264e-05, 0.006559114933830117, 0.018031552518140457, -0.005102297314977601, -0.0041711707794174985, 0.02161862152475814, -0.013791663636572886, 0.01805903957273597, 0.014279560252627114, -0.002064970098762114, 0.0050645023820781255, -0.001355458755785594, 0.006177730887164147, -0.0066518839759206186, 0.009400595954729992, -0.007854445874103349, 0.011682027074093063, -0.012300487665137267, 0.032599728706665616, -0.007181010708206826, -0.0016140095033589132, 0.021330008382827833, -0.003786351316588379, 0.005682962507461041, 0.014142124979649548, 0.00985413328687854, 0.027377175295002002, 0.014039048059255084, -0.0157776084533729, 0.011304079607743467, 0.0013623305194344724, -0.000847376479531939, -0.005459629956041851, -0.00594752610643479, 0.004387632032849099, -0.00988849257078422, -0.01621740318954627, 0.021962210638524635, 0.02733594378178615, 0.013083870583754553, 0.006957678156787637, -0.007593317924123394, 0.013228178086042286, 0.011262849025850197, 0.03394659624449092, 1.881686884787975e-05, -0.0004909028671314593, 0.016176171676330422, 0.003607684996056254, 0.008094958067475377, 0.010025927843761787, -0.006689678443158804, -0.0016320479411448799, 0.0029170708866988267, 0.008088085838165211, 0.011785103994487527, -0.003672966750720598, -0.009057006840963498, -0.003069967977132336, -0.019474627541017794, -0.017481809563585034, -0.03666782396267252, 0.02061534310069933, 0.040928326738202854, -0.005270655757205763, -0.0015796505686991992, -0.012231770028648484, 0.03218742102508776, -0.014788072625289266, 0.010706234773307186, 0.001589958330587839, -0.0001784515633661826, -0.01609371051254388, 0.015901301130375287, 0.02638763760427321, 0.010623772678198067, 0.016409812571714862, 0.004384195918194015, -0.0033637366880291397, -0.03848197329126671, 0.004483836723933396, -0.00514352789687087, 0.005648603689216649, 0.007153523653611314, 0.038646895618839786, 0.0008551072136369271, -0.007071062489824774, -0.01104982388707368, -0.011317823135041222, -0.016712170172265506, 0.0047449646739133496, -0.014032176761267496, -0.01636858105849901, 0.0029394042349730034, -0.006813370654499903, 0.010101517709560737, -0.0023381235187122833, -0.010383260484826037, 0.02954865819598302, -0.002233328773820922, -0.011785103994487527, -0.0021371238499059814, -0.00832859803153724, -0.02034047069209904, 0.09252165301120674, 0.03496361912717007, -0.0013588946376100332, 0.0035973771177522916, -0.03317695871581655, 0.012905204728883716, -0.020684059805865535, -0.01197064207866853, 0.012197410744742804, 0.006407935667893504, -0.019667036923186387, -0.015626428721775, 0.007476497476431173, 0.005854757064344288, 0.0007060754611520812, -0.0026026868848553876, 0.010891772857488189, 0.007057318962527017, -0.008514136115718244, -0.02032672809612386, -0.003343121397082505, 0.009496800645814289, -0.0020443548078154794, 0.03614556806271261, -0.014980482007457859, -0.017316887236011956, 0.037025153809769035, 0.011963769849358362, 0.016712170172265506, 0.013152588220243336, -0.002585507475733192, -0.022718107433868987, 0.010946746966679216, -0.0025494306001612585, -0.024326104784319402, 0.006693114557813888, -0.02998845106951123, -0.02439482148948561, 0.00586506494264825, -0.001380368957220439, 0.023089183602230993, -0.012637204549593594, -0.0025820715939087525, -0.024037489779743935, 0.022883029761442065, -0.016038736403352852, -0.0005295565958640609, -0.009393724656742403, 0.0132556651406378, -0.007572702633176758, -0.0024343284426272243, 0.0008486649061122731, -0.01764673375380327, -0.004638452104525091, 0.0017729194451928522, 0.003683274396193915, -0.01553022496201328, -0.01137279724423225, -0.013358742061032264, -0.009991569491178685, -0.018773704854864473, 0.002879276186629996, -0.002667968872350376, -0.02321287627923338, -0.01401843230264716, -0.009283775507037772, 0.006383884262291786, -0.015379045230415379, -0.005222553411663616, -0.005696706034758798, -0.014238329670733844, -0.009503672875124457, -0.037025153809769035, 0.007703266142505446, 0.019790727737543617, -0.006748088667004915, 0.0010814465400022985, -0.0019034833037675071, 0.012142436635551777, 0.01569514728958636, 0.0009929722919846844, -0.014265816725329358, 0.014183355561542817, -0.0132556651406378, -0.021811032769571893, 0.006459474128090737, -0.009462442293231187, -0.010802439464391482, 0.004659067395471726, 0.046920519541186, 0.012740281469988058, -0.009799159177687512, 0.0021920979590970076, -0.03007091223329777, -0.014430739984225015, -0.007710137906154325, 0.04015868548423817, 0.014664379948286878, -0.025755433485931248, -0.0069130114602392835, -0.015076686698542155, -0.013214434558744529, 0.03334188104338963, -0.0009886774979117967, 0.007304702919547925, 0.0063976277895895425, 0.017797911622756016, 0.003975325282593822, -0.023652669152761593, -0.002491020609145793, 0.011908795740167335, -0.02565922972616953, -0.0005471655193181422, -0.0034290186755241286, 0.009194443045263644, 0.01236920530162605, -0.007710137906154325, 0.025288153557807523, 0.010321415077647422, 0.007558958640217712, -0.01665719606307448, -0.0004707169741013874, 0.03628300147304502, -0.003796658962061697, -0.014265816725329358, -0.007112293071718043, -0.0055695781744239045, -0.014197099088840575, -0.00432235004535411, -0.006882088290988686, 0.00036441913277524115, -0.01133156666233898, 0.018485089850289002, -0.01277464075389374, -0.011716386357998744, -0.011455258408018788, -0.009359365372836723, 0.01680837579467238, -0.006779011836255512, -0.004868656885254449, -0.000618460241798238, -0.01373668952738186, 0.006641576097616656, -0.01917226807782199, -0.03314946979857588, -0.026813687881826243, -0.017674220808398786, 0.023034209493039966, -0.017907859841138067, 0.0005390053290889298, -0.026703739663444193, 0.009304391263645696, -0.008562238926921682, 0.01569514728958636, -0.0006558256021581668, -0.019845703709379804, -0.01764673375380327, 0.0011690617593561417, 0.027363430836381666, -0.014870533789075806, 0.01209433382434834, 0.007868189401401104, 0.007675779087909933, 0.012410435883519321, -0.0008143060296602203, -0.017193194559009566, -0.00039748958264695976, -0.012843358390382522, -0.015571455543906551, 0.019268473700228866, 0.019103551372655788, 0.025081999717018594, 0.028311737013894608, 0.00929064773634794, -0.00880962334960388, 0.008294239678954138, -0.02546682034400094, -0.01205310324245507, -0.020848982133438613, -0.02513697382620962, 0.006947370278483675, -0.01965329246456605, -0.003148993491925081, 0.005012963921880893, -0.009105109652166935, 0.0029686093468960584, 0.024820871767038642, -0.002489302551818251, -0.009902236098081977, -0.02111011008341857, 0.017591759644612244, -0.028971428186832085, -0.01016336404806193, 0.018650012177862083, 0.03215993583313741, -0.011798847521785283, -0.004531939535136833, 0.017440579913014342, 0.0005098002171658746, 0.01205310324245507, -0.006301423098505246, 0.003872248362199358, -0.01405279158655284, 0.009221930099859157, 6.393976975976176e-05, 0.006813370654499903, -0.010891772857488189, -0.01602499194473252, 0.027500866109359232, 0.007174138944557948, -0.02686866199101727, -0.011262849025850197, -0.040048737265856116, -0.04650821185960814, 0.001514368697619533, -0.016272377298737296, -0.027514610567979568, 0.004710605855668958, -0.020958932214465823, 0.0018639705463711345, -0.004988912981940464, -0.012444795167425, 0.02080775248286792, -0.009153211532047794, 0.05599126990944726, 0.04139560852897174, -0.0011054977127733726, 0.0041780425430663765, 0.0002742270020530687, -0.01221115427204056, 0.002929096589499686, 0.01109105446896695, 0.006270499929254649, -0.00327268570326618, -0.00720849822846363, 0.02486210328025449, -0.006280807807558611, -0.008878340986092663, -0.002241918361966698, -0.00014956860174395687, 0.043319706075947984, -0.010816182991689238, -0.0063976277895895425, -0.011207873985336592, 0.0004187491450914229, 0.01353053661791551, -0.0033499931607313834, -0.01092613121007129, -0.03136280566193205, -0.029136350514405163, -0.020752778373676898, -0.016203658730925934, -0.004030299391784849, 0.02209964777414736, 0.0077376249607498376, -0.010019056545774197, -0.0016664068758045938, -0.02787194227772124, 0.01517289232094903, 0.02490333293082518, -0.023446515311972664, 0.013922227611562863, 0.013564894970498613, 0.009029519786367984, -0.02754209762257508, 0.005703578264068965, -0.017687963404373962, -0.00456286223872614, -0.009338749616228798, 0.029603632305174047, 0.018485089850289002, 0.0009062161012946124, 0.02170108455118984, 0.018856166018651012, 0.016670940521694814, 0.008507264817730655, -0.006882088290988686, -0.014045920288565251, 0.0016045607701340443, -0.007620804978718906, 0.02299297797982412, 0.0031438397856037447, -0.006043731263180375, -0.016354838462523835, -0.013942843368170787, -0.013317511479138993, -0.034496341061691506, 0.007510856294675564, 0.03804217669244818, -0.011874437387584234, -0.017550528131396397, 0.0044872728385884795, 0.0036283002870028886, 0.013929099840873031, -0.018952371641057886, -0.003027019337911524, 0.006243012874659136, 0.011297207378433299, -0.02671748412206453, -0.004514759893183992, -0.03883930313836322, 0.007249728810356899, -0.02335031155221095, 0.015021712589351128, 0.010362645659540691, -0.02546682034400094, 0.025233179448616496, -0.023199131820613048, -0.020258009528312502, -0.02277308154306001, 0.004263939821508, -0.010843670046284752, -0.020244266932337322, -0.03317695871581655, -0.006260192050950687, 0.01869124369107793, 0.0026301741722815457, -0.01636858105849901, -0.01569514728958636, 0.007414651603591268, -0.002470405085368513, 0.013159460449553503, 0.0046109650499295786, -0.002740122623494243, 0.0028672504838291365, 0.010513824459816015, -0.01533781464852211, 0.005177886715115262, 0.00522598906065741, -0.017949091354353918, -0.010019056545774197, 0.02582415205374261, -0.0029394042349730034, -0.014183355561542817, -0.02205841626093151, -0.006363268971345151, -0.012843358390382522, -0.001635483822969319, -0.01843011574109798, -0.037684846845351665, -0.003751992265513343, 0.026401382062893546, 0.004799938783104377, 0.015956275239566314, -0.022443236887913855, -4.370023109395018e-05, -0.006696550206807683, -0.023528976475759203, -0.013145716922255746, -0.03427644089963708, -0.02466969203544074, 0.032572239789424945, 0.012005001362574211, -0.019117293968630964, -0.019914420414546007, -0.002643917699579302, -0.04920195066054907, -0.004593785407976738, 0.005222553411663616, -0.010864285802892676, 0.006109013250675364, -0.00840418789733619, 0.010919259912083703, 0.024092463888934962, -0.017481809563585034, 0.021275032410991646, -0.008479777763135141, -0.016918324013054434, 0.020739033915056562, -0.022649388866057624, 0.018292680468120413, -0.010335158604945178, -0.019928164873166343, -0.015049199643946642, 0.018168987791118023, -0.002879276186629996, 0.02042293185588558, -0.009943466679975246, -0.006026551621227535, -0.008039983958284352, -0.021275032410991646, 0.008349213788145165, 0.010802439464391482, 0.025233179448616496, 0.004631580340876213, -0.013317511479138993, -0.01265782030620152, -0.005456193841386767, -0.007029831907931504, -0.022319544210911466, -0.003796658962061697, 0.02847665934146769, -0.01653350524871725, 0.0017677656224561935, -0.0033637366880291397, -0.006737781254362242, -0.009922851854689902, -0.01137279724423225, 0.006998908738680907, -0.012499769276616028, 0.0025339692483666047, 0.009345621845538965, 0.0067206016124094015, -0.0037451205018644647, -0.010300799321039498, 0.008947058622581446, -0.009696082257293048, -0.016519760790096913, 0.0015702019518896528, -0.020519137478292454, 0.001979072820320491, 0.001539278899054378, -0.004342965336300746, -0.008342341558834997, -0.041697964266877226, 0.009393724656742403, 0.017591759644612244, -0.011097925766954538, 0.011317823135041222, -0.006562550582823911, 0.005435578550440133, -0.01613494202575973, -0.007462753949133416, 0.004751836437562228, -0.009840389759580783, -0.02697861207204448, 0.014238329670733844, 0.02018929096050114, -0.016506018194121737, -0.008493521290432899, -0.03248978048828356, -0.02614025411291359, 0.017303144640036777, 0.019722011032377414, -0.027253482617999612, 0.007181010708206826, 0.2524417352539664, 0.0025751998302598745, 0.005902859875547725, 0.01546150639420192, 0.010575670798317208, 0.03551336394437065, 0.03735499846491519, -0.018086526627331484, -0.03150024279755477, 0.00981290270498527, 0.0042982986397523916, 0.006115885014324242, 0.0003682844998277352, 0.008314854504239483, -0.01542027581230865, -0.013145716922255746, -0.020629085696674508, -0.014348277889115897, -0.008548495399623926, -0.031170398142408615, 0.021920980987953944, -0.01473309758477566, 0.005858193178999372, -0.019818214792139133, 0.028366711123085635, 0.004648759517167764, 0.008940186393271278, 0.008143059947356236, 0.030290810532707033, 0.005305014575450156, 0.0008289085274140867, 0.0052534765809142125, 0.02521943498999616, 0.00756583040386659, -0.008892084513390418, -0.0012987665892670256, -0.010438234594017064, 0.0033499931607313834, 0.022003442151740483, 0.005662347216514406, -0.007991881147080914, -0.02987850285112918, -0.026456356172084573, -0.008892084513390418, -0.017523041076800885, 0.005236296938961372, -0.00014720643298965494, -0.014348277889115897, -0.010376389186838449, 0.017866630190567376, -0.028421685232276662, -0.007345933501441196, 0.02080775248286792, 0.04694800473313636, 0.01728940018141644, -0.012719666644702712, -0.0012704205060077413, -0.013186947504149017, -0.02513697382620962, 0.000408656198576387, -0.012128693108254021, 0.02733594378178615, -0.018168987791118023, 0.028614094614445255, 0.00804685525627194, 0.007497112767377807, -0.035128541454743145, 0.014623149366393608, -0.015667660234990846, -0.01009464548025057, -0.011097925766954538, -0.013516793090617754, -0.006583165873770546, 0.014307047307222627, -0.003913478944092628, -0.028284249959299096, 0.0028672504838291365, 0.018883653073246524, 0.030400758751089087, 0.027761994059339188, -0.008225521111142777, 0.004531939535136833, -0.017468066967609858, 0.0032142754794200696, -0.008589725981517195, -0.02262190181146211, 0.00976480082510441, -0.0132556651406378, 0.0014946123189213468, -0.008376700842740678, 0.005428706786791254, 0.0024412002062761027, -0.02054662453288797, -0.011936282794762849, 0.015117917280435425, 0.018072784031356304, 0.007119164835366922, 0.022525698051700394, 0.005727629204009394, 0.015159148793651274, -0.018746217800268958, 0.016382325517119347, 0.005713885676711638, 0.021398725087994036, -0.009895363868771809, 0.011743873412594258, 0.0014825867325358097, -0.005676090743812163, -0.009826646232283026, -0.004408247323795734, -0.02017554836452596, -0.0046212724625722505, 0.0040474790337376885, -0.012540999858509297, 0.004775887843163947, 0.007785727771953276, 0.0027710455599141955, -0.015970017835541493, 0.018471347254313826, -0.0030923013254065125, 0.009524287700409802, -0.022484466538484543, 0.0010359209312054962, 0.018017809922165277, 0.0007348510587432508, -0.014925507898266832, -0.009263160681752427, 0.010905516384785947, -0.0016990477531367656, -0.006895831818286443, -0.011530848273817739, -0.027803225572555035, 0.024229899161912528, -9.947976696875367e-05, -0.031417783496413394, 0.004514759893183992, -0.0009156647763118201, -0.00020228805173089042, -0.007057318962527017, 0.0007541779231095517, -0.014911764370969076, -0.021687340092569504, -0.008837110404199393, -0.007902547753984206, 0.014362021416413653, -0.01052756798711377, 0.0100534148983573, 0.001120959180983349, -0.004669374808114399, -0.015791352911993236, -0.030565681078662164, -0.014073407343160765, -0.011173515632753489, -0.008259880395048456, 0.02839419817768115, 0.0034238647363721473, 0.010431363296029474, -0.017784169026780837, 0.006236141111010257, -0.00022268864371924375, -0.013702331174798757, 0.022525698051700394, 0.007510856294675564, 0.003937530349694346, -0.019914420414546007, 0.0142520731980316, -0.17943593943434816, 0.023116670656826505, 0.029301272841978244, -0.04439170306781815, 0.03853694740045773, 0.016382325517119347, 0.010987977548572486, -0.017440579913014342, -0.013874125731682004, 0.036035619844330555, 0.030785577515426273, -0.011633925194212203, -0.0030424809225368227, -0.015241609957437813, 0.0020735599197385345, -0.009524287700409802, -0.016753401685481357, 0.01881493636808032, 0.001079728599090079, 0.014224586143436087, 0.015076686698542155, 0.018966114237033063, -0.020532880074267634, 0.0068442938237505005, 0.017220683476250238, -0.0021646109045014945, -0.015310327593926596, 0.006754960430653793, -0.008527879643016, -0.022402005374698004, -0.014444483511522771, -0.00490301570349884, 0.0033499931607313834, 0.015379045230415379, 0.006631268219312694, -0.009661723904709946, 0.015640173180395334, -0.0011175232991589097, -0.0048068105467532546, 0.02381759148033467, 0.005920039051839276, 0.007002344387674701, 0.01741309285841883, 0.01040387624143396, -0.013819150691168399, 0.024491027111892483, -0.0062223975837125, 0.0076139332150700284, -7.934759233399815e-05, -0.01256848691310481, 0.023034209493039966, -0.022924261274657912, -0.01437576494371141, 0.01925472924160853, 0.00045783238815591006, 0.028531633450658716, 0.00020357650741505509, 0.008960802149879201, -0.01177136046718977, 0.00504388709113149, -0.012025616187859557, 0.0014087150404797231, 0.02477964211646795, -0.013688587647501001, -0.0201068297967146, 0.0001104853514035121, -0.01822396190030905, -0.008850853931497149, -0.03776730614649305, 0.013949714666158377, -0.005280963635509726, -0.01625863284011696, 0.029383734005764783, -0.00800562467437867, -0.007497112767377807, 0.007160395417260192, -0.01965329246456605, 0.006139935954264672, -0.02438107889351043, -0.0044907089532435635, -0.017632989295182935, 0.029493682224146833, 5.2263112837178157e-05, -0.00740777983994239, -0.005078245909375881, -0.016602221953883455, 0.009744185068496487, 0.005772295900557748, 0.014307047307222627, -0.0011450104701697453, 0.015475249921499675, -0.02743214940419303, 0.0006644153067192647, -0.039141662601559025, 0.0021663289618290365, 0.012259257083243998, 0.017866630190567376, 0.02362518209816608, -0.026882406449637606, -0.009922851854689902, -0.003999376222534251, 0.006675934915861048, -0.02487584587622967, 0.019392164514586096, 0.020917700701249976, 0.006449166249786775, -0.0005626270457357795, 0.02362518209816608, 0.04727785311357283, -0.011984385605966288, -0.013516793090617754, 0.001747150215094236, 0.01750929661818055, 0.030125886342488795, 0.0005063643353414354, 0.015557712016608794, 0.015997504890137005, -0.014526944675309312, -0.0018124322025892248, -0.027294712268570304, 0.06377012312378391, 0.024312360325699067, 0.010486337405220501, 0.010623772678198067, 0.012582230440402568, 0.011950026322060606, -0.08224146851545258, -0.014980482007457859, -0.0030648142708109994, 0.006115885014324242, 0.026882406449637606, 0.006332345802094554, 0.009338749616228798, 0.0442817548494361, -0.005208809884365859, 0.0063976277895895425, 0.005174451066121468, -0.02894394113223657, -0.009359365372836723, -0.0058272700097487745, 0.005469937368684524, 0.013990945248051646, -0.016327351407928323, 0.008988289204474715, -0.01946088308239746, 0.026085280003722566, 0.002205841719225409, 0.0034479159091432214, 0.00916695599066813, -0.011070438712359024, 0.01701452963546131, 0.003339685515258066, -0.030043425178702256, -0.0014559585901887451, 0.020972674810441003, 0.001078869570426308, 0.023900052644121213, -0.017591759644612244, 0.01866375663648242, -0.00916695599066813, -0.00634608932939231, -0.001793534736139487, -0.05112604820752531, 0.006315166625803003, 0.023006722438444455, -0.03955397028313688, 0.00992972315267749, -0.01009464548025057, 0.014513201148011554, -0.018045296976760793, 0.0002984929901977467, -0.013138844692945578, -0.020587856046103817, 0.023528976475759203, 0.05560645114511007, -0.014155868506947304, -0.033039521580193826, -0.00638732037694687, -0.025288153557807523, 0.006882088290988686, -0.006040295148525291, -0.00558332170172166, -0.01493925142556459, 0.04180791248525928, -0.01372981822939427, -0.014197099088840575, -0.007284087628601291, 0.013152588220243336, -0.005067938496733209, 0.003197096070297874, 0.006115885014324242, -0.004497580716892441, 0.00562455274927622, -0.010623772678198067, 0.002977198935041834, -0.010857413573582508, -0.0016715606985412525, 0.004291426876103514, -0.017811656081376352, 0.007449010421835659, -0.011146028578157975, -0.0051916302424130185, -0.02438107889351043, 0.005267220108211969, -0.004466657547641844, -0.04430924376667677, 0.003899735649625516, -0.00800562467437867, -0.0009465878291470948, 0.007012652265978664, 0.02314415771142202, 0.015351558175819865, -0.011228489741944516, -0.0019258165356263615, 0.015227866430140057, -0.004820554074051011, -0.009276904209050182, 0.002267687592065314, 0.002886147950278874, -0.02226457010172044, -0.03883930313836322, 0.0241749250527215, 0.003250352354992003, 0.009723570243211141, 0.007304702919547925, 0.004088709615630959, -0.010761208882498213, -0.0023845080397575345, -0.0653094056317133, 0.021893493933358432, -0.025013281149207235, 0.00041660171895114846, -0.014458227038820529, 0.005469937368684524, 0.00812244512207089, -0.01613494202575973, -0.014485714093416042, 0.016231145785521445, -0.002929096589499686, 0.042137760865695754, -0.007490241003728929, -0.00030300257054040775, -0.026442611713464237, 0.0017548810074068855, 0.039141662601559025, 0.005136656133221992, 0.015062943171244398, 0.031857576369941604, -0.00017136502799944628, -0.01697329812224546, 0.011104797996264706, 0.025961587326720176, 0.0061433720689197556, -0.0003910472751223058, -0.016052478999328032, 0.03070311635163973, -0.04529877773211525, -0.012547872087819465, 0.0058925519972437635, -0.043979395386240294, 0.009593006268221163, 0.01825144895490456, 0.011434643582733444, 0.006040295148525291, -0.0005617680752796697, 0.002516789606413764, 0.012747153699298226, -0.012046231944467481, -0.008163675703964162, -0.022649388866057624, 0.008074342310867453, -0.008060598783569697, -0.008259880395048456, 0.017880372786542555, -0.025851639108338122, 0.015269097012033326, 0.030290810532707033, -0.004569734002375019, 0.025604255616978506, 0.011743873412594258, -0.0017282528650598209, -0.012602846197010492, -0.0008001329880305783, -0.019350934864015408, -0.013826022920478567, -0.008108701594773135, 0.008424803653944116, -0.025453075885380604, 0.00828736744964397, 0.010665004191413916, 0.029053889350618624, 0.020079342742119085, -0.003786351316588379, 0.0038310177803060883, -0.00957239051161324, 0.002241918361966698, 0.016547247844692428, -0.005109169078626479, -0.009634236850114433, -0.004050914682731483, 0.006119320663318037, 0.0114483871100312, 0.01661596641250379, 0.029053889350618624, 0.011097925766954538, -0.00015815833540888533, -0.016602221953883455, 0.03435890392606878, 0.006507576473632885, -0.015571455543906551, -0.02335031155221095, -0.010513824459816015, 0.019790727737543617, -0.012128693108254021, -0.016451042222285554, 0.0014825867325358097, 0.01889739753186686, 0.0030201475742626456, -0.007524599821973321, 0.009345621845538965, 0.00021742744239961365, -0.013908484084265106, 0.004961425927344951, -0.003291582936885273, 0.00016427850718462523, -0.011359053716934494, 0.03600813092708989, 0.034468852144450834, -0.009819774934295438, 0.0015186634916924207, -0.0013537408148733745, -0.021151341596634416, -0.015956275239566314, 0.0014602533842616328, -0.027844455223125727, -0.008589725981517195, -0.00264219964225176, 0.01893862718243755, 0.023199131820613048, 0.01016336404806193, -0.01401156100465957, 0.02093144329722515, -0.029081376405214136, -0.0017007656940489853, 0.0036523514597739627, 0.009847261988890951, -0.01814150073652251, 0.03191255047913263, 0.001718804131834952, -0.005232860824306288, 0.021220058301800623, 0.009256288452442259, -0.007139780126313557, 0.01085054227559492, -0.0002682141797564696, -0.01994190746914152, -0.01586006961715944, 0.017344374290607468, 4.582081986443945e-05, 0.015585199071204307, -0.01133156666233898, -0.0003594800381006946, 0.0051297843695731135, 0.006833985945446538, -0.01602499194473252, 0.016162429080355242, -0.0018021245571159074, 0.016231145785521445, -0.006043731263180375, -0.023845078534930186, -0.019818214792139133, -0.0014078561282312746, -0.0067240372614031955, 0.009826646232283026, 0.004195222185019217, -0.016753401685481357, -0.004401375560146856, 0.007641420269665541, -0.002640481817754863, -0.004820554074051011, -0.023075439143610658, -0.01862252512326657, 0.007153523653611314, 0.005641731925567771, 0.00096634414963762, 0.006442294486137896, 0.010919259912083703, 0.02965860641436507, 0.022237083047124927, 0.005160707538823711, -0.013118229867660234, -0.010424491066719306, -0.018471347254313826, 0.0033603008062047007, -0.032819625143429725, 0.01477432909799151, -0.005167579302472589, 0.0010891772158996254, 0.026937380558828633, -0.01056879856900704, -0.001705919516785644, 0.026566304390466623, -0.031885061561891956, -0.013379356886317608, -0.00040543507391789063, -0.0017342657164602505, -0.006390756025940664, -0.00788193292869886, 0.01902108834622409, -0.031445268688363746, -0.023487746825188515, 0.0034874286665395942, -0.010582542096304798, -0.007455882185484538, -0.027500866109359232, -0.025054512662423083]\n",
            "\n",
            "Top K nearest sentences : page_content='would be owned by the foundation and used ‘for the good of the world’[.]” Plaintiff \\nreplied: “Agree on all.” Ex. 2 at 1.' metadata={'source': 'DataRepository/MuskComplaint.pdf', 'file_path': 'DataRepository/MuskComplaint.pdf', 'page': 27, 'total_pages': 46, 'format': 'PDF 1.7', 'title': '', 'author': '', 'subject': '', 'keywords': '', 'creator': '', 'producer': '', 'creationDate': '', 'modDate': '', 'trapped': ''}\n",
            "\n",
            "Top K nearest sentences : page_content='property and derivative works funded by those monies, Plaintiff is presently unable to ascertain his \\ninterest in or the use, allocation, or distribution of assets without an accounting. Plaintiff is therefore \\nentitled to an accounting.' metadata={'source': 'DataRepository/MuskComplaint.pdf', 'file_path': 'DataRepository/MuskComplaint.pdf', 'page': 32, 'total_pages': 46, 'format': 'PDF 1.7', 'title': '', 'author': '', 'subject': '', 'keywords': '', 'creator': '', 'producer': '', 'creationDate': '', 'modDate': '', 'trapped': ''}\n",
            "\n",
            "Top K nearest sentences : page_content='1 \\n2 \\n3 \\n4 \\n5 \\n6 \\n7 \\n8 \\n9 \\n10 \\n11 \\n12 \\n13 \\n14 \\n15 \\n16 \\n17 \\n18 \\n19 \\n20 \\n21 \\n22 \\n23 \\n24 \\n25 \\n26 \\n27 \\n28 \\n \\n \\n– 35 – \\nCOMPLAINT \\n \\nDEMAND FOR JURY TRIAL \\nPlaintiff hereby demands trial by jury as to all issues, claims, and/or causes of action properly \\ntriable before a jury \\n \\nDATED: February 29, 2024 \\nIRELL & MANELLA LLP \\n \\n \\nBy:                                                                 \\nMorgan Chu \\nAlan Heinrich \\nIian Jablon \\nAbigail Sellers \\nJustin Koo \\nHenry White \\n \\nAttorneys for Plaintiff Elon Musk' metadata={'source': 'DataRepository/MuskComplaint.pdf', 'file_path': 'DataRepository/MuskComplaint.pdf', 'page': 34, 'total_pages': 46, 'format': 'PDF 1.7', 'title': '', 'author': '', 'subject': '', 'keywords': '', 'creator': '', 'producer': '', 'creationDate': '', 'modDate': '', 'trapped': ''}\n",
            "\n",
            "Top K nearest sentences : page_content='Exhibit 1' metadata={'source': 'DataRepository/MuskComplaint.pdf', 'file_path': 'DataRepository/MuskComplaint.pdf', 'page': 35, 'total_pages': 46, 'format': 'PDF 1.7', 'title': '', 'author': '', 'subject': '', 'keywords': '', 'creator': '', 'producer': '', 'creationDate': '', 'modDate': '', 'trapped': ''}\n",
            "\n",
            "Top K nearest sentences : page_content='would be owned by the foundation and used ‘for the good of the world’[.]” Plaintiff \\nreplied: “Agree on all.” Ex. 2 at 1.' metadata={'source': 'DataRepository/MuskComplaint.pdf', 'file_path': 'DataRepository/MuskComplaint.pdf', 'page': 27, 'total_pages': 46, 'format': 'PDF 1.7', 'title': '', 'author': '', 'subject': '', 'keywords': '', 'creator': '', 'producer': '', 'creationDate': '', 'modDate': '', 'trapped': ''}\n",
            "\n",
            "Top K nearest sentences : page_content='property and derivative works funded by those monies, Plaintiff is presently unable to ascertain his \\ninterest in or the use, allocation, or distribution of assets without an accounting. Plaintiff is therefore \\nentitled to an accounting.' metadata={'source': 'DataRepository/MuskComplaint.pdf', 'file_path': 'DataRepository/MuskComplaint.pdf', 'page': 32, 'total_pages': 46, 'format': 'PDF 1.7', 'title': '', 'author': '', 'subject': '', 'keywords': '', 'creator': '', 'producer': '', 'creationDate': '', 'modDate': '', 'trapped': ''}\n",
            "\n",
            "Top K nearest sentences : page_content='1 \\n2 \\n3 \\n4 \\n5 \\n6 \\n7 \\n8 \\n9 \\n10 \\n11 \\n12 \\n13 \\n14 \\n15 \\n16 \\n17 \\n18 \\n19 \\n20 \\n21 \\n22 \\n23 \\n24 \\n25 \\n26 \\n27 \\n28 \\n \\n \\n– 35 – \\nCOMPLAINT \\n \\nDEMAND FOR JURY TRIAL \\nPlaintiff hereby demands trial by jury as to all issues, claims, and/or causes of action properly \\ntriable before a jury \\n \\nDATED: February 29, 2024 \\nIRELL & MANELLA LLP \\n \\n \\nBy:                                                                 \\nMorgan Chu \\nAlan Heinrich \\nIian Jablon \\nAbigail Sellers \\nJustin Koo \\nHenry White \\n \\nAttorneys for Plaintiff Elon Musk' metadata={'source': 'DataRepository/MuskComplaint.pdf', 'file_path': 'DataRepository/MuskComplaint.pdf', 'page': 34, 'total_pages': 46, 'format': 'PDF 1.7', 'title': '', 'author': '', 'subject': '', 'keywords': '', 'creator': '', 'producer': '', 'creationDate': '', 'modDate': '', 'trapped': ''}\n",
            "\n",
            "Top K nearest sentences : page_content='Exhibit 1' metadata={'source': 'DataRepository/MuskComplaint.pdf', 'file_path': 'DataRepository/MuskComplaint.pdf', 'page': 35, 'total_pages': 46, 'format': 'PDF 1.7', 'title': '', 'author': '', 'subject': '', 'keywords': '', 'creator': '', 'producer': '', 'creationDate': '', 'modDate': '', 'trapped': ''}\n"
          ]
        }
      ]
    },
    {
      "cell_type": "markdown",
      "source": [
        "####❓ Question #1:\n",
        "\n",
        "List out a few of the techniques that FAISS uses that make it performant.\n",
        "\n",
        "> NOTE: Check the [repository](https://github.com/facebookresearch/faiss) for more information about FAISS!\n",
        "\n",
        "\n",
        "#### Answer #1:\n",
        "Facebook AI Similarity Search employs the following techniques to handle large-scale datasett effectively :\n",
        "- quantization\n",
        "- indexing\n",
        "- efficient distance computation\n",
        "\n",
        "FAISS reduces the search space by organizing the data points into a hierarchical structure, which allows for faster search times and reduced memory usage compared to traditional methods.\n",
        "\n",
        "\n"
      ],
      "metadata": {
        "id": "Vk50NmrMDlWu"
      }
    },
    {
      "cell_type": "markdown",
      "source": [
        "#### Creating a Retriever\n",
        "\n",
        "To complete our index, all that's left to do is expose our vectorstore as a retriever - which we can do the same way we would in previous version of LangChain!"
      ],
      "metadata": {
        "id": "Z7ht6bJX9PAY"
      }
    },
    {
      "cell_type": "code",
      "source": [
        "retriever = vector_store.as_retriever()"
      ],
      "metadata": {
        "id": "xne8P5dQTUiR"
      },
      "execution_count": 19,
      "outputs": []
    },
    {
      "cell_type": "markdown",
      "source": [
        "The `retriever` object acts as an interface to the underlying vector_store, allowing users or systems to submit queries in the form of vectors and receive a set of retrieved vectors or the corresponding original data points as results.\n",
        "In applications such as semantic search, document retrieval, or even in the components of larger AI systems like open-domain question answering, the retriever plays a critical role in narrowing down the search space or selecting candidate information for further processing or analysis.\n",
        "\n",
        "\n",
        "In summary, in this context, a retriever is a specialized tool or system derived from a vector_store that is capable of efficiently retrieving information based on vector similarity. It's a key component in systems where the fast and accurate retrieval of information from large datasets is necessary.\n",
        "\n",
        "\n",
        "\n",
        "\n",
        "\n"
      ],
      "metadata": {
        "id": "hougFBiHO09W"
      }
    },
    {
      "cell_type": "code",
      "source": [
        "retriever"
      ],
      "metadata": {
        "colab": {
          "base_uri": "https://localhost:8080/"
        },
        "id": "LY5lP07fJgAF",
        "outputId": "d7b5a671-5320-44f5-9ba1-a88bfc693b9f"
      },
      "execution_count": 20,
      "outputs": [
        {
          "output_type": "execute_result",
          "data": {
            "text/plain": [
              "VectorStoreRetriever(tags=['FAISS', 'OpenAIEmbeddings'], vectorstore=<langchain_community.vectorstores.faiss.FAISS object at 0x7b60785324d0>)"
            ]
          },
          "metadata": {},
          "execution_count": 20
        }
      ]
    },
    {
      "cell_type": "markdown",
      "source": [
        "#### Testing our Retriever\n",
        "\n",
        "Now that we've gone through the trouble of creating our retriever - let's see it in action!"
      ],
      "metadata": {
        "id": "sO_DFBVKNvNm"
      }
    },
    {
      "cell_type": "code",
      "source": [
        "retrieved_documents = retriever.invoke(\"Who is the plantiff?\")"
      ],
      "metadata": {
        "id": "I9_ONxpnN0n6"
      },
      "execution_count": 21,
      "outputs": []
    },
    {
      "cell_type": "code",
      "source": [
        "for doc in retrieved_documents:\n",
        "  print(doc)"
      ],
      "metadata": {
        "colab": {
          "base_uri": "https://localhost:8080/"
        },
        "id": "-Za12yt4OBy1",
        "outputId": "1e5946dd-14f3-4ed9-b879-54cf6e5bcce3"
      },
      "execution_count": 22,
      "outputs": [
        {
          "output_type": "stream",
          "name": "stdout",
          "text": [
            "page_content='would be owned by the foundation and used ‘for the good of the world’[.]” Plaintiff \\nreplied: “Agree on all.” Ex. 2 at 1.' metadata={'source': 'DataRepository/MuskComplaint.pdf', 'file_path': 'DataRepository/MuskComplaint.pdf', 'page': 27, 'total_pages': 46, 'format': 'PDF 1.7', 'title': '', 'author': '', 'subject': '', 'keywords': '', 'creator': '', 'producer': '', 'creationDate': '', 'modDate': '', 'trapped': ''}\n",
            "page_content='property and derivative works funded by those monies, Plaintiff is presently unable to ascertain his \\ninterest in or the use, allocation, or distribution of assets without an accounting. Plaintiff is therefore \\nentitled to an accounting.' metadata={'source': 'DataRepository/MuskComplaint.pdf', 'file_path': 'DataRepository/MuskComplaint.pdf', 'page': 32, 'total_pages': 46, 'format': 'PDF 1.7', 'title': '', 'author': '', 'subject': '', 'keywords': '', 'creator': '', 'producer': '', 'creationDate': '', 'modDate': '', 'trapped': ''}\n",
            "page_content='1 \\n2 \\n3 \\n4 \\n5 \\n6 \\n7 \\n8 \\n9 \\n10 \\n11 \\n12 \\n13 \\n14 \\n15 \\n16 \\n17 \\n18 \\n19 \\n20 \\n21 \\n22 \\n23 \\n24 \\n25 \\n26 \\n27 \\n28 \\n \\n \\n– 35 – \\nCOMPLAINT \\n \\nDEMAND FOR JURY TRIAL \\nPlaintiff hereby demands trial by jury as to all issues, claims, and/or causes of action properly \\ntriable before a jury \\n \\nDATED: February 29, 2024 \\nIRELL & MANELLA LLP \\n \\n \\nBy:                                                                 \\nMorgan Chu \\nAlan Heinrich \\nIian Jablon \\nAbigail Sellers \\nJustin Koo \\nHenry White \\n \\nAttorneys for Plaintiff Elon Musk' metadata={'source': 'DataRepository/MuskComplaint.pdf', 'file_path': 'DataRepository/MuskComplaint.pdf', 'page': 34, 'total_pages': 46, 'format': 'PDF 1.7', 'title': '', 'author': '', 'subject': '', 'keywords': '', 'creator': '', 'producer': '', 'creationDate': '', 'modDate': '', 'trapped': ''}\n",
            "page_content='Exhibit 1' metadata={'source': 'DataRepository/MuskComplaint.pdf', 'file_path': 'DataRepository/MuskComplaint.pdf', 'page': 35, 'total_pages': 46, 'format': 'PDF 1.7', 'title': '', 'author': '', 'subject': '', 'keywords': '', 'creator': '', 'producer': '', 'creationDate': '', 'modDate': '', 'trapped': ''}\n"
          ]
        }
      ]
    },
    {
      "cell_type": "markdown",
      "source": [
        "### Creating a RAG Chain\n",
        "\n",
        "Now that we have the \"R\" in RAG taken care of - let's look at creating the \"AG\"!"
      ],
      "metadata": {
        "id": "D8MKsT6JTgCU"
      }
    },
    {
      "cell_type": "markdown",
      "source": [
        "#### Creating a Prompt Template\n",
        "\n",
        "There are a few different ways we could create our prompt template - we could create a custom template, as seen in the code below, or we could simply pull a prompt from the prompt hub! Let's look at an example of that!"
      ],
      "metadata": {
        "id": "zs7qBLaEQEic"
      }
    },
    {
      "cell_type": "code",
      "source": [
        "from langchain import hub\n",
        "\n",
        "retrieval_qa_prompt = hub.pull(\"langchain-ai/retrieval-qa-chat\")"
      ],
      "metadata": {
        "id": "eRCq_OKUQbKk"
      },
      "execution_count": 23,
      "outputs": []
    },
    {
      "cell_type": "code",
      "source": [
        "print(retrieval_qa_prompt.messages[0].prompt.template)"
      ],
      "metadata": {
        "colab": {
          "base_uri": "https://localhost:8080/"
        },
        "id": "FziTftV5Q1H-",
        "outputId": "9292e2be-3715-4391-9286-be2b0b2ff986"
      },
      "execution_count": 24,
      "outputs": [
        {
          "output_type": "stream",
          "name": "stdout",
          "text": [
            "Answer any use questions based solely on the context below:\n",
            "\n",
            "<context>\n",
            "{context}\n",
            "</context>\n"
          ]
        }
      ]
    },
    {
      "cell_type": "markdown",
      "source": [
        "As you can see - the prompt template is simple (and has a small error) - so we'll create our own to be a bit more specific!"
      ],
      "metadata": {
        "id": "iyq88IPFRGoT"
      }
    },
    {
      "cell_type": "code",
      "source": [
        "from langchain.prompts import ChatPromptTemplate\n",
        "\n",
        "template = \"\"\"Answer the question based only on the following context. If you cannot answer the question with the context, please respond with 'I don't know':\n",
        "\n",
        "Context:\n",
        "{context}\n",
        "\n",
        "Question:\n",
        "{question}\n",
        "\"\"\"\n",
        "\n",
        "prompt = ChatPromptTemplate.from_template(template)"
      ],
      "metadata": {
        "id": "ijSNkTAjTsep"
      },
      "execution_count": 25,
      "outputs": []
    },
    {
      "cell_type": "markdown",
      "source": [
        "#### Setting Up our Basic QA Chain\n",
        "\n",
        "Now we can instantiate our basic RAG chain!\n",
        "\n",
        "We'll use LCEL directly just to see an example of it - but you could just as easily use an abstraction here to achieve the same goal!\n",
        "\n",
        "We'll also ensure to pass-through our context - which is critical for RAGAS."
      ],
      "metadata": {
        "id": "BYHnPaXl-cvJ"
      }
    },
    {
      "cell_type": "code",
      "source": [
        "from operator import itemgetter\n",
        "\n",
        "from langchain_openai import ChatOpenAI\n",
        "from langchain_core.output_parsers import StrOutputParser\n",
        "from langchain_core.runnables import RunnablePassthrough\n",
        "\n",
        "primary_qa_llm = ChatOpenAI(model_name=\"gpt-3.5-turbo\", temperature=0)\n",
        "\n",
        "retrieval_augmented_qa_chain = (\n",
        "    # INVOKE CHAIN WITH: {\"question\" : \"<<SOME USER QUESTION>>\"}\n",
        "    # \"question\" : populated by getting the value of the \"question\" key\n",
        "    # \"context\"  : populated by getting the value of the \"question\" key and chaining it into the base_retriever\n",
        "    {\"context\": itemgetter(\"question\") | retriever, \"question\": itemgetter(\"question\")}\n",
        "    # \"context\"  : is assigned to a RunnablePassthrough object (will not be called or considered in the next step)\n",
        "    #              by getting the value of the \"context\" key from the previous step\n",
        "    | RunnablePassthrough.assign(context=itemgetter(\"context\"))\n",
        "    # \"response\" : the \"context\" and \"question\" values are used to format our prompt object and then piped\n",
        "    #              into the LLM and stored in a key called \"response\"\n",
        "    # \"context\"  : populated by getting the value of the \"context\" key from the previous step\n",
        "    | {\"response\": prompt | primary_qa_llm, \"context\": itemgetter(\"context\")}\n",
        ")"
      ],
      "metadata": {
        "id": "-TsjUWjbUfbW"
      },
      "execution_count": 26,
      "outputs": []
    },
    {
      "cell_type": "code",
      "source": [
        "prompt | primary_qa_llm"
      ],
      "metadata": {
        "colab": {
          "base_uri": "https://localhost:8080/"
        },
        "id": "NXiavEToPGGu",
        "outputId": "9c1c19f8-70a7-4981-b513-813017df5963"
      },
      "execution_count": 27,
      "outputs": [
        {
          "output_type": "execute_result",
          "data": {
            "text/plain": [
              "ChatPromptTemplate(input_variables=['context', 'question'], messages=[HumanMessagePromptTemplate(prompt=PromptTemplate(input_variables=['context', 'question'], template=\"Answer the question based only on the following context. If you cannot answer the question with the context, please respond with 'I don't know':\\n\\nContext:\\n{context}\\n\\nQuestion:\\n{question}\\n\"))])\n",
              "| ChatOpenAI(client=<openai.resources.chat.completions.Completions object at 0x7b6077d33c70>, async_client=<openai.resources.chat.completions.AsyncCompletions object at 0x7b6079a691e0>, temperature=0.0, openai_api_key=SecretStr('**********'), openai_proxy='')"
            ]
          },
          "metadata": {},
          "execution_count": 27
        }
      ]
    },
    {
      "cell_type": "markdown",
      "source": [
        "####🏗️ Activity #1:\n",
        "\n",
        "Describe the pipeline shown above in simple terms. You can include a diagram if desired."
      ],
      "metadata": {
        "id": "7MgAa9JwBuJx"
      }
    },
    {
      "cell_type": "markdown",
      "source": [
        "Let's test it out!"
      ],
      "metadata": {
        "id": "zO69de-F-oMD"
      }
    },
    {
      "cell_type": "code",
      "source": [
        "question = \"Who is the plantiff?\"\n",
        "\n",
        "result = retrieval_augmented_qa_chain.invoke({\"question\" : question})\n",
        "\n",
        "print(result[\"response\"].content)"
      ],
      "metadata": {
        "colab": {
          "base_uri": "https://localhost:8080/"
        },
        "id": "2FS5NxC6UyU2",
        "outputId": "a1754591-8a28-47d2-e5f1-9725ca353e16"
      },
      "execution_count": 28,
      "outputs": [
        {
          "output_type": "stream",
          "name": "stdout",
          "text": [
            "Elon Musk\n"
          ]
        }
      ]
    },
    {
      "cell_type": "code",
      "source": [
        "question = \"What does this complaint pertain to?\"\n",
        "\n",
        "result = retrieval_augmented_qa_chain.invoke({\"question\" : question})\n",
        "\n",
        "print(result[\"response\"].content)\n",
        "print(result[\"context\"])"
      ],
      "metadata": {
        "colab": {
          "base_uri": "https://localhost:8080/"
        },
        "id": "tIuHVGPOO9P2",
        "outputId": "7b40d487-de3f-4373-cafd-2f705d609421"
      },
      "execution_count": 29,
      "outputs": [
        {
          "output_type": "stream",
          "name": "stdout",
          "text": [
            "The complaint pertains to breach of fiduciary duty, unfair business practices, and accounting.\n",
            "[Document(page_content='1 \\n2 \\n3 \\n4 \\n5 \\n6 \\n7 \\n8 \\n9 \\n10 \\n11 \\n12 \\n13 \\n14 \\n15 \\n16 \\n17 \\n18 \\n19 \\n20 \\n21 \\n22 \\n23 \\n24 \\n25 \\n26 \\n27 \\n28 \\n \\n \\n– 31 – \\nCOMPLAINT \\n \\nTHIRD CAUSE OF ACTION \\nBreach of Fiduciary Duty  \\nAgainst All Defendants \\n133. \\nPlaintiff realleges and incorporates by reference only paragraphs of this Complaint \\nnecessary for his claim of Breach of Fiduciary Duty. \\n134. \\nUnder California law, Defendants owe fiduciary duties to Plaintiff, including a duty \\nto use Plaintiff’s contributions for the purposes for which they were made. E.g., Cal. Bus. & Prof. \\nCode § 17510.8. Defendants have repeatedly breached their fiduciary duties to Plaintiff, including \\nby:', metadata={'source': 'DataRepository/MuskComplaint.pdf', 'file_path': 'DataRepository/MuskComplaint.pdf', 'page': 30, 'total_pages': 46, 'format': 'PDF 1.7', 'title': '', 'author': '', 'subject': '', 'keywords': '', 'creator': '', 'producer': '', 'creationDate': '', 'modDate': '', 'trapped': ''}), Document(page_content='1 \\n2 \\n3 \\n4 \\n5 \\n6 \\n7 \\n8 \\n9 \\n10 \\n11 \\n12 \\n13 \\n14 \\n15 \\n16 \\n17 \\n18 \\n19 \\n20 \\n21 \\n22 \\n23 \\n24 \\n25 \\n26 \\n27 \\n28 \\n \\n \\n– 33 – \\nCOMPLAINT \\n \\nand by those acting in concert with them arising from these acts of unfair competition and other \\nunfair business practices.  \\n144. \\nPlaintiff is entitled to restitution and/or disgorgement of any and all monies received \\nby Defendants while they engaged in such practices, in addition to prejudgment interest pursuant to \\nBusiness & Professions Code § 17200 et seq. Plaintiff further seeks to enjoin Defendants from \\ncarrying out such activities again in the future, and an order compelling specific performance.   \\nFIFTH CAUSE OF ACTION \\nAccounting', metadata={'source': 'DataRepository/MuskComplaint.pdf', 'file_path': 'DataRepository/MuskComplaint.pdf', 'page': 32, 'total_pages': 46, 'format': 'PDF 1.7', 'title': '', 'author': '', 'subject': '', 'keywords': '', 'creator': '', 'producer': '', 'creationDate': '', 'modDate': '', 'trapped': ''}), Document(page_content='1 \\n2 \\n3 \\n4 \\n5 \\n6 \\n7 \\n8 \\n9 \\n10 \\n11 \\n12 \\n13 \\n14 \\n15 \\n16 \\n17 \\n18 \\n19 \\n20 \\n21 \\n22 \\n23 \\n24 \\n25 \\n26 \\n27 \\n28 \\n \\n \\n– 35 – \\nCOMPLAINT \\n \\nDEMAND FOR JURY TRIAL \\nPlaintiff hereby demands trial by jury as to all issues, claims, and/or causes of action properly \\ntriable before a jury \\n \\nDATED: February 29, 2024 \\nIRELL & MANELLA LLP \\n \\n \\nBy:                                                                 \\nMorgan Chu \\nAlan Heinrich \\nIian Jablon \\nAbigail Sellers \\nJustin Koo \\nHenry White \\n \\nAttorneys for Plaintiff Elon Musk', metadata={'source': 'DataRepository/MuskComplaint.pdf', 'file_path': 'DataRepository/MuskComplaint.pdf', 'page': 34, 'total_pages': 46, 'format': 'PDF 1.7', 'title': '', 'author': '', 'subject': '', 'keywords': '', 'creator': '', 'producer': '', 'creationDate': '', 'modDate': '', 'trapped': ''}), Document(page_content='obligations as a remedy for Defendants’ breaches of fiduciary duty. \\nFOURTH CAUSE OF ACTION \\nUnfair Business Practices - Cal. Bus. & Prof. Code §§ 17200 et seq. \\nAgainst All Defendants \\n137. \\nPlaintiff realleges and incorporates by reference only paragraphs of this Complaint \\nnecessary for his claim of Unfair Business Practices. \\n138. \\nCalifornia Business and Professions Code sections 17200 et seq. provides that any \\nperson or entity that engages, has engaged, or proposes to engage in unfair business practices may \\nbe enjoined. \\n139. \\nDefendants have engaged in unfair competition and other unfair business practices', metadata={'source': 'DataRepository/MuskComplaint.pdf', 'file_path': 'DataRepository/MuskComplaint.pdf', 'page': 31, 'total_pages': 46, 'format': 'PDF 1.7', 'title': '', 'author': '', 'subject': '', 'keywords': '', 'creator': '', 'producer': '', 'creationDate': '', 'modDate': '', 'trapped': ''})]\n"
          ]
        }
      ]
    },
    {
      "cell_type": "markdown",
      "source": [
        "We can already see that there are some improvements we could make here.\n",
        "\n",
        "For now, let's switch gears to RAGAS to see how we can leverage that tool to provide us insight into how our pipeline is performing!"
      ],
      "metadata": {
        "id": "a-XYZueEP42k"
      }
    },
    {
      "cell_type": "markdown",
      "source": [
        "# 🤝 Breakout Room #2"
      ],
      "metadata": {
        "id": "oM4fmAnsBmL2"
      }
    },
    {
      "cell_type": "markdown",
      "source": [
        "## Task 1: Synthetic Dataset Generation for Evaluation using Ragas\n",
        "\n",
        "Ragas is a powerful library that lets us evaluate our RAG pipeline by collecting input/output/context triplets and obtaining metrics relating to a number of different aspects of our RAG pipeline.\n",
        "\n",
        "We'll be evluating on every core metric today, but in order to do that - we'll need to creat a test set. Luckily for us, Ragas can do that directly!"
      ],
      "metadata": {
        "id": "EOECHyzHRqDw"
      }
    },
    {
      "cell_type": "markdown",
      "source": [
        "### Synthetic Test Set Generation\n",
        "\n",
        "We can leverage Ragas' [`Synthetic Test Data generation`](https://docs.ragas.io/en/stable/concepts/testset_generation.html) functionality to generate our own synthetic QC pairs - as well as a synthetic ground truth - quite easily!\n",
        "\n",
        "> NOTE: This process will use `gpt-3.5-turbo-16k` as the base generator and `gpt-4` as the critic - if you're attempting to create a lot of samples please be aware of cost, as well as rate limits."
      ],
      "metadata": {
        "id": "KqXQ0jweWJOu"
      }
    },
    {
      "cell_type": "code",
      "source": [
        "eval_documents = documents\n",
        "\n",
        "text_splitter = RecursiveCharacterTextSplitter(\n",
        "    chunk_size = 1500,\n",
        "    chunk_overlap = 400\n",
        ")\n",
        "\n",
        "eval_documents = text_splitter.split_documents(eval_documents)"
      ],
      "metadata": {
        "id": "nVk5SlU9znXe"
      },
      "execution_count": 30,
      "outputs": []
    },
    {
      "cell_type": "markdown",
      "source": [
        "####❓ Question #2:\n",
        "\n",
        "Why is it important to split our documents using different parameters when creating our synthetic data?\n",
        "\n",
        "\n",
        "Depend on our use case\n",
        "- how info is splitted between the chunks. Different chunk sizes and overlaps can lead to varying representations of the same document. Evaluating the model across these representations enables us to understand and utilize information from documents\n",
        "- fine tuning chunk_size and chunk_overlap depends on our use case and it helps us to test different retrieval strategies to understand how the model's performance varies with changes in document segmentation.\n",
        "- different parameters ensure that the dataset accurately represents real-world complexities especially context learning"
      ],
      "metadata": {
        "id": "K7rOQkxhzrq3"
      }
    },
    {
      "cell_type": "code",
      "source": [
        "len(eval_documents)"
      ],
      "metadata": {
        "colab": {
          "base_uri": "https://localhost:8080/"
        },
        "id": "hiAPYw-hz-zo",
        "outputId": "6173b2de-bed2-432b-dd5e-77d00211e189"
      },
      "execution_count": 31,
      "outputs": [
        {
          "output_type": "execute_result",
          "data": {
            "text/plain": [
              "159"
            ]
          },
          "metadata": {},
          "execution_count": 31
        }
      ]
    },
    {
      "cell_type": "markdown",
      "source": [
        "why synthetic data generation length is 159?"
      ],
      "metadata": {
        "id": "yYfTOceXWcn1"
      }
    },
    {
      "cell_type": "code",
      "source": [
        "from ragas.testset.generator import TestsetGenerator\n",
        "from ragas.testset.evolutions import simple, reasoning, multi_context\n",
        "\n",
        "generator = TestsetGenerator.with_openai()\n",
        "\n",
        "testset = generator.generate_with_langchain_docs(eval_documents, test_size=10, distributions={simple: 0.25, reasoning: 0.25, multi_context: 0.5})"
      ],
      "metadata": {
        "colab": {
          "base_uri": "https://localhost:8080/",
          "height": 67,
          "referenced_widgets": [
            "b3ac8970748841b8bceffc603af1f744",
            "6649252fe5de4a8caf7989463d933392",
            "5e1b1846947d476db96269beb8e3a1c7",
            "114bb8216e4a4cc09d8d2e86380c754c",
            "85bdcdb5d22a49d8b2b436a8d4797b4a",
            "241a35bb0d8d4d8a848b2aa8a2ab1696",
            "328117cdf5b84fd88c216d55a333e009",
            "e10f1b3483e74fa49829eeaa807d7b6a",
            "754f125b12ba48848ea0e7f9c64f7425",
            "c410e3be44a4482787988b1fb7e2cdd5",
            "f53065e1d7944679b29f522ed9b52ee4",
            "28e950f8bd104d188bb4a2f88328308d",
            "08781bcfdde8470e91adafc8818be2c5",
            "08942f1c259047448c373c034c0059ef",
            "40caa4ea8b0a4959b55943c1cf484f0a",
            "7217df8eb2164afd816727191a7aba07",
            "0d68ee7525274b89bd8d3f7fdcfd3949",
            "3be6e5f32bed4be188d81dfbd9f02ec6",
            "3c8afe117354432795eecbef08708e80",
            "1f2e0a8e521f405b9367be830d8fa8b7",
            "42ed1177242b478d93a611c509e8f949",
            "db4addb25ac342f19233823d5f8100be"
          ]
        },
        "id": "IXc6sMglSej_",
        "outputId": "5aea64da-71f2-4093-ef94-51b10c2373e5"
      },
      "execution_count": 32,
      "outputs": [
        {
          "output_type": "display_data",
          "data": {
            "text/plain": [
              "embedding nodes:   0%|          | 0/318 [00:00<?, ?it/s]"
            ],
            "application/vnd.jupyter.widget-view+json": {
              "version_major": 2,
              "version_minor": 0,
              "model_id": "b3ac8970748841b8bceffc603af1f744"
            }
          },
          "metadata": {}
        },
        {
          "output_type": "stream",
          "name": "stderr",
          "text": [
            "WARNING:ragas.testset.docstore:Filename and doc_id are the same for all nodes.\n"
          ]
        },
        {
          "output_type": "display_data",
          "data": {
            "text/plain": [
              "Generating:   0%|          | 0/10 [00:00<?, ?it/s]"
            ],
            "application/vnd.jupyter.widget-view+json": {
              "version_major": 2,
              "version_minor": 0,
              "model_id": "28e950f8bd104d188bb4a2f88328308d"
            }
          },
          "metadata": {}
        }
      ]
    },
    {
      "cell_type": "code",
      "source": [
        "testset"
      ],
      "metadata": {
        "colab": {
          "base_uri": "https://localhost:8080/"
        },
        "id": "h0yD-JeDWpfB",
        "outputId": "d43bc873-6fca-4e3d-90b5-7b610d265993"
      },
      "execution_count": 33,
      "outputs": [
        {
          "output_type": "execute_result",
          "data": {
            "text/plain": [
              "TestDataset(test_data=[DataRow(question='What principles are outlined in the Founding Agreement of OpenAI?', contexts=['profit developing AGI for the benefit of humanity, not for a for-profit company seeking to maximize \\nshareholder profits; and (b) would be open-source, balancing only countervailing safety \\nconsiderations, and would not keep its technology closed and secret for proprietary commercial \\nreasons (The “Founding Agreement”). Reflecting the Founding Agreement, Mr. Musk named this \\nnew AI lab “OpenAI,” which would compete with, and serve as a vital counterbalance to, \\nGoogle/DeepMind in the race for AGI, but would do so to benefit humanity, not the shareholders \\nof a private, for-profit company (much less one of the largest technology companies in the world).  \\n25.'], ground_truth='The principles outlined in the Founding Agreement of OpenAI are developing AGI for the benefit of humanity and being open-source.', evolution_type='simple'), DataRow(question='How did OpenAI use reinforcement learning in their work?', contexts=['77. \\nInitial work at OpenAI followed much in the footsteps of DeepMind. OpenAI used \\nreinforcement learning to play a game. Instead of playing chess, however, OpenAI competed in \\nDota 2, a strategy video game with far more moving pieces than chess. OpenAI’s team quickly'], ground_truth='OpenAI used reinforcement learning to play Dota 2, a strategy video game.', evolution_type='simple'), DataRow(question='What were the benefits of releasing models publicly according to the paper by OpenAI and independent scientists?', contexts=['challenging.” At the time, OpenAI stated that it was releasing the full, open version with the hope \\nthat it “will be useful to developers of future powerful models.” This release was accompanied by a \\ndetailed paper co-authored by OpenAI scientists as well as independent social and technical \\nscientists. This paper explained just some of the many benefits that came from releasing models \\npublically as opposed to keeping them closed.'], ground_truth='The paper by OpenAI and independent scientists explained some of the benefits of releasing models publicly.', evolution_type='reasoning'), DataRow(question=\"Which company's collaboration with DeepMind caused concern for Mr. Musk in the race for AGI?\", contexts=['a superhuman level of play in the games of chess and shogi (Japanese chess) as well as Go, and \\nconvincingly defeated a world-champion program in each case.” \\n22. \\nWith the DeepMind team, Google immediately catapulted to the front of the race for \\nAGI. Mr. Musk was deeply troubled by this development. He believed (and still does) that in the \\nhands of a closed, for-profit company like Google, AGI poses a particularly acute and noxious \\ndanger to humanity. In 2014, it was already difficult enough to compete with Google in its core \\nbusinesses. Google had collected a uniquely large set of data from our searches, our emails, and'], ground_truth=\"Google's collaboration with DeepMind caused concern for Mr. Musk in the race for AGI.\", evolution_type='reasoning'), DataRow(question=\"What were Elon Musk's concerns about AGI and its development by a for-profit company?\", contexts=['to its mission to develop AGI for the benefit of humanity, not to personally benefit the individual \\nDefendants and the largest technology company in the world.  \\nDetailed Allegations \\nA. \\nMr. Musk’s Concerns Over AGI Falling Into The Wrong Hands \\n34. \\nIn 2012, Elon Musk met Demis Hassabis, the co-founder of DeepMind, a for-profit \\nartificial intelligence company. On or about this time, Mr. Musk and Mr. Hassabis met at SpaceX’s \\nfactory in Hawthorne, California where Mr. Musk and Mr. Hassabis discussed the greatest threats \\nfacing society. During this conversation, Mr. Hassabis emphasized the potential dangers that the \\nadvancement of AI presents to society.     \\n35.', 'profit developing AGI for the benefit of humanity, not for a for-profit company seeking to maximize \\nshareholder profits; and (b) would be open-source, balancing only countervailing safety \\nconsiderations, and would not keep its technology closed and secret for proprietary commercial \\nreasons (The “Founding Agreement”). Reflecting the Founding Agreement, Mr. Musk named this \\nnew AI lab “OpenAI,” which would compete with, and serve as a vital counterbalance to, \\nGoogle/DeepMind in the race for AGI, but would do so to benefit humanity, not the shareholders \\nof a private, for-profit company (much less one of the largest technology companies in the world).  \\n25.'], ground_truth=\"Elon Musk's concerns about AGI and its development by a for-profit company were that it would prioritize shareholder profits over the benefit of humanity and keep its technology closed and secret for proprietary commercial reasons.\", evolution_type='multi_context'), DataRow(question='\"What game did OpenAI use reinforcement learning to surpass human-level play achieved by a world-champion program in chess, shogi, and Go?\"', contexts=['77. \\nInitial work at OpenAI followed much in the footsteps of DeepMind. OpenAI used \\nreinforcement learning to play a game. Instead of playing chess, however, OpenAI competed in \\nDota 2, a strategy video game with far more moving pieces than chess. OpenAI’s team quickly', 'a superhuman level of play in the games of chess and shogi (Japanese chess) as well as Go, and \\nconvincingly defeated a world-champion program in each case.” \\n22. \\nWith the DeepMind team, Google immediately catapulted to the front of the race for \\nAGI. Mr. Musk was deeply troubled by this development. He believed (and still does) that in the \\nhands of a closed, for-profit company like Google, AGI poses a particularly acute and noxious \\ndanger to humanity. In 2014, it was already difficult enough to compete with Google in its core \\nbusinesses. Google had collected a uniquely large set of data from our searches, our emails, and'], ground_truth='OpenAI used Dota 2, a strategy video game, to surpass human-level play achieved by a world-champion program in chess, shogi, and Go.', evolution_type='multi_context'), DataRow(question='\"What was the impact of OpenAI\\'s GPT-3 on future model development and the communities that emerged to enhance it?\"', contexts=['1 \\n2 \\n3 \\n4 \\n5 \\n6 \\n7 \\n8 \\n9 \\n10 \\n11 \\n12 \\n13 \\n14 \\n15 \\n16 \\n17 \\n18 \\n19 \\n20 \\n21 \\n22 \\n23 \\n24 \\n25 \\n26 \\n27 \\n28 \\n \\n \\n– 19 – \\nCOMPLAINT \\n \\n82. \\nTheir publication did prove to be useful to the developers of future, powerful models. \\nEntire communities sprung up to enhance and extend the models released by OpenAI. These \\ncommunities spread to open-source, grass-roots efforts and commercial entities alike. \\n83. \\nIn 2020, OpenAI announced a third version of its model, GPT-3. It used “175 billion \\nparameters, 10x more than any previous non-sparse language model.” Again, OpenAI announced \\nthe development of this model with the publication of a research paper describing its complete', '1 \\n2 \\n3 \\n4 \\n5 \\n6 \\n7 \\n8 \\n9 \\n10 \\n11 \\n12 \\n13 \\n14 \\n15 \\n16 \\n17 \\n18 \\n19 \\n20 \\n21 \\n22 \\n23 \\n24 \\n25 \\n26 \\n27 \\n28 \\n \\n \\n– 7 – \\nCOMPLAINT \\n \\nMusk continued to make contributions to OpenAI, Inc. from its founding through September 14, \\n2020. \\n27. \\nOpenAI’s initial research was performed in the open, providing free and public \\naccess to designs, models, and code. When OpenAI, Inc. researchers discovered that an algorithm \\ncalled “Transformers,” initially invented by Google, could perform many natural language tasks \\nwithout any explicit training, entire communities sprung up to enhance and extend the models \\nreleased by OpenAI, Inc. These communities spread to open-source, grass-roots efforts and'], ground_truth='Their publication did prove to be useful to the developers of future, powerful models. Entire communities sprung up to enhance and extend the models released by OpenAI. These communities spread to open-source, grass-roots efforts and commercial entities alike.', evolution_type='multi_context'), DataRow(question='What is one risk of AGI mentioned in the context?', contexts=['100.  \\nJURISDICTION AND VENUE \\n14. \\nOn information and belief, Plaintiff alleges that many of the occurrences, \\nrepresentations, and events upon which this action is based took place in County of San Francisco, \\nState of California, where the vast majority of Defendants reside or have their principal place of \\nbusiness, and the vast majority of the occurrences, representations, and events upon which this \\naction is based took place in the State of California.  \\nGENERAL ALLEGATIONS \\nOverview Of The Case \\nA. \\nThe Risk Of Artificial General Intelligence \\n15. \\nOver the course of the 20th century, the United States gradually shifted from a'], ground_truth='nan', evolution_type='multi_context'), DataRow(question=\"What danger did Mr. Musk and Mr. Hassabis discuss regarding AI's impact on machine usefulness with strong AGI?\", contexts=['18. \\nMr. Musk has long recognized that AGI poses a grave threat to humanity—perhaps \\nthe greatest existential threat we face today. His concerns mirrored those raised before him by \\nluminaries like Stephen Hawking and Sun Microsystems founder Bill Joy. Our entire economy is \\nbased around the fact that humans work together and come up with the best solutions to a hard task. \\nIf a machine can solve nearly any task better than we can, that machine becomes more economically \\nuseful than we are. As Mr. Joy warned, with strong AGI, “the future doesn’t need us.” Mr. Musk', 'to its mission to develop AGI for the benefit of humanity, not to personally benefit the individual \\nDefendants and the largest technology company in the world.  \\nDetailed Allegations \\nA. \\nMr. Musk’s Concerns Over AGI Falling Into The Wrong Hands \\n34. \\nIn 2012, Elon Musk met Demis Hassabis, the co-founder of DeepMind, a for-profit \\nartificial intelligence company. On or about this time, Mr. Musk and Mr. Hassabis met at SpaceX’s \\nfactory in Hawthorne, California where Mr. Musk and Mr. Hassabis discussed the greatest threats \\nfacing society. During this conversation, Mr. Hassabis emphasized the potential dangers that the \\nadvancement of AI presents to society.     \\n35.'], ground_truth='The potential danger that the advancement of AI presents to society.', evolution_type='multi_context'), DataRow(question=\"In which strategy video game did OpenAI's team compete using reinforcement learning, with more moving pieces than chess?\", contexts=['77. \\nInitial work at OpenAI followed much in the footsteps of DeepMind. OpenAI used \\nreinforcement learning to play a game. Instead of playing chess, however, OpenAI competed in \\nDota 2, a strategy video game with far more moving pieces than chess. OpenAI’s team quickly'], ground_truth=\"OpenAI's team competed in Dota 2, a strategy video game, using reinforcement learning.\", evolution_type='reasoning')])"
            ]
          },
          "metadata": {},
          "execution_count": 33
        }
      ]
    },
    {
      "cell_type": "markdown",
      "source": [
        "####❓ Question #3:\n",
        "\n",
        "`{simple: 0.5, reasoning: 0.25, multi_context: 0.25}`\n",
        "\n",
        "What exactly does this mapping refer to?\n",
        "\n",
        "> NOTE: Check out the Ragas documentation on this generation process [here](https://docs.ragas.io/en/stable/concepts/testset_generation.html).\n",
        "\n",
        "\n",
        "####Answer #3:\n",
        "\n",
        "- **Conditioning (simple)**: Add complexity to the question. The weighting of 0.25 suggests that 25% of the documents selected for generation or evaluation will be of this simple type. These could involve basic recall of facts, definitions, or simple processing tasks that don't require deep understanding or complex reasoning.\n",
        "\n",
        "\n",
        "- **Reasoning**: Rewrite the question in a way that enhances the need for reasoning, analysing, or problem-solving to answer it effectively. The weight of 0.25 means that 25% of the generated or evaluated content will involve these reasoning tasks. These might require understanding relationships between concepts, inferring conclusions from given information, or applying principles to new situations.\n",
        "\n",
        "- **Multi-Context**: Rephrase the question in a manner that necessitates information from multiple related sections or chunks to formulate an answer. With a weight of 0.5, half of the documents selected will involve these multi-contextual tasks. This could imply a need for the generator to handle more complex scenarios where information must be synthesized from various segments, requiring a deeper level of comprehension and the ability to draw connections across different pieces of information.\n",
        "\n",
        "\n",
        "\n",
        "\n",
        "\n"
      ],
      "metadata": {
        "id": "GOIGT0XLz8ze"
      }
    },
    {
      "cell_type": "markdown",
      "source": [
        "Let's look at the output and see what we can learn about it!"
      ],
      "metadata": {
        "id": "MemL406rUzBu"
      }
    },
    {
      "cell_type": "code",
      "source": [
        "testset.test_data[0]"
      ],
      "metadata": {
        "colab": {
          "base_uri": "https://localhost:8080/"
        },
        "id": "RaCDdImVU15s",
        "outputId": "f9f7cc39-b5c2-4f45-d1f5-4d35f8a3c09e"
      },
      "execution_count": 35,
      "outputs": [
        {
          "output_type": "execute_result",
          "data": {
            "text/plain": [
              "DataRow(question='What principles are outlined in the Founding Agreement of OpenAI?', contexts=['profit developing AGI for the benefit of humanity, not for a for-profit company seeking to maximize \\nshareholder profits; and (b) would be open-source, balancing only countervailing safety \\nconsiderations, and would not keep its technology closed and secret for proprietary commercial \\nreasons (The “Founding Agreement”). Reflecting the Founding Agreement, Mr. Musk named this \\nnew AI lab “OpenAI,” which would compete with, and serve as a vital counterbalance to, \\nGoogle/DeepMind in the race for AGI, but would do so to benefit humanity, not the shareholders \\nof a private, for-profit company (much less one of the largest technology companies in the world).  \\n25.'], ground_truth='The principles outlined in the Founding Agreement of OpenAI are developing AGI for the benefit of humanity and being open-source.', evolution_type='simple')"
            ]
          },
          "metadata": {},
          "execution_count": 35
        }
      ]
    },
    {
      "cell_type": "markdown",
      "source": [
        "### Generating Responses with RAG Pipeline\n",
        "\n",
        "Now that we have some QC pairs, and some ground truths, let's evaluate our RAG pipeline using Ragas.\n",
        "\n",
        "The process is, again, quite straightforward - thanks to Ragas and LangChain!\n",
        "\n",
        "Let's start by extracting our questions and ground truths from our create testset.\n",
        "\n",
        "We can start by converting our test dataset into a Pandas DataFrame."
      ],
      "metadata": {
        "id": "vrPsVwUAWFWB"
      }
    },
    {
      "cell_type": "code",
      "source": [
        "test_df = testset.to_pandas()"
      ],
      "metadata": {
        "id": "frvzu1YxX8kY"
      },
      "execution_count": 36,
      "outputs": []
    },
    {
      "cell_type": "code",
      "source": [
        "test_df"
      ],
      "metadata": {
        "colab": {
          "base_uri": "https://localhost:8080/",
          "height": 363
        },
        "id": "GFKMIY8IZU8m",
        "outputId": "e0cb3256-a89a-4a19-91ea-b3cdcb83dda0"
      },
      "execution_count": 37,
      "outputs": [
        {
          "output_type": "execute_result",
          "data": {
            "text/plain": [
              "                                            question  \\\n",
              "0  What principles are outlined in the Founding A...   \n",
              "1  How did OpenAI use reinforcement learning in t...   \n",
              "2  What were the benefits of releasing models pub...   \n",
              "3  Which company's collaboration with DeepMind ca...   \n",
              "4  What were Elon Musk's concerns about AGI and i...   \n",
              "5  \"What game did OpenAI use reinforcement learni...   \n",
              "6  \"What was the impact of OpenAI's GPT-3 on futu...   \n",
              "7  What is one risk of AGI mentioned in the context?   \n",
              "8  What danger did Mr. Musk and Mr. Hassabis disc...   \n",
              "9  In which strategy video game did OpenAI's team...   \n",
              "\n",
              "                                            contexts  \\\n",
              "0  [profit developing AGI for the benefit of huma...   \n",
              "1  [77. \\nInitial work at OpenAI followed much in...   \n",
              "2  [challenging.” At the time, OpenAI stated that...   \n",
              "3  [a superhuman level of play in the games of ch...   \n",
              "4  [to its mission to develop AGI for the benefit...   \n",
              "5  [77. \\nInitial work at OpenAI followed much in...   \n",
              "6  [1 \\n2 \\n3 \\n4 \\n5 \\n6 \\n7 \\n8 \\n9 \\n10 \\n11 \\...   \n",
              "7  [100.  \\nJURISDICTION AND VENUE \\n14. \\nOn inf...   \n",
              "8  [18. \\nMr. Musk has long recognized that AGI p...   \n",
              "9  [77. \\nInitial work at OpenAI followed much in...   \n",
              "\n",
              "                                        ground_truth evolution_type  \\\n",
              "0  The principles outlined in the Founding Agreem...         simple   \n",
              "1  OpenAI used reinforcement learning to play Dot...         simple   \n",
              "2  The paper by OpenAI and independent scientists...      reasoning   \n",
              "3  Google's collaboration with DeepMind caused co...      reasoning   \n",
              "4  Elon Musk's concerns about AGI and its develop...  multi_context   \n",
              "5  OpenAI used Dota 2, a strategy video game, to ...  multi_context   \n",
              "6  Their publication did prove to be useful to th...  multi_context   \n",
              "7                                                nan  multi_context   \n",
              "8  The potential danger that the advancement of A...  multi_context   \n",
              "9  OpenAI's team competed in Dota 2, a strategy v...      reasoning   \n",
              "\n",
              "   episode_done  \n",
              "0          True  \n",
              "1          True  \n",
              "2          True  \n",
              "3          True  \n",
              "4          True  \n",
              "5          True  \n",
              "6          True  \n",
              "7          True  \n",
              "8          True  \n",
              "9          True  "
            ],
            "text/html": [
              "\n",
              "  <div id=\"df-216a970b-7488-49d6-9d1a-b7916601e6d0\" class=\"colab-df-container\">\n",
              "    <div>\n",
              "<style scoped>\n",
              "    .dataframe tbody tr th:only-of-type {\n",
              "        vertical-align: middle;\n",
              "    }\n",
              "\n",
              "    .dataframe tbody tr th {\n",
              "        vertical-align: top;\n",
              "    }\n",
              "\n",
              "    .dataframe thead th {\n",
              "        text-align: right;\n",
              "    }\n",
              "</style>\n",
              "<table border=\"1\" class=\"dataframe\">\n",
              "  <thead>\n",
              "    <tr style=\"text-align: right;\">\n",
              "      <th></th>\n",
              "      <th>question</th>\n",
              "      <th>contexts</th>\n",
              "      <th>ground_truth</th>\n",
              "      <th>evolution_type</th>\n",
              "      <th>episode_done</th>\n",
              "    </tr>\n",
              "  </thead>\n",
              "  <tbody>\n",
              "    <tr>\n",
              "      <th>0</th>\n",
              "      <td>What principles are outlined in the Founding A...</td>\n",
              "      <td>[profit developing AGI for the benefit of huma...</td>\n",
              "      <td>The principles outlined in the Founding Agreem...</td>\n",
              "      <td>simple</td>\n",
              "      <td>True</td>\n",
              "    </tr>\n",
              "    <tr>\n",
              "      <th>1</th>\n",
              "      <td>How did OpenAI use reinforcement learning in t...</td>\n",
              "      <td>[77. \\nInitial work at OpenAI followed much in...</td>\n",
              "      <td>OpenAI used reinforcement learning to play Dot...</td>\n",
              "      <td>simple</td>\n",
              "      <td>True</td>\n",
              "    </tr>\n",
              "    <tr>\n",
              "      <th>2</th>\n",
              "      <td>What were the benefits of releasing models pub...</td>\n",
              "      <td>[challenging.” At the time, OpenAI stated that...</td>\n",
              "      <td>The paper by OpenAI and independent scientists...</td>\n",
              "      <td>reasoning</td>\n",
              "      <td>True</td>\n",
              "    </tr>\n",
              "    <tr>\n",
              "      <th>3</th>\n",
              "      <td>Which company's collaboration with DeepMind ca...</td>\n",
              "      <td>[a superhuman level of play in the games of ch...</td>\n",
              "      <td>Google's collaboration with DeepMind caused co...</td>\n",
              "      <td>reasoning</td>\n",
              "      <td>True</td>\n",
              "    </tr>\n",
              "    <tr>\n",
              "      <th>4</th>\n",
              "      <td>What were Elon Musk's concerns about AGI and i...</td>\n",
              "      <td>[to its mission to develop AGI for the benefit...</td>\n",
              "      <td>Elon Musk's concerns about AGI and its develop...</td>\n",
              "      <td>multi_context</td>\n",
              "      <td>True</td>\n",
              "    </tr>\n",
              "    <tr>\n",
              "      <th>5</th>\n",
              "      <td>\"What game did OpenAI use reinforcement learni...</td>\n",
              "      <td>[77. \\nInitial work at OpenAI followed much in...</td>\n",
              "      <td>OpenAI used Dota 2, a strategy video game, to ...</td>\n",
              "      <td>multi_context</td>\n",
              "      <td>True</td>\n",
              "    </tr>\n",
              "    <tr>\n",
              "      <th>6</th>\n",
              "      <td>\"What was the impact of OpenAI's GPT-3 on futu...</td>\n",
              "      <td>[1 \\n2 \\n3 \\n4 \\n5 \\n6 \\n7 \\n8 \\n9 \\n10 \\n11 \\...</td>\n",
              "      <td>Their publication did prove to be useful to th...</td>\n",
              "      <td>multi_context</td>\n",
              "      <td>True</td>\n",
              "    </tr>\n",
              "    <tr>\n",
              "      <th>7</th>\n",
              "      <td>What is one risk of AGI mentioned in the context?</td>\n",
              "      <td>[100.  \\nJURISDICTION AND VENUE \\n14. \\nOn inf...</td>\n",
              "      <td>nan</td>\n",
              "      <td>multi_context</td>\n",
              "      <td>True</td>\n",
              "    </tr>\n",
              "    <tr>\n",
              "      <th>8</th>\n",
              "      <td>What danger did Mr. Musk and Mr. Hassabis disc...</td>\n",
              "      <td>[18. \\nMr. Musk has long recognized that AGI p...</td>\n",
              "      <td>The potential danger that the advancement of A...</td>\n",
              "      <td>multi_context</td>\n",
              "      <td>True</td>\n",
              "    </tr>\n",
              "    <tr>\n",
              "      <th>9</th>\n",
              "      <td>In which strategy video game did OpenAI's team...</td>\n",
              "      <td>[77. \\nInitial work at OpenAI followed much in...</td>\n",
              "      <td>OpenAI's team competed in Dota 2, a strategy v...</td>\n",
              "      <td>reasoning</td>\n",
              "      <td>True</td>\n",
              "    </tr>\n",
              "  </tbody>\n",
              "</table>\n",
              "</div>\n",
              "    <div class=\"colab-df-buttons\">\n",
              "\n",
              "  <div class=\"colab-df-container\">\n",
              "    <button class=\"colab-df-convert\" onclick=\"convertToInteractive('df-216a970b-7488-49d6-9d1a-b7916601e6d0')\"\n",
              "            title=\"Convert this dataframe to an interactive table.\"\n",
              "            style=\"display:none;\">\n",
              "\n",
              "  <svg xmlns=\"http://www.w3.org/2000/svg\" height=\"24px\" viewBox=\"0 -960 960 960\">\n",
              "    <path d=\"M120-120v-720h720v720H120Zm60-500h600v-160H180v160Zm220 220h160v-160H400v160Zm0 220h160v-160H400v160ZM180-400h160v-160H180v160Zm440 0h160v-160H620v160ZM180-180h160v-160H180v160Zm440 0h160v-160H620v160Z\"/>\n",
              "  </svg>\n",
              "    </button>\n",
              "\n",
              "  <style>\n",
              "    .colab-df-container {\n",
              "      display:flex;\n",
              "      gap: 12px;\n",
              "    }\n",
              "\n",
              "    .colab-df-convert {\n",
              "      background-color: #E8F0FE;\n",
              "      border: none;\n",
              "      border-radius: 50%;\n",
              "      cursor: pointer;\n",
              "      display: none;\n",
              "      fill: #1967D2;\n",
              "      height: 32px;\n",
              "      padding: 0 0 0 0;\n",
              "      width: 32px;\n",
              "    }\n",
              "\n",
              "    .colab-df-convert:hover {\n",
              "      background-color: #E2EBFA;\n",
              "      box-shadow: 0px 1px 2px rgba(60, 64, 67, 0.3), 0px 1px 3px 1px rgba(60, 64, 67, 0.15);\n",
              "      fill: #174EA6;\n",
              "    }\n",
              "\n",
              "    .colab-df-buttons div {\n",
              "      margin-bottom: 4px;\n",
              "    }\n",
              "\n",
              "    [theme=dark] .colab-df-convert {\n",
              "      background-color: #3B4455;\n",
              "      fill: #D2E3FC;\n",
              "    }\n",
              "\n",
              "    [theme=dark] .colab-df-convert:hover {\n",
              "      background-color: #434B5C;\n",
              "      box-shadow: 0px 1px 3px 1px rgba(0, 0, 0, 0.15);\n",
              "      filter: drop-shadow(0px 1px 2px rgba(0, 0, 0, 0.3));\n",
              "      fill: #FFFFFF;\n",
              "    }\n",
              "  </style>\n",
              "\n",
              "    <script>\n",
              "      const buttonEl =\n",
              "        document.querySelector('#df-216a970b-7488-49d6-9d1a-b7916601e6d0 button.colab-df-convert');\n",
              "      buttonEl.style.display =\n",
              "        google.colab.kernel.accessAllowed ? 'block' : 'none';\n",
              "\n",
              "      async function convertToInteractive(key) {\n",
              "        const element = document.querySelector('#df-216a970b-7488-49d6-9d1a-b7916601e6d0');\n",
              "        const dataTable =\n",
              "          await google.colab.kernel.invokeFunction('convertToInteractive',\n",
              "                                                    [key], {});\n",
              "        if (!dataTable) return;\n",
              "\n",
              "        const docLinkHtml = 'Like what you see? Visit the ' +\n",
              "          '<a target=\"_blank\" href=https://colab.research.google.com/notebooks/data_table.ipynb>data table notebook</a>'\n",
              "          + ' to learn more about interactive tables.';\n",
              "        element.innerHTML = '';\n",
              "        dataTable['output_type'] = 'display_data';\n",
              "        await google.colab.output.renderOutput(dataTable, element);\n",
              "        const docLink = document.createElement('div');\n",
              "        docLink.innerHTML = docLinkHtml;\n",
              "        element.appendChild(docLink);\n",
              "      }\n",
              "    </script>\n",
              "  </div>\n",
              "\n",
              "\n",
              "<div id=\"df-8b5f27ed-abce-4e98-98bf-89fdb94e7149\">\n",
              "  <button class=\"colab-df-quickchart\" onclick=\"quickchart('df-8b5f27ed-abce-4e98-98bf-89fdb94e7149')\"\n",
              "            title=\"Suggest charts\"\n",
              "            style=\"display:none;\">\n",
              "\n",
              "<svg xmlns=\"http://www.w3.org/2000/svg\" height=\"24px\"viewBox=\"0 0 24 24\"\n",
              "     width=\"24px\">\n",
              "    <g>\n",
              "        <path d=\"M19 3H5c-1.1 0-2 .9-2 2v14c0 1.1.9 2 2 2h14c1.1 0 2-.9 2-2V5c0-1.1-.9-2-2-2zM9 17H7v-7h2v7zm4 0h-2V7h2v10zm4 0h-2v-4h2v4z\"/>\n",
              "    </g>\n",
              "</svg>\n",
              "  </button>\n",
              "\n",
              "<style>\n",
              "  .colab-df-quickchart {\n",
              "      --bg-color: #E8F0FE;\n",
              "      --fill-color: #1967D2;\n",
              "      --hover-bg-color: #E2EBFA;\n",
              "      --hover-fill-color: #174EA6;\n",
              "      --disabled-fill-color: #AAA;\n",
              "      --disabled-bg-color: #DDD;\n",
              "  }\n",
              "\n",
              "  [theme=dark] .colab-df-quickchart {\n",
              "      --bg-color: #3B4455;\n",
              "      --fill-color: #D2E3FC;\n",
              "      --hover-bg-color: #434B5C;\n",
              "      --hover-fill-color: #FFFFFF;\n",
              "      --disabled-bg-color: #3B4455;\n",
              "      --disabled-fill-color: #666;\n",
              "  }\n",
              "\n",
              "  .colab-df-quickchart {\n",
              "    background-color: var(--bg-color);\n",
              "    border: none;\n",
              "    border-radius: 50%;\n",
              "    cursor: pointer;\n",
              "    display: none;\n",
              "    fill: var(--fill-color);\n",
              "    height: 32px;\n",
              "    padding: 0;\n",
              "    width: 32px;\n",
              "  }\n",
              "\n",
              "  .colab-df-quickchart:hover {\n",
              "    background-color: var(--hover-bg-color);\n",
              "    box-shadow: 0 1px 2px rgba(60, 64, 67, 0.3), 0 1px 3px 1px rgba(60, 64, 67, 0.15);\n",
              "    fill: var(--button-hover-fill-color);\n",
              "  }\n",
              "\n",
              "  .colab-df-quickchart-complete:disabled,\n",
              "  .colab-df-quickchart-complete:disabled:hover {\n",
              "    background-color: var(--disabled-bg-color);\n",
              "    fill: var(--disabled-fill-color);\n",
              "    box-shadow: none;\n",
              "  }\n",
              "\n",
              "  .colab-df-spinner {\n",
              "    border: 2px solid var(--fill-color);\n",
              "    border-color: transparent;\n",
              "    border-bottom-color: var(--fill-color);\n",
              "    animation:\n",
              "      spin 1s steps(1) infinite;\n",
              "  }\n",
              "\n",
              "  @keyframes spin {\n",
              "    0% {\n",
              "      border-color: transparent;\n",
              "      border-bottom-color: var(--fill-color);\n",
              "      border-left-color: var(--fill-color);\n",
              "    }\n",
              "    20% {\n",
              "      border-color: transparent;\n",
              "      border-left-color: var(--fill-color);\n",
              "      border-top-color: var(--fill-color);\n",
              "    }\n",
              "    30% {\n",
              "      border-color: transparent;\n",
              "      border-left-color: var(--fill-color);\n",
              "      border-top-color: var(--fill-color);\n",
              "      border-right-color: var(--fill-color);\n",
              "    }\n",
              "    40% {\n",
              "      border-color: transparent;\n",
              "      border-right-color: var(--fill-color);\n",
              "      border-top-color: var(--fill-color);\n",
              "    }\n",
              "    60% {\n",
              "      border-color: transparent;\n",
              "      border-right-color: var(--fill-color);\n",
              "    }\n",
              "    80% {\n",
              "      border-color: transparent;\n",
              "      border-right-color: var(--fill-color);\n",
              "      border-bottom-color: var(--fill-color);\n",
              "    }\n",
              "    90% {\n",
              "      border-color: transparent;\n",
              "      border-bottom-color: var(--fill-color);\n",
              "    }\n",
              "  }\n",
              "</style>\n",
              "\n",
              "  <script>\n",
              "    async function quickchart(key) {\n",
              "      const quickchartButtonEl =\n",
              "        document.querySelector('#' + key + ' button');\n",
              "      quickchartButtonEl.disabled = true;  // To prevent multiple clicks.\n",
              "      quickchartButtonEl.classList.add('colab-df-spinner');\n",
              "      try {\n",
              "        const charts = await google.colab.kernel.invokeFunction(\n",
              "            'suggestCharts', [key], {});\n",
              "      } catch (error) {\n",
              "        console.error('Error during call to suggestCharts:', error);\n",
              "      }\n",
              "      quickchartButtonEl.classList.remove('colab-df-spinner');\n",
              "      quickchartButtonEl.classList.add('colab-df-quickchart-complete');\n",
              "    }\n",
              "    (() => {\n",
              "      let quickchartButtonEl =\n",
              "        document.querySelector('#df-8b5f27ed-abce-4e98-98bf-89fdb94e7149 button');\n",
              "      quickchartButtonEl.style.display =\n",
              "        google.colab.kernel.accessAllowed ? 'block' : 'none';\n",
              "    })();\n",
              "  </script>\n",
              "</div>\n",
              "\n",
              "  <div id=\"id_adcbb5a1-c1c0-44e5-aee7-3d082e5366f0\">\n",
              "    <style>\n",
              "      .colab-df-generate {\n",
              "        background-color: #E8F0FE;\n",
              "        border: none;\n",
              "        border-radius: 50%;\n",
              "        cursor: pointer;\n",
              "        display: none;\n",
              "        fill: #1967D2;\n",
              "        height: 32px;\n",
              "        padding: 0 0 0 0;\n",
              "        width: 32px;\n",
              "      }\n",
              "\n",
              "      .colab-df-generate:hover {\n",
              "        background-color: #E2EBFA;\n",
              "        box-shadow: 0px 1px 2px rgba(60, 64, 67, 0.3), 0px 1px 3px 1px rgba(60, 64, 67, 0.15);\n",
              "        fill: #174EA6;\n",
              "      }\n",
              "\n",
              "      [theme=dark] .colab-df-generate {\n",
              "        background-color: #3B4455;\n",
              "        fill: #D2E3FC;\n",
              "      }\n",
              "\n",
              "      [theme=dark] .colab-df-generate:hover {\n",
              "        background-color: #434B5C;\n",
              "        box-shadow: 0px 1px 3px 1px rgba(0, 0, 0, 0.15);\n",
              "        filter: drop-shadow(0px 1px 2px rgba(0, 0, 0, 0.3));\n",
              "        fill: #FFFFFF;\n",
              "      }\n",
              "    </style>\n",
              "    <button class=\"colab-df-generate\" onclick=\"generateWithVariable('test_df')\"\n",
              "            title=\"Generate code using this dataframe.\"\n",
              "            style=\"display:none;\">\n",
              "\n",
              "  <svg xmlns=\"http://www.w3.org/2000/svg\" height=\"24px\"viewBox=\"0 0 24 24\"\n",
              "       width=\"24px\">\n",
              "    <path d=\"M7,19H8.4L18.45,9,17,7.55,7,17.6ZM5,21V16.75L18.45,3.32a2,2,0,0,1,2.83,0l1.4,1.43a1.91,1.91,0,0,1,.58,1.4,1.91,1.91,0,0,1-.58,1.4L9.25,21ZM18.45,9,17,7.55Zm-12,3A5.31,5.31,0,0,0,4.9,8.1,5.31,5.31,0,0,0,1,6.5,5.31,5.31,0,0,0,4.9,4.9,5.31,5.31,0,0,0,6.5,1,5.31,5.31,0,0,0,8.1,4.9,5.31,5.31,0,0,0,12,6.5,5.46,5.46,0,0,0,6.5,12Z\"/>\n",
              "  </svg>\n",
              "    </button>\n",
              "    <script>\n",
              "      (() => {\n",
              "      const buttonEl =\n",
              "        document.querySelector('#id_adcbb5a1-c1c0-44e5-aee7-3d082e5366f0 button.colab-df-generate');\n",
              "      buttonEl.style.display =\n",
              "        google.colab.kernel.accessAllowed ? 'block' : 'none';\n",
              "\n",
              "      buttonEl.onclick = () => {\n",
              "        google.colab.notebook.generateWithVariable('test_df');\n",
              "      }\n",
              "      })();\n",
              "    </script>\n",
              "  </div>\n",
              "\n",
              "    </div>\n",
              "  </div>\n"
            ],
            "application/vnd.google.colaboratory.intrinsic+json": {
              "type": "dataframe",
              "variable_name": "test_df",
              "summary": "{\n  \"name\": \"test_df\",\n  \"rows\": 10,\n  \"fields\": [\n    {\n      \"column\": \"question\",\n      \"properties\": {\n        \"dtype\": \"string\",\n        \"num_unique_values\": 10,\n        \"samples\": [\n          \"What danger did Mr. Musk and Mr. Hassabis discuss regarding AI's impact on machine usefulness with strong AGI?\",\n          \"How did OpenAI use reinforcement learning in their work?\",\n          \"\\\"What game did OpenAI use reinforcement learning to surpass human-level play achieved by a world-champion program in chess, shogi, and Go?\\\"\"\n        ],\n        \"semantic_type\": \"\",\n        \"description\": \"\"\n      }\n    },\n    {\n      \"column\": \"contexts\",\n      \"properties\": {\n        \"dtype\": \"object\",\n        \"semantic_type\": \"\",\n        \"description\": \"\"\n      }\n    },\n    {\n      \"column\": \"ground_truth\",\n      \"properties\": {\n        \"dtype\": \"string\",\n        \"num_unique_values\": 10,\n        \"samples\": [\n          \"The potential danger that the advancement of AI presents to society.\",\n          \"OpenAI used reinforcement learning to play Dota 2, a strategy video game.\",\n          \"OpenAI used Dota 2, a strategy video game, to surpass human-level play achieved by a world-champion program in chess, shogi, and Go.\"\n        ],\n        \"semantic_type\": \"\",\n        \"description\": \"\"\n      }\n    },\n    {\n      \"column\": \"evolution_type\",\n      \"properties\": {\n        \"dtype\": \"category\",\n        \"num_unique_values\": 3,\n        \"samples\": [\n          \"simple\",\n          \"reasoning\",\n          \"multi_context\"\n        ],\n        \"semantic_type\": \"\",\n        \"description\": \"\"\n      }\n    },\n    {\n      \"column\": \"episode_done\",\n      \"properties\": {\n        \"dtype\": \"boolean\",\n        \"num_unique_values\": 1,\n        \"samples\": [\n          true\n        ],\n        \"semantic_type\": \"\",\n        \"description\": \"\"\n      }\n    }\n  ]\n}"
            }
          },
          "metadata": {},
          "execution_count": 37
        }
      ]
    },
    {
      "cell_type": "code",
      "source": [
        "test_questions = test_df[\"question\"].values.tolist()\n",
        "test_groundtruths = test_df[\"ground_truth\"].values.tolist()"
      ],
      "metadata": {
        "id": "xAiXbVmLYSoC"
      },
      "execution_count": 38,
      "outputs": []
    },
    {
      "cell_type": "code",
      "source": [
        "test_questions, test_groundtruths"
      ],
      "metadata": {
        "colab": {
          "base_uri": "https://localhost:8080/"
        },
        "id": "TbSkwDf1XQSS",
        "outputId": "84751edb-19db-4c30-db1f-3f538068fc10"
      },
      "execution_count": 39,
      "outputs": [
        {
          "output_type": "execute_result",
          "data": {
            "text/plain": [
              "(['What principles are outlined in the Founding Agreement of OpenAI?',\n",
              "  'How did OpenAI use reinforcement learning in their work?',\n",
              "  'What were the benefits of releasing models publicly according to the paper by OpenAI and independent scientists?',\n",
              "  \"Which company's collaboration with DeepMind caused concern for Mr. Musk in the race for AGI?\",\n",
              "  \"What were Elon Musk's concerns about AGI and its development by a for-profit company?\",\n",
              "  '\"What game did OpenAI use reinforcement learning to surpass human-level play achieved by a world-champion program in chess, shogi, and Go?\"',\n",
              "  '\"What was the impact of OpenAI\\'s GPT-3 on future model development and the communities that emerged to enhance it?\"',\n",
              "  'What is one risk of AGI mentioned in the context?',\n",
              "  \"What danger did Mr. Musk and Mr. Hassabis discuss regarding AI's impact on machine usefulness with strong AGI?\",\n",
              "  \"In which strategy video game did OpenAI's team compete using reinforcement learning, with more moving pieces than chess?\"],\n",
              " ['The principles outlined in the Founding Agreement of OpenAI are developing AGI for the benefit of humanity and being open-source.',\n",
              "  'OpenAI used reinforcement learning to play Dota 2, a strategy video game.',\n",
              "  'The paper by OpenAI and independent scientists explained some of the benefits of releasing models publicly.',\n",
              "  \"Google's collaboration with DeepMind caused concern for Mr. Musk in the race for AGI.\",\n",
              "  \"Elon Musk's concerns about AGI and its development by a for-profit company were that it would prioritize shareholder profits over the benefit of humanity and keep its technology closed and secret for proprietary commercial reasons.\",\n",
              "  'OpenAI used Dota 2, a strategy video game, to surpass human-level play achieved by a world-champion program in chess, shogi, and Go.',\n",
              "  'Their publication did prove to be useful to the developers of future, powerful models. Entire communities sprung up to enhance and extend the models released by OpenAI. These communities spread to open-source, grass-roots efforts and commercial entities alike.',\n",
              "  'nan',\n",
              "  'The potential danger that the advancement of AI presents to society.',\n",
              "  \"OpenAI's team competed in Dota 2, a strategy video game, using reinforcement learning.\"])"
            ]
          },
          "metadata": {},
          "execution_count": 39
        }
      ]
    },
    {
      "cell_type": "markdown",
      "source": [
        "Now we'll generate responses using our RAG pipeline using the questions we've generated - we'll also need to collect our retrieved contexts for each question.\n",
        "\n",
        "We'll do this in a simple loop to see exactly what's happening!"
      ],
      "metadata": {
        "id": "aE5rfMLfbqKH"
      }
    },
    {
      "cell_type": "code",
      "source": [
        "answers = []\n",
        "contexts = []\n",
        "\n",
        "for question in test_questions:\n",
        "  response = retrieval_augmented_qa_chain.invoke({\"question\" : question})\n",
        "  answers.append(response[\"response\"].content)\n",
        "  contexts.append([context.page_content for context in response[\"context\"]])"
      ],
      "metadata": {
        "id": "9_AayvT1dAQN"
      },
      "execution_count": 40,
      "outputs": []
    },
    {
      "cell_type": "markdown",
      "source": [
        "Now we can wrap our information in a Hugging Face dataset for use in the Ragas library."
      ],
      "metadata": {
        "id": "opHaHmYDeBfC"
      }
    },
    {
      "cell_type": "code",
      "source": [
        "from datasets import Dataset\n",
        "\n",
        "response_dataset = Dataset.from_dict({\n",
        "    \"question\" : test_questions,\n",
        "    \"answer\" : answers,\n",
        "    \"contexts\" : contexts,\n",
        "    \"ground_truth\" : test_groundtruths\n",
        "})"
      ],
      "metadata": {
        "id": "fY48YZITeHy-"
      },
      "execution_count": 41,
      "outputs": []
    },
    {
      "cell_type": "markdown",
      "source": [
        "Let's take a peek and see what that looks like!"
      ],
      "metadata": {
        "id": "mmeVvQaZeogE"
      }
    },
    {
      "cell_type": "code",
      "source": [
        "response_dataset[0]"
      ],
      "metadata": {
        "colab": {
          "base_uri": "https://localhost:8080/"
        },
        "id": "pOpydvc8eqNM",
        "outputId": "e1e0b338-7354-42f4-85ce-f6140c69fcf4"
      },
      "execution_count": 42,
      "outputs": [
        {
          "output_type": "execute_result",
          "data": {
            "text/plain": [
              "{'question': 'What principles are outlined in the Founding Agreement of OpenAI?',\n",
              " 'answer': 'The principles outlined in the Founding Agreement of OpenAI include developing AGI for the benefit of humanity, being a non-profit organization, and being open-source.',\n",
              " 'contexts': ['Agreement: “Open AI Institute,” or simply, “OpenAI.”  \\n55. \\nWith these principles of the Founding Agreement in mind, Mr. Musk joined forces \\nwith Mr. Altman and Mr. Brockman to formalize and launch the project. Mr. Musk was actively \\ninvolved in the project, even prior to it being publicly announced. For example, Mr. Musk advised \\nMr. Brockman on compensation packages for employees, sharing with Mr. Brockman his strategies \\nfor compensation and retaining talent.  \\n56. \\nOn December 8, 2015, a Certificate of Incorporation for OpenAI, Inc. was filed with \\nthe Delaware Secretary of State. The Certificate memorialized in writing the Founding Agreement:',\n",
              "  'a key role in recruiting world-class talent to OpenAI, Inc. in exchange and as consideration for the \\nFounding Agreement, namely, that: OpenAI, Inc. (a) would be a non-profit developing AGI for the \\nbenefit of humanity, not for a for-profit company seeking to maximize shareholder profits; and \\n(b) would be open-source, balancing only countervailing safety considerations, and would not keep \\nits technology closed and secret for proprietary commercial reasons. This Founding Agreement is \\nmemorialized in, among other places, OpenAI, Inc.’s founding Articles of Incorporation and in \\nnumerous written communications between Plaintiff and Defendants over a multi-year period, \\nsuch as:',\n",
              "  '25. \\nThe Founding Agreement was also memorialized, among other places, in OpenAI, \\nInc.’s December 8, 2015 Certificate of Incorporation, which affirmed that its “resulting technology \\nwill benefit the public and the corporation will seek to open source technology for the public benefit \\nwhen applicable. The corporation is not organized for the private gain of any person.” Ex. 1 at 1. \\nThe Certificate of Incorporation further affirmed that all of the corporation’s property was \\n“irrevocably dedicated” to these agreed purposes. Id. \\n26. \\nIn reliance on the Founding Agreement, which Mr. Altman, Mr. Brockman, and',\n",
              "  'Agreement. \\n113. \\nOpenAI’s conduct could have seismic implications for Silicon Valley and, if allowed \\nto stand, could represent a paradigm shift for technology start-ups. It is important to reflect on what \\nhas transpired here: a non-profit startup has collected tens of millions of dollars in contributions for \\nthe express purpose of developing AGI technology for public benefit, and shortly before achieving \\nthe very milestone that the company was created to achieve, the company has become a closed, for-\\nprofit partner of the world’s largest corporation, thereby personally enriching the Defendants. If this'],\n",
              " 'ground_truth': 'The principles outlined in the Founding Agreement of OpenAI are developing AGI for the benefit of humanity and being open-source.'}"
            ]
          },
          "metadata": {},
          "execution_count": 42
        }
      ]
    },
    {
      "cell_type": "markdown",
      "source": [
        "## Task 2: Evaluating our Pipeline with Ragas\n",
        "\n",
        "Now that we have our response dataset - we can finally get into the \"meat\" of Ragas - evaluation!\n",
        "\n",
        "First, we'll import the desired metrics, then we can use them to evaluate our created dataset!\n",
        "\n",
        "Check out the specific metrics we'll be using in the Ragas documentation:\n",
        "\n",
        "- [Faithfulness](https://docs.ragas.io/en/stable/concepts/metrics/faithfulness.html)\n",
        "- [Answer Relevancy](https://docs.ragas.io/en/stable/concepts/metrics/answer_relevance.html)\n",
        "- [Context Precision](https://docs.ragas.io/en/stable/concepts/metrics/context_precision.html)\n",
        "- [Context Recall](https://docs.ragas.io/en/stable/concepts/metrics/context_recall.html)\n",
        "- [Answer Correctness](https://docs.ragas.io/en/stable/concepts/metrics/answer_correctness.html)\n",
        "\n",
        "See the accompanied presentation for more in-depth explanations about each of the metrics!"
      ],
      "metadata": {
        "id": "xbsFm5FievJI"
      }
    },
    {
      "cell_type": "code",
      "source": [
        "from ragas import evaluate\n",
        "from ragas.metrics import (\n",
        "    faithfulness,\n",
        "    answer_relevancy,\n",
        "    answer_correctness,\n",
        "    context_recall,\n",
        "    context_precision,\n",
        ")\n",
        "\n",
        "metrics = [\n",
        "    faithfulness,\n",
        "    answer_relevancy,\n",
        "    context_recall,\n",
        "    context_precision,\n",
        "    answer_correctness,\n",
        "]"
      ],
      "metadata": {
        "id": "R2PXwyt8e5aW"
      },
      "execution_count": 43,
      "outputs": []
    },
    {
      "cell_type": "markdown",
      "source": [
        "All that's left to do is call \"evaluate\" and away we go!"
      ],
      "metadata": {
        "id": "Kx-vlsx_hrtV"
      }
    },
    {
      "cell_type": "code",
      "source": [
        "results = evaluate(response_dataset, metrics)"
      ],
      "metadata": {
        "colab": {
          "base_uri": "https://localhost:8080/",
          "height": 49,
          "referenced_widgets": [
            "025b91e243554df687601135f8c0ae85",
            "daa235843eb04964857e5d79cd811436",
            "b738cf4bf2684786bf0f8b76ca734f5e",
            "02e614bf73b8433db0e4e700e99028e4",
            "c6e0dd90767a48a49ca6d4acd8a9b61e",
            "77fbf7bf6513431e9ffe9cb3ed86e2cd",
            "cdb24fd9dd5f43df84339dd6d9ed2493",
            "291a7da0d783485fb350f5351f2186c5",
            "ee6dc55820104448937176c21fa12e9e",
            "26b94f877c2146e08dfa99ce59aa365f",
            "b4f30c665e3f4b2c83d8aad4ba06818f"
          ]
        },
        "id": "DhlcfJ4lgYVI",
        "outputId": "555697bb-8d6d-4547-a0fd-a30db60c358a"
      },
      "execution_count": 44,
      "outputs": [
        {
          "output_type": "display_data",
          "data": {
            "text/plain": [
              "Evaluating:   0%|          | 0/50 [00:00<?, ?it/s]"
            ],
            "application/vnd.jupyter.widget-view+json": {
              "version_major": 2,
              "version_minor": 0,
              "model_id": "025b91e243554df687601135f8c0ae85"
            }
          },
          "metadata": {}
        }
      ]
    },
    {
      "cell_type": "code",
      "source": [
        "results"
      ],
      "metadata": {
        "colab": {
          "base_uri": "https://localhost:8080/"
        },
        "id": "UqPArpSrgwDD",
        "outputId": "1c76260c-c2df-43ab-f912-b7935f06e30c"
      },
      "execution_count": 45,
      "outputs": [
        {
          "output_type": "execute_result",
          "data": {
            "text/plain": [
              "{'faithfulness': 0.8750, 'answer_relevancy': 0.9519, 'context_recall': 0.8000, 'context_precision': 0.7472, 'answer_correctness': 0.8239}"
            ]
          },
          "metadata": {},
          "execution_count": 45
        }
      ]
    },
    {
      "cell_type": "code",
      "source": [
        "results_df = results.to_pandas()\n",
        "results_df"
      ],
      "metadata": {
        "colab": {
          "base_uri": "https://localhost:8080/",
          "height": 710
        },
        "id": "2nsGzj8DhP9E",
        "outputId": "782480c0-a6cf-4dfa-fa0e-95f818f001a9"
      },
      "execution_count": 46,
      "outputs": [
        {
          "output_type": "execute_result",
          "data": {
            "text/plain": [
              "                                            question  \\\n",
              "0  What principles are outlined in the Founding A...   \n",
              "1  How did OpenAI use reinforcement learning in t...   \n",
              "2  What were the benefits of releasing models pub...   \n",
              "3  Which company's collaboration with DeepMind ca...   \n",
              "4  What were Elon Musk's concerns about AGI and i...   \n",
              "5  \"What game did OpenAI use reinforcement learni...   \n",
              "6  \"What was the impact of OpenAI's GPT-3 on futu...   \n",
              "7  What is one risk of AGI mentioned in the context?   \n",
              "8  What danger did Mr. Musk and Mr. Hassabis disc...   \n",
              "9  In which strategy video game did OpenAI's team...   \n",
              "\n",
              "                                              answer  \\\n",
              "0  The principles outlined in the Founding Agreem...   \n",
              "1  OpenAI used reinforcement learning to compete ...   \n",
              "2  The benefits of releasing models publicly acco...   \n",
              "3                                             Google   \n",
              "4  Elon Musk's concerns about AGI were that it po...   \n",
              "5                                             Dota 2   \n",
              "6  The impact of OpenAI's GPT-3 on future model d...   \n",
              "7  One risk of AGI mentioned in the context is th...   \n",
              "8  They discussed the danger of machines becoming...   \n",
              "9                                             Dota 2   \n",
              "\n",
              "                                            contexts  \\\n",
              "0  [Agreement: “Open AI Institute,” or simply, “O...   \n",
              "1  [77. \\nInitial work at OpenAI followed much in...   \n",
              "2  [challenging.” At the time, OpenAI stated that...   \n",
              "3  [to its mission to develop AGI for the benefit...   \n",
              "4  [to its mission to develop AGI for the benefit...   \n",
              "5  [a superhuman level of play in the games of ch...   \n",
              "6  [1 \\n2 \\n3 \\n4 \\n5 \\n6 \\n7 \\n8 \\n9 \\n10 \\n11 \\...   \n",
              "7  [18. \\nMr. Musk has long recognized that AGI p...   \n",
              "8  [18. \\nMr. Musk has long recognized that AGI p...   \n",
              "9  [77. \\nInitial work at OpenAI followed much in...   \n",
              "\n",
              "                                        ground_truth  faithfulness  \\\n",
              "0  The principles outlined in the Founding Agreem...           1.0   \n",
              "1  OpenAI used reinforcement learning to play Dot...           1.0   \n",
              "2  The paper by OpenAI and independent scientists...           1.0   \n",
              "3  Google's collaboration with DeepMind caused co...           NaN   \n",
              "4  Elon Musk's concerns about AGI and its develop...           1.0   \n",
              "5  OpenAI used Dota 2, a strategy video game, to ...           0.0   \n",
              "6  Their publication did prove to be useful to th...           1.0   \n",
              "7                                                nan           1.0   \n",
              "8  The potential danger that the advancement of A...           1.0   \n",
              "9  OpenAI's team competed in Dota 2, a strategy v...           NaN   \n",
              "\n",
              "   answer_relevancy  context_recall  context_precision  answer_correctness  \n",
              "0          1.000000             1.0           0.583333            0.845501  \n",
              "1          0.971244             1.0           1.000000            0.746960  \n",
              "2          0.992501             1.0           1.000000            0.841254  \n",
              "3          0.883154             1.0           1.000000            0.949842  \n",
              "4          0.969848             1.0           0.583333            0.539220  \n",
              "5          0.906029             0.0           0.500000            0.961786  \n",
              "6          0.955954             1.0           0.805556            0.731562  \n",
              "7          1.000000             0.0           0.000000            0.935808  \n",
              "8          0.907018             1.0           1.000000            0.723913  \n",
              "9          0.932811             1.0           1.000000            0.962836  "
            ],
            "text/html": [
              "\n",
              "  <div id=\"df-c1e645d4-3267-4e3c-9ad7-3c490a91e825\" class=\"colab-df-container\">\n",
              "    <div>\n",
              "<style scoped>\n",
              "    .dataframe tbody tr th:only-of-type {\n",
              "        vertical-align: middle;\n",
              "    }\n",
              "\n",
              "    .dataframe tbody tr th {\n",
              "        vertical-align: top;\n",
              "    }\n",
              "\n",
              "    .dataframe thead th {\n",
              "        text-align: right;\n",
              "    }\n",
              "</style>\n",
              "<table border=\"1\" class=\"dataframe\">\n",
              "  <thead>\n",
              "    <tr style=\"text-align: right;\">\n",
              "      <th></th>\n",
              "      <th>question</th>\n",
              "      <th>answer</th>\n",
              "      <th>contexts</th>\n",
              "      <th>ground_truth</th>\n",
              "      <th>faithfulness</th>\n",
              "      <th>answer_relevancy</th>\n",
              "      <th>context_recall</th>\n",
              "      <th>context_precision</th>\n",
              "      <th>answer_correctness</th>\n",
              "    </tr>\n",
              "  </thead>\n",
              "  <tbody>\n",
              "    <tr>\n",
              "      <th>0</th>\n",
              "      <td>What principles are outlined in the Founding A...</td>\n",
              "      <td>The principles outlined in the Founding Agreem...</td>\n",
              "      <td>[Agreement: “Open AI Institute,” or simply, “O...</td>\n",
              "      <td>The principles outlined in the Founding Agreem...</td>\n",
              "      <td>1.0</td>\n",
              "      <td>1.000000</td>\n",
              "      <td>1.0</td>\n",
              "      <td>0.583333</td>\n",
              "      <td>0.845501</td>\n",
              "    </tr>\n",
              "    <tr>\n",
              "      <th>1</th>\n",
              "      <td>How did OpenAI use reinforcement learning in t...</td>\n",
              "      <td>OpenAI used reinforcement learning to compete ...</td>\n",
              "      <td>[77. \\nInitial work at OpenAI followed much in...</td>\n",
              "      <td>OpenAI used reinforcement learning to play Dot...</td>\n",
              "      <td>1.0</td>\n",
              "      <td>0.971244</td>\n",
              "      <td>1.0</td>\n",
              "      <td>1.000000</td>\n",
              "      <td>0.746960</td>\n",
              "    </tr>\n",
              "    <tr>\n",
              "      <th>2</th>\n",
              "      <td>What were the benefits of releasing models pub...</td>\n",
              "      <td>The benefits of releasing models publicly acco...</td>\n",
              "      <td>[challenging.” At the time, OpenAI stated that...</td>\n",
              "      <td>The paper by OpenAI and independent scientists...</td>\n",
              "      <td>1.0</td>\n",
              "      <td>0.992501</td>\n",
              "      <td>1.0</td>\n",
              "      <td>1.000000</td>\n",
              "      <td>0.841254</td>\n",
              "    </tr>\n",
              "    <tr>\n",
              "      <th>3</th>\n",
              "      <td>Which company's collaboration with DeepMind ca...</td>\n",
              "      <td>Google</td>\n",
              "      <td>[to its mission to develop AGI for the benefit...</td>\n",
              "      <td>Google's collaboration with DeepMind caused co...</td>\n",
              "      <td>NaN</td>\n",
              "      <td>0.883154</td>\n",
              "      <td>1.0</td>\n",
              "      <td>1.000000</td>\n",
              "      <td>0.949842</td>\n",
              "    </tr>\n",
              "    <tr>\n",
              "      <th>4</th>\n",
              "      <td>What were Elon Musk's concerns about AGI and i...</td>\n",
              "      <td>Elon Musk's concerns about AGI were that it po...</td>\n",
              "      <td>[to its mission to develop AGI for the benefit...</td>\n",
              "      <td>Elon Musk's concerns about AGI and its develop...</td>\n",
              "      <td>1.0</td>\n",
              "      <td>0.969848</td>\n",
              "      <td>1.0</td>\n",
              "      <td>0.583333</td>\n",
              "      <td>0.539220</td>\n",
              "    </tr>\n",
              "    <tr>\n",
              "      <th>5</th>\n",
              "      <td>\"What game did OpenAI use reinforcement learni...</td>\n",
              "      <td>Dota 2</td>\n",
              "      <td>[a superhuman level of play in the games of ch...</td>\n",
              "      <td>OpenAI used Dota 2, a strategy video game, to ...</td>\n",
              "      <td>0.0</td>\n",
              "      <td>0.906029</td>\n",
              "      <td>0.0</td>\n",
              "      <td>0.500000</td>\n",
              "      <td>0.961786</td>\n",
              "    </tr>\n",
              "    <tr>\n",
              "      <th>6</th>\n",
              "      <td>\"What was the impact of OpenAI's GPT-3 on futu...</td>\n",
              "      <td>The impact of OpenAI's GPT-3 on future model d...</td>\n",
              "      <td>[1 \\n2 \\n3 \\n4 \\n5 \\n6 \\n7 \\n8 \\n9 \\n10 \\n11 \\...</td>\n",
              "      <td>Their publication did prove to be useful to th...</td>\n",
              "      <td>1.0</td>\n",
              "      <td>0.955954</td>\n",
              "      <td>1.0</td>\n",
              "      <td>0.805556</td>\n",
              "      <td>0.731562</td>\n",
              "    </tr>\n",
              "    <tr>\n",
              "      <th>7</th>\n",
              "      <td>What is one risk of AGI mentioned in the context?</td>\n",
              "      <td>One risk of AGI mentioned in the context is th...</td>\n",
              "      <td>[18. \\nMr. Musk has long recognized that AGI p...</td>\n",
              "      <td>nan</td>\n",
              "      <td>1.0</td>\n",
              "      <td>1.000000</td>\n",
              "      <td>0.0</td>\n",
              "      <td>0.000000</td>\n",
              "      <td>0.935808</td>\n",
              "    </tr>\n",
              "    <tr>\n",
              "      <th>8</th>\n",
              "      <td>What danger did Mr. Musk and Mr. Hassabis disc...</td>\n",
              "      <td>They discussed the danger of machines becoming...</td>\n",
              "      <td>[18. \\nMr. Musk has long recognized that AGI p...</td>\n",
              "      <td>The potential danger that the advancement of A...</td>\n",
              "      <td>1.0</td>\n",
              "      <td>0.907018</td>\n",
              "      <td>1.0</td>\n",
              "      <td>1.000000</td>\n",
              "      <td>0.723913</td>\n",
              "    </tr>\n",
              "    <tr>\n",
              "      <th>9</th>\n",
              "      <td>In which strategy video game did OpenAI's team...</td>\n",
              "      <td>Dota 2</td>\n",
              "      <td>[77. \\nInitial work at OpenAI followed much in...</td>\n",
              "      <td>OpenAI's team competed in Dota 2, a strategy v...</td>\n",
              "      <td>NaN</td>\n",
              "      <td>0.932811</td>\n",
              "      <td>1.0</td>\n",
              "      <td>1.000000</td>\n",
              "      <td>0.962836</td>\n",
              "    </tr>\n",
              "  </tbody>\n",
              "</table>\n",
              "</div>\n",
              "    <div class=\"colab-df-buttons\">\n",
              "\n",
              "  <div class=\"colab-df-container\">\n",
              "    <button class=\"colab-df-convert\" onclick=\"convertToInteractive('df-c1e645d4-3267-4e3c-9ad7-3c490a91e825')\"\n",
              "            title=\"Convert this dataframe to an interactive table.\"\n",
              "            style=\"display:none;\">\n",
              "\n",
              "  <svg xmlns=\"http://www.w3.org/2000/svg\" height=\"24px\" viewBox=\"0 -960 960 960\">\n",
              "    <path d=\"M120-120v-720h720v720H120Zm60-500h600v-160H180v160Zm220 220h160v-160H400v160Zm0 220h160v-160H400v160ZM180-400h160v-160H180v160Zm440 0h160v-160H620v160ZM180-180h160v-160H180v160Zm440 0h160v-160H620v160Z\"/>\n",
              "  </svg>\n",
              "    </button>\n",
              "\n",
              "  <style>\n",
              "    .colab-df-container {\n",
              "      display:flex;\n",
              "      gap: 12px;\n",
              "    }\n",
              "\n",
              "    .colab-df-convert {\n",
              "      background-color: #E8F0FE;\n",
              "      border: none;\n",
              "      border-radius: 50%;\n",
              "      cursor: pointer;\n",
              "      display: none;\n",
              "      fill: #1967D2;\n",
              "      height: 32px;\n",
              "      padding: 0 0 0 0;\n",
              "      width: 32px;\n",
              "    }\n",
              "\n",
              "    .colab-df-convert:hover {\n",
              "      background-color: #E2EBFA;\n",
              "      box-shadow: 0px 1px 2px rgba(60, 64, 67, 0.3), 0px 1px 3px 1px rgba(60, 64, 67, 0.15);\n",
              "      fill: #174EA6;\n",
              "    }\n",
              "\n",
              "    .colab-df-buttons div {\n",
              "      margin-bottom: 4px;\n",
              "    }\n",
              "\n",
              "    [theme=dark] .colab-df-convert {\n",
              "      background-color: #3B4455;\n",
              "      fill: #D2E3FC;\n",
              "    }\n",
              "\n",
              "    [theme=dark] .colab-df-convert:hover {\n",
              "      background-color: #434B5C;\n",
              "      box-shadow: 0px 1px 3px 1px rgba(0, 0, 0, 0.15);\n",
              "      filter: drop-shadow(0px 1px 2px rgba(0, 0, 0, 0.3));\n",
              "      fill: #FFFFFF;\n",
              "    }\n",
              "  </style>\n",
              "\n",
              "    <script>\n",
              "      const buttonEl =\n",
              "        document.querySelector('#df-c1e645d4-3267-4e3c-9ad7-3c490a91e825 button.colab-df-convert');\n",
              "      buttonEl.style.display =\n",
              "        google.colab.kernel.accessAllowed ? 'block' : 'none';\n",
              "\n",
              "      async function convertToInteractive(key) {\n",
              "        const element = document.querySelector('#df-c1e645d4-3267-4e3c-9ad7-3c490a91e825');\n",
              "        const dataTable =\n",
              "          await google.colab.kernel.invokeFunction('convertToInteractive',\n",
              "                                                    [key], {});\n",
              "        if (!dataTable) return;\n",
              "\n",
              "        const docLinkHtml = 'Like what you see? Visit the ' +\n",
              "          '<a target=\"_blank\" href=https://colab.research.google.com/notebooks/data_table.ipynb>data table notebook</a>'\n",
              "          + ' to learn more about interactive tables.';\n",
              "        element.innerHTML = '';\n",
              "        dataTable['output_type'] = 'display_data';\n",
              "        await google.colab.output.renderOutput(dataTable, element);\n",
              "        const docLink = document.createElement('div');\n",
              "        docLink.innerHTML = docLinkHtml;\n",
              "        element.appendChild(docLink);\n",
              "      }\n",
              "    </script>\n",
              "  </div>\n",
              "\n",
              "\n",
              "<div id=\"df-5e9cd832-3780-452a-975f-0e73fef60afd\">\n",
              "  <button class=\"colab-df-quickchart\" onclick=\"quickchart('df-5e9cd832-3780-452a-975f-0e73fef60afd')\"\n",
              "            title=\"Suggest charts\"\n",
              "            style=\"display:none;\">\n",
              "\n",
              "<svg xmlns=\"http://www.w3.org/2000/svg\" height=\"24px\"viewBox=\"0 0 24 24\"\n",
              "     width=\"24px\">\n",
              "    <g>\n",
              "        <path d=\"M19 3H5c-1.1 0-2 .9-2 2v14c0 1.1.9 2 2 2h14c1.1 0 2-.9 2-2V5c0-1.1-.9-2-2-2zM9 17H7v-7h2v7zm4 0h-2V7h2v10zm4 0h-2v-4h2v4z\"/>\n",
              "    </g>\n",
              "</svg>\n",
              "  </button>\n",
              "\n",
              "<style>\n",
              "  .colab-df-quickchart {\n",
              "      --bg-color: #E8F0FE;\n",
              "      --fill-color: #1967D2;\n",
              "      --hover-bg-color: #E2EBFA;\n",
              "      --hover-fill-color: #174EA6;\n",
              "      --disabled-fill-color: #AAA;\n",
              "      --disabled-bg-color: #DDD;\n",
              "  }\n",
              "\n",
              "  [theme=dark] .colab-df-quickchart {\n",
              "      --bg-color: #3B4455;\n",
              "      --fill-color: #D2E3FC;\n",
              "      --hover-bg-color: #434B5C;\n",
              "      --hover-fill-color: #FFFFFF;\n",
              "      --disabled-bg-color: #3B4455;\n",
              "      --disabled-fill-color: #666;\n",
              "  }\n",
              "\n",
              "  .colab-df-quickchart {\n",
              "    background-color: var(--bg-color);\n",
              "    border: none;\n",
              "    border-radius: 50%;\n",
              "    cursor: pointer;\n",
              "    display: none;\n",
              "    fill: var(--fill-color);\n",
              "    height: 32px;\n",
              "    padding: 0;\n",
              "    width: 32px;\n",
              "  }\n",
              "\n",
              "  .colab-df-quickchart:hover {\n",
              "    background-color: var(--hover-bg-color);\n",
              "    box-shadow: 0 1px 2px rgba(60, 64, 67, 0.3), 0 1px 3px 1px rgba(60, 64, 67, 0.15);\n",
              "    fill: var(--button-hover-fill-color);\n",
              "  }\n",
              "\n",
              "  .colab-df-quickchart-complete:disabled,\n",
              "  .colab-df-quickchart-complete:disabled:hover {\n",
              "    background-color: var(--disabled-bg-color);\n",
              "    fill: var(--disabled-fill-color);\n",
              "    box-shadow: none;\n",
              "  }\n",
              "\n",
              "  .colab-df-spinner {\n",
              "    border: 2px solid var(--fill-color);\n",
              "    border-color: transparent;\n",
              "    border-bottom-color: var(--fill-color);\n",
              "    animation:\n",
              "      spin 1s steps(1) infinite;\n",
              "  }\n",
              "\n",
              "  @keyframes spin {\n",
              "    0% {\n",
              "      border-color: transparent;\n",
              "      border-bottom-color: var(--fill-color);\n",
              "      border-left-color: var(--fill-color);\n",
              "    }\n",
              "    20% {\n",
              "      border-color: transparent;\n",
              "      border-left-color: var(--fill-color);\n",
              "      border-top-color: var(--fill-color);\n",
              "    }\n",
              "    30% {\n",
              "      border-color: transparent;\n",
              "      border-left-color: var(--fill-color);\n",
              "      border-top-color: var(--fill-color);\n",
              "      border-right-color: var(--fill-color);\n",
              "    }\n",
              "    40% {\n",
              "      border-color: transparent;\n",
              "      border-right-color: var(--fill-color);\n",
              "      border-top-color: var(--fill-color);\n",
              "    }\n",
              "    60% {\n",
              "      border-color: transparent;\n",
              "      border-right-color: var(--fill-color);\n",
              "    }\n",
              "    80% {\n",
              "      border-color: transparent;\n",
              "      border-right-color: var(--fill-color);\n",
              "      border-bottom-color: var(--fill-color);\n",
              "    }\n",
              "    90% {\n",
              "      border-color: transparent;\n",
              "      border-bottom-color: var(--fill-color);\n",
              "    }\n",
              "  }\n",
              "</style>\n",
              "\n",
              "  <script>\n",
              "    async function quickchart(key) {\n",
              "      const quickchartButtonEl =\n",
              "        document.querySelector('#' + key + ' button');\n",
              "      quickchartButtonEl.disabled = true;  // To prevent multiple clicks.\n",
              "      quickchartButtonEl.classList.add('colab-df-spinner');\n",
              "      try {\n",
              "        const charts = await google.colab.kernel.invokeFunction(\n",
              "            'suggestCharts', [key], {});\n",
              "      } catch (error) {\n",
              "        console.error('Error during call to suggestCharts:', error);\n",
              "      }\n",
              "      quickchartButtonEl.classList.remove('colab-df-spinner');\n",
              "      quickchartButtonEl.classList.add('colab-df-quickchart-complete');\n",
              "    }\n",
              "    (() => {\n",
              "      let quickchartButtonEl =\n",
              "        document.querySelector('#df-5e9cd832-3780-452a-975f-0e73fef60afd button');\n",
              "      quickchartButtonEl.style.display =\n",
              "        google.colab.kernel.accessAllowed ? 'block' : 'none';\n",
              "    })();\n",
              "  </script>\n",
              "</div>\n",
              "\n",
              "  <div id=\"id_2d70eb4d-fb0f-4182-8cf7-aabc7b59f568\">\n",
              "    <style>\n",
              "      .colab-df-generate {\n",
              "        background-color: #E8F0FE;\n",
              "        border: none;\n",
              "        border-radius: 50%;\n",
              "        cursor: pointer;\n",
              "        display: none;\n",
              "        fill: #1967D2;\n",
              "        height: 32px;\n",
              "        padding: 0 0 0 0;\n",
              "        width: 32px;\n",
              "      }\n",
              "\n",
              "      .colab-df-generate:hover {\n",
              "        background-color: #E2EBFA;\n",
              "        box-shadow: 0px 1px 2px rgba(60, 64, 67, 0.3), 0px 1px 3px 1px rgba(60, 64, 67, 0.15);\n",
              "        fill: #174EA6;\n",
              "      }\n",
              "\n",
              "      [theme=dark] .colab-df-generate {\n",
              "        background-color: #3B4455;\n",
              "        fill: #D2E3FC;\n",
              "      }\n",
              "\n",
              "      [theme=dark] .colab-df-generate:hover {\n",
              "        background-color: #434B5C;\n",
              "        box-shadow: 0px 1px 3px 1px rgba(0, 0, 0, 0.15);\n",
              "        filter: drop-shadow(0px 1px 2px rgba(0, 0, 0, 0.3));\n",
              "        fill: #FFFFFF;\n",
              "      }\n",
              "    </style>\n",
              "    <button class=\"colab-df-generate\" onclick=\"generateWithVariable('results_df')\"\n",
              "            title=\"Generate code using this dataframe.\"\n",
              "            style=\"display:none;\">\n",
              "\n",
              "  <svg xmlns=\"http://www.w3.org/2000/svg\" height=\"24px\"viewBox=\"0 0 24 24\"\n",
              "       width=\"24px\">\n",
              "    <path d=\"M7,19H8.4L18.45,9,17,7.55,7,17.6ZM5,21V16.75L18.45,3.32a2,2,0,0,1,2.83,0l1.4,1.43a1.91,1.91,0,0,1,.58,1.4,1.91,1.91,0,0,1-.58,1.4L9.25,21ZM18.45,9,17,7.55Zm-12,3A5.31,5.31,0,0,0,4.9,8.1,5.31,5.31,0,0,0,1,6.5,5.31,5.31,0,0,0,4.9,4.9,5.31,5.31,0,0,0,6.5,1,5.31,5.31,0,0,0,8.1,4.9,5.31,5.31,0,0,0,12,6.5,5.46,5.46,0,0,0,6.5,12Z\"/>\n",
              "  </svg>\n",
              "    </button>\n",
              "    <script>\n",
              "      (() => {\n",
              "      const buttonEl =\n",
              "        document.querySelector('#id_2d70eb4d-fb0f-4182-8cf7-aabc7b59f568 button.colab-df-generate');\n",
              "      buttonEl.style.display =\n",
              "        google.colab.kernel.accessAllowed ? 'block' : 'none';\n",
              "\n",
              "      buttonEl.onclick = () => {\n",
              "        google.colab.notebook.generateWithVariable('results_df');\n",
              "      }\n",
              "      })();\n",
              "    </script>\n",
              "  </div>\n",
              "\n",
              "    </div>\n",
              "  </div>\n"
            ],
            "application/vnd.google.colaboratory.intrinsic+json": {
              "type": "dataframe",
              "variable_name": "results_df",
              "summary": "{\n  \"name\": \"results_df\",\n  \"rows\": 10,\n  \"fields\": [\n    {\n      \"column\": \"question\",\n      \"properties\": {\n        \"dtype\": \"string\",\n        \"num_unique_values\": 10,\n        \"samples\": [\n          \"What danger did Mr. Musk and Mr. Hassabis discuss regarding AI's impact on machine usefulness with strong AGI?\",\n          \"How did OpenAI use reinforcement learning in their work?\",\n          \"\\\"What game did OpenAI use reinforcement learning to surpass human-level play achieved by a world-champion program in chess, shogi, and Go?\\\"\"\n        ],\n        \"semantic_type\": \"\",\n        \"description\": \"\"\n      }\n    },\n    {\n      \"column\": \"answer\",\n      \"properties\": {\n        \"dtype\": \"string\",\n        \"num_unique_values\": 9,\n        \"samples\": [\n          \"One risk of AGI mentioned in the context is that if a machine can solve nearly any task better than humans, it becomes more economically useful than humans.\",\n          \"OpenAI used reinforcement learning to compete in the strategy video game Dota 2.\",\n          \"Dota 2\"\n        ],\n        \"semantic_type\": \"\",\n        \"description\": \"\"\n      }\n    },\n    {\n      \"column\": \"contexts\",\n      \"properties\": {\n        \"dtype\": \"object\",\n        \"semantic_type\": \"\",\n        \"description\": \"\"\n      }\n    },\n    {\n      \"column\": \"ground_truth\",\n      \"properties\": {\n        \"dtype\": \"string\",\n        \"num_unique_values\": 10,\n        \"samples\": [\n          \"The potential danger that the advancement of AI presents to society.\",\n          \"OpenAI used reinforcement learning to play Dota 2, a strategy video game.\",\n          \"OpenAI used Dota 2, a strategy video game, to surpass human-level play achieved by a world-champion program in chess, shogi, and Go.\"\n        ],\n        \"semantic_type\": \"\",\n        \"description\": \"\"\n      }\n    },\n    {\n      \"column\": \"faithfulness\",\n      \"properties\": {\n        \"dtype\": \"number\",\n        \"std\": 0.3535533905932738,\n        \"min\": 0.0,\n        \"max\": 1.0,\n        \"num_unique_values\": 2,\n        \"samples\": [\n          0.0,\n          1.0\n        ],\n        \"semantic_type\": \"\",\n        \"description\": \"\"\n      }\n    },\n    {\n      \"column\": \"answer_relevancy\",\n      \"properties\": {\n        \"dtype\": \"number\",\n        \"std\": 0.042422876252586936,\n        \"min\": 0.8831537738716033,\n        \"max\": 1.0000000000000007,\n        \"num_unique_values\": 10,\n        \"samples\": [\n          0.9070181628649688,\n          0.9712439316147452\n        ],\n        \"semantic_type\": \"\",\n        \"description\": \"\"\n      }\n    },\n    {\n      \"column\": \"context_recall\",\n      \"properties\": {\n        \"dtype\": \"number\",\n        \"std\": 0.42163702135578396,\n        \"min\": 0.0,\n        \"max\": 1.0,\n        \"num_unique_values\": 2,\n        \"samples\": [\n          0.0,\n          1.0\n        ],\n        \"semantic_type\": \"\",\n        \"description\": \"\"\n      }\n    },\n    {\n      \"column\": \"context_precision\",\n      \"properties\": {\n        \"dtype\": \"number\",\n        \"std\": 0.3326768226085141,\n        \"min\": 0.0,\n        \"max\": 0.999999999975,\n        \"num_unique_values\": 7,\n        \"samples\": [\n          0.5833333333041666,\n          0.9999999999\n        ],\n        \"semantic_type\": \"\",\n        \"description\": \"\"\n      }\n    },\n    {\n      \"column\": \"answer_correctness\",\n      \"properties\": {\n        \"dtype\": \"number\",\n        \"std\": 0.1386259866043979,\n        \"min\": 0.5392201468716373,\n        \"max\": 0.9628362865132913,\n        \"num_unique_values\": 10,\n        \"samples\": [\n          0.7239133866944,\n          0.7469598900672454\n        ],\n        \"semantic_type\": \"\",\n        \"description\": \"\"\n      }\n    }\n  ]\n}"
            }
          },
          "metadata": {},
          "execution_count": 46
        }
      ]
    },
    {
      "cell_type": "markdown",
      "source": [
        "## Task 3: Making Adjustments to our RAG Pipeline\n",
        "\n",
        "Now that we have established a baseline - we can see how any changes impact our pipeline's performance!\n",
        "\n",
        "Let's modify our retriever and see how that impacts our Ragas metrics!"
      ],
      "metadata": {
        "id": "MWfiu_pLh3JL"
      }
    },
    {
      "cell_type": "code",
      "source": [
        "from langchain.retrievers import MultiQueryRetriever\n",
        "\n",
        "advanced_retriever = MultiQueryRetriever.from_llm(retriever=retriever, llm=primary_qa_llm)"
      ],
      "metadata": {
        "id": "nKIuM336isBL"
      },
      "execution_count": 47,
      "outputs": []
    },
    {
      "cell_type": "markdown",
      "source": [
        "We'll also re-create our RAG pipeline using the abstractions that come packaged with LangChain v0.1.0!\n",
        "\n",
        "First, let's create a chain to \"stuff\" our documents into our context!"
      ],
      "metadata": {
        "id": "82rcj3L-i_c8"
      }
    },
    {
      "cell_type": "code",
      "source": [
        "from langchain.chains.combine_documents import create_stuff_documents_chain\n",
        "\n",
        "document_chain = create_stuff_documents_chain(primary_qa_llm, retrieval_qa_prompt)"
      ],
      "metadata": {
        "id": "EfdCgTw7jC4i"
      },
      "execution_count": 48,
      "outputs": []
    },
    {
      "cell_type": "markdown",
      "source": [
        "Next, we'll create the retrieval chain!"
      ],
      "metadata": {
        "id": "ozYl5WdPnvLu"
      }
    },
    {
      "cell_type": "code",
      "source": [
        "from langchain.chains import create_retrieval_chain\n",
        "\n",
        "retrieval_chain = create_retrieval_chain(advanced_retriever, document_chain)"
      ],
      "metadata": {
        "id": "9AK7wHVnn0U3"
      },
      "execution_count": 49,
      "outputs": []
    },
    {
      "cell_type": "code",
      "source": [
        "response = retrieval_chain.invoke({\"input\": \"Who is the plantiff?\"})"
      ],
      "metadata": {
        "id": "cmKORMfMoCjL"
      },
      "execution_count": 50,
      "outputs": []
    },
    {
      "cell_type": "code",
      "source": [
        "print(response[\"answer\"])"
      ],
      "metadata": {
        "colab": {
          "base_uri": "https://localhost:8080/"
        },
        "id": "ICMsUWbWoOpf",
        "outputId": "0550b454-452e-42a4-abec-ac828d64be2d"
      },
      "execution_count": 51,
      "outputs": [
        {
          "output_type": "stream",
          "name": "stdout",
          "text": [
            "The plaintiff is Elon Musk.\n"
          ]
        }
      ]
    },
    {
      "cell_type": "code",
      "source": [
        "response = retrieval_chain.invoke({\"input\": \"What does this complaint pertain to?\"})"
      ],
      "metadata": {
        "id": "5s8ZGasYoVi6"
      },
      "execution_count": 52,
      "outputs": []
    },
    {
      "cell_type": "code",
      "source": [
        "print(response[\"answer\"])"
      ],
      "metadata": {
        "colab": {
          "base_uri": "https://localhost:8080/"
        },
        "id": "ADNCdW4hoYT8",
        "outputId": "4d5ae952-a9a6-4013-f732-932ac237cb55"
      },
      "execution_count": 53,
      "outputs": [
        {
          "output_type": "stream",
          "name": "stdout",
          "text": [
            "The complaint pertains to a legal case involving Plaintiff Elon Musk alleging breach of fiduciary duty, unfair business practices under California Business and Professions Code sections 17200 et seq, and demanding an accounting, restitution, disgorgement of monies received by Defendants, prejudgment interest, and an injunction against future activities. The complaint also includes a demand for a jury trial.\n"
          ]
        }
      ]
    },
    {
      "cell_type": "markdown",
      "source": [
        "Well, just from those responses this chain *feels* better - but lets see how it performs on our eval!\n",
        "\n",
        "Let's do the same process we did before to collect our pipeline's contexts and answers."
      ],
      "metadata": {
        "id": "OxkU0HdpoaiE"
      }
    },
    {
      "cell_type": "code",
      "source": [
        "answers = []\n",
        "contexts = []\n",
        "\n",
        "for question in test_questions:\n",
        "  response = retrieval_chain.invoke({\"input\" : question})\n",
        "  answers.append(response[\"answer\"])\n",
        "  contexts.append([context.page_content for context in response[\"context\"]])"
      ],
      "metadata": {
        "id": "kO8cWxn2oinT"
      },
      "execution_count": 54,
      "outputs": []
    },
    {
      "cell_type": "markdown",
      "source": [
        "Now we can convert this into a dataset, just like we did before."
      ],
      "metadata": {
        "id": "tgagfhPUtM2j"
      }
    },
    {
      "cell_type": "code",
      "source": [
        "response_dataset_advanced_retrieval = Dataset.from_dict({\n",
        "    \"question\" : test_questions,\n",
        "    \"answer\" : answers,\n",
        "    \"contexts\" : contexts,\n",
        "    \"ground_truth\" : test_groundtruths\n",
        "})"
      ],
      "metadata": {
        "id": "5FcllGeSovP8"
      },
      "execution_count": 55,
      "outputs": []
    },
    {
      "cell_type": "markdown",
      "source": [
        "Let's evaluate on the same metrics we did for the first pipeline and see how it does!"
      ],
      "metadata": {
        "id": "dELYabwktR2C"
      }
    },
    {
      "cell_type": "code",
      "source": [
        "advanced_retrieval_results = evaluate(response_dataset_advanced_retrieval, metrics)"
      ],
      "metadata": {
        "colab": {
          "base_uri": "https://localhost:8080/",
          "height": 49,
          "referenced_widgets": [
            "387a2ea101844802a5d89a80b603303c",
            "a282fb8fb4954c3f89fb1e8b51b78300",
            "a231537c6ca94eba9a089bf10b2944b8",
            "b6a3f33f5df54437b7c6313e45e436cf",
            "e31c4f7f6a0443fe99048d1ebd7ec990",
            "8887e714add041a08519b2dc73950bb9",
            "7b890c3944eb4728ac9d08992e0e0724",
            "33ae2b1289474f8ea9024550c1fce4fa",
            "4854c760dc3e4543926dd3f806db0a1d",
            "ee0563d495254ffeae18e1feb5907e5c",
            "a59ec5b738024e46b97f3639b4bb4b98"
          ]
        },
        "id": "d7uHseWJo2TU",
        "outputId": "5edde46d-9d9d-4b5b-bb38-1797e27134cf"
      },
      "execution_count": 56,
      "outputs": [
        {
          "output_type": "display_data",
          "data": {
            "text/plain": [
              "Evaluating:   0%|          | 0/50 [00:00<?, ?it/s]"
            ],
            "application/vnd.jupyter.widget-view+json": {
              "version_major": 2,
              "version_minor": 0,
              "model_id": "387a2ea101844802a5d89a80b603303c"
            }
          },
          "metadata": {}
        }
      ]
    },
    {
      "cell_type": "code",
      "source": [
        "advanced_retrieval_results_df = advanced_retrieval_results.to_pandas()\n",
        "advanced_retrieval_results_df"
      ],
      "metadata": {
        "colab": {
          "base_uri": "https://localhost:8080/",
          "height": 710
        },
        "id": "JsFd0uDd2n5E",
        "outputId": "ef88eb61-7bf3-49c4-9580-64d54d223437"
      },
      "execution_count": 57,
      "outputs": [
        {
          "output_type": "execute_result",
          "data": {
            "text/plain": [
              "                                            question  \\\n",
              "0  What principles are outlined in the Founding A...   \n",
              "1  How did OpenAI use reinforcement learning in t...   \n",
              "2  What were the benefits of releasing models pub...   \n",
              "3  Which company's collaboration with DeepMind ca...   \n",
              "4  What were Elon Musk's concerns about AGI and i...   \n",
              "5  \"What game did OpenAI use reinforcement learni...   \n",
              "6  \"What was the impact of OpenAI's GPT-3 on futu...   \n",
              "7  What is one risk of AGI mentioned in the context?   \n",
              "8  What danger did Mr. Musk and Mr. Hassabis disc...   \n",
              "9  In which strategy video game did OpenAI's team...   \n",
              "\n",
              "                                              answer  \\\n",
              "0  The principles outlined in the Founding Agreem...   \n",
              "1  OpenAI used reinforcement learning to compete ...   \n",
              "2  According to the paper by OpenAI and independe...   \n",
              "3  Google's collaboration with DeepMind caused co...   \n",
              "4  Elon Musk's concerns about AGI included the po...   \n",
              "5  OpenAI used reinforcement learning to surpass ...   \n",
              "6  The publication of OpenAI's GPT-3 proved to be...   \n",
              "7  One risk of AGI mentioned in the context is th...   \n",
              "8  Mr. Musk and Mr. Hassabis discussed the potent...   \n",
              "9  OpenAI's team competed in Dota 2, a strategy v...   \n",
              "\n",
              "                                            contexts  \\\n",
              "0  [Agreement: “Open AI Institute,” or simply, “O...   \n",
              "1  [77. \\nInitial work at OpenAI followed much in...   \n",
              "2  [challenging.” At the time, OpenAI stated that...   \n",
              "3  [to its mission to develop AGI for the benefit...   \n",
              "4  [to its mission to develop AGI for the benefit...   \n",
              "5  [a superhuman level of play in the games of ch...   \n",
              "6  [1 \\n2 \\n3 \\n4 \\n5 \\n6 \\n7 \\n8 \\n9 \\n10 \\n11 \\...   \n",
              "7  [18. \\nMr. Musk has long recognized that AGI p...   \n",
              "8  [18. \\nMr. Musk has long recognized that AGI p...   \n",
              "9  [77. \\nInitial work at OpenAI followed much in...   \n",
              "\n",
              "                                        ground_truth  faithfulness  \\\n",
              "0  The principles outlined in the Founding Agreem...      1.000000   \n",
              "1  OpenAI used reinforcement learning to play Dot...      0.666667   \n",
              "2  The paper by OpenAI and independent scientists...      1.000000   \n",
              "3  Google's collaboration with DeepMind caused co...      1.000000   \n",
              "4  Elon Musk's concerns about AGI and its develop...      0.800000   \n",
              "5  OpenAI used Dota 2, a strategy video game, to ...           NaN   \n",
              "6  Their publication did prove to be useful to th...           NaN   \n",
              "7                                                nan      1.000000   \n",
              "8  The potential danger that the advancement of A...           NaN   \n",
              "9  OpenAI's team competed in Dota 2, a strategy v...      1.000000   \n",
              "\n",
              "   answer_relevancy  context_recall  context_precision  answer_correctness  \n",
              "0          1.000000             1.0           0.555556            0.742263  \n",
              "1          0.872291             0.5           1.000000            0.540233  \n",
              "2          0.950691             1.0           1.000000            0.839107  \n",
              "3          0.927679             1.0           0.876667            1.000000  \n",
              "4          0.969903             1.0           0.583333            0.568283  \n",
              "5          0.946309             0.0           0.500000            0.615178  \n",
              "6          0.949865             1.0           0.804167            0.738901  \n",
              "7          1.000000             0.0           0.000000            0.182433  \n",
              "8          0.892477             1.0           1.000000            0.597081  \n",
              "9          0.931450             1.0           1.000000            0.746695  "
            ],
            "text/html": [
              "\n",
              "  <div id=\"df-22097481-26d0-40e8-9eb6-57f27a5cd51e\" class=\"colab-df-container\">\n",
              "    <div>\n",
              "<style scoped>\n",
              "    .dataframe tbody tr th:only-of-type {\n",
              "        vertical-align: middle;\n",
              "    }\n",
              "\n",
              "    .dataframe tbody tr th {\n",
              "        vertical-align: top;\n",
              "    }\n",
              "\n",
              "    .dataframe thead th {\n",
              "        text-align: right;\n",
              "    }\n",
              "</style>\n",
              "<table border=\"1\" class=\"dataframe\">\n",
              "  <thead>\n",
              "    <tr style=\"text-align: right;\">\n",
              "      <th></th>\n",
              "      <th>question</th>\n",
              "      <th>answer</th>\n",
              "      <th>contexts</th>\n",
              "      <th>ground_truth</th>\n",
              "      <th>faithfulness</th>\n",
              "      <th>answer_relevancy</th>\n",
              "      <th>context_recall</th>\n",
              "      <th>context_precision</th>\n",
              "      <th>answer_correctness</th>\n",
              "    </tr>\n",
              "  </thead>\n",
              "  <tbody>\n",
              "    <tr>\n",
              "      <th>0</th>\n",
              "      <td>What principles are outlined in the Founding A...</td>\n",
              "      <td>The principles outlined in the Founding Agreem...</td>\n",
              "      <td>[Agreement: “Open AI Institute,” or simply, “O...</td>\n",
              "      <td>The principles outlined in the Founding Agreem...</td>\n",
              "      <td>1.000000</td>\n",
              "      <td>1.000000</td>\n",
              "      <td>1.0</td>\n",
              "      <td>0.555556</td>\n",
              "      <td>0.742263</td>\n",
              "    </tr>\n",
              "    <tr>\n",
              "      <th>1</th>\n",
              "      <td>How did OpenAI use reinforcement learning in t...</td>\n",
              "      <td>OpenAI used reinforcement learning to compete ...</td>\n",
              "      <td>[77. \\nInitial work at OpenAI followed much in...</td>\n",
              "      <td>OpenAI used reinforcement learning to play Dot...</td>\n",
              "      <td>0.666667</td>\n",
              "      <td>0.872291</td>\n",
              "      <td>0.5</td>\n",
              "      <td>1.000000</td>\n",
              "      <td>0.540233</td>\n",
              "    </tr>\n",
              "    <tr>\n",
              "      <th>2</th>\n",
              "      <td>What were the benefits of releasing models pub...</td>\n",
              "      <td>According to the paper by OpenAI and independe...</td>\n",
              "      <td>[challenging.” At the time, OpenAI stated that...</td>\n",
              "      <td>The paper by OpenAI and independent scientists...</td>\n",
              "      <td>1.000000</td>\n",
              "      <td>0.950691</td>\n",
              "      <td>1.0</td>\n",
              "      <td>1.000000</td>\n",
              "      <td>0.839107</td>\n",
              "    </tr>\n",
              "    <tr>\n",
              "      <th>3</th>\n",
              "      <td>Which company's collaboration with DeepMind ca...</td>\n",
              "      <td>Google's collaboration with DeepMind caused co...</td>\n",
              "      <td>[to its mission to develop AGI for the benefit...</td>\n",
              "      <td>Google's collaboration with DeepMind caused co...</td>\n",
              "      <td>1.000000</td>\n",
              "      <td>0.927679</td>\n",
              "      <td>1.0</td>\n",
              "      <td>0.876667</td>\n",
              "      <td>1.000000</td>\n",
              "    </tr>\n",
              "    <tr>\n",
              "      <th>4</th>\n",
              "      <td>What were Elon Musk's concerns about AGI and i...</td>\n",
              "      <td>Elon Musk's concerns about AGI included the po...</td>\n",
              "      <td>[to its mission to develop AGI for the benefit...</td>\n",
              "      <td>Elon Musk's concerns about AGI and its develop...</td>\n",
              "      <td>0.800000</td>\n",
              "      <td>0.969903</td>\n",
              "      <td>1.0</td>\n",
              "      <td>0.583333</td>\n",
              "      <td>0.568283</td>\n",
              "    </tr>\n",
              "    <tr>\n",
              "      <th>5</th>\n",
              "      <td>\"What game did OpenAI use reinforcement learni...</td>\n",
              "      <td>OpenAI used reinforcement learning to surpass ...</td>\n",
              "      <td>[a superhuman level of play in the games of ch...</td>\n",
              "      <td>OpenAI used Dota 2, a strategy video game, to ...</td>\n",
              "      <td>NaN</td>\n",
              "      <td>0.946309</td>\n",
              "      <td>0.0</td>\n",
              "      <td>0.500000</td>\n",
              "      <td>0.615178</td>\n",
              "    </tr>\n",
              "    <tr>\n",
              "      <th>6</th>\n",
              "      <td>\"What was the impact of OpenAI's GPT-3 on futu...</td>\n",
              "      <td>The publication of OpenAI's GPT-3 proved to be...</td>\n",
              "      <td>[1 \\n2 \\n3 \\n4 \\n5 \\n6 \\n7 \\n8 \\n9 \\n10 \\n11 \\...</td>\n",
              "      <td>Their publication did prove to be useful to th...</td>\n",
              "      <td>NaN</td>\n",
              "      <td>0.949865</td>\n",
              "      <td>1.0</td>\n",
              "      <td>0.804167</td>\n",
              "      <td>0.738901</td>\n",
              "    </tr>\n",
              "    <tr>\n",
              "      <th>7</th>\n",
              "      <td>What is one risk of AGI mentioned in the context?</td>\n",
              "      <td>One risk of AGI mentioned in the context is th...</td>\n",
              "      <td>[18. \\nMr. Musk has long recognized that AGI p...</td>\n",
              "      <td>nan</td>\n",
              "      <td>1.000000</td>\n",
              "      <td>1.000000</td>\n",
              "      <td>0.0</td>\n",
              "      <td>0.000000</td>\n",
              "      <td>0.182433</td>\n",
              "    </tr>\n",
              "    <tr>\n",
              "      <th>8</th>\n",
              "      <td>What danger did Mr. Musk and Mr. Hassabis disc...</td>\n",
              "      <td>Mr. Musk and Mr. Hassabis discussed the potent...</td>\n",
              "      <td>[18. \\nMr. Musk has long recognized that AGI p...</td>\n",
              "      <td>The potential danger that the advancement of A...</td>\n",
              "      <td>NaN</td>\n",
              "      <td>0.892477</td>\n",
              "      <td>1.0</td>\n",
              "      <td>1.000000</td>\n",
              "      <td>0.597081</td>\n",
              "    </tr>\n",
              "    <tr>\n",
              "      <th>9</th>\n",
              "      <td>In which strategy video game did OpenAI's team...</td>\n",
              "      <td>OpenAI's team competed in Dota 2, a strategy v...</td>\n",
              "      <td>[77. \\nInitial work at OpenAI followed much in...</td>\n",
              "      <td>OpenAI's team competed in Dota 2, a strategy v...</td>\n",
              "      <td>1.000000</td>\n",
              "      <td>0.931450</td>\n",
              "      <td>1.0</td>\n",
              "      <td>1.000000</td>\n",
              "      <td>0.746695</td>\n",
              "    </tr>\n",
              "  </tbody>\n",
              "</table>\n",
              "</div>\n",
              "    <div class=\"colab-df-buttons\">\n",
              "\n",
              "  <div class=\"colab-df-container\">\n",
              "    <button class=\"colab-df-convert\" onclick=\"convertToInteractive('df-22097481-26d0-40e8-9eb6-57f27a5cd51e')\"\n",
              "            title=\"Convert this dataframe to an interactive table.\"\n",
              "            style=\"display:none;\">\n",
              "\n",
              "  <svg xmlns=\"http://www.w3.org/2000/svg\" height=\"24px\" viewBox=\"0 -960 960 960\">\n",
              "    <path d=\"M120-120v-720h720v720H120Zm60-500h600v-160H180v160Zm220 220h160v-160H400v160Zm0 220h160v-160H400v160ZM180-400h160v-160H180v160Zm440 0h160v-160H620v160ZM180-180h160v-160H180v160Zm440 0h160v-160H620v160Z\"/>\n",
              "  </svg>\n",
              "    </button>\n",
              "\n",
              "  <style>\n",
              "    .colab-df-container {\n",
              "      display:flex;\n",
              "      gap: 12px;\n",
              "    }\n",
              "\n",
              "    .colab-df-convert {\n",
              "      background-color: #E8F0FE;\n",
              "      border: none;\n",
              "      border-radius: 50%;\n",
              "      cursor: pointer;\n",
              "      display: none;\n",
              "      fill: #1967D2;\n",
              "      height: 32px;\n",
              "      padding: 0 0 0 0;\n",
              "      width: 32px;\n",
              "    }\n",
              "\n",
              "    .colab-df-convert:hover {\n",
              "      background-color: #E2EBFA;\n",
              "      box-shadow: 0px 1px 2px rgba(60, 64, 67, 0.3), 0px 1px 3px 1px rgba(60, 64, 67, 0.15);\n",
              "      fill: #174EA6;\n",
              "    }\n",
              "\n",
              "    .colab-df-buttons div {\n",
              "      margin-bottom: 4px;\n",
              "    }\n",
              "\n",
              "    [theme=dark] .colab-df-convert {\n",
              "      background-color: #3B4455;\n",
              "      fill: #D2E3FC;\n",
              "    }\n",
              "\n",
              "    [theme=dark] .colab-df-convert:hover {\n",
              "      background-color: #434B5C;\n",
              "      box-shadow: 0px 1px 3px 1px rgba(0, 0, 0, 0.15);\n",
              "      filter: drop-shadow(0px 1px 2px rgba(0, 0, 0, 0.3));\n",
              "      fill: #FFFFFF;\n",
              "    }\n",
              "  </style>\n",
              "\n",
              "    <script>\n",
              "      const buttonEl =\n",
              "        document.querySelector('#df-22097481-26d0-40e8-9eb6-57f27a5cd51e button.colab-df-convert');\n",
              "      buttonEl.style.display =\n",
              "        google.colab.kernel.accessAllowed ? 'block' : 'none';\n",
              "\n",
              "      async function convertToInteractive(key) {\n",
              "        const element = document.querySelector('#df-22097481-26d0-40e8-9eb6-57f27a5cd51e');\n",
              "        const dataTable =\n",
              "          await google.colab.kernel.invokeFunction('convertToInteractive',\n",
              "                                                    [key], {});\n",
              "        if (!dataTable) return;\n",
              "\n",
              "        const docLinkHtml = 'Like what you see? Visit the ' +\n",
              "          '<a target=\"_blank\" href=https://colab.research.google.com/notebooks/data_table.ipynb>data table notebook</a>'\n",
              "          + ' to learn more about interactive tables.';\n",
              "        element.innerHTML = '';\n",
              "        dataTable['output_type'] = 'display_data';\n",
              "        await google.colab.output.renderOutput(dataTable, element);\n",
              "        const docLink = document.createElement('div');\n",
              "        docLink.innerHTML = docLinkHtml;\n",
              "        element.appendChild(docLink);\n",
              "      }\n",
              "    </script>\n",
              "  </div>\n",
              "\n",
              "\n",
              "<div id=\"df-bf8f0cd6-b243-4bba-91a3-57280dbdefd7\">\n",
              "  <button class=\"colab-df-quickchart\" onclick=\"quickchart('df-bf8f0cd6-b243-4bba-91a3-57280dbdefd7')\"\n",
              "            title=\"Suggest charts\"\n",
              "            style=\"display:none;\">\n",
              "\n",
              "<svg xmlns=\"http://www.w3.org/2000/svg\" height=\"24px\"viewBox=\"0 0 24 24\"\n",
              "     width=\"24px\">\n",
              "    <g>\n",
              "        <path d=\"M19 3H5c-1.1 0-2 .9-2 2v14c0 1.1.9 2 2 2h14c1.1 0 2-.9 2-2V5c0-1.1-.9-2-2-2zM9 17H7v-7h2v7zm4 0h-2V7h2v10zm4 0h-2v-4h2v4z\"/>\n",
              "    </g>\n",
              "</svg>\n",
              "  </button>\n",
              "\n",
              "<style>\n",
              "  .colab-df-quickchart {\n",
              "      --bg-color: #E8F0FE;\n",
              "      --fill-color: #1967D2;\n",
              "      --hover-bg-color: #E2EBFA;\n",
              "      --hover-fill-color: #174EA6;\n",
              "      --disabled-fill-color: #AAA;\n",
              "      --disabled-bg-color: #DDD;\n",
              "  }\n",
              "\n",
              "  [theme=dark] .colab-df-quickchart {\n",
              "      --bg-color: #3B4455;\n",
              "      --fill-color: #D2E3FC;\n",
              "      --hover-bg-color: #434B5C;\n",
              "      --hover-fill-color: #FFFFFF;\n",
              "      --disabled-bg-color: #3B4455;\n",
              "      --disabled-fill-color: #666;\n",
              "  }\n",
              "\n",
              "  .colab-df-quickchart {\n",
              "    background-color: var(--bg-color);\n",
              "    border: none;\n",
              "    border-radius: 50%;\n",
              "    cursor: pointer;\n",
              "    display: none;\n",
              "    fill: var(--fill-color);\n",
              "    height: 32px;\n",
              "    padding: 0;\n",
              "    width: 32px;\n",
              "  }\n",
              "\n",
              "  .colab-df-quickchart:hover {\n",
              "    background-color: var(--hover-bg-color);\n",
              "    box-shadow: 0 1px 2px rgba(60, 64, 67, 0.3), 0 1px 3px 1px rgba(60, 64, 67, 0.15);\n",
              "    fill: var(--button-hover-fill-color);\n",
              "  }\n",
              "\n",
              "  .colab-df-quickchart-complete:disabled,\n",
              "  .colab-df-quickchart-complete:disabled:hover {\n",
              "    background-color: var(--disabled-bg-color);\n",
              "    fill: var(--disabled-fill-color);\n",
              "    box-shadow: none;\n",
              "  }\n",
              "\n",
              "  .colab-df-spinner {\n",
              "    border: 2px solid var(--fill-color);\n",
              "    border-color: transparent;\n",
              "    border-bottom-color: var(--fill-color);\n",
              "    animation:\n",
              "      spin 1s steps(1) infinite;\n",
              "  }\n",
              "\n",
              "  @keyframes spin {\n",
              "    0% {\n",
              "      border-color: transparent;\n",
              "      border-bottom-color: var(--fill-color);\n",
              "      border-left-color: var(--fill-color);\n",
              "    }\n",
              "    20% {\n",
              "      border-color: transparent;\n",
              "      border-left-color: var(--fill-color);\n",
              "      border-top-color: var(--fill-color);\n",
              "    }\n",
              "    30% {\n",
              "      border-color: transparent;\n",
              "      border-left-color: var(--fill-color);\n",
              "      border-top-color: var(--fill-color);\n",
              "      border-right-color: var(--fill-color);\n",
              "    }\n",
              "    40% {\n",
              "      border-color: transparent;\n",
              "      border-right-color: var(--fill-color);\n",
              "      border-top-color: var(--fill-color);\n",
              "    }\n",
              "    60% {\n",
              "      border-color: transparent;\n",
              "      border-right-color: var(--fill-color);\n",
              "    }\n",
              "    80% {\n",
              "      border-color: transparent;\n",
              "      border-right-color: var(--fill-color);\n",
              "      border-bottom-color: var(--fill-color);\n",
              "    }\n",
              "    90% {\n",
              "      border-color: transparent;\n",
              "      border-bottom-color: var(--fill-color);\n",
              "    }\n",
              "  }\n",
              "</style>\n",
              "\n",
              "  <script>\n",
              "    async function quickchart(key) {\n",
              "      const quickchartButtonEl =\n",
              "        document.querySelector('#' + key + ' button');\n",
              "      quickchartButtonEl.disabled = true;  // To prevent multiple clicks.\n",
              "      quickchartButtonEl.classList.add('colab-df-spinner');\n",
              "      try {\n",
              "        const charts = await google.colab.kernel.invokeFunction(\n",
              "            'suggestCharts', [key], {});\n",
              "      } catch (error) {\n",
              "        console.error('Error during call to suggestCharts:', error);\n",
              "      }\n",
              "      quickchartButtonEl.classList.remove('colab-df-spinner');\n",
              "      quickchartButtonEl.classList.add('colab-df-quickchart-complete');\n",
              "    }\n",
              "    (() => {\n",
              "      let quickchartButtonEl =\n",
              "        document.querySelector('#df-bf8f0cd6-b243-4bba-91a3-57280dbdefd7 button');\n",
              "      quickchartButtonEl.style.display =\n",
              "        google.colab.kernel.accessAllowed ? 'block' : 'none';\n",
              "    })();\n",
              "  </script>\n",
              "</div>\n",
              "\n",
              "  <div id=\"id_20f0c448-2f1f-4f2f-a813-ec5cae99219d\">\n",
              "    <style>\n",
              "      .colab-df-generate {\n",
              "        background-color: #E8F0FE;\n",
              "        border: none;\n",
              "        border-radius: 50%;\n",
              "        cursor: pointer;\n",
              "        display: none;\n",
              "        fill: #1967D2;\n",
              "        height: 32px;\n",
              "        padding: 0 0 0 0;\n",
              "        width: 32px;\n",
              "      }\n",
              "\n",
              "      .colab-df-generate:hover {\n",
              "        background-color: #E2EBFA;\n",
              "        box-shadow: 0px 1px 2px rgba(60, 64, 67, 0.3), 0px 1px 3px 1px rgba(60, 64, 67, 0.15);\n",
              "        fill: #174EA6;\n",
              "      }\n",
              "\n",
              "      [theme=dark] .colab-df-generate {\n",
              "        background-color: #3B4455;\n",
              "        fill: #D2E3FC;\n",
              "      }\n",
              "\n",
              "      [theme=dark] .colab-df-generate:hover {\n",
              "        background-color: #434B5C;\n",
              "        box-shadow: 0px 1px 3px 1px rgba(0, 0, 0, 0.15);\n",
              "        filter: drop-shadow(0px 1px 2px rgba(0, 0, 0, 0.3));\n",
              "        fill: #FFFFFF;\n",
              "      }\n",
              "    </style>\n",
              "    <button class=\"colab-df-generate\" onclick=\"generateWithVariable('advanced_retrieval_results_df')\"\n",
              "            title=\"Generate code using this dataframe.\"\n",
              "            style=\"display:none;\">\n",
              "\n",
              "  <svg xmlns=\"http://www.w3.org/2000/svg\" height=\"24px\"viewBox=\"0 0 24 24\"\n",
              "       width=\"24px\">\n",
              "    <path d=\"M7,19H8.4L18.45,9,17,7.55,7,17.6ZM5,21V16.75L18.45,3.32a2,2,0,0,1,2.83,0l1.4,1.43a1.91,1.91,0,0,1,.58,1.4,1.91,1.91,0,0,1-.58,1.4L9.25,21ZM18.45,9,17,7.55Zm-12,3A5.31,5.31,0,0,0,4.9,8.1,5.31,5.31,0,0,0,1,6.5,5.31,5.31,0,0,0,4.9,4.9,5.31,5.31,0,0,0,6.5,1,5.31,5.31,0,0,0,8.1,4.9,5.31,5.31,0,0,0,12,6.5,5.46,5.46,0,0,0,6.5,12Z\"/>\n",
              "  </svg>\n",
              "    </button>\n",
              "    <script>\n",
              "      (() => {\n",
              "      const buttonEl =\n",
              "        document.querySelector('#id_20f0c448-2f1f-4f2f-a813-ec5cae99219d button.colab-df-generate');\n",
              "      buttonEl.style.display =\n",
              "        google.colab.kernel.accessAllowed ? 'block' : 'none';\n",
              "\n",
              "      buttonEl.onclick = () => {\n",
              "        google.colab.notebook.generateWithVariable('advanced_retrieval_results_df');\n",
              "      }\n",
              "      })();\n",
              "    </script>\n",
              "  </div>\n",
              "\n",
              "    </div>\n",
              "  </div>\n"
            ],
            "application/vnd.google.colaboratory.intrinsic+json": {
              "type": "dataframe",
              "variable_name": "advanced_retrieval_results_df",
              "summary": "{\n  \"name\": \"advanced_retrieval_results_df\",\n  \"rows\": 10,\n  \"fields\": [\n    {\n      \"column\": \"question\",\n      \"properties\": {\n        \"dtype\": \"string\",\n        \"num_unique_values\": 10,\n        \"samples\": [\n          \"What danger did Mr. Musk and Mr. Hassabis discuss regarding AI's impact on machine usefulness with strong AGI?\",\n          \"How did OpenAI use reinforcement learning in their work?\",\n          \"\\\"What game did OpenAI use reinforcement learning to surpass human-level play achieved by a world-champion program in chess, shogi, and Go?\\\"\"\n        ],\n        \"semantic_type\": \"\",\n        \"description\": \"\"\n      }\n    },\n    {\n      \"column\": \"answer\",\n      \"properties\": {\n        \"dtype\": \"string\",\n        \"num_unique_values\": 10,\n        \"samples\": [\n          \"Mr. Musk and Mr. Hassabis discussed the potential danger of AI becoming super-intelligent, surpassing human intelligence, and threatening humanity. They were concerned that if a machine can solve nearly any task better than humans can, that machine would become more economically useful than humans, potentially making human competition nearly impossible.\",\n          \"OpenAI used reinforcement learning to compete in the strategy video game Dota 2, which has far more moving pieces than chess. They used this approach to develop an implementation for others to build on.\",\n          \"OpenAI used reinforcement learning to surpass human-level play in the game of Dota 2, which has far more moving pieces than chess, shogi, and Go.\"\n        ],\n        \"semantic_type\": \"\",\n        \"description\": \"\"\n      }\n    },\n    {\n      \"column\": \"contexts\",\n      \"properties\": {\n        \"dtype\": \"object\",\n        \"semantic_type\": \"\",\n        \"description\": \"\"\n      }\n    },\n    {\n      \"column\": \"ground_truth\",\n      \"properties\": {\n        \"dtype\": \"string\",\n        \"num_unique_values\": 10,\n        \"samples\": [\n          \"The potential danger that the advancement of AI presents to society.\",\n          \"OpenAI used reinforcement learning to play Dota 2, a strategy video game.\",\n          \"OpenAI used Dota 2, a strategy video game, to surpass human-level play achieved by a world-champion program in chess, shogi, and Go.\"\n        ],\n        \"semantic_type\": \"\",\n        \"description\": \"\"\n      }\n    },\n    {\n      \"column\": \"faithfulness\",\n      \"properties\": {\n        \"dtype\": \"number\",\n        \"std\": 0.13569339855976198,\n        \"min\": 0.6666666666666666,\n        \"max\": 1.0,\n        \"num_unique_values\": 3,\n        \"samples\": [\n          1.0,\n          0.6666666666666666,\n          0.8\n        ],\n        \"semantic_type\": \"\",\n        \"description\": \"\"\n      }\n    },\n    {\n      \"column\": \"answer_relevancy\",\n      \"properties\": {\n        \"dtype\": \"number\",\n        \"std\": 0.04116112123790137,\n        \"min\": 0.8722906314679927,\n        \"max\": 1.0000000000000007,\n        \"num_unique_values\": 10,\n        \"samples\": [\n          0.8924770105523239,\n          0.8722906314679927,\n          0.9463091943572223\n        ],\n        \"semantic_type\": \"\",\n        \"description\": \"\"\n      }\n    },\n    {\n      \"column\": \"context_recall\",\n      \"properties\": {\n        \"dtype\": \"number\",\n        \"std\": 0.42491829279939874,\n        \"min\": 0.0,\n        \"max\": 1.0,\n        \"num_unique_values\": 3,\n        \"samples\": [\n          1.0,\n          0.5,\n          0.0\n        ],\n        \"semantic_type\": \"\",\n        \"description\": \"\"\n      }\n    },\n    {\n      \"column\": \"context_precision\",\n      \"properties\": {\n        \"dtype\": \"number\",\n        \"std\": 0.3259711787112958,\n        \"min\": 0.0,\n        \"max\": 0.99999999998,\n        \"num_unique_values\": 9,\n        \"samples\": [\n          0.0,\n          0.9999999999,\n          0.49999999995\n        ],\n        \"semantic_type\": \"\",\n        \"description\": \"\"\n      }\n    },\n    {\n      \"column\": \"answer_correctness\",\n      \"properties\": {\n        \"dtype\": \"number\",\n        \"std\": 0.21727946119799646,\n        \"min\": 0.1824328020947193,\n        \"max\": 1.0,\n        \"num_unique_values\": 10,\n        \"samples\": [\n          0.5970810404119073,\n          0.5402325072548972,\n          0.6151775062539527\n        ],\n        \"semantic_type\": \"\",\n        \"description\": \"\"\n      }\n    }\n  ]\n}"
            }
          },
          "metadata": {},
          "execution_count": 57
        }
      ]
    },
    {
      "cell_type": "markdown",
      "source": [
        "## Task 4: Evaluating our Adjusted Pipeline Against Our Baseline\n",
        "\n",
        "Now we can compare our results and see what directional changes occured!\n",
        "\n",
        "Let's refresh with our initial metrics."
      ],
      "metadata": {
        "id": "J0hzqq5VtZ2a"
      }
    },
    {
      "cell_type": "code",
      "source": [
        "results"
      ],
      "metadata": {
        "colab": {
          "base_uri": "https://localhost:8080/"
        },
        "id": "_WWGRaF5qx3V",
        "outputId": "a88e8a27-9a51-4b89-80af-cec01cf9b593"
      },
      "execution_count": 58,
      "outputs": [
        {
          "output_type": "execute_result",
          "data": {
            "text/plain": [
              "{'faithfulness': 0.8750, 'answer_relevancy': 0.9519, 'context_recall': 0.8000, 'context_precision': 0.7472, 'answer_correctness': 0.8239}"
            ]
          },
          "metadata": {},
          "execution_count": 58
        }
      ]
    },
    {
      "cell_type": "markdown",
      "source": [
        "And see how our advanced retrieval modified our chain!"
      ],
      "metadata": {
        "id": "oFv_yAeotmFs"
      }
    },
    {
      "cell_type": "code",
      "source": [
        "advanced_retrieval_results"
      ],
      "metadata": {
        "colab": {
          "base_uri": "https://localhost:8080/"
        },
        "id": "rpV11dxJo7xa",
        "outputId": "76d11aab-c17d-4bf5-f068-19d8ac754034"
      },
      "execution_count": 59,
      "outputs": [
        {
          "output_type": "execute_result",
          "data": {
            "text/plain": [
              "{'faithfulness': 0.9238, 'answer_relevancy': 0.9441, 'context_recall': 0.7500, 'context_precision': 0.7320, 'answer_correctness': 0.6570}"
            ]
          },
          "metadata": {},
          "execution_count": 59
        }
      ]
    },
    {
      "cell_type": "code",
      "source": [
        "import pandas as pd\n",
        "\n",
        "df_original = pd.DataFrame(list(results.items()), columns=['Metric', 'Baseline'])\n",
        "df_comparison = pd.DataFrame(list(advanced_retrieval_results.items()), columns=['Metric', 'MultiQueryRetriever with Document Stuffing'])\n",
        "\n",
        "df_merged = pd.merge(df_original, df_comparison, on='Metric')\n",
        "\n",
        "df_merged['Delta'] = df_merged['MultiQueryRetriever with Document Stuffing'] - df_merged['Baseline']\n",
        "\n",
        "df_merged"
      ],
      "metadata": {
        "colab": {
          "base_uri": "https://localhost:8080/",
          "height": 206
        },
        "id": "62NYn3iAvTjM",
        "outputId": "2dfef570-64b7-4158-e8b5-0e8aa78e384d"
      },
      "execution_count": 60,
      "outputs": [
        {
          "output_type": "execute_result",
          "data": {
            "text/plain": [
              "               Metric  Baseline  MultiQueryRetriever with Document Stuffing  \\\n",
              "0        faithfulness  0.875000                                    0.923810   \n",
              "1    answer_relevancy  0.951856                                    0.944067   \n",
              "2      context_recall  0.800000                                    0.750000   \n",
              "3   context_precision  0.747222                                    0.731972   \n",
              "4  answer_correctness  0.823868                                    0.657017   \n",
              "\n",
              "      Delta  \n",
              "0  0.048810  \n",
              "1 -0.007789  \n",
              "2 -0.050000  \n",
              "3 -0.015250  \n",
              "4 -0.166851  "
            ],
            "text/html": [
              "\n",
              "  <div id=\"df-5602ebbe-438e-4fae-89da-6a36a44bafc6\" class=\"colab-df-container\">\n",
              "    <div>\n",
              "<style scoped>\n",
              "    .dataframe tbody tr th:only-of-type {\n",
              "        vertical-align: middle;\n",
              "    }\n",
              "\n",
              "    .dataframe tbody tr th {\n",
              "        vertical-align: top;\n",
              "    }\n",
              "\n",
              "    .dataframe thead th {\n",
              "        text-align: right;\n",
              "    }\n",
              "</style>\n",
              "<table border=\"1\" class=\"dataframe\">\n",
              "  <thead>\n",
              "    <tr style=\"text-align: right;\">\n",
              "      <th></th>\n",
              "      <th>Metric</th>\n",
              "      <th>Baseline</th>\n",
              "      <th>MultiQueryRetriever with Document Stuffing</th>\n",
              "      <th>Delta</th>\n",
              "    </tr>\n",
              "  </thead>\n",
              "  <tbody>\n",
              "    <tr>\n",
              "      <th>0</th>\n",
              "      <td>faithfulness</td>\n",
              "      <td>0.875000</td>\n",
              "      <td>0.923810</td>\n",
              "      <td>0.048810</td>\n",
              "    </tr>\n",
              "    <tr>\n",
              "      <th>1</th>\n",
              "      <td>answer_relevancy</td>\n",
              "      <td>0.951856</td>\n",
              "      <td>0.944067</td>\n",
              "      <td>-0.007789</td>\n",
              "    </tr>\n",
              "    <tr>\n",
              "      <th>2</th>\n",
              "      <td>context_recall</td>\n",
              "      <td>0.800000</td>\n",
              "      <td>0.750000</td>\n",
              "      <td>-0.050000</td>\n",
              "    </tr>\n",
              "    <tr>\n",
              "      <th>3</th>\n",
              "      <td>context_precision</td>\n",
              "      <td>0.747222</td>\n",
              "      <td>0.731972</td>\n",
              "      <td>-0.015250</td>\n",
              "    </tr>\n",
              "    <tr>\n",
              "      <th>4</th>\n",
              "      <td>answer_correctness</td>\n",
              "      <td>0.823868</td>\n",
              "      <td>0.657017</td>\n",
              "      <td>-0.166851</td>\n",
              "    </tr>\n",
              "  </tbody>\n",
              "</table>\n",
              "</div>\n",
              "    <div class=\"colab-df-buttons\">\n",
              "\n",
              "  <div class=\"colab-df-container\">\n",
              "    <button class=\"colab-df-convert\" onclick=\"convertToInteractive('df-5602ebbe-438e-4fae-89da-6a36a44bafc6')\"\n",
              "            title=\"Convert this dataframe to an interactive table.\"\n",
              "            style=\"display:none;\">\n",
              "\n",
              "  <svg xmlns=\"http://www.w3.org/2000/svg\" height=\"24px\" viewBox=\"0 -960 960 960\">\n",
              "    <path d=\"M120-120v-720h720v720H120Zm60-500h600v-160H180v160Zm220 220h160v-160H400v160Zm0 220h160v-160H400v160ZM180-400h160v-160H180v160Zm440 0h160v-160H620v160ZM180-180h160v-160H180v160Zm440 0h160v-160H620v160Z\"/>\n",
              "  </svg>\n",
              "    </button>\n",
              "\n",
              "  <style>\n",
              "    .colab-df-container {\n",
              "      display:flex;\n",
              "      gap: 12px;\n",
              "    }\n",
              "\n",
              "    .colab-df-convert {\n",
              "      background-color: #E8F0FE;\n",
              "      border: none;\n",
              "      border-radius: 50%;\n",
              "      cursor: pointer;\n",
              "      display: none;\n",
              "      fill: #1967D2;\n",
              "      height: 32px;\n",
              "      padding: 0 0 0 0;\n",
              "      width: 32px;\n",
              "    }\n",
              "\n",
              "    .colab-df-convert:hover {\n",
              "      background-color: #E2EBFA;\n",
              "      box-shadow: 0px 1px 2px rgba(60, 64, 67, 0.3), 0px 1px 3px 1px rgba(60, 64, 67, 0.15);\n",
              "      fill: #174EA6;\n",
              "    }\n",
              "\n",
              "    .colab-df-buttons div {\n",
              "      margin-bottom: 4px;\n",
              "    }\n",
              "\n",
              "    [theme=dark] .colab-df-convert {\n",
              "      background-color: #3B4455;\n",
              "      fill: #D2E3FC;\n",
              "    }\n",
              "\n",
              "    [theme=dark] .colab-df-convert:hover {\n",
              "      background-color: #434B5C;\n",
              "      box-shadow: 0px 1px 3px 1px rgba(0, 0, 0, 0.15);\n",
              "      filter: drop-shadow(0px 1px 2px rgba(0, 0, 0, 0.3));\n",
              "      fill: #FFFFFF;\n",
              "    }\n",
              "  </style>\n",
              "\n",
              "    <script>\n",
              "      const buttonEl =\n",
              "        document.querySelector('#df-5602ebbe-438e-4fae-89da-6a36a44bafc6 button.colab-df-convert');\n",
              "      buttonEl.style.display =\n",
              "        google.colab.kernel.accessAllowed ? 'block' : 'none';\n",
              "\n",
              "      async function convertToInteractive(key) {\n",
              "        const element = document.querySelector('#df-5602ebbe-438e-4fae-89da-6a36a44bafc6');\n",
              "        const dataTable =\n",
              "          await google.colab.kernel.invokeFunction('convertToInteractive',\n",
              "                                                    [key], {});\n",
              "        if (!dataTable) return;\n",
              "\n",
              "        const docLinkHtml = 'Like what you see? Visit the ' +\n",
              "          '<a target=\"_blank\" href=https://colab.research.google.com/notebooks/data_table.ipynb>data table notebook</a>'\n",
              "          + ' to learn more about interactive tables.';\n",
              "        element.innerHTML = '';\n",
              "        dataTable['output_type'] = 'display_data';\n",
              "        await google.colab.output.renderOutput(dataTable, element);\n",
              "        const docLink = document.createElement('div');\n",
              "        docLink.innerHTML = docLinkHtml;\n",
              "        element.appendChild(docLink);\n",
              "      }\n",
              "    </script>\n",
              "  </div>\n",
              "\n",
              "\n",
              "<div id=\"df-438c3ec7-bb29-42a8-9372-6a6a76eea48e\">\n",
              "  <button class=\"colab-df-quickchart\" onclick=\"quickchart('df-438c3ec7-bb29-42a8-9372-6a6a76eea48e')\"\n",
              "            title=\"Suggest charts\"\n",
              "            style=\"display:none;\">\n",
              "\n",
              "<svg xmlns=\"http://www.w3.org/2000/svg\" height=\"24px\"viewBox=\"0 0 24 24\"\n",
              "     width=\"24px\">\n",
              "    <g>\n",
              "        <path d=\"M19 3H5c-1.1 0-2 .9-2 2v14c0 1.1.9 2 2 2h14c1.1 0 2-.9 2-2V5c0-1.1-.9-2-2-2zM9 17H7v-7h2v7zm4 0h-2V7h2v10zm4 0h-2v-4h2v4z\"/>\n",
              "    </g>\n",
              "</svg>\n",
              "  </button>\n",
              "\n",
              "<style>\n",
              "  .colab-df-quickchart {\n",
              "      --bg-color: #E8F0FE;\n",
              "      --fill-color: #1967D2;\n",
              "      --hover-bg-color: #E2EBFA;\n",
              "      --hover-fill-color: #174EA6;\n",
              "      --disabled-fill-color: #AAA;\n",
              "      --disabled-bg-color: #DDD;\n",
              "  }\n",
              "\n",
              "  [theme=dark] .colab-df-quickchart {\n",
              "      --bg-color: #3B4455;\n",
              "      --fill-color: #D2E3FC;\n",
              "      --hover-bg-color: #434B5C;\n",
              "      --hover-fill-color: #FFFFFF;\n",
              "      --disabled-bg-color: #3B4455;\n",
              "      --disabled-fill-color: #666;\n",
              "  }\n",
              "\n",
              "  .colab-df-quickchart {\n",
              "    background-color: var(--bg-color);\n",
              "    border: none;\n",
              "    border-radius: 50%;\n",
              "    cursor: pointer;\n",
              "    display: none;\n",
              "    fill: var(--fill-color);\n",
              "    height: 32px;\n",
              "    padding: 0;\n",
              "    width: 32px;\n",
              "  }\n",
              "\n",
              "  .colab-df-quickchart:hover {\n",
              "    background-color: var(--hover-bg-color);\n",
              "    box-shadow: 0 1px 2px rgba(60, 64, 67, 0.3), 0 1px 3px 1px rgba(60, 64, 67, 0.15);\n",
              "    fill: var(--button-hover-fill-color);\n",
              "  }\n",
              "\n",
              "  .colab-df-quickchart-complete:disabled,\n",
              "  .colab-df-quickchart-complete:disabled:hover {\n",
              "    background-color: var(--disabled-bg-color);\n",
              "    fill: var(--disabled-fill-color);\n",
              "    box-shadow: none;\n",
              "  }\n",
              "\n",
              "  .colab-df-spinner {\n",
              "    border: 2px solid var(--fill-color);\n",
              "    border-color: transparent;\n",
              "    border-bottom-color: var(--fill-color);\n",
              "    animation:\n",
              "      spin 1s steps(1) infinite;\n",
              "  }\n",
              "\n",
              "  @keyframes spin {\n",
              "    0% {\n",
              "      border-color: transparent;\n",
              "      border-bottom-color: var(--fill-color);\n",
              "      border-left-color: var(--fill-color);\n",
              "    }\n",
              "    20% {\n",
              "      border-color: transparent;\n",
              "      border-left-color: var(--fill-color);\n",
              "      border-top-color: var(--fill-color);\n",
              "    }\n",
              "    30% {\n",
              "      border-color: transparent;\n",
              "      border-left-color: var(--fill-color);\n",
              "      border-top-color: var(--fill-color);\n",
              "      border-right-color: var(--fill-color);\n",
              "    }\n",
              "    40% {\n",
              "      border-color: transparent;\n",
              "      border-right-color: var(--fill-color);\n",
              "      border-top-color: var(--fill-color);\n",
              "    }\n",
              "    60% {\n",
              "      border-color: transparent;\n",
              "      border-right-color: var(--fill-color);\n",
              "    }\n",
              "    80% {\n",
              "      border-color: transparent;\n",
              "      border-right-color: var(--fill-color);\n",
              "      border-bottom-color: var(--fill-color);\n",
              "    }\n",
              "    90% {\n",
              "      border-color: transparent;\n",
              "      border-bottom-color: var(--fill-color);\n",
              "    }\n",
              "  }\n",
              "</style>\n",
              "\n",
              "  <script>\n",
              "    async function quickchart(key) {\n",
              "      const quickchartButtonEl =\n",
              "        document.querySelector('#' + key + ' button');\n",
              "      quickchartButtonEl.disabled = true;  // To prevent multiple clicks.\n",
              "      quickchartButtonEl.classList.add('colab-df-spinner');\n",
              "      try {\n",
              "        const charts = await google.colab.kernel.invokeFunction(\n",
              "            'suggestCharts', [key], {});\n",
              "      } catch (error) {\n",
              "        console.error('Error during call to suggestCharts:', error);\n",
              "      }\n",
              "      quickchartButtonEl.classList.remove('colab-df-spinner');\n",
              "      quickchartButtonEl.classList.add('colab-df-quickchart-complete');\n",
              "    }\n",
              "    (() => {\n",
              "      let quickchartButtonEl =\n",
              "        document.querySelector('#df-438c3ec7-bb29-42a8-9372-6a6a76eea48e button');\n",
              "      quickchartButtonEl.style.display =\n",
              "        google.colab.kernel.accessAllowed ? 'block' : 'none';\n",
              "    })();\n",
              "  </script>\n",
              "</div>\n",
              "\n",
              "  <div id=\"id_a75c086e-7bdb-4a53-94e4-6cec439cb73f\">\n",
              "    <style>\n",
              "      .colab-df-generate {\n",
              "        background-color: #E8F0FE;\n",
              "        border: none;\n",
              "        border-radius: 50%;\n",
              "        cursor: pointer;\n",
              "        display: none;\n",
              "        fill: #1967D2;\n",
              "        height: 32px;\n",
              "        padding: 0 0 0 0;\n",
              "        width: 32px;\n",
              "      }\n",
              "\n",
              "      .colab-df-generate:hover {\n",
              "        background-color: #E2EBFA;\n",
              "        box-shadow: 0px 1px 2px rgba(60, 64, 67, 0.3), 0px 1px 3px 1px rgba(60, 64, 67, 0.15);\n",
              "        fill: #174EA6;\n",
              "      }\n",
              "\n",
              "      [theme=dark] .colab-df-generate {\n",
              "        background-color: #3B4455;\n",
              "        fill: #D2E3FC;\n",
              "      }\n",
              "\n",
              "      [theme=dark] .colab-df-generate:hover {\n",
              "        background-color: #434B5C;\n",
              "        box-shadow: 0px 1px 3px 1px rgba(0, 0, 0, 0.15);\n",
              "        filter: drop-shadow(0px 1px 2px rgba(0, 0, 0, 0.3));\n",
              "        fill: #FFFFFF;\n",
              "      }\n",
              "    </style>\n",
              "    <button class=\"colab-df-generate\" onclick=\"generateWithVariable('df_merged')\"\n",
              "            title=\"Generate code using this dataframe.\"\n",
              "            style=\"display:none;\">\n",
              "\n",
              "  <svg xmlns=\"http://www.w3.org/2000/svg\" height=\"24px\"viewBox=\"0 0 24 24\"\n",
              "       width=\"24px\">\n",
              "    <path d=\"M7,19H8.4L18.45,9,17,7.55,7,17.6ZM5,21V16.75L18.45,3.32a2,2,0,0,1,2.83,0l1.4,1.43a1.91,1.91,0,0,1,.58,1.4,1.91,1.91,0,0,1-.58,1.4L9.25,21ZM18.45,9,17,7.55Zm-12,3A5.31,5.31,0,0,0,4.9,8.1,5.31,5.31,0,0,0,1,6.5,5.31,5.31,0,0,0,4.9,4.9,5.31,5.31,0,0,0,6.5,1,5.31,5.31,0,0,0,8.1,4.9,5.31,5.31,0,0,0,12,6.5,5.46,5.46,0,0,0,6.5,12Z\"/>\n",
              "  </svg>\n",
              "    </button>\n",
              "    <script>\n",
              "      (() => {\n",
              "      const buttonEl =\n",
              "        document.querySelector('#id_a75c086e-7bdb-4a53-94e4-6cec439cb73f button.colab-df-generate');\n",
              "      buttonEl.style.display =\n",
              "        google.colab.kernel.accessAllowed ? 'block' : 'none';\n",
              "\n",
              "      buttonEl.onclick = () => {\n",
              "        google.colab.notebook.generateWithVariable('df_merged');\n",
              "      }\n",
              "      })();\n",
              "    </script>\n",
              "  </div>\n",
              "\n",
              "    </div>\n",
              "  </div>\n"
            ],
            "application/vnd.google.colaboratory.intrinsic+json": {
              "type": "dataframe",
              "variable_name": "df_merged",
              "summary": "{\n  \"name\": \"df_merged\",\n  \"rows\": 5,\n  \"fields\": [\n    {\n      \"column\": \"Metric\",\n      \"properties\": {\n        \"dtype\": \"string\",\n        \"num_unique_values\": 5,\n        \"samples\": [\n          \"answer_relevancy\",\n          \"answer_correctness\",\n          \"context_recall\"\n        ],\n        \"semantic_type\": \"\",\n        \"description\": \"\"\n      }\n    },\n    {\n      \"column\": \"Baseline\",\n      \"properties\": {\n        \"dtype\": \"number\",\n        \"std\": 0.07778793117821242,\n        \"min\": 0.747222222179537,\n        \"max\": 0.9518559030314874,\n        \"num_unique_values\": 5,\n        \"samples\": [\n          0.9518559030314874,\n          0.8238682511276352,\n          0.8\n        ],\n        \"semantic_type\": \"\",\n        \"description\": \"\"\n      }\n    },\n    {\n      \"column\": \"MultiQueryRetriever with Document Stuffing\",\n      \"properties\": {\n        \"dtype\": \"number\",\n        \"std\": 0.12614116151095212,\n        \"min\": 0.6570172681937589,\n        \"max\": 0.944066509841733,\n        \"num_unique_values\": 5,\n        \"samples\": [\n          0.944066509841733,\n          0.6570172681937589,\n          0.75\n        ],\n        \"semantic_type\": \"\",\n        \"description\": \"\"\n      }\n    },\n    {\n      \"column\": \"Delta\",\n      \"properties\": {\n        \"dtype\": \"number\",\n        \"std\": 0.08017555556829038,\n        \"min\": -0.16685098293387624,\n        \"max\": 0.04880952380952386,\n        \"num_unique_values\": 5,\n        \"samples\": [\n          -0.007789393189754357,\n          -0.16685098293387624,\n          -0.050000000000000044\n        ],\n        \"semantic_type\": \"\",\n        \"description\": \"\"\n      }\n    }\n  ]\n}"
            }
          },
          "metadata": {},
          "execution_count": 60
        }
      ]
    },
    {
      "cell_type": "markdown",
      "source": [
        "## Task 5: Testing OpenAI's Claim\n",
        "\n",
        "Now that we've seen how our retriever can impact the performance of our RAG pipeline - let's see how changing our embedding model impacts performance."
      ],
      "metadata": {
        "id": "GJKEOLNs5v0R"
      }
    },
    {
      "cell_type": "markdown",
      "source": [
        "####🏗️ Activity #2:\n",
        "\n",
        "Please provide markdown, or code comments, to explain which each of the following steps are doing!"
      ],
      "metadata": {
        "id": "MM4KRhJYEL-h"
      }
    },
    {
      "cell_type": "code",
      "source": [
        "new_embeddings = OpenAIEmbeddings(model=\"text-embedding-3-small\")"
      ],
      "metadata": {
        "id": "Gv_tv4w86bPb"
      },
      "execution_count": 61,
      "outputs": []
    },
    {
      "cell_type": "code",
      "source": [
        "vector_store = FAISS.from_documents(documents, new_embeddings)"
      ],
      "metadata": {
        "id": "-JPe1_Jx6Rnw"
      },
      "execution_count": 62,
      "outputs": []
    },
    {
      "cell_type": "code",
      "source": [
        "new_retriever = vector_store.as_retriever()"
      ],
      "metadata": {
        "id": "H-HuozNf6muZ"
      },
      "execution_count": 63,
      "outputs": []
    },
    {
      "cell_type": "code",
      "source": [
        "new_advanced_retriever = MultiQueryRetriever.from_llm(retriever=new_retriever, llm=primary_qa_llm)"
      ],
      "metadata": {
        "id": "M6Tyc3ZY7Km2"
      },
      "execution_count": 64,
      "outputs": []
    },
    {
      "cell_type": "code",
      "source": [
        "new_retrieval_chain = create_retrieval_chain(new_advanced_retriever, document_chain)"
      ],
      "metadata": {
        "id": "s5QSJIhm7SKr"
      },
      "execution_count": 65,
      "outputs": []
    },
    {
      "cell_type": "code",
      "source": [
        "answers = []\n",
        "contexts = []\n",
        "\n",
        "for question in test_questions:\n",
        "  response = new_retrieval_chain.invoke({\"input\" : question})\n",
        "  answers.append(response[\"answer\"])\n",
        "  contexts.append([context.page_content for context in response[\"context\"]])"
      ],
      "metadata": {
        "id": "MBVjl1UK7fd7"
      },
      "execution_count": 66,
      "outputs": []
    },
    {
      "cell_type": "code",
      "source": [
        "new_response_dataset_advanced_retrieval = Dataset.from_dict({\n",
        "    \"question\" : test_questions,\n",
        "    \"answer\" : answers,\n",
        "    \"contexts\" : contexts,\n",
        "    \"ground_truth\" : test_groundtruths\n",
        "})"
      ],
      "metadata": {
        "id": "lTBrs0zr7iyG"
      },
      "execution_count": 67,
      "outputs": []
    },
    {
      "cell_type": "code",
      "source": [
        "new_advanced_retrieval_results = evaluate(new_response_dataset_advanced_retrieval, metrics)"
      ],
      "metadata": {
        "colab": {
          "base_uri": "https://localhost:8080/",
          "height": 49,
          "referenced_widgets": [
            "cff8e41790074a979598854c192542fd",
            "8e9efd6449c7463db0117cb6acd5229b",
            "a8248de668fa408ea82dec39807b0163",
            "7f68fc8141a942eba45c8257d6a9af09",
            "e58c0f707b1748daa52f965d0f123b29",
            "4231defe79c248808291c8cdf649bf64",
            "b18cdcafd867455398b59810d1090bc5",
            "3fef2cec3f124072925f2df5b5b0e37c",
            "e731ad59bd12410488768c22bd2a4af2",
            "adc8cfe5e16c4747995b7092d4348a23",
            "10c0ad8f3f6143378232eecb802d759d"
          ]
        },
        "id": "hG5h-D8n7sZp",
        "outputId": "a9fa7b73-2b28-4c8d-e86f-a0188514b10d"
      },
      "execution_count": 68,
      "outputs": [
        {
          "output_type": "display_data",
          "data": {
            "text/plain": [
              "Evaluating:   0%|          | 0/50 [00:00<?, ?it/s]"
            ],
            "application/vnd.jupyter.widget-view+json": {
              "version_major": 2,
              "version_minor": 0,
              "model_id": "cff8e41790074a979598854c192542fd"
            }
          },
          "metadata": {}
        }
      ]
    },
    {
      "cell_type": "code",
      "source": [
        "new_advanced_retrieval_results"
      ],
      "metadata": {
        "colab": {
          "base_uri": "https://localhost:8080/"
        },
        "id": "1uHdcpsZ76kj",
        "outputId": "16a3cb81-c737-4c8d-8037-3cec44257d87"
      },
      "execution_count": 69,
      "outputs": [
        {
          "output_type": "execute_result",
          "data": {
            "text/plain": [
              "{'faithfulness': 0.9259, 'answer_relevancy': 0.9475, 'context_recall': 0.8000, 'context_precision': 0.8162, 'answer_correctness': 0.7624}"
            ]
          },
          "metadata": {},
          "execution_count": 69
        }
      ]
    },
    {
      "cell_type": "code",
      "source": [
        "df_baseline = pd.DataFrame(list(results.items()), columns=['Metric', 'Baseline'])\n",
        "df_original = pd.DataFrame(list(advanced_retrieval_results.items()), columns=['Metric', 'ADA'])\n",
        "df_comparison = pd.DataFrame(list(new_advanced_retrieval_results.items()), columns=['Metric', 'Text Embedding 3'])\n",
        "\n",
        "df_merged = pd.merge(df_original, df_comparison, on='Metric')\n",
        "df_merged = pd.merge(df_baseline, df_merged, on=\"Metric\")\n",
        "\n",
        "df_merged['Delta (TE3 -> ADA)'] = df_merged['Text Embedding 3'] - df_merged['ADA']\n",
        "df_merged['Delta (TE3 -> Baseline)'] = df_merged['Text Embedding 3'] - df_merged['Baseline']\n",
        "\n",
        "df_merged"
      ],
      "metadata": {
        "colab": {
          "base_uri": "https://localhost:8080/",
          "height": 206
        },
        "id": "s4TyaCUQ79Ke",
        "outputId": "495e7a32-bb54-4b79-ce93-3cd2aef7af8f"
      },
      "execution_count": 70,
      "outputs": [
        {
          "output_type": "execute_result",
          "data": {
            "text/plain": [
              "               Metric  Baseline       ADA  Text Embedding 3  \\\n",
              "0        faithfulness  0.875000  0.923810          0.925926   \n",
              "1    answer_relevancy  0.951856  0.944067          0.947539   \n",
              "2      context_recall  0.800000  0.750000          0.800000   \n",
              "3   context_precision  0.747222  0.731972          0.816250   \n",
              "4  answer_correctness  0.823868  0.657017          0.762394   \n",
              "\n",
              "   Delta (TE3 -> ADA)  Delta (TE3 -> Baseline)  \n",
              "0            0.002116                 0.050926  \n",
              "1            0.003472                -0.004317  \n",
              "2            0.050000                 0.000000  \n",
              "3            0.084278                 0.069028  \n",
              "4            0.105377                -0.061474  "
            ],
            "text/html": [
              "\n",
              "  <div id=\"df-ce681cc4-84ba-409c-a46f-e2cd437603ab\" class=\"colab-df-container\">\n",
              "    <div>\n",
              "<style scoped>\n",
              "    .dataframe tbody tr th:only-of-type {\n",
              "        vertical-align: middle;\n",
              "    }\n",
              "\n",
              "    .dataframe tbody tr th {\n",
              "        vertical-align: top;\n",
              "    }\n",
              "\n",
              "    .dataframe thead th {\n",
              "        text-align: right;\n",
              "    }\n",
              "</style>\n",
              "<table border=\"1\" class=\"dataframe\">\n",
              "  <thead>\n",
              "    <tr style=\"text-align: right;\">\n",
              "      <th></th>\n",
              "      <th>Metric</th>\n",
              "      <th>Baseline</th>\n",
              "      <th>ADA</th>\n",
              "      <th>Text Embedding 3</th>\n",
              "      <th>Delta (TE3 -&gt; ADA)</th>\n",
              "      <th>Delta (TE3 -&gt; Baseline)</th>\n",
              "    </tr>\n",
              "  </thead>\n",
              "  <tbody>\n",
              "    <tr>\n",
              "      <th>0</th>\n",
              "      <td>faithfulness</td>\n",
              "      <td>0.875000</td>\n",
              "      <td>0.923810</td>\n",
              "      <td>0.925926</td>\n",
              "      <td>0.002116</td>\n",
              "      <td>0.050926</td>\n",
              "    </tr>\n",
              "    <tr>\n",
              "      <th>1</th>\n",
              "      <td>answer_relevancy</td>\n",
              "      <td>0.951856</td>\n",
              "      <td>0.944067</td>\n",
              "      <td>0.947539</td>\n",
              "      <td>0.003472</td>\n",
              "      <td>-0.004317</td>\n",
              "    </tr>\n",
              "    <tr>\n",
              "      <th>2</th>\n",
              "      <td>context_recall</td>\n",
              "      <td>0.800000</td>\n",
              "      <td>0.750000</td>\n",
              "      <td>0.800000</td>\n",
              "      <td>0.050000</td>\n",
              "      <td>0.000000</td>\n",
              "    </tr>\n",
              "    <tr>\n",
              "      <th>3</th>\n",
              "      <td>context_precision</td>\n",
              "      <td>0.747222</td>\n",
              "      <td>0.731972</td>\n",
              "      <td>0.816250</td>\n",
              "      <td>0.084278</td>\n",
              "      <td>0.069028</td>\n",
              "    </tr>\n",
              "    <tr>\n",
              "      <th>4</th>\n",
              "      <td>answer_correctness</td>\n",
              "      <td>0.823868</td>\n",
              "      <td>0.657017</td>\n",
              "      <td>0.762394</td>\n",
              "      <td>0.105377</td>\n",
              "      <td>-0.061474</td>\n",
              "    </tr>\n",
              "  </tbody>\n",
              "</table>\n",
              "</div>\n",
              "    <div class=\"colab-df-buttons\">\n",
              "\n",
              "  <div class=\"colab-df-container\">\n",
              "    <button class=\"colab-df-convert\" onclick=\"convertToInteractive('df-ce681cc4-84ba-409c-a46f-e2cd437603ab')\"\n",
              "            title=\"Convert this dataframe to an interactive table.\"\n",
              "            style=\"display:none;\">\n",
              "\n",
              "  <svg xmlns=\"http://www.w3.org/2000/svg\" height=\"24px\" viewBox=\"0 -960 960 960\">\n",
              "    <path d=\"M120-120v-720h720v720H120Zm60-500h600v-160H180v160Zm220 220h160v-160H400v160Zm0 220h160v-160H400v160ZM180-400h160v-160H180v160Zm440 0h160v-160H620v160ZM180-180h160v-160H180v160Zm440 0h160v-160H620v160Z\"/>\n",
              "  </svg>\n",
              "    </button>\n",
              "\n",
              "  <style>\n",
              "    .colab-df-container {\n",
              "      display:flex;\n",
              "      gap: 12px;\n",
              "    }\n",
              "\n",
              "    .colab-df-convert {\n",
              "      background-color: #E8F0FE;\n",
              "      border: none;\n",
              "      border-radius: 50%;\n",
              "      cursor: pointer;\n",
              "      display: none;\n",
              "      fill: #1967D2;\n",
              "      height: 32px;\n",
              "      padding: 0 0 0 0;\n",
              "      width: 32px;\n",
              "    }\n",
              "\n",
              "    .colab-df-convert:hover {\n",
              "      background-color: #E2EBFA;\n",
              "      box-shadow: 0px 1px 2px rgba(60, 64, 67, 0.3), 0px 1px 3px 1px rgba(60, 64, 67, 0.15);\n",
              "      fill: #174EA6;\n",
              "    }\n",
              "\n",
              "    .colab-df-buttons div {\n",
              "      margin-bottom: 4px;\n",
              "    }\n",
              "\n",
              "    [theme=dark] .colab-df-convert {\n",
              "      background-color: #3B4455;\n",
              "      fill: #D2E3FC;\n",
              "    }\n",
              "\n",
              "    [theme=dark] .colab-df-convert:hover {\n",
              "      background-color: #434B5C;\n",
              "      box-shadow: 0px 1px 3px 1px rgba(0, 0, 0, 0.15);\n",
              "      filter: drop-shadow(0px 1px 2px rgba(0, 0, 0, 0.3));\n",
              "      fill: #FFFFFF;\n",
              "    }\n",
              "  </style>\n",
              "\n",
              "    <script>\n",
              "      const buttonEl =\n",
              "        document.querySelector('#df-ce681cc4-84ba-409c-a46f-e2cd437603ab button.colab-df-convert');\n",
              "      buttonEl.style.display =\n",
              "        google.colab.kernel.accessAllowed ? 'block' : 'none';\n",
              "\n",
              "      async function convertToInteractive(key) {\n",
              "        const element = document.querySelector('#df-ce681cc4-84ba-409c-a46f-e2cd437603ab');\n",
              "        const dataTable =\n",
              "          await google.colab.kernel.invokeFunction('convertToInteractive',\n",
              "                                                    [key], {});\n",
              "        if (!dataTable) return;\n",
              "\n",
              "        const docLinkHtml = 'Like what you see? Visit the ' +\n",
              "          '<a target=\"_blank\" href=https://colab.research.google.com/notebooks/data_table.ipynb>data table notebook</a>'\n",
              "          + ' to learn more about interactive tables.';\n",
              "        element.innerHTML = '';\n",
              "        dataTable['output_type'] = 'display_data';\n",
              "        await google.colab.output.renderOutput(dataTable, element);\n",
              "        const docLink = document.createElement('div');\n",
              "        docLink.innerHTML = docLinkHtml;\n",
              "        element.appendChild(docLink);\n",
              "      }\n",
              "    </script>\n",
              "  </div>\n",
              "\n",
              "\n",
              "<div id=\"df-3da71c47-7c74-4082-bfda-cdf022facef6\">\n",
              "  <button class=\"colab-df-quickchart\" onclick=\"quickchart('df-3da71c47-7c74-4082-bfda-cdf022facef6')\"\n",
              "            title=\"Suggest charts\"\n",
              "            style=\"display:none;\">\n",
              "\n",
              "<svg xmlns=\"http://www.w3.org/2000/svg\" height=\"24px\"viewBox=\"0 0 24 24\"\n",
              "     width=\"24px\">\n",
              "    <g>\n",
              "        <path d=\"M19 3H5c-1.1 0-2 .9-2 2v14c0 1.1.9 2 2 2h14c1.1 0 2-.9 2-2V5c0-1.1-.9-2-2-2zM9 17H7v-7h2v7zm4 0h-2V7h2v10zm4 0h-2v-4h2v4z\"/>\n",
              "    </g>\n",
              "</svg>\n",
              "  </button>\n",
              "\n",
              "<style>\n",
              "  .colab-df-quickchart {\n",
              "      --bg-color: #E8F0FE;\n",
              "      --fill-color: #1967D2;\n",
              "      --hover-bg-color: #E2EBFA;\n",
              "      --hover-fill-color: #174EA6;\n",
              "      --disabled-fill-color: #AAA;\n",
              "      --disabled-bg-color: #DDD;\n",
              "  }\n",
              "\n",
              "  [theme=dark] .colab-df-quickchart {\n",
              "      --bg-color: #3B4455;\n",
              "      --fill-color: #D2E3FC;\n",
              "      --hover-bg-color: #434B5C;\n",
              "      --hover-fill-color: #FFFFFF;\n",
              "      --disabled-bg-color: #3B4455;\n",
              "      --disabled-fill-color: #666;\n",
              "  }\n",
              "\n",
              "  .colab-df-quickchart {\n",
              "    background-color: var(--bg-color);\n",
              "    border: none;\n",
              "    border-radius: 50%;\n",
              "    cursor: pointer;\n",
              "    display: none;\n",
              "    fill: var(--fill-color);\n",
              "    height: 32px;\n",
              "    padding: 0;\n",
              "    width: 32px;\n",
              "  }\n",
              "\n",
              "  .colab-df-quickchart:hover {\n",
              "    background-color: var(--hover-bg-color);\n",
              "    box-shadow: 0 1px 2px rgba(60, 64, 67, 0.3), 0 1px 3px 1px rgba(60, 64, 67, 0.15);\n",
              "    fill: var(--button-hover-fill-color);\n",
              "  }\n",
              "\n",
              "  .colab-df-quickchart-complete:disabled,\n",
              "  .colab-df-quickchart-complete:disabled:hover {\n",
              "    background-color: var(--disabled-bg-color);\n",
              "    fill: var(--disabled-fill-color);\n",
              "    box-shadow: none;\n",
              "  }\n",
              "\n",
              "  .colab-df-spinner {\n",
              "    border: 2px solid var(--fill-color);\n",
              "    border-color: transparent;\n",
              "    border-bottom-color: var(--fill-color);\n",
              "    animation:\n",
              "      spin 1s steps(1) infinite;\n",
              "  }\n",
              "\n",
              "  @keyframes spin {\n",
              "    0% {\n",
              "      border-color: transparent;\n",
              "      border-bottom-color: var(--fill-color);\n",
              "      border-left-color: var(--fill-color);\n",
              "    }\n",
              "    20% {\n",
              "      border-color: transparent;\n",
              "      border-left-color: var(--fill-color);\n",
              "      border-top-color: var(--fill-color);\n",
              "    }\n",
              "    30% {\n",
              "      border-color: transparent;\n",
              "      border-left-color: var(--fill-color);\n",
              "      border-top-color: var(--fill-color);\n",
              "      border-right-color: var(--fill-color);\n",
              "    }\n",
              "    40% {\n",
              "      border-color: transparent;\n",
              "      border-right-color: var(--fill-color);\n",
              "      border-top-color: var(--fill-color);\n",
              "    }\n",
              "    60% {\n",
              "      border-color: transparent;\n",
              "      border-right-color: var(--fill-color);\n",
              "    }\n",
              "    80% {\n",
              "      border-color: transparent;\n",
              "      border-right-color: var(--fill-color);\n",
              "      border-bottom-color: var(--fill-color);\n",
              "    }\n",
              "    90% {\n",
              "      border-color: transparent;\n",
              "      border-bottom-color: var(--fill-color);\n",
              "    }\n",
              "  }\n",
              "</style>\n",
              "\n",
              "  <script>\n",
              "    async function quickchart(key) {\n",
              "      const quickchartButtonEl =\n",
              "        document.querySelector('#' + key + ' button');\n",
              "      quickchartButtonEl.disabled = true;  // To prevent multiple clicks.\n",
              "      quickchartButtonEl.classList.add('colab-df-spinner');\n",
              "      try {\n",
              "        const charts = await google.colab.kernel.invokeFunction(\n",
              "            'suggestCharts', [key], {});\n",
              "      } catch (error) {\n",
              "        console.error('Error during call to suggestCharts:', error);\n",
              "      }\n",
              "      quickchartButtonEl.classList.remove('colab-df-spinner');\n",
              "      quickchartButtonEl.classList.add('colab-df-quickchart-complete');\n",
              "    }\n",
              "    (() => {\n",
              "      let quickchartButtonEl =\n",
              "        document.querySelector('#df-3da71c47-7c74-4082-bfda-cdf022facef6 button');\n",
              "      quickchartButtonEl.style.display =\n",
              "        google.colab.kernel.accessAllowed ? 'block' : 'none';\n",
              "    })();\n",
              "  </script>\n",
              "</div>\n",
              "\n",
              "  <div id=\"id_cd1014d5-927d-4a64-8daf-4857a2cf9c25\">\n",
              "    <style>\n",
              "      .colab-df-generate {\n",
              "        background-color: #E8F0FE;\n",
              "        border: none;\n",
              "        border-radius: 50%;\n",
              "        cursor: pointer;\n",
              "        display: none;\n",
              "        fill: #1967D2;\n",
              "        height: 32px;\n",
              "        padding: 0 0 0 0;\n",
              "        width: 32px;\n",
              "      }\n",
              "\n",
              "      .colab-df-generate:hover {\n",
              "        background-color: #E2EBFA;\n",
              "        box-shadow: 0px 1px 2px rgba(60, 64, 67, 0.3), 0px 1px 3px 1px rgba(60, 64, 67, 0.15);\n",
              "        fill: #174EA6;\n",
              "      }\n",
              "\n",
              "      [theme=dark] .colab-df-generate {\n",
              "        background-color: #3B4455;\n",
              "        fill: #D2E3FC;\n",
              "      }\n",
              "\n",
              "      [theme=dark] .colab-df-generate:hover {\n",
              "        background-color: #434B5C;\n",
              "        box-shadow: 0px 1px 3px 1px rgba(0, 0, 0, 0.15);\n",
              "        filter: drop-shadow(0px 1px 2px rgba(0, 0, 0, 0.3));\n",
              "        fill: #FFFFFF;\n",
              "      }\n",
              "    </style>\n",
              "    <button class=\"colab-df-generate\" onclick=\"generateWithVariable('df_merged')\"\n",
              "            title=\"Generate code using this dataframe.\"\n",
              "            style=\"display:none;\">\n",
              "\n",
              "  <svg xmlns=\"http://www.w3.org/2000/svg\" height=\"24px\"viewBox=\"0 0 24 24\"\n",
              "       width=\"24px\">\n",
              "    <path d=\"M7,19H8.4L18.45,9,17,7.55,7,17.6ZM5,21V16.75L18.45,3.32a2,2,0,0,1,2.83,0l1.4,1.43a1.91,1.91,0,0,1,.58,1.4,1.91,1.91,0,0,1-.58,1.4L9.25,21ZM18.45,9,17,7.55Zm-12,3A5.31,5.31,0,0,0,4.9,8.1,5.31,5.31,0,0,0,1,6.5,5.31,5.31,0,0,0,4.9,4.9,5.31,5.31,0,0,0,6.5,1,5.31,5.31,0,0,0,8.1,4.9,5.31,5.31,0,0,0,12,6.5,5.46,5.46,0,0,0,6.5,12Z\"/>\n",
              "  </svg>\n",
              "    </button>\n",
              "    <script>\n",
              "      (() => {\n",
              "      const buttonEl =\n",
              "        document.querySelector('#id_cd1014d5-927d-4a64-8daf-4857a2cf9c25 button.colab-df-generate');\n",
              "      buttonEl.style.display =\n",
              "        google.colab.kernel.accessAllowed ? 'block' : 'none';\n",
              "\n",
              "      buttonEl.onclick = () => {\n",
              "        google.colab.notebook.generateWithVariable('df_merged');\n",
              "      }\n",
              "      })();\n",
              "    </script>\n",
              "  </div>\n",
              "\n",
              "    </div>\n",
              "  </div>\n"
            ],
            "application/vnd.google.colaboratory.intrinsic+json": {
              "type": "dataframe",
              "variable_name": "df_merged",
              "summary": "{\n  \"name\": \"df_merged\",\n  \"rows\": 5,\n  \"fields\": [\n    {\n      \"column\": \"Metric\",\n      \"properties\": {\n        \"dtype\": \"string\",\n        \"num_unique_values\": 5,\n        \"samples\": [\n          \"answer_relevancy\",\n          \"answer_correctness\",\n          \"context_recall\"\n        ],\n        \"semantic_type\": \"\",\n        \"description\": \"\"\n      }\n    },\n    {\n      \"column\": \"Baseline\",\n      \"properties\": {\n        \"dtype\": \"number\",\n        \"std\": 0.07778793117821242,\n        \"min\": 0.747222222179537,\n        \"max\": 0.9518559030314874,\n        \"num_unique_values\": 5,\n        \"samples\": [\n          0.9518559030314874,\n          0.8238682511276352,\n          0.8\n        ],\n        \"semantic_type\": \"\",\n        \"description\": \"\"\n      }\n    },\n    {\n      \"column\": \"ADA\",\n      \"properties\": {\n        \"dtype\": \"number\",\n        \"std\": 0.12614116151095212,\n        \"min\": 0.6570172681937589,\n        \"max\": 0.944066509841733,\n        \"num_unique_values\": 5,\n        \"samples\": [\n          0.944066509841733,\n          0.6570172681937589,\n          0.75\n        ],\n        \"semantic_type\": \"\",\n        \"description\": \"\"\n      }\n    },\n    {\n      \"column\": \"Text Embedding 3\",\n      \"properties\": {\n        \"dtype\": \"number\",\n        \"std\": 0.08153445711697037,\n        \"min\": 0.7623942500171221,\n        \"max\": 0.9475386284499793,\n        \"num_unique_values\": 5,\n        \"samples\": [\n          0.9475386284499793,\n          0.7623942500171221,\n          0.8\n        ],\n        \"semantic_type\": \"\",\n        \"description\": \"\"\n      }\n    },\n    {\n      \"column\": \"Delta (TE3 -> ADA)\",\n      \"properties\": {\n        \"dtype\": \"number\",\n        \"std\": 0.046622777645725484,\n        \"min\": 0.002116402116401961,\n        \"max\": 0.10537698182336319,\n        \"num_unique_values\": 5,\n        \"samples\": [\n          0.003472118608246255,\n          0.10537698182336319,\n          0.050000000000000044\n        ],\n        \"semantic_type\": \"\",\n        \"description\": \"\"\n      }\n    },\n    {\n      \"column\": \"Delta (TE3 -> Baseline)\",\n      \"properties\": {\n        \"dtype\": \"number\",\n        \"std\": 0.05140345802329349,\n        \"min\": -0.061474001110513043,\n        \"max\": 0.06902777777722335,\n        \"num_unique_values\": 5,\n        \"samples\": [\n          -0.0043172745815081015,\n          -0.061474001110513043,\n          0.0\n        ],\n        \"semantic_type\": \"\",\n        \"description\": \"\"\n      }\n    }\n  ]\n}"
            }
          },
          "metadata": {},
          "execution_count": 70
        }
      ]
    },
    {
      "cell_type": "markdown",
      "source": [
        "####❓ Question #4:\n",
        "\n",
        "Do you think, in your opinion, `text-embedding-3-small` is significantly better than `ada`?\n",
        "\n",
        "\n",
        "####Answer #4:\n",
        "\n",
        "- Based on the comparision, there is no significant difference between `ADA` and `text-embedding-3-small`. Ada might be more suitable for completing prompts in a human-like fashion.\n",
        "\n",
        "- `text-embedding-3-small` can produce high-quality results faster and with less computational resources compared to a general-purpose model `ADA` when it comes to generating embeddings. But there  may be an issue with this embedding which is the order of cosine distance prefering data that was clearly more different.\n",
        "\n",
        "https://arxiv.org/html/2403.05440v1#:~:text=While%20similarity%20in%20'cosine%20similarity,the%20norm%20of%20the%20learned"
      ],
      "metadata": {
        "id": "rRmkcMrxC4Me"
      }
    },
    {
      "cell_type": "markdown",
      "source": [
        "## BONUS ACTIVITY: Showcase Multi-Context Perfomance Changes\n",
        "\n",
        "Now that we've looked at a number of different examples - showcase the difference on the multi-context *specific* questions that were synthetically generated.\n",
        "\n",
        "> NOTE: You have all the data you'll need already in the notebook if you made it to this step!"
      ],
      "metadata": {
        "id": "iOciJLABDBnA"
      }
    },
    {
      "cell_type": "code",
      "source": [
        "### YOUR CODE HERE\n",
        "# Filter out the multi-context specific questions\n",
        "multi_context_test_df = test_df.loc[test_df[\"evolution_type\"] == \"multi_context\"]\n",
        "multi_context_test_questions = multi_context_test_df[\"question\"].values.tolist()\n",
        "multi_context_test_groundtruths = multi_context_test_df[\"ground_truth\"].values.tolist()"
      ],
      "metadata": {
        "id": "MY8l2EksDH43"
      },
      "execution_count": 74,
      "outputs": []
    },
    {
      "cell_type": "code",
      "source": [
        "from datasets import Dataset\n",
        "\n",
        "# baseline model\n",
        "\n",
        "# Collect our retrieved contexts for each question.\n",
        "answers = []\n",
        "contexts = []\n",
        "\n",
        "for question in multi_context_test_questions:\n",
        "  response = retrieval_augmented_qa_chain.invoke({\"question\" : question})\n",
        "  answers.append(response[\"response\"].content)\n",
        "  contexts.append([context.page_content for context in response[\"context\"]])\n",
        "\n",
        "# Generate Responses with RAG Pipeline\n",
        "response_dataset = Dataset.from_dict({\n",
        "    \"question\" : multi_context_test_questions,\n",
        "    \"answer\" : answers,\n",
        "    \"contexts\" : contexts,\n",
        "    \"ground_truth\" : multi_context_test_groundtruths\n",
        "})"
      ],
      "metadata": {
        "id": "SuERU7dy1FCC"
      },
      "execution_count": 82,
      "outputs": []
    },
    {
      "cell_type": "code",
      "source": [
        "# Evaluate on the same metrics\n",
        "multi_context_results = evaluate(response_dataset, metrics)"
      ],
      "metadata": {
        "colab": {
          "base_uri": "https://localhost:8080/",
          "height": 49,
          "referenced_widgets": [
            "d9da5fd456754c49923f8ac627870ed0",
            "c3c9fb95a4db40a4988953c4a3ecd9f3",
            "7a67dfa5e16249f3ba70ba3944c260dd",
            "59dc433783c74170802ad684d3a383ea",
            "be00e61e0ead47ebaa2e34d42fc4c8d3",
            "3bad32578710449a9f74bb48415606c6",
            "6bff811d599a48d5987c843625c1cb65",
            "d2fccc4a15164fb39b90ee4690e7a8df",
            "f2f22e72ffea468bb746618330d63f76",
            "845e3f09df1e4adba16ae24fd22dc951",
            "00101b9e2cbf4e4a9009f7cd7d66c29b"
          ]
        },
        "id": "vqqROFk8zvqR",
        "outputId": "0dd1aa19-0e44-4e7d-92cb-6630265f1dda"
      },
      "execution_count": 76,
      "outputs": [
        {
          "output_type": "display_data",
          "data": {
            "text/plain": [
              "Evaluating:   0%|          | 0/25 [00:00<?, ?it/s]"
            ],
            "application/vnd.jupyter.widget-view+json": {
              "version_major": 2,
              "version_minor": 0,
              "model_id": "d9da5fd456754c49923f8ac627870ed0"
            }
          },
          "metadata": {}
        }
      ]
    },
    {
      "cell_type": "code",
      "source": [
        "multi_context_results"
      ],
      "metadata": {
        "colab": {
          "base_uri": "https://localhost:8080/"
        },
        "id": "Timl9L355wp8",
        "outputId": "e00eef76-57ec-4ee8-8668-892ae0810ded"
      },
      "execution_count": 77,
      "outputs": [
        {
          "output_type": "execute_result",
          "data": {
            "text/plain": [
              "{'faithfulness': 0.8000, 'answer_relevancy': 0.9432, 'context_recall': 0.6000, 'context_precision': 0.5778, 'answer_correctness': 0.7792}"
            ]
          },
          "metadata": {},
          "execution_count": 77
        }
      ]
    },
    {
      "cell_type": "code",
      "source": [
        "# advanced_retrieval\n",
        "answers = []\n",
        "contexts = []\n",
        "\n",
        "for question in multi_context_test_questions:\n",
        "  response = retrieval_chain.invoke({\"input\" : question})\n",
        "  answers.append(response[\"answer\"])\n",
        "  contexts.append([context.page_content for context in response[\"context\"]])\n",
        "\n",
        "\n",
        "multi_context_response_dataset_advanced_retrieval = Dataset.from_dict({\n",
        "    \"question\" : multi_context_test_questions,\n",
        "    \"answer\" : answers,\n",
        "    \"contexts\" : contexts,\n",
        "    \"ground_truth\" : multi_context_test_groundtruths\n",
        "})"
      ],
      "metadata": {
        "id": "ulhL6juy7TP7"
      },
      "execution_count": 88,
      "outputs": []
    },
    {
      "cell_type": "code",
      "source": [
        "# response_dataset_advanced_retrieval = generate_response(multi_context_test_questions, multi_context_test_groundtruths, retrieval_chain)\n",
        "\n",
        "multi_context_advanced_retrieval_results = evaluate(multi_context_response_dataset_advanced_retrieval, metrics)\n",
        "multi_context_advanced_retrieval_results"
      ],
      "metadata": {
        "colab": {
          "base_uri": "https://localhost:8080/",
          "height": 67,
          "referenced_widgets": [
            "a5f8b9c793b84056bdb0221b7b190344",
            "f75b247762a94fd0802f7d02b194fca7",
            "d87ae83167e44d7c90f5f75edce2ff3e",
            "5e89a439f5224fe28281d42394267a94",
            "83e318a5ed434d3fad8bcf3c49b2913a",
            "6f0a525cae704e2ba1dd5712b52b8e92",
            "2ae125b1568b4ed99f27f73dff99bf12",
            "3b5155745d0d4cf3ab53c91d9361313b",
            "4b84369015f247259444a73195f5a3be",
            "a71e8c1e667c470ab2922afb514e0482",
            "547bcf323fac47898a4170f21fc26800"
          ]
        },
        "id": "h3gqjI54zsN5",
        "outputId": "4cf69529-72dc-4a3a-e2b3-9edebe13b4da"
      },
      "execution_count": 89,
      "outputs": [
        {
          "output_type": "display_data",
          "data": {
            "text/plain": [
              "Evaluating:   0%|          | 0/25 [00:00<?, ?it/s]"
            ],
            "application/vnd.jupyter.widget-view+json": {
              "version_major": 2,
              "version_minor": 0,
              "model_id": "a5f8b9c793b84056bdb0221b7b190344"
            }
          },
          "metadata": {}
        },
        {
          "output_type": "execute_result",
          "data": {
            "text/plain": [
              "{'faithfulness': 1.0000, 'answer_relevancy': 0.9517, 'context_recall': 0.6000, 'context_precision': 0.5639, 'answer_correctness': 0.5646}"
            ]
          },
          "metadata": {},
          "execution_count": 89
        }
      ]
    },
    {
      "cell_type": "code",
      "source": [
        "# new advanced_retrieval\n",
        "answers = []\n",
        "contexts = []\n",
        "\n",
        "for question in multi_context_test_questions:\n",
        "  response = new_retrieval_chain.invoke({\"input\" : question})\n",
        "  answers.append(response[\"answer\"])\n",
        "  contexts.append([context.page_content for context in response[\"context\"]])\n",
        "\n",
        "\n",
        "multi_context_new_response_dataset_advanced_retrieval = Dataset.from_dict({\n",
        "    \"question\" : multi_context_test_questions,\n",
        "    \"answer\" : answers,\n",
        "    \"contexts\" : contexts,\n",
        "    \"ground_truth\" : multi_context_test_groundtruths\n",
        "})"
      ],
      "metadata": {
        "id": "Bu3Hv-JC7Xbu"
      },
      "execution_count": 86,
      "outputs": []
    },
    {
      "cell_type": "code",
      "source": [
        "# multi_context_new_response_dataset_advanced_retrieval = generate_response(multi_context_test_questions, multi_context_test_groundtruths, new_retrieval_chain)\n",
        "\n",
        "# Evaluate on the same metrics\n",
        "multi_context_new_advanced_retrieval_results = evaluate(multi_context_new_response_dataset_advanced_retrieval, metrics)\n",
        "multi_context_new_advanced_retrieval_results"
      ],
      "metadata": {
        "colab": {
          "base_uri": "https://localhost:8080/",
          "height": 67,
          "referenced_widgets": [
            "224e838970a244b6964ed42f3ac75305",
            "e80aec5f470e47e299ab6582561f98f6",
            "4137baa42996492cb3c785587e287903",
            "d5c9b7f9207c42649f483e04a7217b84",
            "e36b21cfa1df43f794edd738f6f88955",
            "fb56fb152b0b4f86929f72b82299015c",
            "5cda18c38b944a218ba86cde3b8752df",
            "e6783a2972ae4f259387947ee241811e",
            "4291020fea104fd8af45134ea21f6e65",
            "7f1fa157d2fa4235ad1b27a1433ce7dc",
            "fac57f51c6c54845a42973dae9306c26"
          ]
        },
        "id": "dMXzPw0yziFK",
        "outputId": "bbb55fc4-fa5f-4f9b-c4c3-6269f53c71d0"
      },
      "execution_count": 87,
      "outputs": [
        {
          "output_type": "display_data",
          "data": {
            "text/plain": [
              "Evaluating:   0%|          | 0/25 [00:00<?, ?it/s]"
            ],
            "application/vnd.jupyter.widget-view+json": {
              "version_major": 2,
              "version_minor": 0,
              "model_id": "224e838970a244b6964ed42f3ac75305"
            }
          },
          "metadata": {}
        },
        {
          "output_type": "execute_result",
          "data": {
            "text/plain": [
              "{'faithfulness': 0.8000, 'answer_relevancy': 0.9587, 'context_recall': 0.6000, 'context_precision': 0.6967, 'answer_correctness': 0.7740}"
            ]
          },
          "metadata": {},
          "execution_count": 87
        }
      ]
    },
    {
      "cell_type": "code",
      "source": [
        "df_baseline = pd.DataFrame(list(multi_context_results.items()), columns=['Metric', 'Baseline'])\n",
        "df_original = pd.DataFrame(list(multi_context_advanced_retrieval_results.items()), columns=['Metric', 'ADA'])\n",
        "df_comparison = pd.DataFrame(list(multi_context_new_advanced_retrieval_results.items()), columns=['Metric', 'Text Embedding 3'])\n",
        "\n",
        "df_multi_context = pd.merge(df_original, df_comparison, on='Metric')\n",
        "df_multi_context = pd.merge(df_baseline, df_multi_context, on=\"Metric\")\n",
        "\n",
        "df_multi_context['Delta (TE3 -> ADA)'] = df_multi_context['Text Embedding 3'] - df_multi_context['ADA']\n",
        "df_multi_context['Delta (TE3 -> Baseline)'] = df_multi_context['Text Embedding 3'] - df_multi_context['Baseline']\n",
        "\n",
        "df_multi_context"
      ],
      "metadata": {
        "colab": {
          "base_uri": "https://localhost:8080/",
          "height": 206
        },
        "id": "xOFBvcOd2S7e",
        "outputId": "ab009118-09a7-4752-d2bf-d22a9e5c4dbb"
      },
      "execution_count": 90,
      "outputs": [
        {
          "output_type": "execute_result",
          "data": {
            "text/plain": [
              "               Metric  Baseline       ADA  Text Embedding 3  \\\n",
              "0        faithfulness  0.800000  1.000000          0.800000   \n",
              "1    answer_relevancy  0.943150  0.951655          0.958748   \n",
              "2      context_recall  0.600000  0.600000          0.600000   \n",
              "3   context_precision  0.577778  0.563944          0.696667   \n",
              "4  answer_correctness  0.779165  0.564580          0.774016   \n",
              "\n",
              "   Delta (TE3 -> ADA)  Delta (TE3 -> Baseline)  \n",
              "0           -0.200000                 0.000000  \n",
              "1            0.007092                 0.015598  \n",
              "2            0.000000                 0.000000  \n",
              "3            0.132722                 0.118889  \n",
              "4            0.209436                -0.005150  "
            ],
            "text/html": [
              "\n",
              "  <div id=\"df-d2ff98e8-004c-42ec-97d3-607582d231c4\" class=\"colab-df-container\">\n",
              "    <div>\n",
              "<style scoped>\n",
              "    .dataframe tbody tr th:only-of-type {\n",
              "        vertical-align: middle;\n",
              "    }\n",
              "\n",
              "    .dataframe tbody tr th {\n",
              "        vertical-align: top;\n",
              "    }\n",
              "\n",
              "    .dataframe thead th {\n",
              "        text-align: right;\n",
              "    }\n",
              "</style>\n",
              "<table border=\"1\" class=\"dataframe\">\n",
              "  <thead>\n",
              "    <tr style=\"text-align: right;\">\n",
              "      <th></th>\n",
              "      <th>Metric</th>\n",
              "      <th>Baseline</th>\n",
              "      <th>ADA</th>\n",
              "      <th>Text Embedding 3</th>\n",
              "      <th>Delta (TE3 -&gt; ADA)</th>\n",
              "      <th>Delta (TE3 -&gt; Baseline)</th>\n",
              "    </tr>\n",
              "  </thead>\n",
              "  <tbody>\n",
              "    <tr>\n",
              "      <th>0</th>\n",
              "      <td>faithfulness</td>\n",
              "      <td>0.800000</td>\n",
              "      <td>1.000000</td>\n",
              "      <td>0.800000</td>\n",
              "      <td>-0.200000</td>\n",
              "      <td>0.000000</td>\n",
              "    </tr>\n",
              "    <tr>\n",
              "      <th>1</th>\n",
              "      <td>answer_relevancy</td>\n",
              "      <td>0.943150</td>\n",
              "      <td>0.951655</td>\n",
              "      <td>0.958748</td>\n",
              "      <td>0.007092</td>\n",
              "      <td>0.015598</td>\n",
              "    </tr>\n",
              "    <tr>\n",
              "      <th>2</th>\n",
              "      <td>context_recall</td>\n",
              "      <td>0.600000</td>\n",
              "      <td>0.600000</td>\n",
              "      <td>0.600000</td>\n",
              "      <td>0.000000</td>\n",
              "      <td>0.000000</td>\n",
              "    </tr>\n",
              "    <tr>\n",
              "      <th>3</th>\n",
              "      <td>context_precision</td>\n",
              "      <td>0.577778</td>\n",
              "      <td>0.563944</td>\n",
              "      <td>0.696667</td>\n",
              "      <td>0.132722</td>\n",
              "      <td>0.118889</td>\n",
              "    </tr>\n",
              "    <tr>\n",
              "      <th>4</th>\n",
              "      <td>answer_correctness</td>\n",
              "      <td>0.779165</td>\n",
              "      <td>0.564580</td>\n",
              "      <td>0.774016</td>\n",
              "      <td>0.209436</td>\n",
              "      <td>-0.005150</td>\n",
              "    </tr>\n",
              "  </tbody>\n",
              "</table>\n",
              "</div>\n",
              "    <div class=\"colab-df-buttons\">\n",
              "\n",
              "  <div class=\"colab-df-container\">\n",
              "    <button class=\"colab-df-convert\" onclick=\"convertToInteractive('df-d2ff98e8-004c-42ec-97d3-607582d231c4')\"\n",
              "            title=\"Convert this dataframe to an interactive table.\"\n",
              "            style=\"display:none;\">\n",
              "\n",
              "  <svg xmlns=\"http://www.w3.org/2000/svg\" height=\"24px\" viewBox=\"0 -960 960 960\">\n",
              "    <path d=\"M120-120v-720h720v720H120Zm60-500h600v-160H180v160Zm220 220h160v-160H400v160Zm0 220h160v-160H400v160ZM180-400h160v-160H180v160Zm440 0h160v-160H620v160ZM180-180h160v-160H180v160Zm440 0h160v-160H620v160Z\"/>\n",
              "  </svg>\n",
              "    </button>\n",
              "\n",
              "  <style>\n",
              "    .colab-df-container {\n",
              "      display:flex;\n",
              "      gap: 12px;\n",
              "    }\n",
              "\n",
              "    .colab-df-convert {\n",
              "      background-color: #E8F0FE;\n",
              "      border: none;\n",
              "      border-radius: 50%;\n",
              "      cursor: pointer;\n",
              "      display: none;\n",
              "      fill: #1967D2;\n",
              "      height: 32px;\n",
              "      padding: 0 0 0 0;\n",
              "      width: 32px;\n",
              "    }\n",
              "\n",
              "    .colab-df-convert:hover {\n",
              "      background-color: #E2EBFA;\n",
              "      box-shadow: 0px 1px 2px rgba(60, 64, 67, 0.3), 0px 1px 3px 1px rgba(60, 64, 67, 0.15);\n",
              "      fill: #174EA6;\n",
              "    }\n",
              "\n",
              "    .colab-df-buttons div {\n",
              "      margin-bottom: 4px;\n",
              "    }\n",
              "\n",
              "    [theme=dark] .colab-df-convert {\n",
              "      background-color: #3B4455;\n",
              "      fill: #D2E3FC;\n",
              "    }\n",
              "\n",
              "    [theme=dark] .colab-df-convert:hover {\n",
              "      background-color: #434B5C;\n",
              "      box-shadow: 0px 1px 3px 1px rgba(0, 0, 0, 0.15);\n",
              "      filter: drop-shadow(0px 1px 2px rgba(0, 0, 0, 0.3));\n",
              "      fill: #FFFFFF;\n",
              "    }\n",
              "  </style>\n",
              "\n",
              "    <script>\n",
              "      const buttonEl =\n",
              "        document.querySelector('#df-d2ff98e8-004c-42ec-97d3-607582d231c4 button.colab-df-convert');\n",
              "      buttonEl.style.display =\n",
              "        google.colab.kernel.accessAllowed ? 'block' : 'none';\n",
              "\n",
              "      async function convertToInteractive(key) {\n",
              "        const element = document.querySelector('#df-d2ff98e8-004c-42ec-97d3-607582d231c4');\n",
              "        const dataTable =\n",
              "          await google.colab.kernel.invokeFunction('convertToInteractive',\n",
              "                                                    [key], {});\n",
              "        if (!dataTable) return;\n",
              "\n",
              "        const docLinkHtml = 'Like what you see? Visit the ' +\n",
              "          '<a target=\"_blank\" href=https://colab.research.google.com/notebooks/data_table.ipynb>data table notebook</a>'\n",
              "          + ' to learn more about interactive tables.';\n",
              "        element.innerHTML = '';\n",
              "        dataTable['output_type'] = 'display_data';\n",
              "        await google.colab.output.renderOutput(dataTable, element);\n",
              "        const docLink = document.createElement('div');\n",
              "        docLink.innerHTML = docLinkHtml;\n",
              "        element.appendChild(docLink);\n",
              "      }\n",
              "    </script>\n",
              "  </div>\n",
              "\n",
              "\n",
              "<div id=\"df-6a533862-e7d7-4100-86da-eb68202d4199\">\n",
              "  <button class=\"colab-df-quickchart\" onclick=\"quickchart('df-6a533862-e7d7-4100-86da-eb68202d4199')\"\n",
              "            title=\"Suggest charts\"\n",
              "            style=\"display:none;\">\n",
              "\n",
              "<svg xmlns=\"http://www.w3.org/2000/svg\" height=\"24px\"viewBox=\"0 0 24 24\"\n",
              "     width=\"24px\">\n",
              "    <g>\n",
              "        <path d=\"M19 3H5c-1.1 0-2 .9-2 2v14c0 1.1.9 2 2 2h14c1.1 0 2-.9 2-2V5c0-1.1-.9-2-2-2zM9 17H7v-7h2v7zm4 0h-2V7h2v10zm4 0h-2v-4h2v4z\"/>\n",
              "    </g>\n",
              "</svg>\n",
              "  </button>\n",
              "\n",
              "<style>\n",
              "  .colab-df-quickchart {\n",
              "      --bg-color: #E8F0FE;\n",
              "      --fill-color: #1967D2;\n",
              "      --hover-bg-color: #E2EBFA;\n",
              "      --hover-fill-color: #174EA6;\n",
              "      --disabled-fill-color: #AAA;\n",
              "      --disabled-bg-color: #DDD;\n",
              "  }\n",
              "\n",
              "  [theme=dark] .colab-df-quickchart {\n",
              "      --bg-color: #3B4455;\n",
              "      --fill-color: #D2E3FC;\n",
              "      --hover-bg-color: #434B5C;\n",
              "      --hover-fill-color: #FFFFFF;\n",
              "      --disabled-bg-color: #3B4455;\n",
              "      --disabled-fill-color: #666;\n",
              "  }\n",
              "\n",
              "  .colab-df-quickchart {\n",
              "    background-color: var(--bg-color);\n",
              "    border: none;\n",
              "    border-radius: 50%;\n",
              "    cursor: pointer;\n",
              "    display: none;\n",
              "    fill: var(--fill-color);\n",
              "    height: 32px;\n",
              "    padding: 0;\n",
              "    width: 32px;\n",
              "  }\n",
              "\n",
              "  .colab-df-quickchart:hover {\n",
              "    background-color: var(--hover-bg-color);\n",
              "    box-shadow: 0 1px 2px rgba(60, 64, 67, 0.3), 0 1px 3px 1px rgba(60, 64, 67, 0.15);\n",
              "    fill: var(--button-hover-fill-color);\n",
              "  }\n",
              "\n",
              "  .colab-df-quickchart-complete:disabled,\n",
              "  .colab-df-quickchart-complete:disabled:hover {\n",
              "    background-color: var(--disabled-bg-color);\n",
              "    fill: var(--disabled-fill-color);\n",
              "    box-shadow: none;\n",
              "  }\n",
              "\n",
              "  .colab-df-spinner {\n",
              "    border: 2px solid var(--fill-color);\n",
              "    border-color: transparent;\n",
              "    border-bottom-color: var(--fill-color);\n",
              "    animation:\n",
              "      spin 1s steps(1) infinite;\n",
              "  }\n",
              "\n",
              "  @keyframes spin {\n",
              "    0% {\n",
              "      border-color: transparent;\n",
              "      border-bottom-color: var(--fill-color);\n",
              "      border-left-color: var(--fill-color);\n",
              "    }\n",
              "    20% {\n",
              "      border-color: transparent;\n",
              "      border-left-color: var(--fill-color);\n",
              "      border-top-color: var(--fill-color);\n",
              "    }\n",
              "    30% {\n",
              "      border-color: transparent;\n",
              "      border-left-color: var(--fill-color);\n",
              "      border-top-color: var(--fill-color);\n",
              "      border-right-color: var(--fill-color);\n",
              "    }\n",
              "    40% {\n",
              "      border-color: transparent;\n",
              "      border-right-color: var(--fill-color);\n",
              "      border-top-color: var(--fill-color);\n",
              "    }\n",
              "    60% {\n",
              "      border-color: transparent;\n",
              "      border-right-color: var(--fill-color);\n",
              "    }\n",
              "    80% {\n",
              "      border-color: transparent;\n",
              "      border-right-color: var(--fill-color);\n",
              "      border-bottom-color: var(--fill-color);\n",
              "    }\n",
              "    90% {\n",
              "      border-color: transparent;\n",
              "      border-bottom-color: var(--fill-color);\n",
              "    }\n",
              "  }\n",
              "</style>\n",
              "\n",
              "  <script>\n",
              "    async function quickchart(key) {\n",
              "      const quickchartButtonEl =\n",
              "        document.querySelector('#' + key + ' button');\n",
              "      quickchartButtonEl.disabled = true;  // To prevent multiple clicks.\n",
              "      quickchartButtonEl.classList.add('colab-df-spinner');\n",
              "      try {\n",
              "        const charts = await google.colab.kernel.invokeFunction(\n",
              "            'suggestCharts', [key], {});\n",
              "      } catch (error) {\n",
              "        console.error('Error during call to suggestCharts:', error);\n",
              "      }\n",
              "      quickchartButtonEl.classList.remove('colab-df-spinner');\n",
              "      quickchartButtonEl.classList.add('colab-df-quickchart-complete');\n",
              "    }\n",
              "    (() => {\n",
              "      let quickchartButtonEl =\n",
              "        document.querySelector('#df-6a533862-e7d7-4100-86da-eb68202d4199 button');\n",
              "      quickchartButtonEl.style.display =\n",
              "        google.colab.kernel.accessAllowed ? 'block' : 'none';\n",
              "    })();\n",
              "  </script>\n",
              "</div>\n",
              "\n",
              "  <div id=\"id_67e6feb4-b079-456f-b389-3f4f6726a172\">\n",
              "    <style>\n",
              "      .colab-df-generate {\n",
              "        background-color: #E8F0FE;\n",
              "        border: none;\n",
              "        border-radius: 50%;\n",
              "        cursor: pointer;\n",
              "        display: none;\n",
              "        fill: #1967D2;\n",
              "        height: 32px;\n",
              "        padding: 0 0 0 0;\n",
              "        width: 32px;\n",
              "      }\n",
              "\n",
              "      .colab-df-generate:hover {\n",
              "        background-color: #E2EBFA;\n",
              "        box-shadow: 0px 1px 2px rgba(60, 64, 67, 0.3), 0px 1px 3px 1px rgba(60, 64, 67, 0.15);\n",
              "        fill: #174EA6;\n",
              "      }\n",
              "\n",
              "      [theme=dark] .colab-df-generate {\n",
              "        background-color: #3B4455;\n",
              "        fill: #D2E3FC;\n",
              "      }\n",
              "\n",
              "      [theme=dark] .colab-df-generate:hover {\n",
              "        background-color: #434B5C;\n",
              "        box-shadow: 0px 1px 3px 1px rgba(0, 0, 0, 0.15);\n",
              "        filter: drop-shadow(0px 1px 2px rgba(0, 0, 0, 0.3));\n",
              "        fill: #FFFFFF;\n",
              "      }\n",
              "    </style>\n",
              "    <button class=\"colab-df-generate\" onclick=\"generateWithVariable('df_multi_context')\"\n",
              "            title=\"Generate code using this dataframe.\"\n",
              "            style=\"display:none;\">\n",
              "\n",
              "  <svg xmlns=\"http://www.w3.org/2000/svg\" height=\"24px\"viewBox=\"0 0 24 24\"\n",
              "       width=\"24px\">\n",
              "    <path d=\"M7,19H8.4L18.45,9,17,7.55,7,17.6ZM5,21V16.75L18.45,3.32a2,2,0,0,1,2.83,0l1.4,1.43a1.91,1.91,0,0,1,.58,1.4,1.91,1.91,0,0,1-.58,1.4L9.25,21ZM18.45,9,17,7.55Zm-12,3A5.31,5.31,0,0,0,4.9,8.1,5.31,5.31,0,0,0,1,6.5,5.31,5.31,0,0,0,4.9,4.9,5.31,5.31,0,0,0,6.5,1,5.31,5.31,0,0,0,8.1,4.9,5.31,5.31,0,0,0,12,6.5,5.46,5.46,0,0,0,6.5,12Z\"/>\n",
              "  </svg>\n",
              "    </button>\n",
              "    <script>\n",
              "      (() => {\n",
              "      const buttonEl =\n",
              "        document.querySelector('#id_67e6feb4-b079-456f-b389-3f4f6726a172 button.colab-df-generate');\n",
              "      buttonEl.style.display =\n",
              "        google.colab.kernel.accessAllowed ? 'block' : 'none';\n",
              "\n",
              "      buttonEl.onclick = () => {\n",
              "        google.colab.notebook.generateWithVariable('df_multi_context');\n",
              "      }\n",
              "      })();\n",
              "    </script>\n",
              "  </div>\n",
              "\n",
              "    </div>\n",
              "  </div>\n"
            ],
            "application/vnd.google.colaboratory.intrinsic+json": {
              "type": "dataframe",
              "variable_name": "df_multi_context",
              "summary": "{\n  \"name\": \"df_multi_context\",\n  \"rows\": 5,\n  \"fields\": [\n    {\n      \"column\": \"Metric\",\n      \"properties\": {\n        \"dtype\": \"string\",\n        \"num_unique_values\": 5,\n        \"samples\": [\n          \"answer_relevancy\",\n          \"answer_correctness\",\n          \"context_recall\"\n        ],\n        \"semantic_type\": \"\",\n        \"description\": \"\"\n      }\n    },\n    {\n      \"column\": \"Baseline\",\n      \"properties\": {\n        \"dtype\": \"number\",\n        \"std\": 0.15192099119933505,\n        \"min\": 0.5777777777499074,\n        \"max\": 0.9431501238171727,\n        \"num_unique_values\": 5,\n        \"samples\": [\n          0.9431501238171727,\n          0.7791654160056625,\n          0.6\n        ],\n        \"semantic_type\": \"\",\n        \"description\": \"\"\n      }\n    },\n    {\n      \"column\": \"ADA\",\n      \"properties\": {\n        \"dtype\": \"number\",\n        \"std\": 0.22004961479486948,\n        \"min\": 0.563944444422791,\n        \"max\": 1.0,\n        \"num_unique_values\": 5,\n        \"samples\": [\n          0.9516553777779013,\n          0.5645795165435373,\n          0.6\n        ],\n        \"semantic_type\": \"\",\n        \"description\": \"\"\n      }\n    },\n    {\n      \"column\": \"Text Embedding 3\",\n      \"properties\": {\n        \"dtype\": \"number\",\n        \"std\": 0.13298024081230952,\n        \"min\": 0.6,\n        \"max\": 0.9587477109659496,\n        \"num_unique_values\": 5,\n        \"samples\": [\n          0.9587477109659496,\n          0.7740157063715998,\n          0.6\n        ],\n        \"semantic_type\": \"\",\n        \"description\": \"\"\n      }\n    },\n    {\n      \"column\": \"Delta (TE3 -> ADA)\",\n      \"properties\": {\n        \"dtype\": \"number\",\n        \"std\": 0.15578338332304364,\n        \"min\": -0.19999999999999996,\n        \"max\": 0.20943618982806245,\n        \"num_unique_values\": 5,\n        \"samples\": [\n          0.00709233318804825,\n          0.20943618982806245,\n          0.0\n        ],\n        \"semantic_type\": \"\",\n        \"description\": \"\"\n      }\n    },\n    {\n      \"column\": \"Delta (TE3 -> Baseline)\",\n      \"properties\": {\n        \"dtype\": \"number\",\n        \"std\": 0.05258034876695757,\n        \"min\": -0.0051497096340626936,\n        \"max\": 0.11888888888434268,\n        \"num_unique_values\": 4,\n        \"samples\": [\n          0.015597587148776904,\n          -0.0051497096340626936,\n          0.0\n        ],\n        \"semantic_type\": \"\",\n        \"description\": \"\"\n      }\n    }\n  ]\n}"
            }
          },
          "metadata": {},
          "execution_count": 90
        }
      ]
    },
    {
      "cell_type": "code",
      "source": [],
      "metadata": {
        "id": "fTaoX69h8404"
      },
      "execution_count": null,
      "outputs": []
    }
  ]
}